{
 "cells": [
  {
   "cell_type": "markdown",
   "metadata": {},
   "source": [
    "# People Data Labs + Hamilton\n",
    "This notebook will teach you how to use People Data Labs (PDL) [Company enrichment](https://docs.peopledatalabs.com/docs/company-enrichment-api) data along stock market data for financial analysis. We will introduce the Python library [Hamilon](https://hamilton.dagworks.io/en/latest/?badge=latest) to help create data transformations.\n",
    "\n",
    "**Content**\n",
    "1. Load raw data\n",
    "2. Clean data\n",
    "3. Question 1: What are the highest growth company over the last five years per funding stage?\n",
    "4. Question 2: How did the 2020 pandemic affect stock performance and number of employees?\n",
    "5. Conclusion "
   ]
  },
  {
   "cell_type": "markdown",
   "metadata": {},
   "source": [
    "## 0. Imports"
   ]
  },
  {
   "cell_type": "code",
   "execution_count": null,
   "metadata": {},
   "outputs": [],
   "source": [
    "import pandas as pd\n",
    "from hamilton import driver\n",
    "\n",
    "# Loads a \"jupyter magic\" that allows special notebook interactions\n",
    "%load_ext hamilton.plugins.jupyter_magic"
   ]
  },
  {
   "cell_type": "markdown",
   "metadata": {},
   "source": [
    "## 1. Load raw data\n",
    "Hamilton [uses Python functions to define a dataflow](https://hamilton.dagworks.io/en/latest/concepts/node/) of transformations. \n",
    "\n",
    "The next cell starts with the special statement `%%cell_to_module` and includes Python functions to define steps of our analysis. \n",
    "\n",
    "Executing the cell will produce a visualization of the flow of operations."
   ]
  },
  {
   "cell_type": "code",
   "execution_count": null,
   "metadata": {},
   "outputs": [],
   "source": [
    "%%cell_to_module -m load_data -d\n",
    "\n",
    "from pathlib import Path\n",
    "import pandas as pd\n",
    "\n",
    "def pdl_data(pdl_file: str, data_dir: str = \"data/\") -> pd.DataFrame:\n",
    "    return pd.read_json(Path(data_dir, pdl_file))\n",
    "\n",
    "def stock_data(stock_file: str, data_dir: str = \"data/\") -> pd.DataFrame:\n",
    "    return pd.read_json(Path(data_dir, stock_file))"
   ]
  },
  {
   "cell_type": "markdown",
   "metadata": {},
   "source": [
    "## 2. Clean data\n",
    "\n",
    "NOTE. We need to mention imports in each cell with `%%cell_to_module` (e.g., `import pandas as pd`) even if a package was imported previously."
   ]
  },
  {
   "cell_type": "code",
   "execution_count": null,
   "metadata": {},
   "outputs": [],
   "source": [
    "%%cell_to_module -m clean_data -d\n",
    "\n",
    "import pandas as pd\n",
    "from hamilton.function_modifiers import parameterize, source, value\n",
    "\n",
    "def company_info(pdl_data: pd.DataFrame) -> pd.DataFrame:\n",
    "    columns = [\n",
    "        \"id\", \"ticker\", \"website\", \"name\", \"display_name\", \"legal_name\", \"founded\", \"size\", \"size_range_int\",\n",
    "        \"linkedin_employee_count\", \"industry\", \"gics_sector\", \"mic_exchange\", \"type\", \"summary\",\n",
    "        \"total_funding_raised\", \"latest_funding_stage\", \"number_funding_rounds\", \"last_funding_date\",\n",
    "        \"average_employee_tenure\", \"employee_count\", \"inferred_revenue\"\n",
    "    ]\n",
    "    return pdl_data[columns]\n",
    "\n",
    "\n",
    "@parameterize(\n",
    "    location_df=dict(df=source(\"pdl_data\"), col=value(\"location\")),\n",
    "    #average_tenure_by_level_df=dict(df=source(\"pdl_data\"), col=value(\"average_tenure_by_level\")),\n",
    "    #average_tenure_by_role_df=dict(df=source(\"pdl_data\"), col=value(\"average_tenure_by_role\")),\n",
    "    employee_churn_rate_df=dict(df=source(\"pdl_data\"), col=value(\"employee_churn_rate\")),\n",
    "    employee_growth_rate_df=dict(df=source(\"pdl_data\"), col=value(\"employee_growth_rate\")),\n",
    "    #employee_count_by_country_df=dict(df=source(\"pdl_data\"), col=value(\"employee_count_by_country\")),\n",
    "    employee_count_by_month_df=dict(df=source(\"pdl_data\"), col=value(\"employee_count_by_month\")),\n",
    "    #employee_count_by_role_df=dict(df=source(\"pdl_data\"), col=value(\"employee_count_by_role\")),\n",
    ")\n",
    "def json_normalized_col(df: pd.DataFrame, col: str) -> pd.DataFrame:\n",
    "    return pd.json_normalize(df[col]).assign(ticker=df[\"ticker\"])\n",
    "    \n",
    "    \n",
    "@parameterize(\n",
    "    funding_details_df=dict(df=source(\"pdl_data\"), col=value(\"funding_details\")),\n",
    "    #sic_df=dict(df=source(\"pdl_data\"), col=value(\"sic\")),\n",
    "    #naics_df=dict(df=source(\"pdl_data\"), col=value(\"naics\")),\n",
    ")\n",
    "def json_normalized_list_df(df: pd.DataFrame, col: str) -> pd.DataFrame:\n",
    "    company_chunks = []\n",
    "    for idx, company in df.iterrows():\n",
    "        company_chunks.append(\n",
    "            pd.DataFrame(company[col])\n",
    "              .assign(ticker=company[\"ticker\"])\n",
    "              .rename_axis(\"idx\")\n",
    "              .reset_index()\n",
    "        )\n",
    "\n",
    "    return pd.concat(company_chunks, axis=0, ignore_index=True)    "
   ]
  },
  {
   "cell_type": "markdown",
   "metadata": {},
   "source": [
    "### Execute your first dataflow"
   ]
  },
  {
   "cell_type": "code",
   "execution_count": null,
   "metadata": {},
   "outputs": [],
   "source": [
    "hamilton_driver = (\n",
    "    driver.Builder()\n",
    "    .with_modules(load_data, clean_data)\n",
    "    .build()\n",
    ")\n",
    "hamilton_driver"
   ]
  },
  {
   "cell_type": "code",
   "execution_count": null,
   "metadata": {},
   "outputs": [],
   "source": [
    "inputs = dict(pdl_file=\"pdl_data.json\")\n",
    "\n",
    "results = hamilton_driver.execute([\"company_info\"], inputs=inputs)\n",
    "\n",
    "results[\"company_info\"].head()"
   ]
  },
  {
   "cell_type": "markdown",
   "metadata": {},
   "source": [
    "## 3. Question 3: Stock growth\n",
    "**What are the highest stock growth company over the last five years per funding stage?**"
   ]
  },
  {
   "cell_type": "code",
   "execution_count": null,
   "metadata": {},
   "outputs": [],
   "source": [
    "%%cell_to_module -m question1 -d\n",
    "\n",
    "import pandas as pd\n",
    "import matplotlib.pyplot as plt\n",
    "\n",
    "\n",
    "def n_company_by_funding_stage(company_info: pd.DataFrame) -> pd.DataFrame:\n",
    "    return (\n",
    "        company_info\n",
    "        .groupby(\"latest_funding_stage\")\n",
    "        [\"latest_funding_stage\"]\n",
    "        .value_counts()\n",
    "    )"
   ]
  },
  {
   "cell_type": "markdown",
   "metadata": {},
   "source": [
    "## 4. Question 2: Pandemic\n",
    "**How did the 2020 pandemic affect stock performance and number of employees?**"
   ]
  },
  {
   "cell_type": "code",
   "execution_count": null,
   "metadata": {},
   "outputs": [],
   "source": []
  }
 ],
 "metadata": {
  "kernelspec": {
   "display_name": "venv",
   "language": "python",
   "name": "python3"
  },
  "language_info": {
   "codemirror_mode": {
    "name": "ipython",
    "version": 3
   },
   "file_extension": ".py",
   "mimetype": "text/x-python",
   "name": "python",
   "nbconvert_exporter": "python",
   "pygments_lexer": "ipython3",
   "version": "3.10.9"
  }
 },
 "nbformat": 4,
 "nbformat_minor": 2
}
