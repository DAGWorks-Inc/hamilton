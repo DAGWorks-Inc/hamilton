{
 "cells": [
  {
   "cell_type": "code",
   "execution_count": null,
   "metadata": {},
   "outputs": [],
   "source": [
    "from hamilton import driver\n",
    "from hamilton.plugins import h_diskcache\n",
    "\n",
    "import functions"
   ]
  },
  {
   "cell_type": "code",
   "execution_count": 2,
   "metadata": {},
   "outputs": [],
   "source": [
    "import logging\n",
    "\n",
    "# get the plugin logger\n",
    "logger = logging.getLogger(\"hamilton.plugins.h_diskcache\")\n",
    "logger.setLevel(logging.DEBUG)  # set logging.INFO for less info\n",
    "logger.addHandler(logging.StreamHandler())"
   ]
  },
  {
   "cell_type": "code",
   "execution_count": 3,
   "metadata": {},
   "outputs": [
    {
     "name": "stderr",
     "output_type": "stream",
     "text": [
      "A {'external': 10}: from cache\n",
      "B {'A': 4}: from cache\n",
      "C {'A': 4, 'B': 1.0}: from cache\n",
      "Cache size: 0.03 MB\n"
     ]
    }
   ],
   "source": [
    "dr = (\n",
    "    driver.Builder()\n",
    "    .with_modules(functions)\n",
    "    .with_adapters(h_diskcache.CacheHook())\n",
    "    .build()\n",
    ")\n",
    "# if you ran `run.py`, you should see the nodes being\n",
    "# read from cache\n",
    "results = dr.execute([\"C\"], inputs=dict(external=10))"
   ]
  },
  {
   "cell_type": "code",
   "execution_count": null,
   "metadata": {},
   "outputs": [],
   "source": []
  }
 ],
 "metadata": {
  "kernelspec": {
   "display_name": "venv",
   "language": "python",
   "name": "python3"
  },
  "language_info": {
   "codemirror_mode": {
    "name": "ipython",
    "version": 3
   },
   "file_extension": ".py",
   "mimetype": "text/x-python",
   "name": "python",
   "nbconvert_exporter": "python",
   "pygments_lexer": "ipython3",
   "version": "3.10.9"
  }
 },
 "nbformat": 4,
 "nbformat_minor": 2
}
