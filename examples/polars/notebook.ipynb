{
 "cells": [
  {
   "cell_type": "markdown",
   "metadata": {
    "collapsed": false,
    "jupyter": {
     "outputs_hidden": false
    }
   },
   "source": [
    "Uncomment and run the cell below if you are in a Google Colab environment. It will:\n",
    "1. Mount google drive. You will be asked to authenticate and give permissions.\n",
    "2. Change directory to google drive.\n",
    "3. Make a directory \"hamilton-tutorials\"\n",
    "4. Change directory to it.\n",
    "5. Clone this repository to your google drive\n",
    "6. Move your current directory to the hello_world example\n",
    "7. Install requirements.\n",
    "\n",
    "This means that any modifications will be saved, and you won't lose them if you close your browser."
   ]
  },
  {
   "cell_type": "code",
   "execution_count": 1,
   "metadata": {
    "collapsed": false,
    "jupyter": {
     "outputs_hidden": false
    },
    "pycharm": {
     "name": "#%%\n"
    }
   },
   "outputs": [],
   "source": [
    "## 1. Mount google drive\n",
    "# from google.colab import drive\n",
    "# drive.mount('/content/drive')\n",
    "## 2. Change directory to google drive.\n",
    "# %cd /content/drive/MyDrive\n",
    "## 3. Make a directory \"hamilton-tutorials\"\n",
    "# !mkdir hamilton-tutorials\n",
    "## 4. Change directory to it.\n",
    "# %cd hamilton-tutorials\n",
    "## 5. Clone this repository to your google drive\n",
    "# !git clone https://github.com/DAGWorks-Inc/hamilton/\n",
    "## 6. Move your current directory to the hello_world example\n",
    "# %cd hamilton/examples/hello_world\n",
    "## 7. Install requirements.\n",
    "# %pip install -r requirements.txt\n",
    "# clear_output()  # optionally clear outputs\n",
    "# To check your current working directory you can type `!pwd` in a cell and run it."
   ]
  },
  {
   "cell_type": "code",
   "execution_count": 2,
   "metadata": {
    "collapsed": false,
    "jupyter": {
     "outputs_hidden": false
    },
    "pycharm": {
     "name": "#%%\n"
    }
   },
   "outputs": [],
   "source": [
    "# Cell 2 - import modules to create part of the DAG from\n",
    "# We use the autoreload extension that comes with ipython to automatically reload modules when\n",
    "# the code in them changes.\n",
    "\n",
    "# import the jupyter extension\n",
    "%load_ext autoreload\n",
    "# set it to only reload the modules imported\n",
    "%autoreload 1"
   ]
  },
  {
   "cell_type": "code",
   "execution_count": 3,
   "metadata": {
    "collapsed": false,
    "jupyter": {
     "outputs_hidden": false
    },
    "pycharm": {
     "name": "#%%\n"
    }
   },
   "outputs": [],
   "source": [
    "import polars as pl\n",
    "\n",
    "from hamilton import (\n",
    "    base,\n",
    "    driver,\n",
    ")\n",
    "from hamilton.function_modifiers import extract_columns\n",
    "from hamilton.plugins import h_polars"
   ]
  },
  {
   "cell_type": "code",
   "execution_count": 4,
   "metadata": {
    "collapsed": false,
    "jupyter": {
     "outputs_hidden": false
    },
    "pycharm": {
     "name": "#%%\n"
    }
   },
   "outputs": [
    {
     "name": "stdout",
     "output_type": "stream",
     "text": [
      "Overwriting spend_calculations.py\n"
     ]
    }
   ],
   "source": [
    "%%writefile spend_calculations.py\n",
    "\n",
    "import polars as pl\n",
    "from hamilton.function_modifiers import extract_columns\n",
    "\n",
    "# We'll place the spend calculations into a new module\n",
    "\n",
    "@extract_columns(\"signups\", \"spend\")\n",
    "def base_df(base_df_location: str) -> pl.DataFrame:\n",
    "    \"\"\"Loads base dataframe of data.\n",
    "\n",
    "    :param base_df_location: just showing that we could load this from a file...\n",
    "    :return:\n",
    "    \"\"\"\n",
    "    return pl.DataFrame(\n",
    "        {\n",
    "            \"signups\": pl.Series([1, 10, 50, 100, 200, 400]),\n",
    "            \"spend\": pl.Series([10, 10, 20, 40, 40, 50]),\n",
    "        }\n",
    "    )\n",
    "\n",
    "def avg_3wk_spend(spend: pl.Series) -> pl.Series:\n",
    "    \"\"\"Rolling 3 week average spend.\"\"\"\n",
    "    return spend.rolling_mean(3)\n",
    "\n",
    "def spend_per_signup(spend: pl.Series, signups: pl.Series) -> pl.Series:\n",
    "    \"\"\"The cost per signup in relation to spend.\"\"\"\n",
    "    return spend / signups\n",
    "\n",
    "def spend_mean(spend: pl.Series) -> float:\n",
    "    \"\"\"Shows function creating a scalar. In this case it computes the mean of the entire column.\"\"\"\n",
    "    return spend.mean()\n",
    "\n",
    "def spend_zero_mean(spend: pl.Series, spend_mean: float) -> pl.Series:\n",
    "    \"\"\"Shows function that takes a scalar. In this case to zero mean spend.\"\"\"\n",
    "    return spend - spend_mean\n",
    "\n",
    "def spend_std_dev(spend: pl.Series) -> float:\n",
    "    \"\"\"Function that computes the standard deviation of the spend column.\"\"\"\n",
    "    return spend.std()\n",
    "\n",
    "def spend_zero_mean_unit_variance(spend_zero_mean: pl.Series, spend_std_dev: float) -> pl.Series:\n",
    "    \"\"\"Function showing one way to make spend have zero mean and unit variance.\"\"\"\n",
    "    return spend_zero_mean / spend_std_dev"
   ]
  },
  {
   "cell_type": "code",
   "execution_count": 5,
   "metadata": {
    "collapsed": false,
    "jupyter": {
     "outputs_hidden": false
    },
    "pycharm": {
     "name": "#%%\n"
    }
   },
   "outputs": [
    {
     "name": "stderr",
     "output_type": "stream",
     "text": [
      "Note: Hamilton collects completely anonymous data about usage. This will help us improve Hamilton over time. See https://github.com/dagworks-inc/hamilton#usage-analytics--data-privacy for details.\n"
     ]
    }
   ],
   "source": [
    "%aimport spend_calculations\n",
    "\n",
    "# Set up the driver, input and output columns\n",
    "\n",
    "config = {\n",
    "    \"base_df_location\": \"dummy_value\",\n",
    "}\n",
    "adapter = base.SimplePythonGraphAdapter(result_builder=h_polars.PolarsDataFrameResult())\n",
    "dr = driver.Driver(config, spend_calculations, adapter=adapter)\n",
    "output_columns = [\n",
    "    \"spend\",\n",
    "    \"signups\",\n",
    "    \"avg_3wk_spend\",\n",
    "    \"spend_per_signup\",\n",
    "    \"spend_zero_mean_unit_variance\",\n",
    "]"
   ]
  },
  {
   "cell_type": "code",
   "execution_count": 6,
   "metadata": {
    "collapsed": false,
    "jupyter": {
     "outputs_hidden": false
    },
    "pycharm": {
     "name": "#%%\n"
    }
   },
   "outputs": [
    {
     "name": "stdout",
     "output_type": "stream",
     "text": [
      "shape: (6, 5)\n",
      "┌───────┬─────────┬───────────────┬──────────────────┬───────────────────────────────┐\n",
      "│ spend ┆ signups ┆ avg_3wk_spend ┆ spend_per_signup ┆ spend_zero_mean_unit_variance │\n",
      "│ ---   ┆ ---     ┆ ---           ┆ ---              ┆ ---                           │\n",
      "│ i64   ┆ i64     ┆ f64           ┆ f64              ┆ f64                           │\n",
      "╞═══════╪═════════╪═══════════════╪══════════════════╪═══════════════════════════════╡\n",
      "│ 10    ┆ 1       ┆ null          ┆ 10.0             ┆ -1.064405                     │\n",
      "│ 10    ┆ 10      ┆ null          ┆ 1.0              ┆ -1.064405                     │\n",
      "│ 20    ┆ 50      ┆ 13.333333     ┆ 0.4              ┆ -0.483821                     │\n",
      "│ 40    ┆ 100     ┆ 23.333333     ┆ 0.4              ┆ 0.677349                      │\n",
      "│ 40    ┆ 200     ┆ 33.333333     ┆ 0.2              ┆ 0.677349                      │\n",
      "│ 50    ┆ 400     ┆ 43.333333     ┆ 0.125            ┆ 1.257934                      │\n",
      "└───────┴─────────┴───────────────┴──────────────────┴───────────────────────────────┘\n"
     ]
    },
    {
     "data": {
      "image/svg+xml": [
       "<?xml version=\"1.0\" encoding=\"UTF-8\" standalone=\"no\"?>\n",
       "<!DOCTYPE svg PUBLIC \"-//W3C//DTD SVG 1.1//EN\"\n",
       " \"http://www.w3.org/Graphics/SVG/1.1/DTD/svg11.dtd\">\n",
       "<!-- Generated by graphviz version 8.1.0 (20230707.0739)\n",
       " -->\n",
       "<!-- Pages: 1 -->\n",
       "<svg width=\"532pt\" height=\"404pt\"\n",
       " viewBox=\"0.00 0.00 532.46 404.00\" xmlns=\"http://www.w3.org/2000/svg\" xmlns:xlink=\"http://www.w3.org/1999/xlink\">\n",
       "<g id=\"graph0\" class=\"graph\" transform=\"scale(1 1) rotate(0) translate(4 400)\">\n",
       "<polygon fill=\"white\" stroke=\"none\" points=\"-4,4 -4,-400 528.46,-400 528.46,4 -4,4\"/>\n",
       "<!-- signups -->\n",
       "<g id=\"node1\" class=\"node\">\n",
       "<title>signups</title>\n",
       "<ellipse fill=\"none\" stroke=\"black\" cx=\"135.97\" cy=\"-234\" rx=\"39.07\" ry=\"18\"/>\n",
       "<text text-anchor=\"middle\" x=\"135.97\" y=\"-228.95\" font-family=\"Times,serif\" font-size=\"14.00\">signups</text>\n",
       "</g>\n",
       "<!-- spend_per_signup -->\n",
       "<g id=\"node8\" class=\"node\">\n",
       "<title>spend_per_signup</title>\n",
       "<ellipse fill=\"none\" stroke=\"black\" cx=\"77.97\" cy=\"-162\" rx=\"77.97\" ry=\"18\"/>\n",
       "<text text-anchor=\"middle\" x=\"77.97\" y=\"-156.95\" font-family=\"Times,serif\" font-size=\"14.00\">spend_per_signup</text>\n",
       "</g>\n",
       "<!-- signups&#45;&gt;spend_per_signup -->\n",
       "<g id=\"edge9\" class=\"edge\">\n",
       "<title>signups&#45;&gt;spend_per_signup</title>\n",
       "<path fill=\"none\" stroke=\"black\" d=\"M122.51,-216.76C115.54,-208.35 106.87,-197.89 99.04,-188.44\"/>\n",
       "<polygon fill=\"black\" stroke=\"black\" points=\"101.23,-186.59 92.15,-181.12 95.84,-191.06 101.23,-186.59\"/>\n",
       "</g>\n",
       "<!-- spend -->\n",
       "<g id=\"node2\" class=\"node\">\n",
       "<title>spend</title>\n",
       "<ellipse fill=\"none\" stroke=\"black\" cx=\"232.97\" cy=\"-234\" rx=\"32.41\" ry=\"18\"/>\n",
       "<text text-anchor=\"middle\" x=\"232.97\" y=\"-228.95\" font-family=\"Times,serif\" font-size=\"14.00\">spend</text>\n",
       "</g>\n",
       "<!-- spend_mean -->\n",
       "<g id=\"node3\" class=\"node\">\n",
       "<title>spend_mean</title>\n",
       "<ellipse fill=\"none\" stroke=\"black\" cx=\"466.97\" cy=\"-162\" rx=\"57.49\" ry=\"18\"/>\n",
       "<text text-anchor=\"middle\" x=\"466.97\" y=\"-156.95\" font-family=\"Times,serif\" font-size=\"14.00\">spend_mean</text>\n",
       "</g>\n",
       "<!-- spend&#45;&gt;spend_mean -->\n",
       "<g id=\"edge3\" class=\"edge\">\n",
       "<title>spend&#45;&gt;spend_mean</title>\n",
       "<path fill=\"none\" stroke=\"black\" d=\"M261.19,-224.56C299.5,-213.1 368.62,-192.42 416.1,-178.22\"/>\n",
       "<polygon fill=\"black\" stroke=\"black\" points=\"416.9,-181.33 425.48,-175.11 414.89,-174.63 416.9,-181.33\"/>\n",
       "</g>\n",
       "<!-- spend_std_dev -->\n",
       "<g id=\"node5\" class=\"node\">\n",
       "<title>spend_std_dev</title>\n",
       "<ellipse fill=\"none\" stroke=\"black\" cx=\"201.97\" cy=\"-90\" rx=\"65.68\" ry=\"18\"/>\n",
       "<text text-anchor=\"middle\" x=\"201.97\" y=\"-84.95\" font-family=\"Times,serif\" font-size=\"14.00\">spend_std_dev</text>\n",
       "</g>\n",
       "<!-- spend&#45;&gt;spend_std_dev -->\n",
       "<g id=\"edge6\" class=\"edge\">\n",
       "<title>spend&#45;&gt;spend_std_dev</title>\n",
       "<path fill=\"none\" stroke=\"black\" d=\"M221.22,-217.23C214.46,-207.15 206.6,-193.48 202.97,-180 197.62,-160.17 197.56,-136.95 198.73,-119.19\"/>\n",
       "<polygon fill=\"black\" stroke=\"black\" points=\"202.29,-119.67 199.64,-109.41 195.31,-119.08 202.29,-119.67\"/>\n",
       "</g>\n",
       "<!-- spend&#45;&gt;spend_per_signup -->\n",
       "<g id=\"edge8\" class=\"edge\">\n",
       "<title>spend&#45;&gt;spend_per_signup</title>\n",
       "<path fill=\"none\" stroke=\"black\" d=\"M208.41,-221.91C185.37,-211.5 150.38,-195.7 122.44,-183.08\"/>\n",
       "<polygon fill=\"black\" stroke=\"black\" points=\"124.05,-179.52 113.5,-178.59 121.17,-185.9 124.05,-179.52\"/>\n",
       "</g>\n",
       "<!-- avg_3wk_spend -->\n",
       "<g id=\"node9\" class=\"node\">\n",
       "<title>avg_3wk_spend</title>\n",
       "<ellipse fill=\"none\" stroke=\"black\" cx=\"282.97\" cy=\"-162\" rx=\"70.8\" ry=\"18\"/>\n",
       "<text text-anchor=\"middle\" x=\"282.97\" y=\"-156.95\" font-family=\"Times,serif\" font-size=\"14.00\">avg_3wk_spend</text>\n",
       "</g>\n",
       "<!-- spend&#45;&gt;avg_3wk_spend -->\n",
       "<g id=\"edge10\" class=\"edge\">\n",
       "<title>spend&#45;&gt;avg_3wk_spend</title>\n",
       "<path fill=\"none\" stroke=\"black\" d=\"M244.56,-216.76C250.45,-208.53 257.74,-198.32 264.38,-189.02\"/>\n",
       "<polygon fill=\"black\" stroke=\"black\" points=\"267.77,-191.3 270.73,-181.12 262.07,-187.23 267.77,-191.3\"/>\n",
       "</g>\n",
       "<!-- spend_zero_mean -->\n",
       "<g id=\"node10\" class=\"node\">\n",
       "<title>spend_zero_mean</title>\n",
       "<ellipse fill=\"none\" stroke=\"black\" cx=\"381.97\" cy=\"-90\" rx=\"77.97\" ry=\"18\"/>\n",
       "<text text-anchor=\"middle\" x=\"381.97\" y=\"-84.95\" font-family=\"Times,serif\" font-size=\"14.00\">spend_zero_mean</text>\n",
       "</g>\n",
       "<!-- spend&#45;&gt;spend_zero_mean -->\n",
       "<g id=\"edge11\" class=\"edge\">\n",
       "<title>spend&#45;&gt;spend_zero_mean</title>\n",
       "<path fill=\"none\" stroke=\"black\" d=\"M264.38,-228.68C294.24,-222.88 338.17,-209.62 362.97,-180 377.06,-163.17 381.45,-138.39 382.52,-119.25\"/>\n",
       "<polygon fill=\"black\" stroke=\"black\" points=\"386.04,-119.55 382.81,-109.46 379.04,-119.36 386.04,-119.55\"/>\n",
       "</g>\n",
       "<!-- spend_mean&#45;&gt;spend_zero_mean -->\n",
       "<g id=\"edge12\" class=\"edge\">\n",
       "<title>spend_mean&#45;&gt;spend_zero_mean</title>\n",
       "<path fill=\"none\" stroke=\"black\" d=\"M447.25,-144.76C436.36,-135.79 422.63,-124.49 410.58,-114.56\"/>\n",
       "<polygon fill=\"black\" stroke=\"black\" points=\"413.11,-111.29 403.16,-107.63 408.66,-116.69 413.11,-111.29\"/>\n",
       "</g>\n",
       "<!-- spend_zero_mean_unit_variance -->\n",
       "<g id=\"node4\" class=\"node\">\n",
       "<title>spend_zero_mean_unit_variance</title>\n",
       "<ellipse fill=\"none\" stroke=\"black\" cx=\"282.97\" cy=\"-18\" rx=\"132.73\" ry=\"18\"/>\n",
       "<text text-anchor=\"middle\" x=\"282.97\" y=\"-12.95\" font-family=\"Times,serif\" font-size=\"14.00\">spend_zero_mean_unit_variance</text>\n",
       "</g>\n",
       "<!-- spend_std_dev&#45;&gt;spend_zero_mean_unit_variance -->\n",
       "<g id=\"edge5\" class=\"edge\">\n",
       "<title>spend_std_dev&#45;&gt;spend_zero_mean_unit_variance</title>\n",
       "<path fill=\"none\" stroke=\"black\" d=\"M221.16,-72.41C231.23,-63.71 243.75,-52.89 254.88,-43.27\"/>\n",
       "<polygon fill=\"black\" stroke=\"black\" points=\"256.78,-45.39 262.06,-36.2 252.21,-40.09 256.78,-45.39\"/>\n",
       "</g>\n",
       "<!-- base_df -->\n",
       "<g id=\"node6\" class=\"node\">\n",
       "<title>base_df</title>\n",
       "<ellipse fill=\"none\" stroke=\"black\" cx=\"179.97\" cy=\"-306\" rx=\"39.58\" ry=\"18\"/>\n",
       "<text text-anchor=\"middle\" x=\"179.97\" y=\"-300.95\" font-family=\"Times,serif\" font-size=\"14.00\">base_df</text>\n",
       "</g>\n",
       "<!-- base_df&#45;&gt;signups -->\n",
       "<g id=\"edge1\" class=\"edge\">\n",
       "<title>base_df&#45;&gt;signups</title>\n",
       "<path fill=\"none\" stroke=\"black\" d=\"M169.54,-288.41C164.33,-280.13 157.92,-269.92 152.1,-260.66\"/>\n",
       "<polygon fill=\"black\" stroke=\"black\" points=\"154.6,-259.07 146.32,-252.47 148.68,-262.8 154.6,-259.07\"/>\n",
       "</g>\n",
       "<!-- base_df&#45;&gt;spend -->\n",
       "<g id=\"edge2\" class=\"edge\">\n",
       "<title>base_df&#45;&gt;spend</title>\n",
       "<path fill=\"none\" stroke=\"black\" d=\"M192.26,-288.76C198.75,-280.19 206.85,-269.49 214.11,-259.9\"/>\n",
       "<polygon fill=\"black\" stroke=\"black\" points=\"217.49,-262.23 220.74,-252.15 211.91,-258.01 217.49,-262.23\"/>\n",
       "</g>\n",
       "<!-- base_df_location -->\n",
       "<g id=\"node7\" class=\"node\">\n",
       "<title>base_df_location</title>\n",
       "<ellipse fill=\"none\" stroke=\"black\" stroke-dasharray=\"5,2\" cx=\"179.97\" cy=\"-378\" rx=\"98.44\" ry=\"18\"/>\n",
       "<text text-anchor=\"middle\" x=\"179.97\" y=\"-372.95\" font-family=\"Times,serif\" font-size=\"14.00\">Input: base_df_location</text>\n",
       "</g>\n",
       "<!-- base_df_location&#45;&gt;base_df -->\n",
       "<g id=\"edge7\" class=\"edge\">\n",
       "<title>base_df_location&#45;&gt;base_df</title>\n",
       "<path fill=\"none\" stroke=\"black\" d=\"M179.97,-359.7C179.97,-352.24 179.97,-343.32 179.97,-334.97\"/>\n",
       "<polygon fill=\"black\" stroke=\"black\" points=\"183.47,-335.1 179.97,-325.1 176.47,-335.1 183.47,-335.1\"/>\n",
       "</g>\n",
       "<!-- spend_zero_mean&#45;&gt;spend_zero_mean_unit_variance -->\n",
       "<g id=\"edge4\" class=\"edge\">\n",
       "<title>spend_zero_mean&#45;&gt;spend_zero_mean_unit_variance</title>\n",
       "<path fill=\"none\" stroke=\"black\" d=\"M358.5,-72.41C345.75,-63.39 329.76,-52.09 315.79,-42.21\"/>\n",
       "<polygon fill=\"black\" stroke=\"black\" points=\"318.13,-38.87 307.95,-35.96 314.09,-44.59 318.13,-38.87\"/>\n",
       "</g>\n",
       "</g>\n",
       "</svg>\n"
      ],
      "text/plain": [
       "<graphviz.graphs.Digraph at 0x107555590>"
      ]
     },
     "execution_count": 6,
     "metadata": {},
     "output_type": "execute_result"
    }
   ],
   "source": [
    "# Execute the driver.\n",
    "\n",
    "df = dr.execute(output_columns)\n",
    "print(df)\n",
    "\n",
    "# To visualize do `pip install \"sf-hamilton[visualization]\"` if you want these to work\n",
    "dr.visualize_execution(output_columns, './polars', {\"format\": \"png\"})\n",
    "dr.display_all_functions('./my_full_dag.dot')"
   ]
  }
 ],
 "metadata": {
  "kernelspec": {
   "display_name": "Python 3 (ipykernel)",
   "language": "python",
   "name": "python3"
  },
  "language_info": {
   "codemirror_mode": {
    "name": "ipython",
    "version": 3
   },
   "file_extension": ".py",
   "mimetype": "text/x-python",
   "name": "python",
   "nbconvert_exporter": "python",
   "pygments_lexer": "ipython3",
   "version": "3.11.5"
  }
 },
 "nbformat": 4,
 "nbformat_minor": 4
}
