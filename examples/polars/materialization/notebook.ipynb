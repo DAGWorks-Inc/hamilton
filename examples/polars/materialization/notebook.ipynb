{
 "cells": [
  {
   "cell_type": "code",
   "execution_count": 1,
   "metadata": {},
   "outputs": [
    {
     "name": "stdout",
     "output_type": "stream",
     "text": [
      "Defaulting to user installation because normal site-packages is not writeable\n",
      "Requirement already satisfied: pandas in /home/jordan/.local/lib/python3.10/site-packages (2.1.1)\n",
      "Requirement already satisfied: python-dateutil>=2.8.2 in /home/jordan/.local/lib/python3.10/site-packages (from pandas) (2.8.2)\n",
      "Requirement already satisfied: pytz>=2020.1 in /usr/lib/python3/dist-packages (from pandas) (2022.1)\n",
      "Requirement already satisfied: tzdata>=2022.1 in /home/jordan/.local/lib/python3.10/site-packages (from pandas) (2023.3)\n",
      "Requirement already satisfied: numpy>=1.22.4 in /home/jordan/.local/lib/python3.10/site-packages (from pandas) (1.25.1)\n",
      "Requirement already satisfied: six>=1.5 in /usr/lib/python3/dist-packages (from python-dateutil>=2.8.2->pandas) (1.16.0)\n"
     ]
    }
   ],
   "source": [
    "# update the polars package - optional\n",
    "# !pip install --upgrade polars"
   ]
  },
  {
   "cell_type": "code",
   "execution_count": 3,
   "metadata": {
    "ExecuteTime": {
     "end_time": "2023-10-04T20:39:07.035078Z",
     "start_time": "2023-10-04T20:39:05.253644Z"
    }
   },
   "outputs": [],
   "source": [
    "import sys\n",
    "import polars as pl\n",
    "\n",
    "# Add the hamilton module to your path - optinal\n",
    "# project_dir = \"### ADD PATH HERE ###\"\n",
    "# sys.path.append(project_dir)\n",
    "\n",
    "from hamilton import base, driver\n",
    "from hamilton.io.materialization import to"
   ]
  },
  {
   "cell_type": "code",
   "execution_count": 4,
   "metadata": {
    "pycharm": {
     "name": "#%%\n"
    },
    "ExecuteTime": {
     "end_time": "2023-10-04T20:39:07.065652Z",
     "start_time": "2023-10-04T20:39:07.038355Z"
    }
   },
   "outputs": [],
   "source": [
    "# We use the autoreload extension that comes with ipython to automatically reload modules when\n",
    "# the code in them changes.\n",
    "\n",
    "# import the jupyter extension\n",
    "%load_ext autoreload\n",
    "# set it to only reload the modules imported\n",
    "%autoreload 1"
   ]
  },
  {
   "cell_type": "code",
   "execution_count": 5,
   "metadata": {
    "pycharm": {
     "name": "#%%\n"
    },
    "ExecuteTime": {
     "end_time": "2023-10-04T20:39:07.205465Z",
     "start_time": "2023-10-04T20:39:07.197117Z"
    }
   },
   "outputs": [
    {
     "name": "stdout",
     "output_type": "stream",
     "text": [
      "Overwriting spend_calculations.py\n"
     ]
    }
   ],
   "source": [
    "%%writefile spend_calculations.py\n",
    "# Define your new Hamilton functions.\n",
    "# The %%writefile magic command creates a new Python module with the functions below.\n",
    "# We will import this later and pass it into our Driver.\n",
    "\n",
    "import polars as pl\n",
    "\n",
    "# Look at `my_functions` to see how these functions connect.\n",
    "def avg_3wk_spend(spend: pl.Series) -> pl.Series:\n",
    "    \"\"\"Rolling 3 week average spend.\"\"\"\n",
    "    return spend.rolling_mean(3)\n",
    "\n",
    "\n",
    "def spend_per_signup(spend: pl.Series, signups: pl.Series) -> pl.Series:\n",
    "    \"\"\"The cost per signup in relation to spend.\"\"\"\n",
    "    return spend / signups\n",
    "\n",
    "\n",
    "def spend_mean(spend: pl.Series) -> float:\n",
    "    \"\"\"Shows function creating a scalar. In this case it computes the mean of the entire column.\"\"\"\n",
    "    return spend.mean()\n",
    "\n",
    "\n",
    "def spend_zero_mean(spend: pl.Series, spend_mean: float) -> pl.Series:\n",
    "    \"\"\"Shows function that takes a scalar. In this case to zero mean spend.\"\"\"\n",
    "    return spend - spend_mean\n",
    "\n",
    "\n",
    "def spend_std_dev(spend: pl.Series) -> float:\n",
    "    \"\"\"Function that computes the standard deviation of the spend column.\"\"\"\n",
    "    return spend.std()\n",
    "\n",
    "\n",
    "def spend_zero_mean_unit_variance(spend_zero_mean: pl.Series, spend_std_dev: float) -> pl.Series:\n",
    "    \"\"\"Function showing one way to make spend have zero mean and unit variance.\"\"\"\n",
    "    return spend_zero_mean / spend_std_dev"
   ]
  },
  {
   "cell_type": "code",
   "execution_count": 6,
   "metadata": {
    "pycharm": {
     "name": "#%%\n"
    },
    "ExecuteTime": {
     "end_time": "2023-10-04T20:39:08.319826Z",
     "start_time": "2023-10-04T20:39:08.313371Z"
    }
   },
   "outputs": [],
   "source": [
    "initial_columns = {  # load from actuals or wherever -- this is our initial data we use as input.\n",
    "    # Note: these values don't have to be all series, they could be a scalar.\n",
    "    \"signups\": pl.Series([1, 10, 50, 100, 200, 400]),\n",
    "    \"spend\": pl.Series([10, 10, 20, 40, 40, 50]),\n",
    "}"
   ]
  },
  {
   "cell_type": "code",
   "execution_count": 7,
   "metadata": {
    "pycharm": {
     "name": "#%%\n"
    },
    "ExecuteTime": {
     "end_time": "2023-10-04T20:39:10.634611Z",
     "start_time": "2023-10-04T20:39:10.628081Z"
    }
   },
   "outputs": [
    {
     "name": "stderr",
     "output_type": "stream",
     "text": [
      "Note: Hamilton collects completely anonymous data about usage. This will help us improve Hamilton over time. See https://github.com/dagworks-inc/hamilton#usage-analytics--data-privacy for details.\n"
     ]
    }
   ],
   "source": [
    "%aimport spend_calculations\n",
    "\n",
    "df_builder = base.PandasDataFrameResult()\n",
    "dr = driver.Driver({}, spend_calculations)  # can pass in multiple modules"
   ]
  },
  {
   "cell_type": "code",
   "execution_count": 8,
   "metadata": {
    "ExecuteTime": {
     "end_time": "2023-10-04T20:39:12.312162Z",
     "start_time": "2023-10-04T20:39:12.303471Z"
    }
   },
   "outputs": [],
   "source": [
    "# we need to specify what we want in the final dataframe. These can be string names, or function references.\n",
    "output_columns = [\n",
    "    \"spend\",\n",
    "    \"signups\",\n",
    "    \"avg_3wk_spend\",\n",
    "    \"spend_per_signup\",\n",
    "    \"spend_zero_mean_unit_variance\",\n",
    "]"
   ]
  },
  {
   "cell_type": "code",
   "execution_count": 9,
   "metadata": {
    "collapsed": false,
    "ExecuteTime": {
     "end_time": "2023-10-04T20:39:13.754619Z",
     "start_time": "2023-10-04T20:39:13.750002Z"
    }
   },
   "outputs": [],
   "source": [
    "# pass"
   ]
  },
  {
   "cell_type": "code",
   "execution_count": 11,
   "metadata": {
    "ExecuteTime": {
     "end_time": "2023-10-04T20:39:30.629908Z",
     "start_time": "2023-10-04T20:39:30.246571Z"
    }
   },
   "outputs": [
    {
     "data": {
      "image/svg+xml": "<?xml version=\"1.0\" encoding=\"UTF-8\" standalone=\"no\"?>\n<!DOCTYPE svg PUBLIC \"-//W3C//DTD SVG 1.1//EN\"\n \"http://www.w3.org/Graphics/SVG/1.1/DTD/svg11.dtd\">\n<!-- Generated by graphviz version 8.0.5 (20230430.1635)\n -->\n<!-- Pages: 1 -->\n<svg width=\"569pt\" height=\"404pt\"\n viewBox=\"0.00 0.00 568.92 404.00\" xmlns=\"http://www.w3.org/2000/svg\" xmlns:xlink=\"http://www.w3.org/1999/xlink\">\n<g id=\"graph0\" class=\"graph\" transform=\"scale(1 1) rotate(0) translate(4 400)\">\n<polygon fill=\"white\" stroke=\"none\" points=\"-4,4 -4,-400 564.92,-400 564.92,4 -4,4\"/>\n<!-- df_to_parquet_build_result -->\n<g id=\"node1\" class=\"node\">\n<title>df_to_parquet_build_result</title>\n<ellipse fill=\"none\" stroke=\"black\" cx=\"230.29\" cy=\"-90\" rx=\"111.23\" ry=\"18\"/>\n<text text-anchor=\"middle\" x=\"230.29\" y=\"-84.95\" font-family=\"Times,serif\" font-size=\"14.00\">df_to_parquet_build_result</text>\n</g>\n<!-- df_to_parquet -->\n<g id=\"node7\" class=\"node\">\n<title>df_to_parquet</title>\n<polygon fill=\"none\" stroke=\"black\" points=\"276.17,-36 184.42,-36 184.42,0 276.17,0 276.17,-36\"/>\n<text text-anchor=\"middle\" x=\"230.29\" y=\"-12.95\" font-family=\"Times,serif\" font-size=\"14.00\">df_to_parquet</text>\n</g>\n<!-- df_to_parquet_build_result&#45;&gt;df_to_parquet -->\n<g id=\"edge10\" class=\"edge\">\n<title>df_to_parquet_build_result&#45;&gt;df_to_parquet</title>\n<path fill=\"none\" stroke=\"black\" d=\"M230.29,-71.7C230.29,-64.24 230.29,-55.32 230.29,-46.97\"/>\n<polygon fill=\"black\" stroke=\"black\" points=\"233.79,-47.1 230.29,-37.1 226.79,-47.1 233.79,-47.1\"/>\n</g>\n<!-- avg_3wk_spend -->\n<g id=\"node2\" class=\"node\">\n<title>avg_3wk_spend</title>\n<polygon fill=\"none\" stroke=\"black\" points=\"134.17,-324 30.42,-324 30.42,-288 134.17,-288 134.17,-324\"/>\n<text text-anchor=\"middle\" x=\"82.29\" y=\"-300.95\" font-family=\"Times,serif\" font-size=\"14.00\">avg_3wk_spend</text>\n</g>\n<!-- avg_3wk_spend&#45;&gt;df_to_parquet_build_result -->\n<g id=\"edge3\" class=\"edge\">\n<title>avg_3wk_spend&#45;&gt;df_to_parquet_build_result</title>\n<path fill=\"none\" stroke=\"black\" d=\"M81.85,-287.53C81.99,-255.06 86.94,-184.99 124.29,-144 137.09,-129.95 154.46,-119.14 171.43,-111.06\"/>\n<polygon fill=\"black\" stroke=\"black\" points=\"172.64,-113.9 180.33,-106.62 169.78,-107.52 172.64,-113.9\"/>\n</g>\n<!-- spend_mean -->\n<g id=\"node3\" class=\"node\">\n<title>spend_mean</title>\n<ellipse fill=\"none\" stroke=\"black\" cx=\"209.29\" cy=\"-306\" rx=\"57.49\" ry=\"18\"/>\n<text text-anchor=\"middle\" x=\"209.29\" y=\"-300.95\" font-family=\"Times,serif\" font-size=\"14.00\">spend_mean</text>\n</g>\n<!-- spend_zero_mean -->\n<g id=\"node9\" class=\"node\">\n<title>spend_zero_mean</title>\n<ellipse fill=\"none\" stroke=\"black\" cx=\"183.29\" cy=\"-234\" rx=\"77.97\" ry=\"18\"/>\n<text text-anchor=\"middle\" x=\"183.29\" y=\"-228.95\" font-family=\"Times,serif\" font-size=\"14.00\">spend_zero_mean</text>\n</g>\n<!-- spend_mean&#45;&gt;spend_zero_mean -->\n<g id=\"edge13\" class=\"edge\">\n<title>spend_mean&#45;&gt;spend_zero_mean</title>\n<path fill=\"none\" stroke=\"black\" d=\"M202.87,-287.7C200.03,-280.07 196.63,-270.92 193.47,-262.4\"/>\n<polygon fill=\"black\" stroke=\"black\" points=\"196.41,-261.26 189.65,-253.1 189.85,-263.7 196.41,-261.26\"/>\n</g>\n<!-- spend -->\n<g id=\"node4\" class=\"node\">\n<title>spend</title>\n<polygon fill=\"none\" stroke=\"black\" stroke-dasharray=\"5,2\" points=\"293.04,-396 209.54,-396 209.54,-360 293.04,-360 293.04,-396\"/>\n<text text-anchor=\"middle\" x=\"251.29\" y=\"-372.95\" font-family=\"Times,serif\" font-size=\"14.00\">Input: spend</text>\n</g>\n<!-- spend&#45;&gt;df_to_parquet_build_result -->\n<g id=\"edge1\" class=\"edge\">\n<title>spend&#45;&gt;df_to_parquet_build_result</title>\n<path fill=\"none\" stroke=\"black\" d=\"M209.09,-373.44C149.22,-367.42 44.32,-352.94 21.29,-324 -23.72,-267.43 4.32,-228.23 98.29,-144 115.68,-128.42 138.22,-117.12 159.74,-109.06\"/>\n<polygon fill=\"black\" stroke=\"black\" points=\"160.61,-112.11 168.87,-105.47 158.27,-105.51 160.61,-112.11\"/>\n</g>\n<!-- spend&#45;&gt;avg_3wk_spend -->\n<g id=\"edge6\" class=\"edge\">\n<title>spend&#45;&gt;avg_3wk_spend</title>\n<path fill=\"none\" stroke=\"black\" d=\"M209.08,-359.52C186.41,-350.13 158.27,-338.47 134.27,-328.53\"/>\n<polygon fill=\"black\" stroke=\"black\" points=\"135.84,-324.97 125.26,-324.38 133.16,-331.44 135.84,-324.97\"/>\n</g>\n<!-- spend&#45;&gt;spend_mean -->\n<g id=\"edge7\" class=\"edge\">\n<title>spend&#45;&gt;spend_mean</title>\n<path fill=\"none\" stroke=\"black\" d=\"M240.91,-359.7C236.13,-351.73 230.35,-342.1 225.05,-333.26\"/>\n<polygon fill=\"black\" stroke=\"black\" points=\"227.7,-331.88 219.56,-325.1 221.7,-335.48 227.7,-331.88\"/>\n</g>\n<!-- spend_std_dev -->\n<g id=\"node8\" class=\"node\">\n<title>spend_std_dev</title>\n<ellipse fill=\"none\" stroke=\"black\" cx=\"345.29\" cy=\"-234\" rx=\"65.68\" ry=\"18\"/>\n<text text-anchor=\"middle\" x=\"345.29\" y=\"-228.95\" font-family=\"Times,serif\" font-size=\"14.00\">spend_std_dev</text>\n</g>\n<!-- spend&#45;&gt;spend_std_dev -->\n<g id=\"edge11\" class=\"edge\">\n<title>spend&#45;&gt;spend_std_dev</title>\n<path fill=\"none\" stroke=\"black\" d=\"M265.51,-359.73C273.66,-349.56 283.91,-336.31 292.29,-324 306.15,-303.65 320.34,-279.61 330.55,-261.65\"/>\n<polygon fill=\"black\" stroke=\"black\" points=\"334.07,-263.54 335.92,-253.11 327.97,-260.11 334.07,-263.54\"/>\n</g>\n<!-- spend&#45;&gt;spend_zero_mean -->\n<g id=\"edge12\" class=\"edge\">\n<title>spend&#45;&gt;spend_zero_mean</title>\n<path fill=\"none\" stroke=\"black\" d=\"M263.45,-359.58C274.88,-340.86 288.43,-310.72 275.29,-288 266.74,-273.21 252.32,-262.18 237.4,-254.13\"/>\n<polygon fill=\"black\" stroke=\"black\" points=\"239.1,-250.56 228.58,-249.26 235.99,-256.83 239.1,-250.56\"/>\n</g>\n<!-- spend_per_signup -->\n<g id=\"node10\" class=\"node\">\n<title>spend_per_signup</title>\n<polygon fill=\"none\" stroke=\"black\" points=\"486.42,-180 372.17,-180 372.17,-144 486.42,-144 486.42,-180\"/>\n<text text-anchor=\"middle\" x=\"429.29\" y=\"-156.95\" font-family=\"Times,serif\" font-size=\"14.00\">spend_per_signup</text>\n</g>\n<!-- spend&#45;&gt;spend_per_signup -->\n<g id=\"edge14\" class=\"edge\">\n<title>spend&#45;&gt;spend_per_signup</title>\n<path fill=\"none\" stroke=\"black\" d=\"M291.09,-359.6C331.14,-339.79 391.05,-303.38 420.29,-252 430.74,-233.64 432.63,-209.67 432.1,-191.23\"/>\n<polygon fill=\"black\" stroke=\"black\" points=\"435.54,-191.09 431.49,-181.3 428.55,-191.48 435.54,-191.09\"/>\n</g>\n<!-- signups -->\n<g id=\"node5\" class=\"node\">\n<title>signups</title>\n<polygon fill=\"none\" stroke=\"black\" stroke-dasharray=\"5,2\" points=\"560.92,-252 467.67,-252 467.67,-216 560.92,-216 560.92,-252\"/>\n<text text-anchor=\"middle\" x=\"514.29\" y=\"-228.95\" font-family=\"Times,serif\" font-size=\"14.00\">Input: signups</text>\n</g>\n<!-- signups&#45;&gt;df_to_parquet_build_result -->\n<g id=\"edge2\" class=\"edge\">\n<title>signups&#45;&gt;df_to_parquet_build_result</title>\n<path fill=\"none\" stroke=\"black\" d=\"M515.79,-215.65C516.49,-195.54 514.3,-162.76 495.29,-144 472.88,-121.88 401.11,-108.38 337.91,-100.55\"/>\n<polygon fill=\"black\" stroke=\"black\" points=\"338.38,-96.96 328.04,-99.25 337.55,-103.91 338.38,-96.96\"/>\n</g>\n<!-- signups&#45;&gt;spend_per_signup -->\n<g id=\"edge15\" class=\"edge\">\n<title>signups&#45;&gt;spend_per_signup</title>\n<path fill=\"none\" stroke=\"black\" d=\"M493.28,-215.7C482.86,-207.11 470.1,-196.61 458.73,-187.24\"/>\n<polygon fill=\"black\" stroke=\"black\" points=\"461.3,-184 451.36,-180.35 456.85,-189.41 461.3,-184\"/>\n</g>\n<!-- spend_zero_mean_unit_variance -->\n<g id=\"node6\" class=\"node\">\n<title>spend_zero_mean_unit_variance</title>\n<polygon fill=\"none\" stroke=\"black\" points=\"327.54,-180 133.04,-180 133.04,-144 327.54,-144 327.54,-180\"/>\n<text text-anchor=\"middle\" x=\"230.29\" y=\"-156.95\" font-family=\"Times,serif\" font-size=\"14.00\">spend_zero_mean_unit_variance</text>\n</g>\n<!-- spend_zero_mean_unit_variance&#45;&gt;df_to_parquet_build_result -->\n<g id=\"edge5\" class=\"edge\">\n<title>spend_zero_mean_unit_variance&#45;&gt;df_to_parquet_build_result</title>\n<path fill=\"none\" stroke=\"black\" d=\"M230.29,-143.7C230.29,-136.24 230.29,-127.32 230.29,-118.97\"/>\n<polygon fill=\"black\" stroke=\"black\" points=\"233.79,-119.1 230.29,-109.1 226.79,-119.1 233.79,-119.1\"/>\n</g>\n<!-- spend_std_dev&#45;&gt;spend_zero_mean_unit_variance -->\n<g id=\"edge9\" class=\"edge\">\n<title>spend_std_dev&#45;&gt;spend_zero_mean_unit_variance</title>\n<path fill=\"none\" stroke=\"black\" d=\"M319.2,-217.12C303.99,-207.86 284.55,-196.03 267.73,-185.79\"/>\n<polygon fill=\"black\" stroke=\"black\" points=\"270.06,-182.5 259.7,-180.29 266.42,-188.48 270.06,-182.5\"/>\n</g>\n<!-- spend_zero_mean&#45;&gt;spend_zero_mean_unit_variance -->\n<g id=\"edge8\" class=\"edge\">\n<title>spend_zero_mean&#45;&gt;spend_zero_mean_unit_variance</title>\n<path fill=\"none\" stroke=\"black\" d=\"M194.67,-216.05C200.07,-208.01 206.66,-198.2 212.68,-189.23\"/>\n<polygon fill=\"black\" stroke=\"black\" points=\"216.03,-191.53 218.69,-181.28 210.21,-187.63 216.03,-191.53\"/>\n</g>\n<!-- spend_per_signup&#45;&gt;df_to_parquet_build_result -->\n<g id=\"edge4\" class=\"edge\">\n<title>spend_per_signup&#45;&gt;df_to_parquet_build_result</title>\n<path fill=\"none\" stroke=\"black\" d=\"M379.59,-143.52C350.96,-133.45 314.92,-120.77 285.43,-110.39\"/>\n<polygon fill=\"black\" stroke=\"black\" points=\"286.88,-106.84 276.29,-106.83 284.56,-113.45 286.88,-106.84\"/>\n</g>\n</g>\n</svg>\n",
      "text/plain": "<graphviz.graphs.Digraph at 0x1482dcdf0>"
     },
     "execution_count": 11,
     "metadata": {},
     "output_type": "execute_result"
    }
   ],
   "source": [
    "materializers = [\n",
    "    # materialize the dataframe to a parquet file\n",
    "    to.parquet(\n",
    "        dependencies=output_columns,\n",
    "        id=\"df_to_parquet\",\n",
    "        path=\"./df.parquet\",\n",
    "        combine=df_builder,\n",
    "    ),\n",
    "]\n",
    "# Visualize what is happening\n",
    "dr.visualize_materialization(\n",
    "    *materializers,\n",
    "    additional_vars=output_columns,\n",
    "    inputs=initial_columns,\n",
    ")"
   ]
  },
  {
   "cell_type": "code",
   "execution_count": 12,
   "metadata": {
    "ExecuteTime": {
     "end_time": "2023-10-04T20:39:35.260982Z",
     "start_time": "2023-10-04T20:39:35.183560Z"
    }
   },
   "outputs": [
    {
     "name": "stderr",
     "output_type": "stream",
     "text": [
      "It appears no Pandas index type was detected (ignore this warning if you're using DASK for now.) Please check whether the dataframe created matches what what you expect to happen.\n",
      "/Users/stefankrawczyk/.pyenv/versions/3.9.13/envs/hamilton-ray-py39/lib/python3.9/site-packages/pyarrow/pandas_compat.py:358: FutureWarning: is_sparse is deprecated and will be removed in a future version. Check `isinstance(dtype, pd.SparseDtype)` instead.\n",
      "  if _pandas_api.is_sparse(col):\n"
     ]
    }
   ],
   "source": [
    "# Materialize a result, i.e. execute the DAG!\n",
    "materialization_results, additional_outputs = dr.materialize(\n",
    "    *materializers,\n",
    "    additional_vars=[\n",
    "        \"df_to_parquet_build_result\",\n",
    "    ],  # because combine is used, we can get that result here.\n",
    "    inputs=initial_columns,\n",
    ")"
   ]
  },
  {
   "cell_type": "code",
   "execution_count": 13,
   "metadata": {
    "ExecuteTime": {
     "end_time": "2023-10-04T20:39:38.773509Z",
     "start_time": "2023-10-04T20:39:38.767255Z"
    }
   },
   "outputs": [
    {
     "data": {
      "text/plain": "{'df_to_parquet': {'size': 4703,\n  'path': './df.parquet',\n  'last_modified': 1696451975.2548041,\n  'timestamp': 1696477175.255047}}"
     },
     "execution_count": 13,
     "metadata": {},
     "output_type": "execute_result"
    }
   ],
   "source": [
    "materialization_results"
   ]
  },
  {
   "cell_type": "code",
   "execution_count": 14,
   "metadata": {
    "ExecuteTime": {
     "end_time": "2023-10-04T20:39:39.765927Z",
     "start_time": "2023-10-04T20:39:39.752801Z"
    }
   },
   "outputs": [
    {
     "data": {
      "text/plain": "   spend  signups  avg_3wk_spend  spend_per_signup  \\\n0     10        1            NaN            10.000   \n1     10       10            NaN             1.000   \n2     20       50      13.333333             0.400   \n3     40      100      23.333333             0.400   \n4     40      200      33.333333             0.200   \n5     50      400      43.333333             0.125   \n\n   spend_zero_mean_unit_variance  \n0                      -1.064405  \n1                      -1.064405  \n2                      -0.483821  \n3                       0.677349  \n4                       0.677349  \n5                       1.257934  ",
      "text/html": "<div>\n<style scoped>\n    .dataframe tbody tr th:only-of-type {\n        vertical-align: middle;\n    }\n\n    .dataframe tbody tr th {\n        vertical-align: top;\n    }\n\n    .dataframe thead th {\n        text-align: right;\n    }\n</style>\n<table border=\"1\" class=\"dataframe\">\n  <thead>\n    <tr style=\"text-align: right;\">\n      <th></th>\n      <th>spend</th>\n      <th>signups</th>\n      <th>avg_3wk_spend</th>\n      <th>spend_per_signup</th>\n      <th>spend_zero_mean_unit_variance</th>\n    </tr>\n  </thead>\n  <tbody>\n    <tr>\n      <th>0</th>\n      <td>10</td>\n      <td>1</td>\n      <td>NaN</td>\n      <td>10.000</td>\n      <td>-1.064405</td>\n    </tr>\n    <tr>\n      <th>1</th>\n      <td>10</td>\n      <td>10</td>\n      <td>NaN</td>\n      <td>1.000</td>\n      <td>-1.064405</td>\n    </tr>\n    <tr>\n      <th>2</th>\n      <td>20</td>\n      <td>50</td>\n      <td>13.333333</td>\n      <td>0.400</td>\n      <td>-0.483821</td>\n    </tr>\n    <tr>\n      <th>3</th>\n      <td>40</td>\n      <td>100</td>\n      <td>23.333333</td>\n      <td>0.400</td>\n      <td>0.677349</td>\n    </tr>\n    <tr>\n      <th>4</th>\n      <td>40</td>\n      <td>200</td>\n      <td>33.333333</td>\n      <td>0.200</td>\n      <td>0.677349</td>\n    </tr>\n    <tr>\n      <th>5</th>\n      <td>50</td>\n      <td>400</td>\n      <td>43.333333</td>\n      <td>0.125</td>\n      <td>1.257934</td>\n    </tr>\n  </tbody>\n</table>\n</div>"
     },
     "execution_count": 14,
     "metadata": {},
     "output_type": "execute_result"
    }
   ],
   "source": [
    "additional_outputs[\"df_to_parquet_build_result\"]"
   ]
  },
  {
   "cell_type": "code",
   "execution_count": null,
   "metadata": {},
   "outputs": [],
   "source": [
    "#pass"
   ]
  }
 ],
 "metadata": {
  "kernelspec": {
   "display_name": "Python 3 (ipykernel)",
   "language": "python",
   "name": "python3"
  },
  "language_info": {
   "codemirror_mode": {
    "name": "ipython",
    "version": 3
   },
   "file_extension": ".py",
   "mimetype": "text/x-python",
   "name": "python",
   "nbconvert_exporter": "python",
   "pygments_lexer": "ipython3",
   "version": "3.10.12"
  }
 },
 "nbformat": 4,
 "nbformat_minor": 4
}
