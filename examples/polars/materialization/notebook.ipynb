{
 "cells": [
  {
   "cell_type": "code",
   "execution_count": 1,
   "metadata": {
    "ExecuteTime": {
     "end_time": "2023-10-18T14:02:34.156304Z",
     "start_time": "2023-10-18T14:02:34.116487Z"
    }
   },
   "outputs": [],
   "source": [
    "# update the polars package - optional\n",
    "# !pip install --upgrade polars"
   ]
  },
  {
   "cell_type": "code",
   "execution_count": 2,
   "metadata": {
    "ExecuteTime": {
     "end_time": "2023-10-18T14:02:35.425584Z",
     "start_time": "2023-10-18T14:02:34.131582Z"
    }
   },
   "outputs": [],
   "source": [
    "import typing\n",
    "\n",
    "import polars as pl\n",
    "# Add the hamilton module to your path - optinal\n",
    "# project_dir = \"### ADD PATH HERE ###\"\n",
    "# sys.path.append(project_dir)\n",
    "\n",
    "from hamilton import driver\n",
    "from hamilton.io.materialization import to\n",
    "from hamilton.plugins import h_polars"
   ]
  },
  {
   "cell_type": "code",
   "execution_count": 3,
   "metadata": {
    "pycharm": {
     "name": "#%%\n"
    },
    "ExecuteTime": {
     "end_time": "2023-10-18T14:02:35.482369Z",
     "start_time": "2023-10-18T14:02:35.426630Z"
    }
   },
   "outputs": [],
   "source": [
    "# We use the autoreload extension that comes with ipython to automatically reload modules when\n",
    "# the code in them changes.\n",
    "\n",
    "# import the jupyter extension\n",
    "%load_ext autoreload\n",
    "# set it to only reload the modules imported\n",
    "%autoreload 1"
   ]
  },
  {
   "cell_type": "code",
   "execution_count": 4,
   "metadata": {
    "pycharm": {
     "name": "#%%\n"
    },
    "ExecuteTime": {
     "end_time": "2023-10-18T14:02:35.501609Z",
     "start_time": "2023-10-18T14:02:35.487957Z"
    }
   },
   "outputs": [
    {
     "name": "stdout",
     "output_type": "stream",
     "text": [
      "Overwriting spend_calculations.py\n"
     ]
    }
   ],
   "source": [
    "%%writefile spend_calculations.py\n",
    "# Define your new Hamilton functions.\n",
    "# The %%writefile magic command creates a new Python module with the functions below.\n",
    "# We will import this later and pass it into our Driver.\n",
    "\n",
    "import polars as pl\n",
    "\n",
    "# Look at `my_functions` to see how these functions connect.\n",
    "def avg_3wk_spend(spend: pl.Series) -> pl.Series:\n",
    "    \"\"\"Rolling 3 week average spend.\"\"\"\n",
    "    return spend.rolling_mean(3)\n",
    "\n",
    "\n",
    "def spend_per_signup(spend: pl.Series, signups: pl.Series) -> pl.Series:\n",
    "    \"\"\"The cost per signup in relation to spend.\"\"\"\n",
    "    return spend / signups\n",
    "\n",
    "\n",
    "def spend_mean(spend: pl.Series) -> float:\n",
    "    \"\"\"Shows function creating a scalar. In this case it computes the mean of the entire column.\"\"\"\n",
    "    return spend.mean()\n",
    "\n",
    "\n",
    "def spend_zero_mean(spend: pl.Series, spend_mean: float) -> pl.Series:\n",
    "    \"\"\"Shows function that takes a scalar. In this case to zero mean spend.\"\"\"\n",
    "    return spend - spend_mean\n",
    "\n",
    "\n",
    "def spend_std_dev(spend: pl.Series) -> float:\n",
    "    \"\"\"Function that computes the standard deviation of the spend column.\"\"\"\n",
    "    return spend.std()\n",
    "\n",
    "\n",
    "def spend_zero_mean_unit_variance(spend_zero_mean: pl.Series, spend_std_dev: float) -> pl.Series:\n",
    "    \"\"\"Function showing one way to make spend have zero mean and unit variance.\"\"\"\n",
    "    return spend_zero_mean / spend_std_dev"
   ]
  },
  {
   "cell_type": "code",
   "execution_count": 5,
   "metadata": {
    "pycharm": {
     "name": "#%%\n"
    },
    "ExecuteTime": {
     "end_time": "2023-10-18T14:02:35.556018Z",
     "start_time": "2023-10-18T14:02:35.506075Z"
    }
   },
   "outputs": [],
   "source": [
    "initial_columns = {  # load from actuals or wherever -- this is our initial data we use as input.\n",
    "    # Note: these values don't have to be all series, they could be a scalar.\n",
    "    \"signups\": pl.Series([1, 10, 50, 100, 200, 400]),\n",
    "    \"spend\": pl.Series([10, 10, 20, 40, 40, 50]),\n",
    "}"
   ]
  },
  {
   "cell_type": "code",
   "execution_count": 6,
   "metadata": {
    "pycharm": {
     "name": "#%%\n"
    },
    "ExecuteTime": {
     "end_time": "2023-10-18T14:02:35.557737Z",
     "start_time": "2023-10-18T14:02:35.517238Z"
    }
   },
   "outputs": [
    {
     "name": "stderr",
     "output_type": "stream",
     "text": [
      "Note: Hamilton collects completely anonymous data about usage. This will help us improve Hamilton over time. See https://github.com/dagworks-inc/hamilton#usage-analytics--data-privacy for details.\n"
     ]
    }
   ],
   "source": [
    "%aimport spend_calculations\n",
    "\n",
    "df_builder = h_polars.PolarsDataFrameResult()\n",
    "dr = driver.Driver({}, spend_calculations)  # can pass in multiple modules"
   ]
  },
  {
   "cell_type": "code",
   "execution_count": 7,
   "metadata": {
    "ExecuteTime": {
     "end_time": "2023-10-18T14:02:35.558270Z",
     "start_time": "2023-10-18T14:02:35.549907Z"
    }
   },
   "outputs": [],
   "source": [
    "# we need to specify what we want in the final dataframe. These can be string names, or function references.\n",
    "output_columns = [\n",
    "    \"spend\",\n",
    "    \"signups\",\n",
    "    \"avg_3wk_spend\",\n",
    "    \"spend_per_signup\",\n",
    "    \"spend_zero_mean_unit_variance\",\n",
    "]"
   ]
  },
  {
   "cell_type": "code",
   "execution_count": 8,
   "metadata": {
    "collapsed": false,
    "ExecuteTime": {
     "end_time": "2023-10-18T14:02:35.573813Z",
     "start_time": "2023-10-18T14:02:35.558938Z"
    }
   },
   "outputs": [],
   "source": [
    "# pass"
   ]
  },
  {
   "cell_type": "code",
   "execution_count": 9,
   "metadata": {
    "ExecuteTime": {
     "end_time": "2023-10-18T14:02:35.849035Z",
     "start_time": "2023-10-18T14:02:35.578708Z"
    }
   },
   "outputs": [
    {
     "data": {
      "image/svg+xml": "<?xml version=\"1.0\" encoding=\"UTF-8\" standalone=\"no\"?>\n<!DOCTYPE svg PUBLIC \"-//W3C//DTD SVG 1.1//EN\"\n \"http://www.w3.org/Graphics/SVG/1.1/DTD/svg11.dtd\">\n<!-- Generated by graphviz version 8.1.0 (20230707.0739)\n -->\n<!-- Pages: 1 -->\n<svg width=\"954pt\" height=\"404pt\"\n viewBox=\"0.00 0.00 953.77 404.00\" xmlns=\"http://www.w3.org/2000/svg\" xmlns:xlink=\"http://www.w3.org/1999/xlink\">\n<g id=\"graph0\" class=\"graph\" transform=\"scale(1 1) rotate(0) translate(4 400)\">\n<polygon fill=\"white\" stroke=\"none\" points=\"-4,4 -4,-400 949.77,-400 949.77,4 -4,4\"/>\n<!-- spend_zero_mean -->\n<g id=\"node1\" class=\"node\">\n<title>spend_zero_mean</title>\n<ellipse fill=\"none\" stroke=\"black\" cx=\"641.19\" cy=\"-234\" rx=\"77.97\" ry=\"18\"/>\n<text text-anchor=\"middle\" x=\"641.19\" y=\"-228.95\" font-family=\"Times,serif\" font-size=\"14.00\">spend_zero_mean</text>\n</g>\n<!-- spend_zero_mean_unit_variance -->\n<g id=\"node14\" class=\"node\">\n<title>spend_zero_mean_unit_variance</title>\n<polygon fill=\"none\" stroke=\"black\" points=\"738.44,-180 543.94,-180 543.94,-144 738.44,-144 738.44,-180\"/>\n<text text-anchor=\"middle\" x=\"641.19\" y=\"-156.95\" font-family=\"Times,serif\" font-size=\"14.00\">spend_zero_mean_unit_variance</text>\n</g>\n<!-- spend_zero_mean&#45;&gt;spend_zero_mean_unit_variance -->\n<g id=\"edge31\" class=\"edge\">\n<title>spend_zero_mean&#45;&gt;spend_zero_mean_unit_variance</title>\n<path fill=\"none\" stroke=\"black\" d=\"M641.19,-215.7C641.19,-208.24 641.19,-199.32 641.19,-190.97\"/>\n<polygon fill=\"black\" stroke=\"black\" points=\"644.69,-191.1 641.19,-181.1 637.69,-191.1 644.69,-191.1\"/>\n</g>\n<!-- df_to_feather_build_result -->\n<g id=\"node2\" class=\"node\">\n<title>df_to_feather_build_result</title>\n<ellipse fill=\"none\" stroke=\"black\" cx=\"109.19\" cy=\"-90\" rx=\"109.19\" ry=\"18\"/>\n<text text-anchor=\"middle\" x=\"109.19\" y=\"-84.95\" font-family=\"Times,serif\" font-size=\"14.00\">df_to_feather_build_result</text>\n</g>\n<!-- df_to_feather -->\n<g id=\"node13\" class=\"node\">\n<title>df_to_feather</title>\n<polygon fill=\"none\" stroke=\"black\" points=\"153.56,-36 64.81,-36 64.81,0 153.56,0 153.56,-36\"/>\n<text text-anchor=\"middle\" x=\"109.19\" y=\"-12.95\" font-family=\"Times,serif\" font-size=\"14.00\">df_to_feather</text>\n</g>\n<!-- df_to_feather_build_result&#45;&gt;df_to_feather -->\n<g id=\"edge30\" class=\"edge\">\n<title>df_to_feather_build_result&#45;&gt;df_to_feather</title>\n<path fill=\"none\" stroke=\"black\" d=\"M109.19,-71.7C109.19,-64.24 109.19,-55.32 109.19,-46.97\"/>\n<polygon fill=\"black\" stroke=\"black\" points=\"112.69,-47.1 109.19,-37.1 105.69,-47.1 112.69,-47.1\"/>\n</g>\n<!-- spend_std_dev -->\n<g id=\"node3\" class=\"node\">\n<title>spend_std_dev</title>\n<ellipse fill=\"none\" stroke=\"black\" cx=\"470.19\" cy=\"-306\" rx=\"65.68\" ry=\"18\"/>\n<text text-anchor=\"middle\" x=\"470.19\" y=\"-300.95\" font-family=\"Times,serif\" font-size=\"14.00\">spend_std_dev</text>\n</g>\n<!-- spend_std_dev&#45;&gt;spend_zero_mean_unit_variance -->\n<g id=\"edge32\" class=\"edge\">\n<title>spend_std_dev&#45;&gt;spend_zero_mean_unit_variance</title>\n<path fill=\"none\" stroke=\"black\" d=\"M483.87,-287.96C499.59,-269.03 526.78,-238.2 554.19,-216 567.83,-204.95 583.97,-194.5 598.62,-185.85\"/>\n<polygon fill=\"black\" stroke=\"black\" points=\"600.09,-188.47 607,-180.44 596.59,-182.41 600.09,-188.47\"/>\n</g>\n<!-- signups -->\n<g id=\"node4\" class=\"node\">\n<title>signups</title>\n<polygon fill=\"none\" stroke=\"black\" stroke-dasharray=\"5,2\" points=\"497.81,-252 404.56,-252 404.56,-216 497.81,-216 497.81,-252\"/>\n<text text-anchor=\"middle\" x=\"451.19\" y=\"-228.95\" font-family=\"Times,serif\" font-size=\"14.00\">Input: signups</text>\n</g>\n<!-- signups&#45;&gt;df_to_feather_build_result -->\n<g id=\"edge4\" class=\"edge\">\n<title>signups&#45;&gt;df_to_feather_build_result</title>\n<path fill=\"none\" stroke=\"black\" d=\"M404.27,-230.29C352.84,-225.68 269.13,-213.28 205.19,-180 175.2,-164.39 147.65,-136.87 129.83,-116.56\"/>\n<polygon fill=\"black\" stroke=\"black\" points=\"131.96,-114.67 122.81,-109.34 126.64,-119.22 131.96,-114.67\"/>\n</g>\n<!-- df_to_parquet_build_result -->\n<g id=\"node7\" class=\"node\">\n<title>df_to_parquet_build_result</title>\n<ellipse fill=\"none\" stroke=\"black\" cx=\"347.19\" cy=\"-90\" rx=\"111.23\" ry=\"18\"/>\n<text text-anchor=\"middle\" x=\"347.19\" y=\"-84.95\" font-family=\"Times,serif\" font-size=\"14.00\">df_to_parquet_build_result</text>\n</g>\n<!-- signups&#45;&gt;df_to_parquet_build_result -->\n<g id=\"edge12\" class=\"edge\">\n<title>signups&#45;&gt;df_to_parquet_build_result</title>\n<path fill=\"none\" stroke=\"black\" d=\"M408.61,-215.68C392.71,-207.18 375.92,-195.39 365.19,-180 352.79,-162.23 348.52,-137.88 347.22,-119.14\"/>\n<polygon fill=\"black\" stroke=\"black\" points=\"350.68,-119.15 346.74,-109.31 343.68,-119.45 350.68,-119.15\"/>\n</g>\n<!-- df_to_json_build_result -->\n<g id=\"node8\" class=\"node\">\n<title>df_to_json_build_result</title>\n<ellipse fill=\"none\" stroke=\"black\" cx=\"575.19\" cy=\"-90\" rx=\"98.95\" ry=\"18\"/>\n<text text-anchor=\"middle\" x=\"575.19\" y=\"-84.95\" font-family=\"Times,serif\" font-size=\"14.00\">df_to_json_build_result</text>\n</g>\n<!-- signups&#45;&gt;df_to_json_build_result -->\n<g id=\"edge17\" class=\"edge\">\n<title>signups&#45;&gt;df_to_json_build_result</title>\n<path fill=\"none\" stroke=\"black\" d=\"M466.39,-215.59C488.17,-190.65 528.36,-144.62 553.33,-116.03\"/>\n<polygon fill=\"black\" stroke=\"black\" points=\"556.3,-118.95 560.24,-109.11 551.03,-114.34 556.3,-118.95\"/>\n</g>\n<!-- spend_per_signup -->\n<g id=\"node10\" class=\"node\">\n<title>spend_per_signup</title>\n<polygon fill=\"none\" stroke=\"black\" points=\"488.31,-180 374.06,-180 374.06,-144 488.31,-144 488.31,-180\"/>\n<text text-anchor=\"middle\" x=\"431.19\" y=\"-156.95\" font-family=\"Times,serif\" font-size=\"14.00\">spend_per_signup</text>\n</g>\n<!-- signups&#45;&gt;spend_per_signup -->\n<g id=\"edge23\" class=\"edge\">\n<title>signups&#45;&gt;spend_per_signup</title>\n<path fill=\"none\" stroke=\"black\" d=\"M446.24,-215.7C444.09,-208.15 441.51,-199.12 439.09,-190.68\"/>\n<polygon fill=\"black\" stroke=\"black\" points=\"442.19,-189.76 436.07,-181.1 435.45,-191.68 442.19,-189.76\"/>\n</g>\n<!-- df_to_spreadsheet_build_result -->\n<g id=\"node11\" class=\"node\">\n<title>df_to_spreadsheet_build_result</title>\n<ellipse fill=\"none\" stroke=\"black\" cx=\"819.19\" cy=\"-90\" rx=\"126.59\" ry=\"18\"/>\n<text text-anchor=\"middle\" x=\"819.19\" y=\"-84.95\" font-family=\"Times,serif\" font-size=\"14.00\">df_to_spreadsheet_build_result</text>\n</g>\n<!-- signups&#45;&gt;df_to_spreadsheet_build_result -->\n<g id=\"edge25\" class=\"edge\">\n<title>signups&#45;&gt;df_to_spreadsheet_build_result</title>\n<path fill=\"none\" stroke=\"black\" d=\"M498.03,-225.04C580.12,-211.04 741.83,-183.17 747.19,-180 772.33,-165.14 792.33,-138.01 804.81,-117.6\"/>\n<polygon fill=\"black\" stroke=\"black\" points=\"808.28,-119.6 810.32,-109.2 802.24,-116.06 808.28,-119.6\"/>\n</g>\n<!-- avg_3wk_spend -->\n<g id=\"node5\" class=\"node\">\n<title>avg_3wk_spend</title>\n<polygon fill=\"none\" stroke=\"black\" points=\"318.06,-180 214.31,-180 214.31,-144 318.06,-144 318.06,-180\"/>\n<text text-anchor=\"middle\" x=\"266.19\" y=\"-156.95\" font-family=\"Times,serif\" font-size=\"14.00\">avg_3wk_spend</text>\n</g>\n<!-- avg_3wk_spend&#45;&gt;df_to_feather_build_result -->\n<g id=\"edge5\" class=\"edge\">\n<title>avg_3wk_spend&#45;&gt;df_to_feather_build_result</title>\n<path fill=\"none\" stroke=\"black\" d=\"M226.97,-143.52C205.37,-133.89 178.43,-121.87 155.76,-111.77\"/>\n<polygon fill=\"black\" stroke=\"black\" points=\"157.57,-108.3 147.01,-107.42 154.72,-114.69 157.57,-108.3\"/>\n</g>\n<!-- avg_3wk_spend&#45;&gt;df_to_parquet_build_result -->\n<g id=\"edge13\" class=\"edge\">\n<title>avg_3wk_spend&#45;&gt;df_to_parquet_build_result</title>\n<path fill=\"none\" stroke=\"black\" d=\"M286.21,-143.7C296.21,-135.05 308.48,-124.45 319.38,-115.03\"/>\n<polygon fill=\"black\" stroke=\"black\" points=\"321.12,-117.29 326.39,-108.1 316.54,-111.99 321.12,-117.29\"/>\n</g>\n<!-- avg_3wk_spend&#45;&gt;df_to_json_build_result -->\n<g id=\"edge18\" class=\"edge\">\n<title>avg_3wk_spend&#45;&gt;df_to_json_build_result</title>\n<path fill=\"none\" stroke=\"black\" d=\"M318.25,-149.2C369.31,-137.64 447.54,-119.92 504.26,-107.07\"/>\n<polygon fill=\"black\" stroke=\"black\" points=\"504.97,-110.27 513.95,-104.65 503.43,-103.44 504.97,-110.27\"/>\n</g>\n<!-- avg_3wk_spend&#45;&gt;df_to_spreadsheet_build_result -->\n<g id=\"edge26\" class=\"edge\">\n<title>avg_3wk_spend&#45;&gt;df_to_spreadsheet_build_result</title>\n<path fill=\"none\" stroke=\"black\" d=\"M318.5,-151.44C333.55,-148.85 349.99,-146.16 365.19,-144 506,-123.96 541.95,-124.82 683.19,-108 693.93,-106.72 705.15,-105.36 716.33,-103.99\"/>\n<polygon fill=\"black\" stroke=\"black\" points=\"716.53,-107.36 726.03,-102.67 715.67,-100.42 716.53,-107.36\"/>\n</g>\n<!-- df_to_parquet -->\n<g id=\"node6\" class=\"node\">\n<title>df_to_parquet</title>\n<polygon fill=\"none\" stroke=\"black\" points=\"393.06,-36 301.31,-36 301.31,0 393.06,0 393.06,-36\"/>\n<text text-anchor=\"middle\" x=\"347.19\" y=\"-12.95\" font-family=\"Times,serif\" font-size=\"14.00\">df_to_parquet</text>\n</g>\n<!-- df_to_parquet_build_result&#45;&gt;df_to_parquet -->\n<g id=\"edge10\" class=\"edge\">\n<title>df_to_parquet_build_result&#45;&gt;df_to_parquet</title>\n<path fill=\"none\" stroke=\"black\" d=\"M347.19,-71.7C347.19,-64.24 347.19,-55.32 347.19,-46.97\"/>\n<polygon fill=\"black\" stroke=\"black\" points=\"350.69,-47.1 347.19,-37.1 343.69,-47.1 350.69,-47.1\"/>\n</g>\n<!-- df_to_json -->\n<g id=\"node9\" class=\"node\">\n<title>df_to_json</title>\n<polygon fill=\"none\" stroke=\"black\" points=\"612.06,-36 538.31,-36 538.31,0 612.06,0 612.06,-36\"/>\n<text text-anchor=\"middle\" x=\"575.19\" y=\"-12.95\" font-family=\"Times,serif\" font-size=\"14.00\">df_to_json</text>\n</g>\n<!-- df_to_json_build_result&#45;&gt;df_to_json -->\n<g id=\"edge21\" class=\"edge\">\n<title>df_to_json_build_result&#45;&gt;df_to_json</title>\n<path fill=\"none\" stroke=\"black\" d=\"M575.19,-71.7C575.19,-64.24 575.19,-55.32 575.19,-46.97\"/>\n<polygon fill=\"black\" stroke=\"black\" points=\"578.69,-47.1 575.19,-37.1 571.69,-47.1 578.69,-47.1\"/>\n</g>\n<!-- spend_per_signup&#45;&gt;df_to_feather_build_result -->\n<g id=\"edge6\" class=\"edge\">\n<title>spend_per_signup&#45;&gt;df_to_feather_build_result</title>\n<path fill=\"none\" stroke=\"black\" d=\"M373.62,-148.49C320.66,-136.97 241.8,-119.83 183.98,-107.26\"/>\n<polygon fill=\"black\" stroke=\"black\" points=\"184.95,-103.67 174.44,-104.97 183.47,-110.51 184.95,-103.67\"/>\n</g>\n<!-- spend_per_signup&#45;&gt;df_to_parquet_build_result -->\n<g id=\"edge14\" class=\"edge\">\n<title>spend_per_signup&#45;&gt;df_to_parquet_build_result</title>\n<path fill=\"none\" stroke=\"black\" d=\"M410.42,-143.7C400.05,-135.05 387.32,-124.45 376.02,-115.03\"/>\n<polygon fill=\"black\" stroke=\"black\" points=\"378.63,-111.82 368.71,-108.1 374.15,-117.19 378.63,-111.82\"/>\n</g>\n<!-- spend_per_signup&#45;&gt;df_to_json_build_result -->\n<g id=\"edge19\" class=\"edge\">\n<title>spend_per_signup&#45;&gt;df_to_json_build_result</title>\n<path fill=\"none\" stroke=\"black\" d=\"M467.15,-143.52C486.77,-133.98 511.19,-122.11 531.85,-112.07\"/>\n<polygon fill=\"black\" stroke=\"black\" points=\"533.19,-114.82 540.65,-107.3 530.13,-108.52 533.19,-114.82\"/>\n</g>\n<!-- spend_per_signup&#45;&gt;df_to_spreadsheet_build_result -->\n<g id=\"edge27\" class=\"edge\">\n<title>spend_per_signup&#45;&gt;df_to_spreadsheet_build_result</title>\n<path fill=\"none\" stroke=\"black\" d=\"M488.44,-150.67C552.73,-139.07 657.79,-120.12 732.24,-106.69\"/>\n<polygon fill=\"black\" stroke=\"black\" points=\"732.77,-109.97 741.99,-104.75 731.53,-103.08 732.77,-109.97\"/>\n</g>\n<!-- df_to_spreadsheet -->\n<g id=\"node12\" class=\"node\">\n<title>df_to_spreadsheet</title>\n<polygon fill=\"none\" stroke=\"black\" points=\"876.31,-36 762.06,-36 762.06,0 876.31,0 876.31,-36\"/>\n<text text-anchor=\"middle\" x=\"819.19\" y=\"-12.95\" font-family=\"Times,serif\" font-size=\"14.00\">df_to_spreadsheet</text>\n</g>\n<!-- df_to_spreadsheet_build_result&#45;&gt;df_to_spreadsheet -->\n<g id=\"edge29\" class=\"edge\">\n<title>df_to_spreadsheet_build_result&#45;&gt;df_to_spreadsheet</title>\n<path fill=\"none\" stroke=\"black\" d=\"M819.19,-71.7C819.19,-64.24 819.19,-55.32 819.19,-46.97\"/>\n<polygon fill=\"black\" stroke=\"black\" points=\"822.69,-47.1 819.19,-37.1 815.69,-47.1 822.69,-47.1\"/>\n</g>\n<!-- spend_zero_mean_unit_variance&#45;&gt;df_to_feather_build_result -->\n<g id=\"edge7\" class=\"edge\">\n<title>spend_zero_mean_unit_variance&#45;&gt;df_to_feather_build_result</title>\n<path fill=\"none\" stroke=\"black\" d=\"M543.68,-148.96C459.75,-138.49 335.42,-122.72 227.19,-108 218.27,-106.79 208.97,-105.5 199.69,-104.19\"/>\n<polygon fill=\"black\" stroke=\"black\" points=\"200.21,-100.58 189.82,-102.65 199.23,-107.52 200.21,-100.58\"/>\n</g>\n<!-- spend_zero_mean_unit_variance&#45;&gt;df_to_parquet_build_result -->\n<g id=\"edge15\" class=\"edge\">\n<title>spend_zero_mean_unit_variance&#45;&gt;df_to_parquet_build_result</title>\n<path fill=\"none\" stroke=\"black\" d=\"M567.76,-143.52C522.09,-132.64 463.67,-118.73 418.42,-107.96\"/>\n<polygon fill=\"black\" stroke=\"black\" points=\"419.35,-104.35 408.81,-105.43 417.73,-111.16 419.35,-104.35\"/>\n</g>\n<!-- spend_zero_mean_unit_variance&#45;&gt;df_to_json_build_result -->\n<g id=\"edge20\" class=\"edge\">\n<title>spend_zero_mean_unit_variance&#45;&gt;df_to_json_build_result</title>\n<path fill=\"none\" stroke=\"black\" d=\"M624.87,-143.7C616.96,-135.3 607.31,-125.07 598.63,-115.86\"/>\n<polygon fill=\"black\" stroke=\"black\" points=\"601.72,-113.98 592.31,-109.1 596.63,-118.78 601.72,-113.98\"/>\n</g>\n<!-- spend_zero_mean_unit_variance&#45;&gt;df_to_spreadsheet_build_result -->\n<g id=\"edge28\" class=\"edge\">\n<title>spend_zero_mean_unit_variance&#45;&gt;df_to_spreadsheet_build_result</title>\n<path fill=\"none\" stroke=\"black\" d=\"M685.64,-143.52C710.46,-133.76 741.5,-121.55 767.41,-111.36\"/>\n<polygon fill=\"black\" stroke=\"black\" points=\"768.41,-114.34 776.43,-107.42 765.85,-107.82 768.41,-114.34\"/>\n</g>\n<!-- spend_mean -->\n<g id=\"node15\" class=\"node\">\n<title>spend_mean</title>\n<ellipse fill=\"none\" stroke=\"black\" cx=\"649.19\" cy=\"-306\" rx=\"57.49\" ry=\"18\"/>\n<text text-anchor=\"middle\" x=\"649.19\" y=\"-300.95\" font-family=\"Times,serif\" font-size=\"14.00\">spend_mean</text>\n</g>\n<!-- spend_mean&#45;&gt;spend_zero_mean -->\n<g id=\"edge2\" class=\"edge\">\n<title>spend_mean&#45;&gt;spend_zero_mean</title>\n<path fill=\"none\" stroke=\"black\" d=\"M647.21,-287.7C646.36,-280.24 645.34,-271.32 644.38,-262.97\"/>\n<polygon fill=\"black\" stroke=\"black\" points=\"647.75,-262.64 643.14,-253.1 640.8,-263.44 647.75,-262.64\"/>\n</g>\n<!-- spend -->\n<g id=\"node16\" class=\"node\">\n<title>spend</title>\n<polygon fill=\"none\" stroke=\"black\" stroke-dasharray=\"5,2\" points=\"511.94,-396 428.44,-396 428.44,-360 511.94,-360 511.94,-396\"/>\n<text text-anchor=\"middle\" x=\"470.19\" y=\"-372.95\" font-family=\"Times,serif\" font-size=\"14.00\">Input: spend</text>\n</g>\n<!-- spend&#45;&gt;spend_zero_mean -->\n<g id=\"edge1\" class=\"edge\">\n<title>spend&#45;&gt;spend_zero_mean</title>\n<path fill=\"none\" stroke=\"black\" d=\"M496.55,-359.73C511.24,-349.78 529.65,-336.74 545.19,-324 563.18,-309.25 566.15,-303.85 583.19,-288 593.41,-278.49 604.72,-268.11 614.63,-259.08\"/>\n<polygon fill=\"black\" stroke=\"black\" points=\"616.52,-262.18 621.56,-252.86 611.81,-257.01 616.52,-262.18\"/>\n</g>\n<!-- spend&#45;&gt;df_to_feather_build_result -->\n<g id=\"edge3\" class=\"edge\">\n<title>spend&#45;&gt;df_to_feather_build_result</title>\n<path fill=\"none\" stroke=\"black\" d=\"M428.29,-371.18C389.7,-364.39 331.95,-350.53 288.19,-324 213.17,-278.52 202.76,-252.38 153.19,-180 139.83,-160.5 128.16,-136.37 120.2,-118.15\"/>\n<polygon fill=\"black\" stroke=\"black\" points=\"123.1,-117.01 115.96,-109.19 116.66,-119.76 123.1,-117.01\"/>\n</g>\n<!-- spend&#45;&gt;spend_std_dev -->\n<g id=\"edge8\" class=\"edge\">\n<title>spend&#45;&gt;spend_std_dev</title>\n<path fill=\"none\" stroke=\"black\" d=\"M470.19,-359.7C470.19,-352.24 470.19,-343.32 470.19,-334.97\"/>\n<polygon fill=\"black\" stroke=\"black\" points=\"473.69,-335.1 470.19,-325.1 466.69,-335.1 473.69,-335.1\"/>\n</g>\n<!-- spend&#45;&gt;avg_3wk_spend -->\n<g id=\"edge9\" class=\"edge\">\n<title>spend&#45;&gt;avg_3wk_spend</title>\n<path fill=\"none\" stroke=\"black\" d=\"M432.32,-359.66C414.95,-350.58 394.8,-338.35 379.19,-324 335.47,-283.84 299.02,-223.98 280.12,-189.69\"/>\n<polygon fill=\"black\" stroke=\"black\" points=\"282.89,-188.46 275.05,-181.33 276.74,-191.79 282.89,-188.46\"/>\n</g>\n<!-- spend&#45;&gt;df_to_parquet_build_result -->\n<g id=\"edge11\" class=\"edge\">\n<title>spend&#45;&gt;df_to_parquet_build_result</title>\n<path fill=\"none\" stroke=\"black\" d=\"M428.04,-364.1C402.47,-355.14 369.93,-341.64 344.19,-324 270.8,-273.73 238.5,-262.48 205.19,-180 199.19,-165.16 196.06,-157.14 205.19,-144 217.57,-126.15 236.74,-114.31 257.02,-106.45\"/>\n<polygon fill=\"black\" stroke=\"black\" points=\"258.1,-109.42 266.37,-102.79 255.77,-102.82 258.1,-109.42\"/>\n</g>\n<!-- spend&#45;&gt;df_to_json_build_result -->\n<g id=\"edge16\" class=\"edge\">\n<title>spend&#45;&gt;df_to_json_build_result</title>\n<path fill=\"none\" stroke=\"black\" d=\"M512.21,-373.33C574.5,-367.01 687.03,-352 715.19,-324 772.8,-266.71 795.45,-209.37 747.19,-144 735.47,-128.14 693.5,-115.03 653.95,-105.82\"/>\n<polygon fill=\"black\" stroke=\"black\" points=\"654.95,-102.23 644.43,-103.45 653.41,-109.06 654.95,-102.23\"/>\n</g>\n<!-- spend&#45;&gt;spend_per_signup -->\n<g id=\"edge22\" class=\"edge\">\n<title>spend&#45;&gt;spend_per_signup</title>\n<path fill=\"none\" stroke=\"black\" d=\"M431.91,-359.67C417.69,-351.11 403.1,-339.29 395.19,-324 373.11,-281.38 381.08,-261.88 395.19,-216 398.13,-206.42 403.46,-197.02 409.13,-188.86\"/>\n<polygon fill=\"black\" stroke=\"black\" points=\"412.4,-191.33 415.58,-181.23 406.79,-187.15 412.4,-191.33\"/>\n</g>\n<!-- spend&#45;&gt;df_to_spreadsheet_build_result -->\n<g id=\"edge24\" class=\"edge\">\n<title>spend&#45;&gt;df_to_spreadsheet_build_result</title>\n<path fill=\"none\" stroke=\"black\" d=\"M512.29,-373.26C579.67,-366.55 707.85,-350.65 744.19,-324 809.68,-275.97 819.18,-169.8 819.8,-119.06\"/>\n<polygon fill=\"black\" stroke=\"black\" points=\"823.3,-119.27 819.8,-109.27 816.3,-119.27 823.3,-119.27\"/>\n</g>\n<!-- spend&#45;&gt;spend_mean -->\n<g id=\"edge33\" class=\"edge\">\n<title>spend&#45;&gt;spend_mean</title>\n<path fill=\"none\" stroke=\"black\" d=\"M512.15,-360.59C539.76,-349.79 575.87,-335.67 604.09,-324.63\"/>\n<polygon fill=\"black\" stroke=\"black\" points=\"605.07,-327.62 613.1,-320.72 602.52,-321.1 605.07,-327.62\"/>\n</g>\n</g>\n</svg>\n",
      "text/plain": "<graphviz.graphs.Digraph at 0x12499a340>"
     },
     "execution_count": 9,
     "metadata": {},
     "output_type": "execute_result"
    }
   ],
   "source": [
    "materializers = [\n",
    "    # materialize the dataframe to a parquet file\n",
    "    to.parquet(\n",
    "        dependencies=output_columns,\n",
    "        id=\"df_to_parquet\",\n",
    "        file=\"./df.parquet\",\n",
    "        combine=df_builder,\n",
    "    ),\n",
    "    to.feather(\n",
    "        dependencies=output_columns,\n",
    "        id=\"df_to_feather\",\n",
    "        file=\"./df.feather\",\n",
    "        combine=df_builder,\n",
    "    ),\n",
    "    to.json(\n",
    "        dependencies=output_columns,\n",
    "        id=\"df_to_json\",\n",
    "        file=\"./df.json\",\n",
    "        combine=df_builder,\n",
    "    ),\n",
    "    to.excel(\n",
    "        dependencies=output_columns,\n",
    "        id=\"df_to_spreadsheet\",\n",
    "        workbook=\"./df.excel\",\n",
    "        combine=df_builder,\n",
    "    ),\n",
    "]\n",
    "# Visualize what is happening\n",
    "dr.visualize_materialization(\n",
    "    *materializers,\n",
    "    additional_vars=output_columns,\n",
    "    inputs=initial_columns,\n",
    ")"
   ]
  },
  {
   "cell_type": "code",
   "execution_count": 10,
   "metadata": {
    "ExecuteTime": {
     "end_time": "2023-10-18T14:02:35.948322Z",
     "start_time": "2023-10-18T14:02:35.845985Z"
    }
   },
   "outputs": [],
   "source": [
    "# Materialize a result, i.e. execute the DAG!\n",
    "materialization_results, additional_outputs = dr.materialize(\n",
    "    *materializers,\n",
    "    additional_vars=[\n",
    "        \"df_to_parquet_build_result\",\n",
    "        \"df_to_feather_build_result\",\n",
    "        \"df_to_json_build_result\",\n",
    "        \"df_to_spreadsheet_build_result\",\n",
    "    ],  # because combine is used, we can get that result here.\n",
    "    inputs=initial_columns,\n",
    ")"
   ]
  },
  {
   "cell_type": "code",
   "execution_count": 11,
   "metadata": {
    "ExecuteTime": {
     "end_time": "2023-10-18T14:02:36.010016Z",
     "start_time": "2023-10-18T14:02:35.962466Z"
    }
   },
   "outputs": [
    {
     "data": {
      "text/plain": "{'df_to_parquet': {'size': 1605,\n  'path': './df.parquet',\n  'last_modified': 1697637755.8646781,\n  'timestamp': 1697617955.864927},\n 'df_to_feather': {'size': 1696,\n  'path': './df.feather',\n  'last_modified': 1697637755.8653216,\n  'timestamp': 1697617955.86543},\n 'df_to_json': {'size': 657,\n  'path': './df.json',\n  'last_modified': 1697637755.865716,\n  'timestamp': 1697617955.865818},\n 'df_to_spreadsheet': {'size': 6475,\n  'path': './df.excel',\n  'last_modified': 1697637755.8995068,\n  'timestamp': 1697617955.89977}}"
     },
     "execution_count": 11,
     "metadata": {},
     "output_type": "execute_result"
    }
   ],
   "source": [
    "materialization_results"
   ]
  },
  {
   "cell_type": "code",
   "execution_count": 12,
   "metadata": {
    "ExecuteTime": {
     "end_time": "2023-10-18T14:02:36.035623Z",
     "start_time": "2023-10-18T14:02:35.980087Z"
    }
   },
   "outputs": [
    {
     "data": {
      "text/plain": "shape: (6, 5)\n┌───────┬─────────┬───────────────┬──────────────────┬───────────────────────────────┐\n│ spend ┆ signups ┆ avg_3wk_spend ┆ spend_per_signup ┆ spend_zero_mean_unit_variance │\n│ ---   ┆ ---     ┆ ---           ┆ ---              ┆ ---                           │\n│ i64   ┆ i64     ┆ f64           ┆ f64              ┆ f64                           │\n╞═══════╪═════════╪═══════════════╪══════════════════╪═══════════════════════════════╡\n│ 10    ┆ 1       ┆ null          ┆ 10.0             ┆ -1.064405                     │\n│ 10    ┆ 10      ┆ null          ┆ 1.0              ┆ -1.064405                     │\n│ 20    ┆ 50      ┆ 13.333333     ┆ 0.4              ┆ -0.483821                     │\n│ 40    ┆ 100     ┆ 23.333333     ┆ 0.4              ┆ 0.677349                      │\n│ 40    ┆ 200     ┆ 33.333333     ┆ 0.2              ┆ 0.677349                      │\n│ 50    ┆ 400     ┆ 43.333333     ┆ 0.125            ┆ 1.257934                      │\n└───────┴─────────┴───────────────┴──────────────────┴───────────────────────────────┘",
      "text/html": "<div><style>\n.dataframe > thead > tr > th,\n.dataframe > tbody > tr > td {\n  text-align: right;\n  white-space: pre-wrap;\n}\n</style>\n<small>shape: (6, 5)</small><table border=\"1\" class=\"dataframe\"><thead><tr><th>spend</th><th>signups</th><th>avg_3wk_spend</th><th>spend_per_signup</th><th>spend_zero_mean_unit_variance</th></tr><tr><td>i64</td><td>i64</td><td>f64</td><td>f64</td><td>f64</td></tr></thead><tbody><tr><td>10</td><td>1</td><td>null</td><td>10.0</td><td>-1.064405</td></tr><tr><td>10</td><td>10</td><td>null</td><td>1.0</td><td>-1.064405</td></tr><tr><td>20</td><td>50</td><td>13.333333</td><td>0.4</td><td>-0.483821</td></tr><tr><td>40</td><td>100</td><td>23.333333</td><td>0.4</td><td>0.677349</td></tr><tr><td>40</td><td>200</td><td>33.333333</td><td>0.2</td><td>0.677349</td></tr><tr><td>50</td><td>400</td><td>43.333333</td><td>0.125</td><td>1.257934</td></tr></tbody></table></div>"
     },
     "execution_count": 12,
     "metadata": {},
     "output_type": "execute_result"
    }
   ],
   "source": [
    "additional_outputs[\"df_to_parquet_build_result\"]"
   ]
  },
  {
   "cell_type": "code",
   "execution_count": 13,
   "metadata": {
    "ExecuteTime": {
     "end_time": "2023-10-18T14:02:36.060741Z",
     "start_time": "2023-10-18T14:02:36.007659Z"
    }
   },
   "outputs": [
    {
     "data": {
      "text/plain": "shape: (6, 5)\n┌───────┬─────────┬───────────────┬──────────────────┬───────────────────────────────┐\n│ spend ┆ signups ┆ avg_3wk_spend ┆ spend_per_signup ┆ spend_zero_mean_unit_variance │\n│ ---   ┆ ---     ┆ ---           ┆ ---              ┆ ---                           │\n│ i64   ┆ i64     ┆ f64           ┆ f64              ┆ f64                           │\n╞═══════╪═════════╪═══════════════╪══════════════════╪═══════════════════════════════╡\n│ 10    ┆ 1       ┆ null          ┆ 10.0             ┆ -1.064405                     │\n│ 10    ┆ 10      ┆ null          ┆ 1.0              ┆ -1.064405                     │\n│ 20    ┆ 50      ┆ 13.333333     ┆ 0.4              ┆ -0.483821                     │\n│ 40    ┆ 100     ┆ 23.333333     ┆ 0.4              ┆ 0.677349                      │\n│ 40    ┆ 200     ┆ 33.333333     ┆ 0.2              ┆ 0.677349                      │\n│ 50    ┆ 400     ┆ 43.333333     ┆ 0.125            ┆ 1.257934                      │\n└───────┴─────────┴───────────────┴──────────────────┴───────────────────────────────┘",
      "text/html": "<div><style>\n.dataframe > thead > tr > th,\n.dataframe > tbody > tr > td {\n  text-align: right;\n  white-space: pre-wrap;\n}\n</style>\n<small>shape: (6, 5)</small><table border=\"1\" class=\"dataframe\"><thead><tr><th>spend</th><th>signups</th><th>avg_3wk_spend</th><th>spend_per_signup</th><th>spend_zero_mean_unit_variance</th></tr><tr><td>i64</td><td>i64</td><td>f64</td><td>f64</td><td>f64</td></tr></thead><tbody><tr><td>10</td><td>1</td><td>null</td><td>10.0</td><td>-1.064405</td></tr><tr><td>10</td><td>10</td><td>null</td><td>1.0</td><td>-1.064405</td></tr><tr><td>20</td><td>50</td><td>13.333333</td><td>0.4</td><td>-0.483821</td></tr><tr><td>40</td><td>100</td><td>23.333333</td><td>0.4</td><td>0.677349</td></tr><tr><td>40</td><td>200</td><td>33.333333</td><td>0.2</td><td>0.677349</td></tr><tr><td>50</td><td>400</td><td>43.333333</td><td>0.125</td><td>1.257934</td></tr></tbody></table></div>"
     },
     "execution_count": 13,
     "metadata": {},
     "output_type": "execute_result"
    }
   ],
   "source": [
    "additional_outputs[\"df_to_feather_build_result\"]"
   ]
  },
  {
   "cell_type": "code",
   "execution_count": 14,
   "outputs": [
    {
     "data": {
      "text/plain": "shape: (6, 5)\n┌───────┬─────────┬───────────────┬──────────────────┬───────────────────────────────┐\n│ spend ┆ signups ┆ avg_3wk_spend ┆ spend_per_signup ┆ spend_zero_mean_unit_variance │\n│ ---   ┆ ---     ┆ ---           ┆ ---              ┆ ---                           │\n│ i64   ┆ i64     ┆ f64           ┆ f64              ┆ f64                           │\n╞═══════╪═════════╪═══════════════╪══════════════════╪═══════════════════════════════╡\n│ 10    ┆ 1       ┆ null          ┆ 10.0             ┆ -1.064405                     │\n│ 10    ┆ 10      ┆ null          ┆ 1.0              ┆ -1.064405                     │\n│ 20    ┆ 50      ┆ 13.333333     ┆ 0.4              ┆ -0.483821                     │\n│ 40    ┆ 100     ┆ 23.333333     ┆ 0.4              ┆ 0.677349                      │\n│ 40    ┆ 200     ┆ 33.333333     ┆ 0.2              ┆ 0.677349                      │\n│ 50    ┆ 400     ┆ 43.333333     ┆ 0.125            ┆ 1.257934                      │\n└───────┴─────────┴───────────────┴──────────────────┴───────────────────────────────┘",
      "text/html": "<div><style>\n.dataframe > thead > tr > th,\n.dataframe > tbody > tr > td {\n  text-align: right;\n  white-space: pre-wrap;\n}\n</style>\n<small>shape: (6, 5)</small><table border=\"1\" class=\"dataframe\"><thead><tr><th>spend</th><th>signups</th><th>avg_3wk_spend</th><th>spend_per_signup</th><th>spend_zero_mean_unit_variance</th></tr><tr><td>i64</td><td>i64</td><td>f64</td><td>f64</td><td>f64</td></tr></thead><tbody><tr><td>10</td><td>1</td><td>null</td><td>10.0</td><td>-1.064405</td></tr><tr><td>10</td><td>10</td><td>null</td><td>1.0</td><td>-1.064405</td></tr><tr><td>20</td><td>50</td><td>13.333333</td><td>0.4</td><td>-0.483821</td></tr><tr><td>40</td><td>100</td><td>23.333333</td><td>0.4</td><td>0.677349</td></tr><tr><td>40</td><td>200</td><td>33.333333</td><td>0.2</td><td>0.677349</td></tr><tr><td>50</td><td>400</td><td>43.333333</td><td>0.125</td><td>1.257934</td></tr></tbody></table></div>"
     },
     "execution_count": 14,
     "metadata": {},
     "output_type": "execute_result"
    }
   ],
   "source": [
    "additional_outputs[\"df_to_json_build_result\"]"
   ],
   "metadata": {
    "collapsed": false,
    "ExecuteTime": {
     "end_time": "2023-10-18T14:02:36.098903Z",
     "start_time": "2023-10-18T14:02:36.031948Z"
    }
   }
  },
  {
   "cell_type": "code",
   "execution_count": 15,
   "outputs": [
    {
     "data": {
      "text/plain": "shape: (6, 5)\n┌───────┬─────────┬───────────────┬──────────────────┬───────────────────────────────┐\n│ spend ┆ signups ┆ avg_3wk_spend ┆ spend_per_signup ┆ spend_zero_mean_unit_variance │\n│ ---   ┆ ---     ┆ ---           ┆ ---              ┆ ---                           │\n│ i64   ┆ i64     ┆ f64           ┆ f64              ┆ f64                           │\n╞═══════╪═════════╪═══════════════╪══════════════════╪═══════════════════════════════╡\n│ 10    ┆ 1       ┆ null          ┆ 10.0             ┆ -1.064405                     │\n│ 10    ┆ 10      ┆ null          ┆ 1.0              ┆ -1.064405                     │\n│ 20    ┆ 50      ┆ 13.333333     ┆ 0.4              ┆ -0.483821                     │\n│ 40    ┆ 100     ┆ 23.333333     ┆ 0.4              ┆ 0.677349                      │\n│ 40    ┆ 200     ┆ 33.333333     ┆ 0.2              ┆ 0.677349                      │\n│ 50    ┆ 400     ┆ 43.333333     ┆ 0.125            ┆ 1.257934                      │\n└───────┴─────────┴───────────────┴──────────────────┴───────────────────────────────┘",
      "text/html": "<div><style>\n.dataframe > thead > tr > th,\n.dataframe > tbody > tr > td {\n  text-align: right;\n  white-space: pre-wrap;\n}\n</style>\n<small>shape: (6, 5)</small><table border=\"1\" class=\"dataframe\"><thead><tr><th>spend</th><th>signups</th><th>avg_3wk_spend</th><th>spend_per_signup</th><th>spend_zero_mean_unit_variance</th></tr><tr><td>i64</td><td>i64</td><td>f64</td><td>f64</td><td>f64</td></tr></thead><tbody><tr><td>10</td><td>1</td><td>null</td><td>10.0</td><td>-1.064405</td></tr><tr><td>10</td><td>10</td><td>null</td><td>1.0</td><td>-1.064405</td></tr><tr><td>20</td><td>50</td><td>13.333333</td><td>0.4</td><td>-0.483821</td></tr><tr><td>40</td><td>100</td><td>23.333333</td><td>0.4</td><td>0.677349</td></tr><tr><td>40</td><td>200</td><td>33.333333</td><td>0.2</td><td>0.677349</td></tr><tr><td>50</td><td>400</td><td>43.333333</td><td>0.125</td><td>1.257934</td></tr></tbody></table></div>"
     },
     "execution_count": 15,
     "metadata": {},
     "output_type": "execute_result"
    }
   ],
   "source": [
    "additional_outputs[\"df_to_spreadsheet_build_result\"]"
   ],
   "metadata": {
    "collapsed": false,
    "ExecuteTime": {
     "end_time": "2023-10-18T14:02:36.101172Z",
     "start_time": "2023-10-18T14:02:36.044896Z"
    }
   }
  }
 ],
 "metadata": {
  "kernelspec": {
   "display_name": "Python 3 (ipykernel)",
   "language": "python",
   "name": "python3"
  },
  "language_info": {
   "codemirror_mode": {
    "name": "ipython",
    "version": 3
   },
   "file_extension": ".py",
   "mimetype": "text/x-python",
   "name": "python",
   "nbconvert_exporter": "python",
   "pygments_lexer": "ipython3",
   "version": "3.10.0"
  }
 },
 "nbformat": 4,
 "nbformat_minor": 4
}
