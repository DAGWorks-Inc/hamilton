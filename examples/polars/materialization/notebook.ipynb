{
 "cells": [
  {
   "cell_type": "code",
   "execution_count": 1,
   "metadata": {
    "ExecuteTime": {
     "end_time": "2023-10-05T16:36:33.343763Z",
     "start_time": "2023-10-05T16:36:33.337662Z"
    }
   },
   "outputs": [],
   "source": [
    "# update the polars package - optional\n",
    "# !pip install --upgrade polars"
   ]
  },
  {
   "cell_type": "code",
   "execution_count": 2,
   "metadata": {
    "ExecuteTime": {
     "end_time": "2023-10-05T16:36:35.401649Z",
     "start_time": "2023-10-05T16:36:33.838727Z"
    }
   },
   "outputs": [],
   "source": [
    "import polars as pl\n",
    "\n",
    "# Add the hamilton module to your path - optinal\n",
    "# project_dir = \"### ADD PATH HERE ###\"\n",
    "# sys.path.append(project_dir)\n",
    "\n",
    "from hamilton import driver\n",
    "from hamilton.io.materialization import to\n",
    "from hamilton.plugins import h_polars"
   ]
  },
  {
   "cell_type": "code",
   "execution_count": 3,
   "metadata": {
    "pycharm": {
     "name": "#%%\n"
    },
    "ExecuteTime": {
     "end_time": "2023-10-05T16:36:35.465307Z",
     "start_time": "2023-10-05T16:36:35.406399Z"
    }
   },
   "outputs": [],
   "source": [
    "# We use the autoreload extension that comes with ipython to automatically reload modules when\n",
    "# the code in them changes.\n",
    "\n",
    "# import the jupyter extension\n",
    "%load_ext autoreload\n",
    "# set it to only reload the modules imported\n",
    "%autoreload 1"
   ]
  },
  {
   "cell_type": "code",
   "execution_count": 4,
   "metadata": {
    "pycharm": {
     "name": "#%%\n"
    },
    "ExecuteTime": {
     "end_time": "2023-10-05T16:36:36.389233Z",
     "start_time": "2023-10-05T16:36:36.380788Z"
    }
   },
   "outputs": [
    {
     "name": "stdout",
     "output_type": "stream",
     "text": [
      "Overwriting spend_calculations.py\n"
     ]
    }
   ],
   "source": [
    "%%writefile spend_calculations.py\n",
    "# Define your new Hamilton functions.\n",
    "# The %%writefile magic command creates a new Python module with the functions below.\n",
    "# We will import this later and pass it into our Driver.\n",
    "\n",
    "import polars as pl\n",
    "\n",
    "# Look at `my_functions` to see how these functions connect.\n",
    "def avg_3wk_spend(spend: pl.Series) -> pl.Series:\n",
    "    \"\"\"Rolling 3 week average spend.\"\"\"\n",
    "    return spend.rolling_mean(3)\n",
    "\n",
    "\n",
    "def spend_per_signup(spend: pl.Series, signups: pl.Series) -> pl.Series:\n",
    "    \"\"\"The cost per signup in relation to spend.\"\"\"\n",
    "    return spend / signups\n",
    "\n",
    "\n",
    "def spend_mean(spend: pl.Series) -> float:\n",
    "    \"\"\"Shows function creating a scalar. In this case it computes the mean of the entire column.\"\"\"\n",
    "    return spend.mean()\n",
    "\n",
    "\n",
    "def spend_zero_mean(spend: pl.Series, spend_mean: float) -> pl.Series:\n",
    "    \"\"\"Shows function that takes a scalar. In this case to zero mean spend.\"\"\"\n",
    "    return spend - spend_mean\n",
    "\n",
    "\n",
    "def spend_std_dev(spend: pl.Series) -> float:\n",
    "    \"\"\"Function that computes the standard deviation of the spend column.\"\"\"\n",
    "    return spend.std()\n",
    "\n",
    "\n",
    "def spend_zero_mean_unit_variance(spend_zero_mean: pl.Series, spend_std_dev: float) -> pl.Series:\n",
    "    \"\"\"Function showing one way to make spend have zero mean and unit variance.\"\"\"\n",
    "    return spend_zero_mean / spend_std_dev"
   ]
  },
  {
   "cell_type": "code",
   "execution_count": 5,
   "metadata": {
    "pycharm": {
     "name": "#%%\n"
    },
    "ExecuteTime": {
     "end_time": "2023-10-05T16:36:36.947063Z",
     "start_time": "2023-10-05T16:36:36.938015Z"
    }
   },
   "outputs": [],
   "source": [
    "initial_columns = {  # load from actuals or wherever -- this is our initial data we use as input.\n",
    "    # Note: these values don't have to be all series, they could be a scalar.\n",
    "    \"signups\": pl.Series([1, 10, 50, 100, 200, 400]),\n",
    "    \"spend\": pl.Series([10, 10, 20, 40, 40, 50]),\n",
    "}"
   ]
  },
  {
   "cell_type": "code",
   "execution_count": 6,
   "metadata": {
    "pycharm": {
     "name": "#%%\n"
    },
    "ExecuteTime": {
     "end_time": "2023-10-05T16:36:37.496013Z",
     "start_time": "2023-10-05T16:36:37.447521Z"
    }
   },
   "outputs": [
    {
     "name": "stderr",
     "output_type": "stream",
     "text": [
      "Note: Hamilton collects completely anonymous data about usage. This will help us improve Hamilton over time. See https://github.com/dagworks-inc/hamilton#usage-analytics--data-privacy for details.\n"
     ]
    }
   ],
   "source": [
    "%aimport spend_calculations\n",
    "\n",
    "df_builder = h_polars.PolarsDataFrameResult()\n",
    "dr = driver.Driver({}, spend_calculations)  # can pass in multiple modules"
   ]
  },
  {
   "cell_type": "code",
   "execution_count": 7,
   "metadata": {
    "ExecuteTime": {
     "end_time": "2023-10-05T16:36:38.178430Z",
     "start_time": "2023-10-05T16:36:38.162359Z"
    }
   },
   "outputs": [],
   "source": [
    "# we need to specify what we want in the final dataframe. These can be string names, or function references.\n",
    "output_columns = [\n",
    "    \"spend\",\n",
    "    \"signups\",\n",
    "    \"avg_3wk_spend\",\n",
    "    \"spend_per_signup\",\n",
    "    \"spend_zero_mean_unit_variance\",\n",
    "]"
   ]
  },
  {
   "cell_type": "code",
   "execution_count": 8,
   "metadata": {
    "collapsed": false,
    "ExecuteTime": {
     "end_time": "2023-10-05T16:36:39.212897Z",
     "start_time": "2023-10-05T16:36:39.202499Z"
    }
   },
   "outputs": [],
   "source": [
    "# pass"
   ]
  },
  {
   "cell_type": "code",
   "execution_count": 9,
   "metadata": {
    "ExecuteTime": {
     "end_time": "2023-10-05T16:36:39.908587Z",
     "start_time": "2023-10-05T16:36:39.637374Z"
    }
   },
   "outputs": [
    {
     "data": {
      "image/svg+xml": "<?xml version=\"1.0\" encoding=\"UTF-8\" standalone=\"no\"?>\n<!DOCTYPE svg PUBLIC \"-//W3C//DTD SVG 1.1//EN\"\n \"http://www.w3.org/Graphics/SVG/1.1/DTD/svg11.dtd\">\n<!-- Generated by graphviz version 8.1.0 (20230707.0739)\n -->\n<!-- Pages: 1 -->\n<svg width=\"749pt\" height=\"404pt\"\n viewBox=\"0.00 0.00 749.23 404.00\" xmlns=\"http://www.w3.org/2000/svg\" xmlns:xlink=\"http://www.w3.org/1999/xlink\">\n<g id=\"graph0\" class=\"graph\" transform=\"scale(1 1) rotate(0) translate(4 400)\">\n<polygon fill=\"white\" stroke=\"none\" points=\"-4,4 -4,-400 745.23,-400 745.23,4 -4,4\"/>\n<!-- avg_3wk_spend -->\n<g id=\"node1\" class=\"node\">\n<title>avg_3wk_spend</title>\n<polygon fill=\"none\" stroke=\"black\" points=\"645.92,-324 542.17,-324 542.17,-288 645.92,-288 645.92,-324\"/>\n<text text-anchor=\"middle\" x=\"594.04\" y=\"-300.95\" font-family=\"Times,serif\" font-size=\"14.00\">avg_3wk_spend</text>\n</g>\n<!-- df_to_parquet_build_result -->\n<g id=\"node7\" class=\"node\">\n<title>df_to_parquet_build_result</title>\n<ellipse fill=\"none\" stroke=\"black\" cx=\"178.04\" cy=\"-90\" rx=\"111.23\" ry=\"18\"/>\n<text text-anchor=\"middle\" x=\"178.04\" y=\"-84.95\" font-family=\"Times,serif\" font-size=\"14.00\">df_to_parquet_build_result</text>\n</g>\n<!-- avg_3wk_spend&#45;&gt;df_to_parquet_build_result -->\n<g id=\"edge10\" class=\"edge\">\n<title>avg_3wk_spend&#45;&gt;df_to_parquet_build_result</title>\n<path fill=\"none\" stroke=\"black\" d=\"M541.69,-293.06C476.62,-276.25 364.58,-240.69 286.04,-180 268.87,-166.73 269.33,-158.34 253.04,-144 240.91,-133.32 226.62,-122.78 213.79,-113.95\"/>\n<polygon fill=\"black\" stroke=\"black\" points=\"216,-110.55 205.76,-107.85 212.08,-116.35 216,-110.55\"/>\n</g>\n<!-- df_to_json_build_result -->\n<g id=\"node8\" class=\"node\">\n<title>df_to_json_build_result</title>\n<ellipse fill=\"none\" stroke=\"black\" cx=\"406.04\" cy=\"-90\" rx=\"98.95\" ry=\"18\"/>\n<text text-anchor=\"middle\" x=\"406.04\" y=\"-84.95\" font-family=\"Times,serif\" font-size=\"14.00\">df_to_json_build_result</text>\n</g>\n<!-- avg_3wk_spend&#45;&gt;df_to_json_build_result -->\n<g id=\"edge15\" class=\"edge\">\n<title>avg_3wk_spend&#45;&gt;df_to_json_build_result</title>\n<path fill=\"none\" stroke=\"black\" d=\"M596.87,-287.6C601.08,-255.26 605.13,-185.39 570.04,-144 557.75,-129.5 517.26,-116.34 479.6,-106.76\"/>\n<polygon fill=\"black\" stroke=\"black\" points=\"480.62,-103.16 470.07,-104.15 478.94,-109.95 480.62,-103.16\"/>\n</g>\n<!-- df_to_feather_build_result -->\n<g id=\"node13\" class=\"node\">\n<title>df_to_feather_build_result</title>\n<ellipse fill=\"none\" stroke=\"black\" cx=\"632.04\" cy=\"-90\" rx=\"109.19\" ry=\"18\"/>\n<text text-anchor=\"middle\" x=\"632.04\" y=\"-84.95\" font-family=\"Times,serif\" font-size=\"14.00\">df_to_feather_build_result</text>\n</g>\n<!-- avg_3wk_spend&#45;&gt;df_to_feather_build_result -->\n<g id=\"edge23\" class=\"edge\">\n<title>avg_3wk_spend&#45;&gt;df_to_feather_build_result</title>\n<path fill=\"none\" stroke=\"black\" d=\"M599.06,-287.93C601.98,-277.6 605.55,-264.12 608.04,-252 617.59,-205.65 624.91,-151.06 628.84,-118.83\"/>\n<polygon fill=\"black\" stroke=\"black\" points=\"632.42,-119.37 630.13,-109.03 625.47,-118.54 632.42,-119.37\"/>\n</g>\n<!-- spend_zero_mean -->\n<g id=\"node2\" class=\"node\">\n<title>spend_zero_mean</title>\n<ellipse fill=\"none\" stroke=\"black\" cx=\"104.04\" cy=\"-234\" rx=\"77.97\" ry=\"18\"/>\n<text text-anchor=\"middle\" x=\"104.04\" y=\"-228.95\" font-family=\"Times,serif\" font-size=\"14.00\">spend_zero_mean</text>\n</g>\n<!-- spend_zero_mean_unit_variance -->\n<g id=\"node6\" class=\"node\">\n<title>spend_zero_mean_unit_variance</title>\n<polygon fill=\"none\" stroke=\"black\" points=\"244.29,-180 49.79,-180 49.79,-144 244.29,-144 244.29,-180\"/>\n<text text-anchor=\"middle\" x=\"147.04\" y=\"-156.95\" font-family=\"Times,serif\" font-size=\"14.00\">spend_zero_mean_unit_variance</text>\n</g>\n<!-- spend_zero_mean&#45;&gt;spend_zero_mean_unit_variance -->\n<g id=\"edge6\" class=\"edge\">\n<title>spend_zero_mean&#45;&gt;spend_zero_mean_unit_variance</title>\n<path fill=\"none\" stroke=\"black\" d=\"M114.67,-215.7C119.57,-207.73 125.48,-198.1 130.91,-189.26\"/>\n<polygon fill=\"black\" stroke=\"black\" points=\"134.28,-191.46 136.54,-181.1 128.32,-187.79 134.28,-191.46\"/>\n</g>\n<!-- df_to_feather -->\n<g id=\"node3\" class=\"node\">\n<title>df_to_feather</title>\n<polygon fill=\"none\" stroke=\"black\" points=\"676.42,-36 587.67,-36 587.67,0 676.42,0 676.42,-36\"/>\n<text text-anchor=\"middle\" x=\"632.04\" y=\"-12.95\" font-family=\"Times,serif\" font-size=\"14.00\">df_to_feather</text>\n</g>\n<!-- spend -->\n<g id=\"node4\" class=\"node\">\n<title>spend</title>\n<polygon fill=\"none\" stroke=\"black\" stroke-dasharray=\"5,2\" points=\"406.79,-396 323.29,-396 323.29,-360 406.79,-360 406.79,-396\"/>\n<text text-anchor=\"middle\" x=\"365.04\" y=\"-372.95\" font-family=\"Times,serif\" font-size=\"14.00\">Input: spend</text>\n</g>\n<!-- spend&#45;&gt;avg_3wk_spend -->\n<g id=\"edge1\" class=\"edge\">\n<title>spend&#45;&gt;avg_3wk_spend</title>\n<path fill=\"none\" stroke=\"black\" d=\"M407.04,-364.16C441.89,-353.51 491.96,-338.2 531.52,-326.11\"/>\n<polygon fill=\"black\" stroke=\"black\" points=\"532.31,-329.22 540.85,-322.95 530.27,-322.53 532.31,-329.22\"/>\n</g>\n<!-- spend&#45;&gt;spend_zero_mean -->\n<g id=\"edge2\" class=\"edge\">\n<title>spend&#45;&gt;spend_zero_mean</title>\n<path fill=\"none\" stroke=\"black\" d=\"M333.04,-359.59C285.08,-333.5 194.7,-284.33 142.99,-256.19\"/>\n<polygon fill=\"black\" stroke=\"black\" points=\"144.95,-252.73 134.49,-251.02 141.6,-258.88 144.95,-252.73\"/>\n</g>\n<!-- spend_mean -->\n<g id=\"node5\" class=\"node\">\n<title>spend_mean</title>\n<ellipse fill=\"none\" stroke=\"black\" cx=\"114.04\" cy=\"-306\" rx=\"57.49\" ry=\"18\"/>\n<text text-anchor=\"middle\" x=\"114.04\" y=\"-300.95\" font-family=\"Times,serif\" font-size=\"14.00\">spend_mean</text>\n</g>\n<!-- spend&#45;&gt;spend_mean -->\n<g id=\"edge5\" class=\"edge\">\n<title>spend&#45;&gt;spend_mean</title>\n<path fill=\"none\" stroke=\"black\" d=\"M323.03,-365.28C279.92,-353.26 212.74,-334.53 166.24,-321.56\"/>\n<polygon fill=\"black\" stroke=\"black\" points=\"167.35,-317.95 156.77,-318.64 165.46,-324.7 167.35,-317.95\"/>\n</g>\n<!-- spend&#45;&gt;df_to_parquet_build_result -->\n<g id=\"edge8\" class=\"edge\">\n<title>spend&#45;&gt;df_to_parquet_build_result</title>\n<path fill=\"none\" stroke=\"black\" d=\"M322.82,-374.88C246.61,-370.27 90.09,-356.97 48.04,-324 -14.96,-274.6 -14.21,-201.94 41.04,-144 56.77,-127.51 78.22,-116.07 99.47,-108.17\"/>\n<polygon fill=\"black\" stroke=\"black\" points=\"100.56,-111.15 108.86,-104.57 98.27,-104.53 100.56,-111.15\"/>\n</g>\n<!-- spend&#45;&gt;df_to_json_build_result -->\n<g id=\"edge13\" class=\"edge\">\n<title>spend&#45;&gt;df_to_json_build_result</title>\n<path fill=\"none\" stroke=\"black\" d=\"M407.04,-359.63C447.94,-340.16 507.67,-304.3 534.04,-252 561.94,-196.66 493.19,-142.37 446.01,-113.13\"/>\n<polygon fill=\"black\" stroke=\"black\" points=\"447.97,-109.62 437.6,-107.45 444.35,-115.61 447.97,-109.62\"/>\n</g>\n<!-- spend_std_dev -->\n<g id=\"node10\" class=\"node\">\n<title>spend_std_dev</title>\n<ellipse fill=\"none\" stroke=\"black\" cx=\"266.04\" cy=\"-234\" rx=\"65.68\" ry=\"18\"/>\n<text text-anchor=\"middle\" x=\"266.04\" y=\"-228.95\" font-family=\"Times,serif\" font-size=\"14.00\">spend_std_dev</text>\n</g>\n<!-- spend&#45;&gt;spend_std_dev -->\n<g id=\"edge19\" class=\"edge\">\n<title>spend&#45;&gt;spend_std_dev</title>\n<path fill=\"none\" stroke=\"black\" d=\"M352.9,-359.59C335.66,-334.86 303.97,-289.41 284.01,-260.77\"/>\n<polygon fill=\"black\" stroke=\"black\" points=\"286.56,-259.31 277.97,-253.11 280.82,-263.32 286.56,-259.31\"/>\n</g>\n<!-- spend&#45;&gt;df_to_feather_build_result -->\n<g id=\"edge21\" class=\"edge\">\n<title>spend&#45;&gt;df_to_feather_build_result</title>\n<path fill=\"none\" stroke=\"black\" d=\"M407.01,-375.68C479.62,-372.42 623.95,-361.29 655.04,-324 704.29,-264.94 668.19,-165.92 645.99,-118.26\"/>\n<polygon fill=\"black\" stroke=\"black\" points=\"648.72,-116.86 641.23,-109.36 642.41,-119.89 648.72,-116.86\"/>\n</g>\n<!-- spend_per_signup -->\n<g id=\"node14\" class=\"node\">\n<title>spend_per_signup</title>\n<polygon fill=\"none\" stroke=\"black\" points=\"452.17,-180 337.92,-180 337.92,-144 452.17,-144 452.17,-180\"/>\n<text text-anchor=\"middle\" x=\"395.04\" y=\"-156.95\" font-family=\"Times,serif\" font-size=\"14.00\">spend_per_signup</text>\n</g>\n<!-- spend&#45;&gt;spend_per_signup -->\n<g id=\"edge26\" class=\"edge\">\n<title>spend&#45;&gt;spend_per_signup</title>\n<path fill=\"none\" stroke=\"black\" d=\"M367.45,-359.85C372.61,-322.99 384.82,-235.92 391.12,-190.96\"/>\n<polygon fill=\"black\" stroke=\"black\" points=\"394.7,-191.62 392.63,-181.23 387.77,-190.65 394.7,-191.62\"/>\n</g>\n<!-- spend_mean&#45;&gt;spend_zero_mean -->\n<g id=\"edge3\" class=\"edge\">\n<title>spend_mean&#45;&gt;spend_zero_mean</title>\n<path fill=\"none\" stroke=\"black\" d=\"M111.57,-287.7C110.5,-280.24 109.23,-271.32 108.04,-262.97\"/>\n<polygon fill=\"black\" stroke=\"black\" points=\"111.36,-262.51 106.49,-253.1 104.44,-263.5 111.36,-262.51\"/>\n</g>\n<!-- spend_zero_mean_unit_variance&#45;&gt;df_to_parquet_build_result -->\n<g id=\"edge12\" class=\"edge\">\n<title>spend_zero_mean_unit_variance&#45;&gt;df_to_parquet_build_result</title>\n<path fill=\"none\" stroke=\"black\" d=\"M154.71,-143.7C158.12,-135.98 162.23,-126.71 166.04,-118.11\"/>\n<polygon fill=\"black\" stroke=\"black\" points=\"169.62,-119.67 170.47,-109.1 163.22,-116.83 169.62,-119.67\"/>\n</g>\n<!-- spend_zero_mean_unit_variance&#45;&gt;df_to_json_build_result -->\n<g id=\"edge17\" class=\"edge\">\n<title>spend_zero_mean_unit_variance&#45;&gt;df_to_json_build_result</title>\n<path fill=\"none\" stroke=\"black\" d=\"M211.73,-143.52C251.4,-132.8 301.99,-119.12 341.61,-108.41\"/>\n<polygon fill=\"black\" stroke=\"black\" points=\"342.47,-111.54 351.21,-105.55 340.64,-104.78 342.47,-111.54\"/>\n</g>\n<!-- spend_zero_mean_unit_variance&#45;&gt;df_to_feather_build_result -->\n<g id=\"edge25\" class=\"edge\">\n<title>spend_zero_mean_unit_variance&#45;&gt;df_to_feather_build_result</title>\n<path fill=\"none\" stroke=\"black\" d=\"M244.61,-146.92C331.13,-134.43 456.53,-116.33 541.02,-104.14\"/>\n<polygon fill=\"black\" stroke=\"black\" points=\"541.49,-107.46 550.89,-102.57 540.49,-100.53 541.49,-107.46\"/>\n</g>\n<!-- df_to_parquet -->\n<g id=\"node9\" class=\"node\">\n<title>df_to_parquet</title>\n<polygon fill=\"none\" stroke=\"black\" points=\"223.92,-36 132.17,-36 132.17,0 223.92,0 223.92,-36\"/>\n<text text-anchor=\"middle\" x=\"178.04\" y=\"-12.95\" font-family=\"Times,serif\" font-size=\"14.00\">df_to_parquet</text>\n</g>\n<!-- df_to_parquet_build_result&#45;&gt;df_to_parquet -->\n<g id=\"edge18\" class=\"edge\">\n<title>df_to_parquet_build_result&#45;&gt;df_to_parquet</title>\n<path fill=\"none\" stroke=\"black\" d=\"M178.04,-71.7C178.04,-64.24 178.04,-55.32 178.04,-46.97\"/>\n<polygon fill=\"black\" stroke=\"black\" points=\"181.54,-47.1 178.04,-37.1 174.54,-47.1 181.54,-47.1\"/>\n</g>\n<!-- df_to_json -->\n<g id=\"node11\" class=\"node\">\n<title>df_to_json</title>\n<polygon fill=\"none\" stroke=\"black\" points=\"442.92,-36 369.17,-36 369.17,0 442.92,0 442.92,-36\"/>\n<text text-anchor=\"middle\" x=\"406.04\" y=\"-12.95\" font-family=\"Times,serif\" font-size=\"14.00\">df_to_json</text>\n</g>\n<!-- df_to_json_build_result&#45;&gt;df_to_json -->\n<g id=\"edge20\" class=\"edge\">\n<title>df_to_json_build_result&#45;&gt;df_to_json</title>\n<path fill=\"none\" stroke=\"black\" d=\"M406.04,-71.7C406.04,-64.24 406.04,-55.32 406.04,-46.97\"/>\n<polygon fill=\"black\" stroke=\"black\" points=\"409.54,-47.1 406.04,-37.1 402.54,-47.1 409.54,-47.1\"/>\n</g>\n<!-- spend_std_dev&#45;&gt;spend_zero_mean_unit_variance -->\n<g id=\"edge7\" class=\"edge\">\n<title>spend_std_dev&#45;&gt;spend_zero_mean_unit_variance</title>\n<path fill=\"none\" stroke=\"black\" d=\"M239.04,-217.12C223.3,-207.86 203.19,-196.03 185.78,-185.79\"/>\n<polygon fill=\"black\" stroke=\"black\" points=\"187.83,-182.35 177.44,-180.29 184.28,-188.38 187.83,-182.35\"/>\n</g>\n<!-- signups -->\n<g id=\"node12\" class=\"node\">\n<title>signups</title>\n<polygon fill=\"none\" stroke=\"black\" stroke-dasharray=\"5,2\" points=\"524.67,-252 431.42,-252 431.42,-216 524.67,-216 524.67,-252\"/>\n<text text-anchor=\"middle\" x=\"478.04\" y=\"-228.95\" font-family=\"Times,serif\" font-size=\"14.00\">Input: signups</text>\n</g>\n<!-- signups&#45;&gt;df_to_parquet_build_result -->\n<g id=\"edge9\" class=\"edge\">\n<title>signups&#45;&gt;df_to_parquet_build_result</title>\n<path fill=\"none\" stroke=\"black\" d=\"M431.21,-221C400.9,-212.13 361.22,-198.4 329.04,-180 307.4,-167.63 306.94,-157.59 286.04,-144 267.49,-131.93 245.79,-120.78 226.73,-111.84\"/>\n<polygon fill=\"black\" stroke=\"black\" points=\"228.29,-108.25 217.75,-107.25 225.37,-114.61 228.29,-108.25\"/>\n</g>\n<!-- signups&#45;&gt;df_to_json_build_result -->\n<g id=\"edge14\" class=\"edge\">\n<title>signups&#45;&gt;df_to_json_build_result</title>\n<path fill=\"none\" stroke=\"black\" d=\"M477.79,-215.57C476.85,-196.83 473.33,-166.69 461.04,-144 455.19,-133.2 446.37,-123.27 437.5,-115.01\"/>\n<polygon fill=\"black\" stroke=\"black\" points=\"440.24,-111.88 430.42,-107.9 435.62,-117.13 440.24,-111.88\"/>\n</g>\n<!-- signups&#45;&gt;df_to_feather_build_result -->\n<g id=\"edge22\" class=\"edge\">\n<title>signups&#45;&gt;df_to_feather_build_result</title>\n<path fill=\"none\" stroke=\"black\" d=\"M496.93,-215.59C524.21,-190.43 574.75,-143.83 605.69,-115.3\"/>\n<polygon fill=\"black\" stroke=\"black\" points=\"607.51,-118.46 612.49,-109.11 602.76,-113.32 607.51,-118.46\"/>\n</g>\n<!-- signups&#45;&gt;spend_per_signup -->\n<g id=\"edge27\" class=\"edge\">\n<title>signups&#45;&gt;spend_per_signup</title>\n<path fill=\"none\" stroke=\"black\" d=\"M457.53,-215.7C447.35,-207.11 434.89,-196.61 423.78,-187.24\"/>\n<polygon fill=\"black\" stroke=\"black\" points=\"426.51,-184.12 416.61,-180.35 422,-189.47 426.51,-184.12\"/>\n</g>\n<!-- df_to_feather_build_result&#45;&gt;df_to_feather -->\n<g id=\"edge4\" class=\"edge\">\n<title>df_to_feather_build_result&#45;&gt;df_to_feather</title>\n<path fill=\"none\" stroke=\"black\" d=\"M632.04,-71.7C632.04,-64.24 632.04,-55.32 632.04,-46.97\"/>\n<polygon fill=\"black\" stroke=\"black\" points=\"635.54,-47.1 632.04,-37.1 628.54,-47.1 635.54,-47.1\"/>\n</g>\n<!-- spend_per_signup&#45;&gt;df_to_parquet_build_result -->\n<g id=\"edge11\" class=\"edge\">\n<title>spend_per_signup&#45;&gt;df_to_parquet_build_result</title>\n<path fill=\"none\" stroke=\"black\" d=\"M340.84,-143.52C309.13,-133.29 269.07,-120.36 236.62,-109.9\"/>\n<polygon fill=\"black\" stroke=\"black\" points=\"237.97,-106.33 227.38,-106.59 235.82,-112.99 237.97,-106.33\"/>\n</g>\n<!-- spend_per_signup&#45;&gt;df_to_json_build_result -->\n<g id=\"edge16\" class=\"edge\">\n<title>spend_per_signup&#45;&gt;df_to_json_build_result</title>\n<path fill=\"none\" stroke=\"black\" d=\"M397.76,-143.7C398.93,-136.24 400.33,-127.32 401.65,-118.97\"/>\n<polygon fill=\"black\" stroke=\"black\" points=\"405.26,-119.53 403.35,-109.1 398.34,-118.44 405.26,-119.53\"/>\n</g>\n<!-- spend_per_signup&#45;&gt;df_to_feather_build_result -->\n<g id=\"edge24\" class=\"edge\">\n<title>spend_per_signup&#45;&gt;df_to_feather_build_result</title>\n<path fill=\"none\" stroke=\"black\" d=\"M452.41,-144.05C487.95,-133.56 533.58,-120.08 569.96,-109.34\"/>\n<polygon fill=\"black\" stroke=\"black\" points=\"570.85,-112.43 579.45,-106.24 568.87,-105.71 570.85,-112.43\"/>\n</g>\n</g>\n</svg>\n",
      "text/plain": "<graphviz.graphs.Digraph at 0x12d02bf10>"
     },
     "execution_count": 9,
     "metadata": {},
     "output_type": "execute_result"
    }
   ],
   "source": [
    "materializers = [\n",
    "    # materialize the dataframe to a parquet file\n",
    "    to.parquet(\n",
    "        dependencies=output_columns,\n",
    "        id=\"df_to_parquet\",\n",
    "        file=\"./df.parquet\",\n",
    "        combine=df_builder,\n",
    "    ),\n",
    "    to.feather(\n",
    "        dependencies=output_columns,\n",
    "        id=\"df_to_feather\",\n",
    "        file=\"./df.feather\",\n",
    "        combine=df_builder,\n",
    "    ),\n",
    "    to.json(\n",
    "        dependencies=output_columns,\n",
    "        id=\"df_to_json\",\n",
    "        file=\"./df.json\",\n",
    "        combine=df_builder,\n",
    "    ),\n",
    "]\n",
    "# Visualize what is happening\n",
    "dr.visualize_materialization(\n",
    "    *materializers,\n",
    "    additional_vars=output_columns,\n",
    "    inputs=initial_columns,\n",
    ")"
   ]
  },
  {
   "cell_type": "code",
   "execution_count": 13,
   "metadata": {
    "ExecuteTime": {
     "end_time": "2023-10-05T16:36:56.565384Z",
     "start_time": "2023-10-05T16:36:56.531421Z"
    }
   },
   "outputs": [],
   "source": [
    "# Materialize a result, i.e. execute the DAG!\n",
    "materialization_results, additional_outputs = dr.materialize(\n",
    "    *materializers,\n",
    "    additional_vars=[\n",
    "        \"df_to_parquet_build_result\",\n",
    "        \"df_to_feather_build_result\",\n",
    "        \"df_to_json_build_result\",\n",
    "    ],  # because combine is used, we can get that result here.\n",
    "    inputs=initial_columns,\n",
    ")"
   ]
  },
  {
   "cell_type": "code",
   "execution_count": 14,
   "metadata": {
    "ExecuteTime": {
     "end_time": "2023-10-05T16:36:57.122715Z",
     "start_time": "2023-10-05T16:36:57.101770Z"
    }
   },
   "outputs": [
    {
     "data": {
      "text/plain": "{'df_to_parquet': {'size': 1605,\n  'path': './df.parquet',\n  'last_modified': 1696523816.5329373,\n  'timestamp': 1696504016.533186},\n 'df_to_feather': {'size': 1696,\n  'path': './df.feather',\n  'last_modified': 1696523816.5335162,\n  'timestamp': 1696504016.533646},\n 'df_to_json': {'size': 657,\n  'path': './df.json',\n  'last_modified': 1696523816.5338373,\n  'timestamp': 1696504016.533948}}"
     },
     "execution_count": 14,
     "metadata": {},
     "output_type": "execute_result"
    }
   ],
   "source": [
    "materialization_results"
   ]
  },
  {
   "cell_type": "code",
   "execution_count": 15,
   "metadata": {
    "ExecuteTime": {
     "end_time": "2023-10-05T16:36:57.826266Z",
     "start_time": "2023-10-05T16:36:57.805459Z"
    }
   },
   "outputs": [
    {
     "data": {
      "text/plain": "shape: (6, 5)\n┌───────┬─────────┬───────────────┬──────────────────┬───────────────────────────────┐\n│ spend ┆ signups ┆ avg_3wk_spend ┆ spend_per_signup ┆ spend_zero_mean_unit_variance │\n│ ---   ┆ ---     ┆ ---           ┆ ---              ┆ ---                           │\n│ i64   ┆ i64     ┆ f64           ┆ f64              ┆ f64                           │\n╞═══════╪═════════╪═══════════════╪══════════════════╪═══════════════════════════════╡\n│ 10    ┆ 1       ┆ null          ┆ 10.0             ┆ -1.064405                     │\n│ 10    ┆ 10      ┆ null          ┆ 1.0              ┆ -1.064405                     │\n│ 20    ┆ 50      ┆ 13.333333     ┆ 0.4              ┆ -0.483821                     │\n│ 40    ┆ 100     ┆ 23.333333     ┆ 0.4              ┆ 0.677349                      │\n│ 40    ┆ 200     ┆ 33.333333     ┆ 0.2              ┆ 0.677349                      │\n│ 50    ┆ 400     ┆ 43.333333     ┆ 0.125            ┆ 1.257934                      │\n└───────┴─────────┴───────────────┴──────────────────┴───────────────────────────────┘",
      "text/html": "<div><style>\n.dataframe > thead > tr > th,\n.dataframe > tbody > tr > td {\n  text-align: right;\n  white-space: pre-wrap;\n}\n</style>\n<small>shape: (6, 5)</small><table border=\"1\" class=\"dataframe\"><thead><tr><th>spend</th><th>signups</th><th>avg_3wk_spend</th><th>spend_per_signup</th><th>spend_zero_mean_unit_variance</th></tr><tr><td>i64</td><td>i64</td><td>f64</td><td>f64</td><td>f64</td></tr></thead><tbody><tr><td>10</td><td>1</td><td>null</td><td>10.0</td><td>-1.064405</td></tr><tr><td>10</td><td>10</td><td>null</td><td>1.0</td><td>-1.064405</td></tr><tr><td>20</td><td>50</td><td>13.333333</td><td>0.4</td><td>-0.483821</td></tr><tr><td>40</td><td>100</td><td>23.333333</td><td>0.4</td><td>0.677349</td></tr><tr><td>40</td><td>200</td><td>33.333333</td><td>0.2</td><td>0.677349</td></tr><tr><td>50</td><td>400</td><td>43.333333</td><td>0.125</td><td>1.257934</td></tr></tbody></table></div>"
     },
     "execution_count": 15,
     "metadata": {},
     "output_type": "execute_result"
    }
   ],
   "source": [
    "additional_outputs[\"df_to_parquet_build_result\"]"
   ]
  },
  {
   "cell_type": "code",
   "execution_count": 16,
   "metadata": {
    "ExecuteTime": {
     "end_time": "2023-10-05T16:36:58.919203Z",
     "start_time": "2023-10-05T16:36:58.869761Z"
    }
   },
   "outputs": [
    {
     "data": {
      "text/plain": "shape: (6, 5)\n┌───────┬─────────┬───────────────┬──────────────────┬───────────────────────────────┐\n│ spend ┆ signups ┆ avg_3wk_spend ┆ spend_per_signup ┆ spend_zero_mean_unit_variance │\n│ ---   ┆ ---     ┆ ---           ┆ ---              ┆ ---                           │\n│ i64   ┆ i64     ┆ f64           ┆ f64              ┆ f64                           │\n╞═══════╪═════════╪═══════════════╪══════════════════╪═══════════════════════════════╡\n│ 10    ┆ 1       ┆ null          ┆ 10.0             ┆ -1.064405                     │\n│ 10    ┆ 10      ┆ null          ┆ 1.0              ┆ -1.064405                     │\n│ 20    ┆ 50      ┆ 13.333333     ┆ 0.4              ┆ -0.483821                     │\n│ 40    ┆ 100     ┆ 23.333333     ┆ 0.4              ┆ 0.677349                      │\n│ 40    ┆ 200     ┆ 33.333333     ┆ 0.2              ┆ 0.677349                      │\n│ 50    ┆ 400     ┆ 43.333333     ┆ 0.125            ┆ 1.257934                      │\n└───────┴─────────┴───────────────┴──────────────────┴───────────────────────────────┘",
      "text/html": "<div><style>\n.dataframe > thead > tr > th,\n.dataframe > tbody > tr > td {\n  text-align: right;\n  white-space: pre-wrap;\n}\n</style>\n<small>shape: (6, 5)</small><table border=\"1\" class=\"dataframe\"><thead><tr><th>spend</th><th>signups</th><th>avg_3wk_spend</th><th>spend_per_signup</th><th>spend_zero_mean_unit_variance</th></tr><tr><td>i64</td><td>i64</td><td>f64</td><td>f64</td><td>f64</td></tr></thead><tbody><tr><td>10</td><td>1</td><td>null</td><td>10.0</td><td>-1.064405</td></tr><tr><td>10</td><td>10</td><td>null</td><td>1.0</td><td>-1.064405</td></tr><tr><td>20</td><td>50</td><td>13.333333</td><td>0.4</td><td>-0.483821</td></tr><tr><td>40</td><td>100</td><td>23.333333</td><td>0.4</td><td>0.677349</td></tr><tr><td>40</td><td>200</td><td>33.333333</td><td>0.2</td><td>0.677349</td></tr><tr><td>50</td><td>400</td><td>43.333333</td><td>0.125</td><td>1.257934</td></tr></tbody></table></div>"
     },
     "execution_count": 16,
     "metadata": {},
     "output_type": "execute_result"
    }
   ],
   "source": [
    "additional_outputs[\"df_to_feather_build_result\"]"
   ]
  },
  {
   "cell_type": "code",
   "execution_count": 17,
   "outputs": [
    {
     "data": {
      "text/plain": "shape: (6, 5)\n┌───────┬─────────┬───────────────┬──────────────────┬───────────────────────────────┐\n│ spend ┆ signups ┆ avg_3wk_spend ┆ spend_per_signup ┆ spend_zero_mean_unit_variance │\n│ ---   ┆ ---     ┆ ---           ┆ ---              ┆ ---                           │\n│ i64   ┆ i64     ┆ f64           ┆ f64              ┆ f64                           │\n╞═══════╪═════════╪═══════════════╪══════════════════╪═══════════════════════════════╡\n│ 10    ┆ 1       ┆ null          ┆ 10.0             ┆ -1.064405                     │\n│ 10    ┆ 10      ┆ null          ┆ 1.0              ┆ -1.064405                     │\n│ 20    ┆ 50      ┆ 13.333333     ┆ 0.4              ┆ -0.483821                     │\n│ 40    ┆ 100     ┆ 23.333333     ┆ 0.4              ┆ 0.677349                      │\n│ 40    ┆ 200     ┆ 33.333333     ┆ 0.2              ┆ 0.677349                      │\n│ 50    ┆ 400     ┆ 43.333333     ┆ 0.125            ┆ 1.257934                      │\n└───────┴─────────┴───────────────┴──────────────────┴───────────────────────────────┘",
      "text/html": "<div><style>\n.dataframe > thead > tr > th,\n.dataframe > tbody > tr > td {\n  text-align: right;\n  white-space: pre-wrap;\n}\n</style>\n<small>shape: (6, 5)</small><table border=\"1\" class=\"dataframe\"><thead><tr><th>spend</th><th>signups</th><th>avg_3wk_spend</th><th>spend_per_signup</th><th>spend_zero_mean_unit_variance</th></tr><tr><td>i64</td><td>i64</td><td>f64</td><td>f64</td><td>f64</td></tr></thead><tbody><tr><td>10</td><td>1</td><td>null</td><td>10.0</td><td>-1.064405</td></tr><tr><td>10</td><td>10</td><td>null</td><td>1.0</td><td>-1.064405</td></tr><tr><td>20</td><td>50</td><td>13.333333</td><td>0.4</td><td>-0.483821</td></tr><tr><td>40</td><td>100</td><td>23.333333</td><td>0.4</td><td>0.677349</td></tr><tr><td>40</td><td>200</td><td>33.333333</td><td>0.2</td><td>0.677349</td></tr><tr><td>50</td><td>400</td><td>43.333333</td><td>0.125</td><td>1.257934</td></tr></tbody></table></div>"
     },
     "execution_count": 17,
     "metadata": {},
     "output_type": "execute_result"
    }
   ],
   "source": [
    "additional_outputs[\"df_to_json_build_result\"]"
   ],
   "metadata": {
    "collapsed": false,
    "ExecuteTime": {
     "end_time": "2023-10-05T16:37:01.766669Z",
     "start_time": "2023-10-05T16:37:01.705286Z"
    }
   }
  },
  {
   "cell_type": "code",
   "execution_count": null,
   "outputs": [],
   "source": [],
   "metadata": {
    "collapsed": false
   }
  }
 ],
 "metadata": {
  "kernelspec": {
   "display_name": "Python 3 (ipykernel)",
   "language": "python",
   "name": "python3"
  },
  "language_info": {
   "codemirror_mode": {
    "name": "ipython",
    "version": 3
   },
   "file_extension": ".py",
   "mimetype": "text/x-python",
   "name": "python",
   "nbconvert_exporter": "python",
   "pygments_lexer": "ipython3",
   "version": "3.10.13"
  }
 },
 "nbformat": 4,
 "nbformat_minor": 4
}
