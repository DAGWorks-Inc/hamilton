{
 "cells": [
  {
   "cell_type": "code",
   "execution_count": 1,
   "metadata": {},
   "outputs": [],
   "source": [
    "# update the polars package - optional\n",
    "# !pip install --upgrade polars"
   ]
  },
  {
   "cell_type": "code",
   "execution_count": 2,
   "metadata": {
    "ExecuteTime": {
     "end_time": "2023-10-04T20:39:07.035078Z",
     "start_time": "2023-10-04T20:39:05.253644Z"
    }
   },
   "outputs": [],
   "source": [
    "import polars as pl\n",
    "\n",
    "# Add the hamilton module to your path - optinal\n",
    "# project_dir = \"### ADD PATH HERE ###\"\n",
    "# sys.path.append(project_dir)\n",
    "\n",
    "from hamilton import driver\n",
    "from hamilton.io.materialization import to\n",
    "from hamilton.plugins import h_polars"
   ]
  },
  {
   "cell_type": "code",
   "execution_count": 3,
   "metadata": {
    "ExecuteTime": {
     "end_time": "2023-10-04T20:39:07.065652Z",
     "start_time": "2023-10-04T20:39:07.038355Z"
    },
    "pycharm": {
     "name": "#%%\n"
    }
   },
   "outputs": [],
   "source": [
    "# We use the autoreload extension that comes with ipython to automatically reload modules when\n",
    "# the code in them changes.\n",
    "\n",
    "# import the jupyter extension\n",
    "%load_ext autoreload\n",
    "# set it to only reload the modules imported\n",
    "%autoreload 1"
   ]
  },
  {
   "cell_type": "code",
   "execution_count": 4,
   "metadata": {
    "ExecuteTime": {
     "end_time": "2023-10-04T20:39:07.205465Z",
     "start_time": "2023-10-04T20:39:07.197117Z"
    },
    "pycharm": {
     "name": "#%%\n"
    }
   },
   "outputs": [
    {
     "name": "stdout",
     "output_type": "stream",
     "text": [
      "Writing spend_calculations.py\n"
     ]
    }
   ],
   "source": [
    "%%writefile spend_calculations.py\n",
    "# Define your new Hamilton functions.\n",
    "# The %%writefile magic command creates a new Python module with the functions below.\n",
    "# We will import this later and pass it into our Driver.\n",
    "\n",
    "import polars as pl\n",
    "\n",
    "# Look at `my_functions` to see how these functions connect.\n",
    "def avg_3wk_spend(spend: pl.Series) -> pl.Series:\n",
    "    \"\"\"Rolling 3 week average spend.\"\"\"\n",
    "    return spend.rolling_mean(3)\n",
    "\n",
    "\n",
    "def spend_per_signup(spend: pl.Series, signups: pl.Series) -> pl.Series:\n",
    "    \"\"\"The cost per signup in relation to spend.\"\"\"\n",
    "    return spend / signups\n",
    "\n",
    "\n",
    "def spend_mean(spend: pl.Series) -> float:\n",
    "    \"\"\"Shows function creating a scalar. In this case it computes the mean of the entire column.\"\"\"\n",
    "    return spend.mean()\n",
    "\n",
    "\n",
    "def spend_zero_mean(spend: pl.Series, spend_mean: float) -> pl.Series:\n",
    "    \"\"\"Shows function that takes a scalar. In this case to zero mean spend.\"\"\"\n",
    "    return spend - spend_mean\n",
    "\n",
    "\n",
    "def spend_std_dev(spend: pl.Series) -> float:\n",
    "    \"\"\"Function that computes the standard deviation of the spend column.\"\"\"\n",
    "    return spend.std()\n",
    "\n",
    "\n",
    "def spend_zero_mean_unit_variance(spend_zero_mean: pl.Series, spend_std_dev: float) -> pl.Series:\n",
    "    \"\"\"Function showing one way to make spend have zero mean and unit variance.\"\"\"\n",
    "    return spend_zero_mean / spend_std_dev"
   ]
  },
  {
   "cell_type": "code",
   "execution_count": 5,
   "metadata": {
    "ExecuteTime": {
     "end_time": "2023-10-04T20:39:08.319826Z",
     "start_time": "2023-10-04T20:39:08.313371Z"
    },
    "pycharm": {
     "name": "#%%\n"
    }
   },
   "outputs": [],
   "source": [
    "initial_columns = {  # load from actuals or wherever -- this is our initial data we use as input.\n",
    "    # Note: these values don't have to be all series, they could be a scalar.\n",
    "    \"signups\": pl.Series([1, 10, 50, 100, 200, 400]),\n",
    "    \"spend\": pl.Series([10, 10, 20, 40, 40, 50]),\n",
    "}"
   ]
  },
  {
   "cell_type": "code",
   "execution_count": 6,
   "metadata": {
    "ExecuteTime": {
     "end_time": "2023-10-04T20:39:10.634611Z",
     "start_time": "2023-10-04T20:39:10.628081Z"
    },
    "pycharm": {
     "name": "#%%\n"
    }
   },
   "outputs": [
    {
     "name": "stderr",
     "output_type": "stream",
     "text": [
      "Note: Hamilton collects completely anonymous data about usage. This will help us improve Hamilton over time. See https://github.com/dagworks-inc/hamilton#usage-analytics--data-privacy for details.\n"
     ]
    }
   ],
   "source": [
    "%aimport spend_calculations\n",
    "\n",
    "df_builder = h_polars.PolarsDataFrameResult()\n",
    "dr = driver.Driver({}, spend_calculations)  # can pass in multiple modules"
   ]
  },
  {
   "cell_type": "code",
   "execution_count": 7,
   "metadata": {
    "ExecuteTime": {
     "end_time": "2023-10-04T20:39:12.312162Z",
     "start_time": "2023-10-04T20:39:12.303471Z"
    }
   },
   "outputs": [],
   "source": [
    "# we need to specify what we want in the final dataframe. These can be string names, or function references.\n",
    "output_columns = [\n",
    "    \"spend\",\n",
    "    \"signups\",\n",
    "    \"avg_3wk_spend\",\n",
    "    \"spend_per_signup\",\n",
    "    \"spend_zero_mean_unit_variance\",\n",
    "]"
   ]
  },
  {
   "cell_type": "code",
   "execution_count": 8,
   "metadata": {
    "ExecuteTime": {
     "end_time": "2023-10-04T20:39:13.754619Z",
     "start_time": "2023-10-04T20:39:13.750002Z"
    },
    "collapsed": false
   },
   "outputs": [],
   "source": [
    "# pass"
   ]
  },
  {
   "cell_type": "code",
   "execution_count": 9,
   "metadata": {
    "ExecuteTime": {
     "end_time": "2023-10-04T20:39:30.629908Z",
     "start_time": "2023-10-04T20:39:30.246571Z"
    }
   },
   "outputs": [
    {
     "data": {
      "image/svg+xml": [
       "<?xml version=\"1.0\" encoding=\"UTF-8\" standalone=\"no\"?>\n",
       "<!DOCTYPE svg PUBLIC \"-//W3C//DTD SVG 1.1//EN\"\n",
       " \"http://www.w3.org/Graphics/SVG/1.1/DTD/svg11.dtd\">\n",
       "<!-- Generated by graphviz version 9.0.0 (20230911.1827)\n",
       " -->\n",
       "<!-- Pages: 1 -->\n",
       "<svg width=\"632pt\" height=\"404pt\"\n",
       " viewBox=\"0.00 0.00 632.32 404.00\" xmlns=\"http://www.w3.org/2000/svg\" xmlns:xlink=\"http://www.w3.org/1999/xlink\">\n",
       "<g id=\"graph0\" class=\"graph\" transform=\"scale(1 1) rotate(0) translate(4 400)\">\n",
       "<polygon fill=\"white\" stroke=\"none\" points=\"-4,4 -4,-400 628.32,-400 628.32,4 -4,4\"/>\n",
       "<!-- spend_std_dev -->\n",
       "<g id=\"node1\" class=\"node\">\n",
       "<title>spend_std_dev</title>\n",
       "<ellipse fill=\"none\" stroke=\"black\" cx=\"511.23\" cy=\"-306\" rx=\"65.68\" ry=\"18\"/>\n",
       "<text text-anchor=\"middle\" x=\"511.23\" y=\"-300.95\" font-family=\"Times,serif\" font-size=\"14.00\">spend_std_dev</text>\n",
       "</g>\n",
       "<!-- spend_zero_mean_unit_variance -->\n",
       "<g id=\"node12\" class=\"node\">\n",
       "<title>spend_zero_mean_unit_variance</title>\n",
       "<polygon fill=\"none\" stroke=\"black\" points=\"577.48,-180 382.98,-180 382.98,-144 577.48,-144 577.48,-180\"/>\n",
       "<text text-anchor=\"middle\" x=\"480.23\" y=\"-156.95\" font-family=\"Times,serif\" font-size=\"14.00\">spend_zero_mean_unit_variance</text>\n",
       "</g>\n",
       "<!-- spend_std_dev&#45;&gt;spend_zero_mean_unit_variance -->\n",
       "<g id=\"edge21\" class=\"edge\">\n",
       "<title>spend_std_dev&#45;&gt;spend_zero_mean_unit_variance</title>\n",
       "<path fill=\"none\" stroke=\"black\" d=\"M507.43,-287.59C502.17,-263.5 492.62,-219.75 486.35,-191.03\"/>\n",
       "<polygon fill=\"black\" stroke=\"black\" points=\"489.84,-190.61 484.29,-181.59 483,-192.11 489.84,-190.61\"/>\n",
       "</g>\n",
       "<!-- spend_zero_mean -->\n",
       "<g id=\"node2\" class=\"node\">\n",
       "<title>spend_zero_mean</title>\n",
       "<ellipse fill=\"none\" stroke=\"black\" cx=\"370.23\" cy=\"-234\" rx=\"77.97\" ry=\"18\"/>\n",
       "<text text-anchor=\"middle\" x=\"370.23\" y=\"-228.95\" font-family=\"Times,serif\" font-size=\"14.00\">spend_zero_mean</text>\n",
       "</g>\n",
       "<!-- spend_zero_mean&#45;&gt;spend_zero_mean_unit_variance -->\n",
       "<g id=\"edge20\" class=\"edge\">\n",
       "<title>spend_zero_mean&#45;&gt;spend_zero_mean_unit_variance</title>\n",
       "<path fill=\"none\" stroke=\"black\" d=\"M396.02,-216.59C410.22,-207.55 428.08,-196.19 443.69,-186.25\"/>\n",
       "<polygon fill=\"black\" stroke=\"black\" points=\"445.24,-189.42 451.79,-181.1 441.48,-183.51 445.24,-189.42\"/>\n",
       "</g>\n",
       "<!-- spend_mean -->\n",
       "<g id=\"node3\" class=\"node\">\n",
       "<title>spend_mean</title>\n",
       "<ellipse fill=\"none\" stroke=\"black\" cx=\"370.23\" cy=\"-306\" rx=\"57.49\" ry=\"18\"/>\n",
       "<text text-anchor=\"middle\" x=\"370.23\" y=\"-300.95\" font-family=\"Times,serif\" font-size=\"14.00\">spend_mean</text>\n",
       "</g>\n",
       "<!-- spend_mean&#45;&gt;spend_zero_mean -->\n",
       "<g id=\"edge3\" class=\"edge\">\n",
       "<title>spend_mean&#45;&gt;spend_zero_mean</title>\n",
       "<path fill=\"none\" stroke=\"black\" d=\"M370.23,-287.7C370.23,-280.41 370.23,-271.73 370.23,-263.54\"/>\n",
       "<polygon fill=\"black\" stroke=\"black\" points=\"373.73,-263.62 370.23,-253.62 366.73,-263.62 373.73,-263.62\"/>\n",
       "</g>\n",
       "<!-- df_to_parquet_build_result -->\n",
       "<g id=\"node4\" class=\"node\">\n",
       "<title>df_to_parquet_build_result</title>\n",
       "<ellipse fill=\"none\" stroke=\"black\" cx=\"111.23\" cy=\"-90\" rx=\"111.23\" ry=\"18\"/>\n",
       "<text text-anchor=\"middle\" x=\"111.23\" y=\"-84.95\" font-family=\"Times,serif\" font-size=\"14.00\">df_to_parquet_build_result</text>\n",
       "</g>\n",
       "<!-- df_to_parquet -->\n",
       "<g id=\"node11\" class=\"node\">\n",
       "<title>df_to_parquet</title>\n",
       "<polygon fill=\"none\" stroke=\"black\" points=\"157.11,-36 65.36,-36 65.36,0 157.11,0 157.11,-36\"/>\n",
       "<text text-anchor=\"middle\" x=\"111.23\" y=\"-12.95\" font-family=\"Times,serif\" font-size=\"14.00\">df_to_parquet</text>\n",
       "</g>\n",
       "<!-- df_to_parquet_build_result&#45;&gt;df_to_parquet -->\n",
       "<g id=\"edge19\" class=\"edge\">\n",
       "<title>df_to_parquet_build_result&#45;&gt;df_to_parquet</title>\n",
       "<path fill=\"none\" stroke=\"black\" d=\"M111.23,-71.7C111.23,-64.41 111.23,-55.73 111.23,-47.54\"/>\n",
       "<polygon fill=\"black\" stroke=\"black\" points=\"114.73,-47.62 111.23,-37.62 107.73,-47.62 114.73,-47.62\"/>\n",
       "</g>\n",
       "<!-- avg_3wk_spend -->\n",
       "<g id=\"node5\" class=\"node\">\n",
       "<title>avg_3wk_spend</title>\n",
       "<polygon fill=\"none\" stroke=\"black\" points=\"365.11,-180 261.36,-180 261.36,-144 365.11,-144 365.11,-180\"/>\n",
       "<text text-anchor=\"middle\" x=\"313.23\" y=\"-156.95\" font-family=\"Times,serif\" font-size=\"14.00\">avg_3wk_spend</text>\n",
       "</g>\n",
       "<!-- avg_3wk_spend&#45;&gt;df_to_parquet_build_result -->\n",
       "<g id=\"edge7\" class=\"edge\">\n",
       "<title>avg_3wk_spend&#45;&gt;df_to_parquet_build_result</title>\n",
       "<path fill=\"none\" stroke=\"black\" d=\"M262.78,-143.52C233.85,-133.49 197.46,-120.88 167.59,-110.53\"/>\n",
       "<polygon fill=\"black\" stroke=\"black\" points=\"168.93,-107.29 158.34,-107.32 166.64,-113.9 168.93,-107.29\"/>\n",
       "</g>\n",
       "<!-- df_to_feather_build_result -->\n",
       "<g id=\"node9\" class=\"node\">\n",
       "<title>df_to_feather_build_result</title>\n",
       "<ellipse fill=\"none\" stroke=\"black\" cx=\"349.23\" cy=\"-90\" rx=\"109.19\" ry=\"18\"/>\n",
       "<text text-anchor=\"middle\" x=\"349.23\" y=\"-84.95\" font-family=\"Times,serif\" font-size=\"14.00\">df_to_feather_build_result</text>\n",
       "</g>\n",
       "<!-- avg_3wk_spend&#45;&gt;df_to_feather_build_result -->\n",
       "<g id=\"edge16\" class=\"edge\">\n",
       "<title>avg_3wk_spend&#45;&gt;df_to_feather_build_result</title>\n",
       "<path fill=\"none\" stroke=\"black\" d=\"M322.13,-143.7C326.1,-135.98 330.87,-126.71 335.29,-118.11\"/>\n",
       "<polygon fill=\"black\" stroke=\"black\" points=\"338.28,-119.94 339.74,-109.45 332.06,-116.74 338.28,-119.94\"/>\n",
       "</g>\n",
       "<!-- spend_per_signup -->\n",
       "<g id=\"node6\" class=\"node\">\n",
       "<title>spend_per_signup</title>\n",
       "<polygon fill=\"none\" stroke=\"black\" points=\"205.36,-180 91.11,-180 91.11,-144 205.36,-144 205.36,-180\"/>\n",
       "<text text-anchor=\"middle\" x=\"148.23\" y=\"-156.95\" font-family=\"Times,serif\" font-size=\"14.00\">spend_per_signup</text>\n",
       "</g>\n",
       "<!-- spend_per_signup&#45;&gt;df_to_parquet_build_result -->\n",
       "<g id=\"edge8\" class=\"edge\">\n",
       "<title>spend_per_signup&#45;&gt;df_to_parquet_build_result</title>\n",
       "<path fill=\"none\" stroke=\"black\" d=\"M139.09,-143.7C135.01,-135.98 130.11,-126.71 125.56,-118.11\"/>\n",
       "<polygon fill=\"black\" stroke=\"black\" points=\"128.75,-116.65 120.98,-109.44 122.56,-119.92 128.75,-116.65\"/>\n",
       "</g>\n",
       "<!-- spend_per_signup&#45;&gt;df_to_feather_build_result -->\n",
       "<g id=\"edge17\" class=\"edge\">\n",
       "<title>spend_per_signup&#45;&gt;df_to_feather_build_result</title>\n",
       "<path fill=\"none\" stroke=\"black\" d=\"M198.44,-143.52C227.23,-133.49 263.43,-120.88 293.16,-110.53\"/>\n",
       "<polygon fill=\"black\" stroke=\"black\" points=\"294.06,-113.92 302.36,-107.33 291.76,-107.31 294.06,-113.92\"/>\n",
       "</g>\n",
       "<!-- spend -->\n",
       "<g id=\"node7\" class=\"node\">\n",
       "<title>spend</title>\n",
       "<polygon fill=\"none\" stroke=\"black\" stroke-dasharray=\"5,2\" points=\"326.98,-396 243.48,-396 243.48,-360 326.98,-360 326.98,-396\"/>\n",
       "<text text-anchor=\"middle\" x=\"285.23\" y=\"-372.95\" font-family=\"Times,serif\" font-size=\"14.00\">Input: spend</text>\n",
       "</g>\n",
       "<!-- spend&#45;&gt;spend_std_dev -->\n",
       "<g id=\"edge1\" class=\"edge\">\n",
       "<title>spend&#45;&gt;spend_std_dev</title>\n",
       "<path fill=\"none\" stroke=\"black\" d=\"M327.48,-363.92C364.38,-352.49 418.13,-335.84 457.97,-323.5\"/>\n",
       "<polygon fill=\"black\" stroke=\"black\" points=\"458.85,-326.89 467.37,-320.59 456.78,-320.2 458.85,-326.89\"/>\n",
       "</g>\n",
       "<!-- spend&#45;&gt;spend_zero_mean -->\n",
       "<g id=\"edge2\" class=\"edge\">\n",
       "<title>spend&#45;&gt;spend_zero_mean</title>\n",
       "<path fill=\"none\" stroke=\"black\" d=\"M285.54,-359.67C286.62,-340.75 290.56,-310.19 304.23,-288 311.52,-276.17 322.43,-265.85 333.28,-257.54\"/>\n",
       "<polygon fill=\"black\" stroke=\"black\" points=\"335.01,-260.61 341.08,-251.93 330.92,-254.93 335.01,-260.61\"/>\n",
       "</g>\n",
       "<!-- spend&#45;&gt;spend_mean -->\n",
       "<g id=\"edge4\" class=\"edge\">\n",
       "<title>spend&#45;&gt;spend_mean</title>\n",
       "<path fill=\"none\" stroke=\"black\" d=\"M306.24,-359.7C317.06,-350.79 330.39,-339.81 342.08,-330.19\"/>\n",
       "<polygon fill=\"black\" stroke=\"black\" points=\"343.97,-333.17 349.46,-324.11 339.52,-327.76 343.97,-333.17\"/>\n",
       "</g>\n",
       "<!-- spend&#45;&gt;df_to_parquet_build_result -->\n",
       "<g id=\"edge5\" class=\"edge\">\n",
       "<title>spend&#45;&gt;df_to_parquet_build_result</title>\n",
       "<path fill=\"none\" stroke=\"black\" d=\"M243.29,-371.09C210.84,-364.55 166.62,-351.12 137.23,-324 85.63,-276.38 87.01,-248.65 72.23,-180 68.87,-164.36 67.24,-159.2 72.23,-144 75.41,-134.33 81.1,-124.96 87.17,-116.87\"/>\n",
       "<polygon fill=\"black\" stroke=\"black\" points=\"89.82,-119.16 93.39,-109.18 84.38,-114.75 89.82,-119.16\"/>\n",
       "</g>\n",
       "<!-- spend&#45;&gt;avg_3wk_spend -->\n",
       "<g id=\"edge10\" class=\"edge\">\n",
       "<title>spend&#45;&gt;avg_3wk_spend</title>\n",
       "<path fill=\"none\" stroke=\"black\" d=\"M282.05,-359.71C277.2,-329.83 269.85,-266.82 283.23,-216 285.62,-206.94 289.95,-197.81 294.59,-189.73\"/>\n",
       "<polygon fill=\"black\" stroke=\"black\" points=\"297.43,-191.79 299.71,-181.44 291.47,-188.11 297.43,-191.79\"/>\n",
       "</g>\n",
       "<!-- spend&#45;&gt;spend_per_signup -->\n",
       "<g id=\"edge11\" class=\"edge\">\n",
       "<title>spend&#45;&gt;spend_per_signup</title>\n",
       "<path fill=\"none\" stroke=\"black\" d=\"M243.23,-359.63C202.34,-340.16 142.6,-304.3 116.23,-252 106.07,-231.84 116.06,-207.65 127.49,-189.58\"/>\n",
       "<polygon fill=\"black\" stroke=\"black\" points=\"130.26,-191.72 133.01,-181.49 124.48,-187.78 130.26,-191.72\"/>\n",
       "</g>\n",
       "<!-- spend&#45;&gt;df_to_feather_build_result -->\n",
       "<g id=\"edge14\" class=\"edge\">\n",
       "<title>spend&#45;&gt;df_to_feather_build_result</title>\n",
       "<path fill=\"none\" stroke=\"black\" d=\"M327.29,-375.99C402.14,-373.21 553.66,-362.81 586.23,-324 637.66,-262.72 636.25,-206.44 586.23,-144 569.16,-122.68 508.65,-109.37 453.05,-101.41\"/>\n",
       "<polygon fill=\"black\" stroke=\"black\" points=\"453.53,-97.95 443.15,-100.05 452.58,-104.88 453.53,-97.95\"/>\n",
       "</g>\n",
       "<!-- df_to_feather -->\n",
       "<g id=\"node8\" class=\"node\">\n",
       "<title>df_to_feather</title>\n",
       "<polygon fill=\"none\" stroke=\"black\" points=\"393.61,-36 304.86,-36 304.86,0 393.61,0 393.61,-36\"/>\n",
       "<text text-anchor=\"middle\" x=\"349.23\" y=\"-12.95\" font-family=\"Times,serif\" font-size=\"14.00\">df_to_feather</text>\n",
       "</g>\n",
       "<!-- df_to_feather_build_result&#45;&gt;df_to_feather -->\n",
       "<g id=\"edge13\" class=\"edge\">\n",
       "<title>df_to_feather_build_result&#45;&gt;df_to_feather</title>\n",
       "<path fill=\"none\" stroke=\"black\" d=\"M349.23,-71.7C349.23,-64.41 349.23,-55.73 349.23,-47.54\"/>\n",
       "<polygon fill=\"black\" stroke=\"black\" points=\"352.73,-47.62 349.23,-37.62 345.73,-47.62 352.73,-47.62\"/>\n",
       "</g>\n",
       "<!-- signups -->\n",
       "<g id=\"node10\" class=\"node\">\n",
       "<title>signups</title>\n",
       "<polygon fill=\"none\" stroke=\"black\" stroke-dasharray=\"5,2\" points=\"218.86,-252 125.61,-252 125.61,-216 218.86,-216 218.86,-252\"/>\n",
       "<text text-anchor=\"middle\" x=\"172.23\" y=\"-228.95\" font-family=\"Times,serif\" font-size=\"14.00\">Input: signups</text>\n",
       "</g>\n",
       "<!-- signups&#45;&gt;df_to_parquet_build_result -->\n",
       "<g id=\"edge6\" class=\"edge\">\n",
       "<title>signups&#45;&gt;df_to_parquet_build_result</title>\n",
       "<path fill=\"none\" stroke=\"black\" d=\"M125.57,-216.92C108.84,-208.64 91.77,-196.69 82.23,-180 71.07,-160.48 80.45,-136.06 91.42,-117.74\"/>\n",
       "<polygon fill=\"black\" stroke=\"black\" points=\"94.24,-119.82 96.74,-109.53 88.37,-116.02 94.24,-119.82\"/>\n",
       "</g>\n",
       "<!-- signups&#45;&gt;spend_per_signup -->\n",
       "<g id=\"edge12\" class=\"edge\">\n",
       "<title>signups&#45;&gt;spend_per_signup</title>\n",
       "<path fill=\"none\" stroke=\"black\" d=\"M166.3,-215.7C163.74,-208.24 160.69,-199.32 157.82,-190.97\"/>\n",
       "<polygon fill=\"black\" stroke=\"black\" points=\"161.14,-189.86 154.59,-181.54 154.52,-192.13 161.14,-189.86\"/>\n",
       "</g>\n",
       "<!-- signups&#45;&gt;df_to_feather_build_result -->\n",
       "<g id=\"edge15\" class=\"edge\">\n",
       "<title>signups&#45;&gt;df_to_feather_build_result</title>\n",
       "<path fill=\"none\" stroke=\"black\" d=\"M184.92,-215.67C199.58,-196.47 225.19,-165.4 252.23,-144 267.44,-131.97 285.75,-121.18 302.35,-112.53\"/>\n",
       "<polygon fill=\"black\" stroke=\"black\" points=\"303.73,-115.75 311.07,-108.11 300.56,-109.51 303.73,-115.75\"/>\n",
       "</g>\n",
       "<!-- spend_zero_mean_unit_variance&#45;&gt;df_to_parquet_build_result -->\n",
       "<g id=\"edge9\" class=\"edge\">\n",
       "<title>spend_zero_mean_unit_variance&#45;&gt;df_to_parquet_build_result</title>\n",
       "<path fill=\"none\" stroke=\"black\" d=\"M388.07,-143.52C328.03,-132.13 250.42,-117.4 192.66,-106.45\"/>\n",
       "<polygon fill=\"black\" stroke=\"black\" points=\"193.34,-103.01 182.87,-104.59 192.04,-109.89 193.34,-103.01\"/>\n",
       "</g>\n",
       "<!-- spend_zero_mean_unit_variance&#45;&gt;df_to_feather_build_result -->\n",
       "<g id=\"edge18\" class=\"edge\">\n",
       "<title>spend_zero_mean_unit_variance&#45;&gt;df_to_feather_build_result</title>\n",
       "<path fill=\"none\" stroke=\"black\" d=\"M447.51,-143.52C430.12,-134.22 408.57,-122.71 390.09,-112.83\"/>\n",
       "<polygon fill=\"black\" stroke=\"black\" points=\"391.99,-109.88 381.52,-108.25 388.69,-116.05 391.99,-109.88\"/>\n",
       "</g>\n",
       "</g>\n",
       "</svg>\n"
      ],
      "text/plain": [
       "<graphviz.graphs.Digraph at 0x1314d4a60>"
      ]
     },
     "execution_count": 9,
     "metadata": {},
     "output_type": "execute_result"
    }
   ],
   "source": [
    "materializers = [\n",
    "    # materialize the dataframe to a parquet file\n",
    "    to.parquet(\n",
    "        dependencies=output_columns,\n",
    "        id=\"df_to_parquet\",\n",
    "        file=\"./df.parquet\",\n",
    "        combine=df_builder,\n",
    "    ),\n",
    "    to.feather(\n",
    "        dependencies=output_columns,\n",
    "        id=\"df_to_feather\",\n",
    "        file=\"./df.feather\",\n",
    "        combine=df_builder,\n",
    "    ),\n",
    "]\n",
    "# Visualize what is happening\n",
    "dr.visualize_materialization(\n",
    "    *materializers,\n",
    "    additional_vars=output_columns,\n",
    "    inputs=initial_columns,\n",
    ")"
   ]
  },
  {
   "cell_type": "code",
   "execution_count": 10,
   "metadata": {
    "ExecuteTime": {
     "end_time": "2023-10-04T20:39:35.260982Z",
     "start_time": "2023-10-04T20:39:35.183560Z"
    }
   },
   "outputs": [],
   "source": [
    "# Materialize a result, i.e. execute the DAG!\n",
    "materialization_results, additional_outputs = dr.materialize(\n",
    "    *materializers,\n",
    "    additional_vars=[\n",
    "        \"df_to_parquet_build_result\",\n",
    "        \"df_to_feather_build_result\",\n",
    "    ],  # because combine is used, we can get that result here.\n",
    "    inputs=initial_columns,\n",
    ")"
   ]
  },
  {
   "cell_type": "code",
   "execution_count": 11,
   "metadata": {
    "ExecuteTime": {
     "end_time": "2023-10-04T20:39:38.773509Z",
     "start_time": "2023-10-04T20:39:38.767255Z"
    }
   },
   "outputs": [
    {
     "data": {
      "text/plain": [
       "{'df_to_parquet': {'size': 1605,\n",
       "  'path': './df.parquet',\n",
       "  'last_modified': 1696454671.0974517,\n",
       "  'timestamp': 1696434871.097744},\n",
       " 'df_to_feather': {'size': 1696,\n",
       "  'path': './df.feather',\n",
       "  'last_modified': 1696454671.0983043,\n",
       "  'timestamp': 1696434871.098341}}"
      ]
     },
     "execution_count": 11,
     "metadata": {},
     "output_type": "execute_result"
    }
   ],
   "source": [
    "materialization_results"
   ]
  },
  {
   "cell_type": "code",
   "execution_count": 12,
   "metadata": {
    "ExecuteTime": {
     "end_time": "2023-10-04T20:39:39.765927Z",
     "start_time": "2023-10-04T20:39:39.752801Z"
    }
   },
   "outputs": [
    {
     "data": {
      "text/html": [
       "<div><style>\n",
       ".dataframe > thead > tr > th,\n",
       ".dataframe > tbody > tr > td {\n",
       "  text-align: right;\n",
       "  white-space: pre-wrap;\n",
       "}\n",
       "</style>\n",
       "<small>shape: (6, 5)</small><table border=\"1\" class=\"dataframe\"><thead><tr><th>spend</th><th>signups</th><th>avg_3wk_spend</th><th>spend_per_signup</th><th>spend_zero_mean_unit_variance</th></tr><tr><td>i64</td><td>i64</td><td>f64</td><td>f64</td><td>f64</td></tr></thead><tbody><tr><td>10</td><td>1</td><td>null</td><td>10.0</td><td>-1.064405</td></tr><tr><td>10</td><td>10</td><td>null</td><td>1.0</td><td>-1.064405</td></tr><tr><td>20</td><td>50</td><td>13.333333</td><td>0.4</td><td>-0.483821</td></tr><tr><td>40</td><td>100</td><td>23.333333</td><td>0.4</td><td>0.677349</td></tr><tr><td>40</td><td>200</td><td>33.333333</td><td>0.2</td><td>0.677349</td></tr><tr><td>50</td><td>400</td><td>43.333333</td><td>0.125</td><td>1.257934</td></tr></tbody></table></div>"
      ],
      "text/plain": [
       "shape: (6, 5)\n",
       "┌───────┬─────────┬───────────────┬──────────────────┬───────────────────────────────┐\n",
       "│ spend ┆ signups ┆ avg_3wk_spend ┆ spend_per_signup ┆ spend_zero_mean_unit_variance │\n",
       "│ ---   ┆ ---     ┆ ---           ┆ ---              ┆ ---                           │\n",
       "│ i64   ┆ i64     ┆ f64           ┆ f64              ┆ f64                           │\n",
       "╞═══════╪═════════╪═══════════════╪══════════════════╪═══════════════════════════════╡\n",
       "│ 10    ┆ 1       ┆ null          ┆ 10.0             ┆ -1.064405                     │\n",
       "│ 10    ┆ 10      ┆ null          ┆ 1.0              ┆ -1.064405                     │\n",
       "│ 20    ┆ 50      ┆ 13.333333     ┆ 0.4              ┆ -0.483821                     │\n",
       "│ 40    ┆ 100     ┆ 23.333333     ┆ 0.4              ┆ 0.677349                      │\n",
       "│ 40    ┆ 200     ┆ 33.333333     ┆ 0.2              ┆ 0.677349                      │\n",
       "│ 50    ┆ 400     ┆ 43.333333     ┆ 0.125            ┆ 1.257934                      │\n",
       "└───────┴─────────┴───────────────┴──────────────────┴───────────────────────────────┘"
      ]
     },
     "execution_count": 12,
     "metadata": {},
     "output_type": "execute_result"
    }
   ],
   "source": [
    "additional_outputs[\"df_to_parquet_build_result\"]"
   ]
  },
  {
   "cell_type": "code",
   "execution_count": 13,
   "metadata": {},
   "outputs": [
    {
     "data": {
      "text/html": [
       "<div><style>\n",
       ".dataframe > thead > tr > th,\n",
       ".dataframe > tbody > tr > td {\n",
       "  text-align: right;\n",
       "  white-space: pre-wrap;\n",
       "}\n",
       "</style>\n",
       "<small>shape: (6, 5)</small><table border=\"1\" class=\"dataframe\"><thead><tr><th>spend</th><th>signups</th><th>avg_3wk_spend</th><th>spend_per_signup</th><th>spend_zero_mean_unit_variance</th></tr><tr><td>i64</td><td>i64</td><td>f64</td><td>f64</td><td>f64</td></tr></thead><tbody><tr><td>10</td><td>1</td><td>null</td><td>10.0</td><td>-1.064405</td></tr><tr><td>10</td><td>10</td><td>null</td><td>1.0</td><td>-1.064405</td></tr><tr><td>20</td><td>50</td><td>13.333333</td><td>0.4</td><td>-0.483821</td></tr><tr><td>40</td><td>100</td><td>23.333333</td><td>0.4</td><td>0.677349</td></tr><tr><td>40</td><td>200</td><td>33.333333</td><td>0.2</td><td>0.677349</td></tr><tr><td>50</td><td>400</td><td>43.333333</td><td>0.125</td><td>1.257934</td></tr></tbody></table></div>"
      ],
      "text/plain": [
       "shape: (6, 5)\n",
       "┌───────┬─────────┬───────────────┬──────────────────┬───────────────────────────────┐\n",
       "│ spend ┆ signups ┆ avg_3wk_spend ┆ spend_per_signup ┆ spend_zero_mean_unit_variance │\n",
       "│ ---   ┆ ---     ┆ ---           ┆ ---              ┆ ---                           │\n",
       "│ i64   ┆ i64     ┆ f64           ┆ f64              ┆ f64                           │\n",
       "╞═══════╪═════════╪═══════════════╪══════════════════╪═══════════════════════════════╡\n",
       "│ 10    ┆ 1       ┆ null          ┆ 10.0             ┆ -1.064405                     │\n",
       "│ 10    ┆ 10      ┆ null          ┆ 1.0              ┆ -1.064405                     │\n",
       "│ 20    ┆ 50      ┆ 13.333333     ┆ 0.4              ┆ -0.483821                     │\n",
       "│ 40    ┆ 100     ┆ 23.333333     ┆ 0.4              ┆ 0.677349                      │\n",
       "│ 40    ┆ 200     ┆ 33.333333     ┆ 0.2              ┆ 0.677349                      │\n",
       "│ 50    ┆ 400     ┆ 43.333333     ┆ 0.125            ┆ 1.257934                      │\n",
       "└───────┴─────────┴───────────────┴──────────────────┴───────────────────────────────┘"
      ]
     },
     "execution_count": 13,
     "metadata": {},
     "output_type": "execute_result"
    }
   ],
   "source": [
    "additional_outputs[\"df_to_feather_build_result\"]"
   ]
  }
 ],
 "metadata": {
  "kernelspec": {
   "display_name": "Python 3 (ipykernel)",
   "language": "python",
   "name": "python3"
  },
  "language_info": {
   "codemirror_mode": {
    "name": "ipython",
    "version": 3
   },
   "file_extension": ".py",
   "mimetype": "text/x-python",
   "name": "python",
   "nbconvert_exporter": "python",
   "pygments_lexer": "ipython3",
   "version": "3.10.0"
  }
 },
 "nbformat": 4,
 "nbformat_minor": 4
}
