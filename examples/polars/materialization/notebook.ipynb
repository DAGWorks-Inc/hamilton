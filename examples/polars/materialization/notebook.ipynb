{
 "cells": [
  {
   "cell_type": "code",
   "execution_count": 1,
   "metadata": {
    "ExecuteTime": {
     "end_time": "2023-10-05T16:36:33.343763Z",
     "start_time": "2023-10-05T16:36:33.337662Z"
    }
   },
   "outputs": [],
   "source": [
    "# update the polars package - optional\n",
    "# !pip install --upgrade polars"
   ]
  },
  {
   "cell_type": "code",
   "execution_count": 2,
   "metadata": {
    "ExecuteTime": {
     "end_time": "2023-10-05T16:36:35.401649Z",
     "start_time": "2023-10-05T16:36:33.838727Z"
    }
   },
   "outputs": [
    {
     "name": "stderr",
     "output_type": "stream",
     "text": [
      "d:\\Turing\\codes\\hamilton\\venv\\lib\\site-packages\\pyspark\\pandas\\__init__.py:50: UserWarning: 'PYARROW_IGNORE_TIMEZONE' environment variable was not set. It is required to set this environment variable to '1' in both driver and executor sides if you use pyarrow>=2.0.0. pandas-on-Spark will set it for you but it does not work if there is a Spark context already launched.\n",
      "  warnings.warn(\n"
     ]
    }
   ],
   "source": [
    "import polars as pl\n",
    "\n",
    "# Add the hamilton module to your path - optinal\n",
    "# project_dir = \"### ADD PATH HERE ###\"\n",
    "# sys.path.append(project_dir)\n",
    "\n",
    "from hamilton import driver\n",
    "from hamilton.io.materialization import to\n",
    "from hamilton.plugins import h_polars"
   ]
  },
  {
   "cell_type": "code",
   "execution_count": 3,
   "metadata": {
    "ExecuteTime": {
     "end_time": "2023-10-05T16:36:35.465307Z",
     "start_time": "2023-10-05T16:36:35.406399Z"
    },
    "pycharm": {
     "name": "#%%\n"
    }
   },
   "outputs": [],
   "source": [
    "# We use the autoreload extension that comes with ipython to automatically reload modules when\n",
    "# the code in them changes.\n",
    "\n",
    "# import the jupyter extension\n",
    "%load_ext autoreload\n",
    "# set it to only reload the modules imported\n",
    "%autoreload 1"
   ]
  },
  {
   "cell_type": "code",
   "execution_count": 4,
   "metadata": {
    "ExecuteTime": {
     "end_time": "2023-10-05T16:36:36.389233Z",
     "start_time": "2023-10-05T16:36:36.380788Z"
    },
    "pycharm": {
     "name": "#%%\n"
    }
   },
   "outputs": [
    {
     "name": "stdout",
     "output_type": "stream",
     "text": [
      "Overwriting spend_calculations.py\n"
     ]
    }
   ],
   "source": [
    "%%writefile spend_calculations.py\n",
    "# Define your new Hamilton functions.\n",
    "# The %%writefile magic command creates a new Python module with the functions below.\n",
    "# We will import this later and pass it into our Driver.\n",
    "\n",
    "import polars as pl\n",
    "\n",
    "# Look at `my_functions` to see how these functions connect.\n",
    "def avg_3wk_spend(spend: pl.Series) -> pl.Series:\n",
    "    \"\"\"Rolling 3 week average spend.\"\"\"\n",
    "    return spend.rolling_mean(3)\n",
    "\n",
    "\n",
    "def spend_per_signup(spend: pl.Series, signups: pl.Series) -> pl.Series:\n",
    "    \"\"\"The cost per signup in relation to spend.\"\"\"\n",
    "    return spend / signups\n",
    "\n",
    "\n",
    "def spend_mean(spend: pl.Series) -> float:\n",
    "    \"\"\"Shows function creating a scalar. In this case it computes the mean of the entire column.\"\"\"\n",
    "    return spend.mean()\n",
    "\n",
    "\n",
    "def spend_zero_mean(spend: pl.Series, spend_mean: float) -> pl.Series:\n",
    "    \"\"\"Shows function that takes a scalar. In this case to zero mean spend.\"\"\"\n",
    "    return spend - spend_mean\n",
    "\n",
    "\n",
    "def spend_std_dev(spend: pl.Series) -> float:\n",
    "    \"\"\"Function that computes the standard deviation of the spend column.\"\"\"\n",
    "    return spend.std()\n",
    "\n",
    "\n",
    "def spend_zero_mean_unit_variance(spend_zero_mean: pl.Series, spend_std_dev: float) -> pl.Series:\n",
    "    \"\"\"Function showing one way to make spend have zero mean and unit variance.\"\"\"\n",
    "    return spend_zero_mean / spend_std_dev"
   ]
  },
  {
   "cell_type": "code",
   "execution_count": 5,
   "metadata": {
    "ExecuteTime": {
     "end_time": "2023-10-05T16:36:36.947063Z",
     "start_time": "2023-10-05T16:36:36.938015Z"
    },
    "pycharm": {
     "name": "#%%\n"
    }
   },
   "outputs": [],
   "source": [
    "initial_columns = {  # load from actuals or wherever -- this is our initial data we use as input.\n",
    "    # Note: these values don't have to be all series, they could be a scalar.\n",
    "    \"signups\": pl.Series([1, 10, 50, 100, 200, 400]),\n",
    "    \"spend\": pl.Series([10, 10, 20, 40, 40, 50]),\n",
    "}"
   ]
  },
  {
   "cell_type": "code",
   "execution_count": 6,
   "metadata": {
    "ExecuteTime": {
     "end_time": "2023-10-05T16:36:37.496013Z",
     "start_time": "2023-10-05T16:36:37.447521Z"
    },
    "pycharm": {
     "name": "#%%\n"
    }
   },
   "outputs": [],
   "source": [
    "%aimport spend_calculations\n",
    "\n",
    "df_builder = h_polars.PolarsDataFrameResult()\n",
    "dr = driver.Driver({}, spend_calculations)  # can pass in multiple modules"
   ]
  },
  {
   "cell_type": "code",
   "execution_count": 7,
   "metadata": {
    "ExecuteTime": {
     "end_time": "2023-10-05T16:36:38.178430Z",
     "start_time": "2023-10-05T16:36:38.162359Z"
    }
   },
   "outputs": [],
   "source": [
    "# we need to specify what we want in the final dataframe. These can be string names, or function references.\n",
    "output_columns = [\n",
    "    \"spend\",\n",
    "    \"signups\",\n",
    "    \"avg_3wk_spend\",\n",
    "    \"spend_per_signup\",\n",
    "    \"spend_zero_mean_unit_variance\",\n",
    "]"
   ]
  },
  {
   "cell_type": "code",
   "execution_count": 8,
   "metadata": {
    "ExecuteTime": {
     "end_time": "2023-10-05T16:36:39.212897Z",
     "start_time": "2023-10-05T16:36:39.202499Z"
    },
    "collapsed": false
   },
   "outputs": [],
   "source": [
    "# pass"
   ]
  },
  {
   "cell_type": "code",
   "execution_count": 9,
   "metadata": {
    "ExecuteTime": {
     "end_time": "2023-10-05T16:36:39.908587Z",
     "start_time": "2023-10-05T16:36:39.637374Z"
    }
   },
   "outputs": [
    {
     "data": {
      "image/svg+xml": [
       "<?xml version=\"1.0\" encoding=\"UTF-8\" standalone=\"no\"?>\n",
       "<!DOCTYPE svg PUBLIC \"-//W3C//DTD SVG 1.1//EN\"\n",
       " \"http://www.w3.org/Graphics/SVG/1.1/DTD/svg11.dtd\">\n",
       "<!-- Generated by graphviz version 10.0.1 (20240210.2158)\n",
       " -->\n",
       "<!-- Pages: 1 -->\n",
       "<svg width=\"1223pt\" height=\"666pt\"\n",
       " viewBox=\"0.00 0.00 1222.60 665.60\" xmlns=\"http://www.w3.org/2000/svg\" xmlns:xlink=\"http://www.w3.org/1999/xlink\">\n",
       "<g id=\"graph0\" class=\"graph\" transform=\"scale(1 1) rotate(0) translate(4 661.6)\">\n",
       "<polygon fill=\"white\" stroke=\"none\" points=\"-4,4 -4,-661.6 1218.6,-661.6 1218.6,4 -4,4\"/>\n",
       "<g id=\"clust1\" class=\"cluster\">\n",
       "<title>cluster__legend</title>\n",
       "<polygon fill=\"#ffffff\" stroke=\"black\" points=\"8,-217.8 8,-468.8 117.6,-468.8 117.6,-217.8 8,-217.8\"/>\n",
       "<text text-anchor=\"middle\" x=\"62.8\" y=\"-451.5\" font-family=\"Helvetica,sans-Serif\" font-size=\"14.00\">Legend</text>\n",
       "</g>\n",
       "<!-- df_to_feather -->\n",
       "<g id=\"node1\" class=\"node\">\n",
       "<title>df_to_feather</title>\n",
       "<path fill=\"#ffc857\" stroke=\"black\" d=\"M1198.1,-531.58C1198.1,-535.96 1164.01,-539.52 1122.05,-539.52 1080.09,-539.52 1046,-535.96 1046,-531.58 1046,-531.58 1046,-460.03 1046,-460.03 1046,-455.64 1080.09,-452.08 1122.05,-452.08 1164.01,-452.08 1198.1,-455.64 1198.1,-460.03 1198.1,-460.03 1198.1,-531.58 1198.1,-531.58\"/>\n",
       "<path fill=\"none\" stroke=\"black\" d=\"M1198.1,-531.58C1198.1,-527.19 1164.01,-523.63 1122.05,-523.63 1080.09,-523.63 1046,-527.19 1046,-531.58\"/>\n",
       "<text text-anchor=\"start\" x=\"1075.92\" y=\"-504.5\" font-family=\"Helvetica,sans-Serif\" font-weight=\"bold\" font-size=\"14.00\">df_to_feather</text>\n",
       "<text text-anchor=\"start\" x=\"1056.8\" y=\"-476.5\" font-family=\"Helvetica,sans-Serif\" font-style=\"italic\" font-size=\"14.00\">PolarsFeatherWriter</text>\n",
       "</g>\n",
       "<!-- df_to_spreadsheet -->\n",
       "<g id=\"node2\" class=\"node\">\n",
       "<title>df_to_spreadsheet</title>\n",
       "<path fill=\"#ffc857\" stroke=\"black\" d=\"M1214.6,-111.58C1214.6,-115.96 1173.12,-119.53 1122.05,-119.53 1070.98,-119.53 1029.5,-115.96 1029.5,-111.58 1029.5,-111.58 1029.5,-40.03 1029.5,-40.03 1029.5,-35.64 1070.98,-32.08 1122.05,-32.08 1173.12,-32.08 1214.6,-35.64 1214.6,-40.03 1214.6,-40.03 1214.6,-111.58 1214.6,-111.58\"/>\n",
       "<path fill=\"none\" stroke=\"black\" d=\"M1214.6,-111.58C1214.6,-107.19 1173.12,-103.62 1122.05,-103.62 1070.98,-103.62 1029.5,-107.19 1029.5,-111.58\"/>\n",
       "<text text-anchor=\"start\" x=\"1056.8\" y=\"-84.5\" font-family=\"Helvetica,sans-Serif\" font-weight=\"bold\" font-size=\"14.00\">df_to_spreadsheet</text>\n",
       "<text text-anchor=\"start\" x=\"1040.3\" y=\"-56.5\" font-family=\"Helvetica,sans-Serif\" font-style=\"italic\" font-size=\"14.00\">PolarsSpreadsheetWriter</text>\n",
       "</g>\n",
       "<!-- df_to_json -->\n",
       "<g id=\"node3\" class=\"node\">\n",
       "<title>df_to_json</title>\n",
       "<path fill=\"#ffc857\" stroke=\"black\" d=\"M1192.47,-321.57C1192.47,-325.96 1160.91,-329.52 1122.05,-329.52 1083.19,-329.52 1051.62,-325.96 1051.62,-321.57 1051.62,-321.57 1051.62,-250.03 1051.62,-250.03 1051.62,-245.64 1083.19,-242.08 1122.05,-242.08 1160.91,-242.08 1192.47,-245.64 1192.47,-250.03 1192.47,-250.03 1192.47,-321.57 1192.47,-321.57\"/>\n",
       "<path fill=\"none\" stroke=\"black\" d=\"M1192.47,-321.57C1192.47,-317.19 1160.91,-313.62 1122.05,-313.62 1083.19,-313.62 1051.62,-317.19 1051.62,-321.57\"/>\n",
       "<text text-anchor=\"start\" x=\"1085.3\" y=\"-294.5\" font-family=\"Helvetica,sans-Serif\" font-weight=\"bold\" font-size=\"14.00\">df_to_json</text>\n",
       "<text text-anchor=\"start\" x=\"1062.42\" y=\"-266.5\" font-family=\"Helvetica,sans-Serif\" font-style=\"italic\" font-size=\"14.00\">PolarsJSONWriter</text>\n",
       "</g>\n",
       "<!-- avg_3wk_spend -->\n",
       "<g id=\"node4\" class=\"node\">\n",
       "<title>avg_3wk_spend</title>\n",
       "<path fill=\"#ffc857\" stroke=\"black\" d=\"M657.4,-399.6C657.4,-399.6 546.55,-399.6 546.55,-399.6 540.55,-399.6 534.55,-393.6 534.55,-387.6 534.55,-387.6 534.55,-348 534.55,-348 534.55,-342 540.55,-336 546.55,-336 546.55,-336 657.4,-336 657.4,-336 663.4,-336 669.4,-342 669.4,-348 669.4,-348 669.4,-387.6 669.4,-387.6 669.4,-393.6 663.4,-399.6 657.4,-399.6\"/>\n",
       "<text text-anchor=\"start\" x=\"545.35\" y=\"-376.5\" font-family=\"Helvetica,sans-Serif\" font-weight=\"bold\" font-size=\"14.00\">avg_3wk_spend</text>\n",
       "<text text-anchor=\"start\" x=\"580.97\" y=\"-348.5\" font-family=\"Helvetica,sans-Serif\" font-style=\"italic\" font-size=\"14.00\">Series</text>\n",
       "</g>\n",
       "<!-- df_to_parquet_build_result -->\n",
       "<g id=\"node5\" class=\"node\">\n",
       "<title>df_to_parquet_build_result</title>\n",
       "<path fill=\"#b4d8e4\" stroke=\"black\" d=\"M972,-399.6C972,-399.6 786.15,-399.6 786.15,-399.6 780.15,-399.6 774.15,-393.6 774.15,-387.6 774.15,-387.6 774.15,-348 774.15,-348 774.15,-342 780.15,-336 786.15,-336 786.15,-336 972,-336 972,-336 978,-336 984,-342 984,-348 984,-348 984,-387.6 984,-387.6 984,-393.6 978,-399.6 972,-399.6\"/>\n",
       "<text text-anchor=\"start\" x=\"784.95\" y=\"-376.5\" font-family=\"Helvetica,sans-Serif\" font-weight=\"bold\" font-size=\"14.00\">df_to_parquet_build_result</text>\n",
       "<text text-anchor=\"start\" x=\"842.32\" y=\"-348.5\" font-family=\"Helvetica,sans-Serif\" font-style=\"italic\" font-size=\"14.00\">DataFrame</text>\n",
       "</g>\n",
       "<!-- avg_3wk_spend&#45;&gt;df_to_parquet_build_result -->\n",
       "<g id=\"edge5\" class=\"edge\">\n",
       "<title>avg_3wk_spend&#45;&gt;df_to_parquet_build_result</title>\n",
       "<path fill=\"none\" stroke=\"black\" d=\"M669.57,-367.8C697.52,-367.8 730.85,-367.8 762.58,-367.8\"/>\n",
       "<polygon fill=\"black\" stroke=\"black\" points=\"762.21,-371.3 772.21,-367.8 762.21,-364.3 762.21,-371.3\"/>\n",
       "</g>\n",
       "<!-- df_to_feather_build_result -->\n",
       "<g id=\"node9\" class=\"node\">\n",
       "<title>df_to_feather_build_result</title>\n",
       "<path fill=\"#b4d8e4\" stroke=\"black\" d=\"M969.37,-481.6C969.37,-481.6 788.77,-481.6 788.77,-481.6 782.77,-481.6 776.77,-475.6 776.77,-469.6 776.77,-469.6 776.77,-430 776.77,-430 776.77,-424 782.77,-418 788.77,-418 788.77,-418 969.37,-418 969.37,-418 975.37,-418 981.37,-424 981.37,-430 981.37,-430 981.37,-469.6 981.37,-469.6 981.37,-475.6 975.37,-481.6 969.37,-481.6\"/>\n",
       "<text text-anchor=\"start\" x=\"787.57\" y=\"-458.5\" font-family=\"Helvetica,sans-Serif\" font-weight=\"bold\" font-size=\"14.00\">df_to_feather_build_result</text>\n",
       "<text text-anchor=\"start\" x=\"842.32\" y=\"-430.5\" font-family=\"Helvetica,sans-Serif\" font-style=\"italic\" font-size=\"14.00\">DataFrame</text>\n",
       "</g>\n",
       "<!-- avg_3wk_spend&#45;&gt;df_to_feather_build_result -->\n",
       "<g id=\"edge13\" class=\"edge\">\n",
       "<title>avg_3wk_spend&#45;&gt;df_to_feather_build_result</title>\n",
       "<path fill=\"none\" stroke=\"black\" d=\"M669.57,-387.65C698.36,-396.23 732.85,-406.51 765.43,-416.22\"/>\n",
       "<polygon fill=\"black\" stroke=\"black\" points=\"764.35,-419.55 774.94,-419.06 766.35,-412.85 764.35,-419.55\"/>\n",
       "</g>\n",
       "<!-- df_to_json_build_result -->\n",
       "<g id=\"node11\" class=\"node\">\n",
       "<title>df_to_json_build_result</title>\n",
       "<path fill=\"#b4d8e4\" stroke=\"black\" d=\"M960,-317.6C960,-317.6 798.15,-317.6 798.15,-317.6 792.15,-317.6 786.15,-311.6 786.15,-305.6 786.15,-305.6 786.15,-266 786.15,-266 786.15,-260 792.15,-254 798.15,-254 798.15,-254 960,-254 960,-254 966,-254 972,-260 972,-266 972,-266 972,-305.6 972,-305.6 972,-311.6 966,-317.6 960,-317.6\"/>\n",
       "<text text-anchor=\"start\" x=\"796.95\" y=\"-294.5\" font-family=\"Helvetica,sans-Serif\" font-weight=\"bold\" font-size=\"14.00\">df_to_json_build_result</text>\n",
       "<text text-anchor=\"start\" x=\"842.32\" y=\"-266.5\" font-family=\"Helvetica,sans-Serif\" font-style=\"italic\" font-size=\"14.00\">DataFrame</text>\n",
       "</g>\n",
       "<!-- avg_3wk_spend&#45;&gt;df_to_json_build_result -->\n",
       "<g id=\"edge18\" class=\"edge\">\n",
       "<title>avg_3wk_spend&#45;&gt;df_to_json_build_result</title>\n",
       "<path fill=\"none\" stroke=\"black\" d=\"M669.57,-347.95C701.2,-338.52 739.73,-327.04 775.02,-316.52\"/>\n",
       "<polygon fill=\"black\" stroke=\"black\" points=\"775.82,-319.93 784.4,-313.72 773.82,-313.22 775.82,-319.93\"/>\n",
       "</g>\n",
       "<!-- df_to_spreadsheet_build_result -->\n",
       "<g id=\"node13\" class=\"node\">\n",
       "<title>df_to_spreadsheet_build_result</title>\n",
       "<path fill=\"#b4d8e4\" stroke=\"black\" d=\"M988.5,-153.6C988.5,-153.6 769.65,-153.6 769.65,-153.6 763.65,-153.6 757.65,-147.6 757.65,-141.6 757.65,-141.6 757.65,-102 757.65,-102 757.65,-96 763.65,-90 769.65,-90 769.65,-90 988.5,-90 988.5,-90 994.5,-90 1000.5,-96 1000.5,-102 1000.5,-102 1000.5,-141.6 1000.5,-141.6 1000.5,-147.6 994.5,-153.6 988.5,-153.6\"/>\n",
       "<text text-anchor=\"start\" x=\"768.45\" y=\"-130.5\" font-family=\"Helvetica,sans-Serif\" font-weight=\"bold\" font-size=\"14.00\">df_to_spreadsheet_build_result</text>\n",
       "<text text-anchor=\"start\" x=\"842.32\" y=\"-102.5\" font-family=\"Helvetica,sans-Serif\" font-style=\"italic\" font-size=\"14.00\">DataFrame</text>\n",
       "</g>\n",
       "<!-- avg_3wk_spend&#45;&gt;df_to_spreadsheet_build_result -->\n",
       "<g id=\"edge24\" class=\"edge\">\n",
       "<title>avg_3wk_spend&#45;&gt;df_to_spreadsheet_build_result</title>\n",
       "<path fill=\"none\" stroke=\"black\" d=\"M669.66,-359.89C691.36,-354.07 713.67,-344.04 728.65,-326.8 777.19,-270.92 709.47,-218.99 757.65,-162.8 757.91,-162.5 758.16,-162.2 758.43,-161.91\"/>\n",
       "<polygon fill=\"black\" stroke=\"black\" points=\"760.77,-164.51 765.48,-155.02 755.88,-159.5 760.77,-164.51\"/>\n",
       "</g>\n",
       "<!-- df_to_avro_build_result -->\n",
       "<g id=\"node16\" class=\"node\">\n",
       "<title>df_to_avro_build_result</title>\n",
       "<path fill=\"#b4d8e4\" stroke=\"black\" d=\"M960.75,-235.6C960.75,-235.6 797.4,-235.6 797.4,-235.6 791.4,-235.6 785.4,-229.6 785.4,-223.6 785.4,-223.6 785.4,-184 785.4,-184 785.4,-178 791.4,-172 797.4,-172 797.4,-172 960.75,-172 960.75,-172 966.75,-172 972.75,-178 972.75,-184 972.75,-184 972.75,-223.6 972.75,-223.6 972.75,-229.6 966.75,-235.6 960.75,-235.6\"/>\n",
       "<text text-anchor=\"start\" x=\"796.2\" y=\"-212.5\" font-family=\"Helvetica,sans-Serif\" font-weight=\"bold\" font-size=\"14.00\">df_to_avro_build_result</text>\n",
       "<text text-anchor=\"start\" x=\"842.32\" y=\"-184.5\" font-family=\"Helvetica,sans-Serif\" font-style=\"italic\" font-size=\"14.00\">DataFrame</text>\n",
       "</g>\n",
       "<!-- avg_3wk_spend&#45;&gt;df_to_avro_build_result -->\n",
       "<g id=\"edge30\" class=\"edge\">\n",
       "<title>avg_3wk_spend&#45;&gt;df_to_avro_build_result</title>\n",
       "<path fill=\"none\" stroke=\"black\" d=\"M669.75,-357.99C690.81,-352 712.72,-342.35 728.65,-326.8 756.32,-299.8 730.16,-271.97 757.65,-244.8 762.98,-239.53 769.01,-234.94 775.47,-230.94\"/>\n",
       "<polygon fill=\"black\" stroke=\"black\" points=\"776.86,-234.17 783.87,-226.23 773.44,-228.06 776.86,-234.17\"/>\n",
       "</g>\n",
       "<!-- df_to_parquet -->\n",
       "<g id=\"node15\" class=\"node\">\n",
       "<title>df_to_parquet</title>\n",
       "<path fill=\"#ffc857\" stroke=\"black\" d=\"M1198.47,-426.57C1198.47,-430.96 1164.22,-434.52 1122.05,-434.52 1079.88,-434.52 1045.62,-430.96 1045.62,-426.57 1045.62,-426.57 1045.62,-355.03 1045.62,-355.03 1045.62,-350.64 1079.88,-347.08 1122.05,-347.08 1164.22,-347.08 1198.47,-350.64 1198.47,-355.03 1198.47,-355.03 1198.47,-426.57 1198.47,-426.57\"/>\n",
       "<path fill=\"none\" stroke=\"black\" d=\"M1198.47,-426.57C1198.47,-422.19 1164.22,-418.62 1122.05,-418.62 1079.88,-418.62 1045.62,-422.19 1045.62,-426.57\"/>\n",
       "<text text-anchor=\"start\" x=\"1073.3\" y=\"-399.5\" font-family=\"Helvetica,sans-Serif\" font-weight=\"bold\" font-size=\"14.00\">df_to_parquet</text>\n",
       "<text text-anchor=\"start\" x=\"1056.42\" y=\"-371.5\" font-family=\"Helvetica,sans-Serif\" font-style=\"italic\" font-size=\"14.00\">PolarsParquetWriter</text>\n",
       "</g>\n",
       "<!-- df_to_parquet_build_result&#45;&gt;df_to_parquet -->\n",
       "<g id=\"edge29\" class=\"edge\">\n",
       "<title>df_to_parquet_build_result&#45;&gt;df_to_parquet</title>\n",
       "<path fill=\"none\" stroke=\"black\" d=\"M984.37,-377.75C1001.01,-379.34 1018.07,-380.97 1034.24,-382.51\"/>\n",
       "<polygon fill=\"black\" stroke=\"black\" points=\"1033.49,-385.96 1043.78,-383.43 1034.16,-378.99 1033.49,-385.96\"/>\n",
       "</g>\n",
       "<!-- spend_std_dev -->\n",
       "<g id=\"node6\" class=\"node\">\n",
       "<title>spend_std_dev</title>\n",
       "<path fill=\"#b4d8e4\" stroke=\"black\" d=\"M423.42,-362.6C423.42,-362.6 318.57,-362.6 318.57,-362.6 312.57,-362.6 306.57,-356.6 306.57,-350.6 306.57,-350.6 306.57,-311 306.57,-311 306.57,-305 312.57,-299 318.57,-299 318.57,-299 423.42,-299 423.42,-299 429.42,-299 435.42,-305 435.42,-311 435.42,-311 435.42,-350.6 435.42,-350.6 435.42,-356.6 429.42,-362.6 423.42,-362.6\"/>\n",
       "<text text-anchor=\"start\" x=\"317.37\" y=\"-339.5\" font-family=\"Helvetica,sans-Serif\" font-weight=\"bold\" font-size=\"14.00\">spend_std_dev</text>\n",
       "<text text-anchor=\"start\" x=\"357.12\" y=\"-311.5\" font-family=\"Helvetica,sans-Serif\" font-style=\"italic\" font-size=\"14.00\">float</text>\n",
       "</g>\n",
       "<!-- spend_zero_mean_unit_variance -->\n",
       "<g id=\"node7\" class=\"node\">\n",
       "<title>spend_zero_mean_unit_variance</title>\n",
       "<path fill=\"#ffc857\" stroke=\"black\" d=\"M716.65,-317.6C716.65,-317.6 487.3,-317.6 487.3,-317.6 481.3,-317.6 475.3,-311.6 475.3,-305.6 475.3,-305.6 475.3,-266 475.3,-266 475.3,-260 481.3,-254 487.3,-254 487.3,-254 716.65,-254 716.65,-254 722.65,-254 728.65,-260 728.65,-266 728.65,-266 728.65,-305.6 728.65,-305.6 728.65,-311.6 722.65,-317.6 716.65,-317.6\"/>\n",
       "<text text-anchor=\"start\" x=\"486.1\" y=\"-294.5\" font-family=\"Helvetica,sans-Serif\" font-weight=\"bold\" font-size=\"14.00\">spend_zero_mean_unit_variance</text>\n",
       "<text text-anchor=\"start\" x=\"580.97\" y=\"-266.5\" font-family=\"Helvetica,sans-Serif\" font-style=\"italic\" font-size=\"14.00\">Series</text>\n",
       "</g>\n",
       "<!-- spend_std_dev&#45;&gt;spend_zero_mean_unit_variance -->\n",
       "<g id=\"edge11\" class=\"edge\">\n",
       "<title>spend_std_dev&#45;&gt;spend_zero_mean_unit_variance</title>\n",
       "<path fill=\"none\" stroke=\"black\" d=\"M435.78,-318.26C444.72,-316.51 454.18,-314.65 463.87,-312.75\"/>\n",
       "<polygon fill=\"black\" stroke=\"black\" points=\"464.26,-316.24 473.39,-310.87 462.91,-309.37 464.26,-316.24\"/>\n",
       "</g>\n",
       "<!-- spend_zero_mean_unit_variance&#45;&gt;df_to_parquet_build_result -->\n",
       "<g id=\"edge7\" class=\"edge\">\n",
       "<title>spend_zero_mean_unit_variance&#45;&gt;df_to_parquet_build_result</title>\n",
       "<path fill=\"none\" stroke=\"black\" d=\"M711.31,-318.09C728.37,-323.18 746.05,-328.45 763.25,-333.57\"/>\n",
       "<polygon fill=\"black\" stroke=\"black\" points=\"761.85,-336.81 772.44,-336.31 763.85,-330.1 761.85,-336.81\"/>\n",
       "</g>\n",
       "<!-- spend_zero_mean_unit_variance&#45;&gt;df_to_feather_build_result -->\n",
       "<g id=\"edge15\" class=\"edge\">\n",
       "<title>spend_zero_mean_unit_variance&#45;&gt;df_to_feather_build_result</title>\n",
       "<path fill=\"none\" stroke=\"black\" d=\"M718.09,-317.92C721.83,-320.64 725.36,-323.59 728.65,-326.8 756.32,-353.8 730.16,-381.63 757.65,-408.8 760.53,-411.64 763.61,-414.29 766.85,-416.75\"/>\n",
       "<polygon fill=\"black\" stroke=\"black\" points=\"764.88,-419.64 775.11,-422.36 768.81,-413.85 764.88,-419.64\"/>\n",
       "</g>\n",
       "<!-- spend_zero_mean_unit_variance&#45;&gt;df_to_json_build_result -->\n",
       "<g id=\"edge20\" class=\"edge\">\n",
       "<title>spend_zero_mean_unit_variance&#45;&gt;df_to_json_build_result</title>\n",
       "<path fill=\"none\" stroke=\"black\" d=\"M728.85,-285.8C744.18,-285.8 759.71,-285.8 774.66,-285.8\"/>\n",
       "<polygon fill=\"black\" stroke=\"black\" points=\"774.46,-289.3 784.46,-285.8 774.46,-282.3 774.46,-289.3\"/>\n",
       "</g>\n",
       "<!-- spend_zero_mean_unit_variance&#45;&gt;df_to_spreadsheet_build_result -->\n",
       "<g id=\"edge26\" class=\"edge\">\n",
       "<title>spend_zero_mean_unit_variance&#45;&gt;df_to_spreadsheet_build_result</title>\n",
       "<path fill=\"none\" stroke=\"black\" d=\"M718.09,-253.68C721.83,-250.96 725.36,-248.01 728.65,-244.8 756.32,-217.8 730.16,-189.97 757.65,-162.8 758.15,-162.3 758.66,-161.81 759.18,-161.33\"/>\n",
       "<polygon fill=\"black\" stroke=\"black\" points=\"761.4,-164.03 766.85,-154.94 756.93,-158.64 761.4,-164.03\"/>\n",
       "</g>\n",
       "<!-- spend_zero_mean_unit_variance&#45;&gt;df_to_avro_build_result -->\n",
       "<g id=\"edge32\" class=\"edge\">\n",
       "<title>spend_zero_mean_unit_variance&#45;&gt;df_to_avro_build_result</title>\n",
       "<path fill=\"none\" stroke=\"black\" d=\"M711.31,-253.51C731.95,-247.35 753.52,-240.93 774.03,-234.81\"/>\n",
       "<polygon fill=\"black\" stroke=\"black\" points=\"774.94,-238.19 783.53,-231.98 772.94,-231.49 774.94,-238.19\"/>\n",
       "</g>\n",
       "<!-- df_to_avro -->\n",
       "<g id=\"node8\" class=\"node\">\n",
       "<title>df_to_avro</title>\n",
       "<path fill=\"#ffc857\" stroke=\"black\" d=\"M1187.97,-216.57C1187.97,-220.96 1158.43,-224.53 1122.05,-224.53 1085.67,-224.53 1056.12,-220.96 1056.12,-216.57 1056.12,-216.57 1056.12,-145.03 1056.12,-145.03 1056.12,-140.64 1085.67,-137.08 1122.05,-137.08 1158.43,-137.08 1187.97,-140.64 1187.97,-145.03 1187.97,-145.03 1187.97,-216.57 1187.97,-216.57\"/>\n",
       "<path fill=\"none\" stroke=\"black\" d=\"M1187.97,-216.57C1187.97,-212.19 1158.43,-208.62 1122.05,-208.62 1085.67,-208.62 1056.12,-212.19 1056.12,-216.57\"/>\n",
       "<text text-anchor=\"start\" x=\"1084.55\" y=\"-189.5\" font-family=\"Helvetica,sans-Serif\" font-weight=\"bold\" font-size=\"14.00\">df_to_avro</text>\n",
       "<text text-anchor=\"start\" x=\"1066.92\" y=\"-161.5\" font-family=\"Helvetica,sans-Serif\" font-style=\"italic\" font-size=\"14.00\">PolarsAvroWriter</text>\n",
       "</g>\n",
       "<!-- df_to_feather_build_result&#45;&gt;df_to_feather -->\n",
       "<g id=\"edge1\" class=\"edge\">\n",
       "<title>df_to_feather_build_result&#45;&gt;df_to_feather</title>\n",
       "<path fill=\"none\" stroke=\"black\" d=\"M981.57,-469.17C999.19,-472.54 1017.37,-476.01 1034.54,-479.29\"/>\n",
       "<polygon fill=\"black\" stroke=\"black\" points=\"1033.7,-482.69 1044.18,-481.13 1035.01,-475.81 1033.7,-482.69\"/>\n",
       "</g>\n",
       "<!-- spend_per_signup -->\n",
       "<g id=\"node10\" class=\"node\">\n",
       "<title>spend_per_signup</title>\n",
       "<path fill=\"#ffc857\" stroke=\"black\" d=\"M666.4,-235.6C666.4,-235.6 537.55,-235.6 537.55,-235.6 531.55,-235.6 525.55,-229.6 525.55,-223.6 525.55,-223.6 525.55,-184 525.55,-184 525.55,-178 531.55,-172 537.55,-172 537.55,-172 666.4,-172 666.4,-172 672.4,-172 678.4,-178 678.4,-184 678.4,-184 678.4,-223.6 678.4,-223.6 678.4,-229.6 672.4,-235.6 666.4,-235.6\"/>\n",
       "<text text-anchor=\"start\" x=\"536.35\" y=\"-212.5\" font-family=\"Helvetica,sans-Serif\" font-weight=\"bold\" font-size=\"14.00\">spend_per_signup</text>\n",
       "<text text-anchor=\"start\" x=\"580.97\" y=\"-184.5\" font-family=\"Helvetica,sans-Serif\" font-style=\"italic\" font-size=\"14.00\">Series</text>\n",
       "</g>\n",
       "<!-- spend_per_signup&#45;&gt;df_to_parquet_build_result -->\n",
       "<g id=\"edge6\" class=\"edge\">\n",
       "<title>spend_per_signup&#45;&gt;df_to_parquet_build_result</title>\n",
       "<path fill=\"none\" stroke=\"black\" d=\"M678.58,-216.33C696.8,-222.4 714.93,-231.42 728.65,-244.8 756.32,-271.8 730.16,-299.63 757.65,-326.8 759.86,-328.98 762.18,-331.05 764.61,-333\"/>\n",
       "<polygon fill=\"black\" stroke=\"black\" points=\"762.41,-335.73 772.58,-338.73 766.5,-330.05 762.41,-335.73\"/>\n",
       "</g>\n",
       "<!-- spend_per_signup&#45;&gt;df_to_feather_build_result -->\n",
       "<g id=\"edge14\" class=\"edge\">\n",
       "<title>spend_per_signup&#45;&gt;df_to_feather_build_result</title>\n",
       "<path fill=\"none\" stroke=\"black\" d=\"M678.83,-214.42C697.49,-220.49 715.78,-229.99 728.65,-244.8 777.19,-300.68 709.47,-352.61 757.65,-408.8 760.6,-412.24 763.85,-415.39 767.33,-418.28\"/>\n",
       "<polygon fill=\"black\" stroke=\"black\" points=\"765.07,-420.96 775.21,-424.03 769.19,-415.3 765.07,-420.96\"/>\n",
       "</g>\n",
       "<!-- spend_per_signup&#45;&gt;df_to_json_build_result -->\n",
       "<g id=\"edge19\" class=\"edge\">\n",
       "<title>spend_per_signup&#45;&gt;df_to_json_build_result</title>\n",
       "<path fill=\"none\" stroke=\"black\" d=\"M678.88,-226.42C708.6,-235.28 743.16,-245.58 775.07,-255.1\"/>\n",
       "<polygon fill=\"black\" stroke=\"black\" points=\"773.74,-258.35 784.33,-257.86 775.74,-251.65 773.74,-258.35\"/>\n",
       "</g>\n",
       "<!-- spend_per_signup&#45;&gt;df_to_spreadsheet_build_result -->\n",
       "<g id=\"edge25\" class=\"edge\">\n",
       "<title>spend_per_signup&#45;&gt;df_to_spreadsheet_build_result</title>\n",
       "<path fill=\"none\" stroke=\"black\" d=\"M678.88,-181.18C703.66,-173.79 731.8,-165.4 758.97,-157.3\"/>\n",
       "<polygon fill=\"black\" stroke=\"black\" points=\"759.7,-160.74 768.28,-154.53 757.7,-154.03 759.7,-160.74\"/>\n",
       "</g>\n",
       "<!-- spend_per_signup&#45;&gt;df_to_avro_build_result -->\n",
       "<g id=\"edge31\" class=\"edge\">\n",
       "<title>spend_per_signup&#45;&gt;df_to_avro_build_result</title>\n",
       "<path fill=\"none\" stroke=\"black\" d=\"M678.88,-203.8C708.13,-203.8 742.06,-203.8 773.55,-203.8\"/>\n",
       "<polygon fill=\"black\" stroke=\"black\" points=\"773.51,-207.3 783.51,-203.8 773.51,-200.3 773.51,-207.3\"/>\n",
       "</g>\n",
       "<!-- df_to_json_build_result&#45;&gt;df_to_json -->\n",
       "<g id=\"edge3\" class=\"edge\">\n",
       "<title>df_to_json_build_result&#45;&gt;df_to_json</title>\n",
       "<path fill=\"none\" stroke=\"black\" d=\"M972.21,-285.8C994.61,-285.8 1018.4,-285.8 1040.23,-285.8\"/>\n",
       "<polygon fill=\"black\" stroke=\"black\" points=\"1039.94,-289.3 1049.94,-285.8 1039.94,-282.3 1039.94,-289.3\"/>\n",
       "</g>\n",
       "<!-- spend_zero_mean -->\n",
       "<g id=\"node12\" class=\"node\">\n",
       "<title>spend_zero_mean</title>\n",
       "<path fill=\"#b4d8e4\" stroke=\"black\" d=\"M434.3,-280.6C434.3,-280.6 307.7,-280.6 307.7,-280.6 301.7,-280.6 295.7,-274.6 295.7,-268.6 295.7,-268.6 295.7,-229 295.7,-229 295.7,-223 301.7,-217 307.7,-217 307.7,-217 434.3,-217 434.3,-217 440.3,-217 446.3,-223 446.3,-229 446.3,-229 446.3,-268.6 446.3,-268.6 446.3,-274.6 440.3,-280.6 434.3,-280.6\"/>\n",
       "<text text-anchor=\"start\" x=\"306.5\" y=\"-257.5\" font-family=\"Helvetica,sans-Serif\" font-weight=\"bold\" font-size=\"14.00\">spend_zero_mean</text>\n",
       "<text text-anchor=\"start\" x=\"350\" y=\"-229.5\" font-family=\"Helvetica,sans-Serif\" font-style=\"italic\" font-size=\"14.00\">Series</text>\n",
       "</g>\n",
       "<!-- spend_zero_mean&#45;&gt;spend_zero_mean_unit_variance -->\n",
       "<g id=\"edge10\" class=\"edge\">\n",
       "<title>spend_zero_mean&#45;&gt;spend_zero_mean_unit_variance</title>\n",
       "<path fill=\"none\" stroke=\"black\" d=\"M446.66,-260.86C452.23,-261.76 457.94,-262.69 463.73,-263.62\"/>\n",
       "<polygon fill=\"black\" stroke=\"black\" points=\"463.02,-267.05 473.45,-265.19 464.14,-260.14 463.02,-267.05\"/>\n",
       "</g>\n",
       "<!-- df_to_spreadsheet_build_result&#45;&gt;df_to_spreadsheet -->\n",
       "<g id=\"edge2\" class=\"edge\">\n",
       "<title>df_to_spreadsheet_build_result&#45;&gt;df_to_spreadsheet</title>\n",
       "<path fill=\"none\" stroke=\"black\" d=\"M1000.92,-98.73C1006.71,-97.63 1012.51,-96.52 1018.25,-95.42\"/>\n",
       "<polygon fill=\"black\" stroke=\"black\" points=\"1018.55,-98.93 1027.72,-93.62 1017.24,-92.05 1018.55,-98.93\"/>\n",
       "</g>\n",
       "<!-- spend_mean -->\n",
       "<g id=\"node14\" class=\"node\">\n",
       "<title>spend_mean</title>\n",
       "<path fill=\"#b4d8e4\" stroke=\"black\" d=\"M252.2,-216.6C252.2,-216.6 164.6,-216.6 164.6,-216.6 158.6,-216.6 152.6,-210.6 152.6,-204.6 152.6,-204.6 152.6,-165 152.6,-165 152.6,-159 158.6,-153 164.6,-153 164.6,-153 252.2,-153 252.2,-153 258.2,-153 264.2,-159 264.2,-165 264.2,-165 264.2,-204.6 264.2,-204.6 264.2,-210.6 258.2,-216.6 252.2,-216.6\"/>\n",
       "<text text-anchor=\"start\" x=\"163.4\" y=\"-193.5\" font-family=\"Helvetica,sans-Serif\" font-weight=\"bold\" font-size=\"14.00\">spend_mean</text>\n",
       "<text text-anchor=\"start\" x=\"194.52\" y=\"-165.5\" font-family=\"Helvetica,sans-Serif\" font-style=\"italic\" font-size=\"14.00\">float</text>\n",
       "</g>\n",
       "<!-- spend_mean&#45;&gt;spend_zero_mean -->\n",
       "<g id=\"edge22\" class=\"edge\">\n",
       "<title>spend_mean&#45;&gt;spend_zero_mean</title>\n",
       "<path fill=\"none\" stroke=\"black\" d=\"M264.67,-206.83C271.16,-209.41 277.89,-212.09 284.67,-214.8\"/>\n",
       "<polygon fill=\"black\" stroke=\"black\" points=\"283.35,-218.04 293.93,-218.49 285.94,-211.53 283.35,-218.04\"/>\n",
       "</g>\n",
       "<!-- df_to_avro_build_result&#45;&gt;df_to_avro -->\n",
       "<g id=\"edge12\" class=\"edge\">\n",
       "<title>df_to_avro_build_result&#45;&gt;df_to_avro</title>\n",
       "<path fill=\"none\" stroke=\"black\" d=\"M973.24,-194.91C996.81,-192.66 1021.85,-190.27 1044.49,-188.11\"/>\n",
       "<polygon fill=\"black\" stroke=\"black\" points=\"1044.61,-191.61 1054.23,-187.18 1043.95,-184.64 1044.61,-191.61\"/>\n",
       "</g>\n",
       "<!-- _avg_3wk_spend_inputs -->\n",
       "<g id=\"node17\" class=\"node\">\n",
       "<title>_avg_3wk_spend_inputs</title>\n",
       "<polygon fill=\"#ffffff\" stroke=\"black\" stroke-dasharray=\"5,2\" points=\"429.3,-426.85 312.7,-426.85 312.7,-380.75 429.3,-380.75 429.3,-426.85\"/>\n",
       "<text text-anchor=\"start\" x=\"327.5\" y=\"-398.75\" font-family=\"Helvetica,sans-Serif\" font-size=\"14.00\">spend</text>\n",
       "<text text-anchor=\"start\" x=\"373.25\" y=\"-398.75\" font-family=\"Helvetica,sans-Serif\" font-size=\"14.00\">Series</text>\n",
       "</g>\n",
       "<!-- _avg_3wk_spend_inputs&#45;&gt;avg_3wk_spend -->\n",
       "<g id=\"edge4\" class=\"edge\">\n",
       "<title>_avg_3wk_spend_inputs&#45;&gt;avg_3wk_spend</title>\n",
       "<path fill=\"none\" stroke=\"black\" d=\"M429.78,-394.72C458.1,-390.26 492.61,-384.84 523.21,-380.03\"/>\n",
       "<polygon fill=\"black\" stroke=\"black\" points=\"523.45,-383.53 532.79,-378.52 522.37,-376.62 523.45,-383.53\"/>\n",
       "</g>\n",
       "<!-- _df_to_parquet_build_result_inputs -->\n",
       "<g id=\"node18\" class=\"node\">\n",
       "<title>_df_to_parquet_build_result_inputs</title>\n",
       "<polygon fill=\"#ffffff\" stroke=\"black\" stroke-dasharray=\"5,2\" points=\"664.77,-571.6 539.17,-571.6 539.17,-504 664.77,-504 664.77,-571.6\"/>\n",
       "<text text-anchor=\"start\" x=\"558.6\" y=\"-543.5\" font-family=\"Helvetica,sans-Serif\" font-size=\"14.00\">spend</text>\n",
       "<text text-anchor=\"start\" x=\"608.85\" y=\"-543.5\" font-family=\"Helvetica,sans-Serif\" font-size=\"14.00\">Series</text>\n",
       "<text text-anchor=\"start\" x=\"553.72\" y=\"-521.5\" font-family=\"Helvetica,sans-Serif\" font-size=\"14.00\">signups</text>\n",
       "<text text-anchor=\"start\" x=\"608.85\" y=\"-521.5\" font-family=\"Helvetica,sans-Serif\" font-size=\"14.00\">Series</text>\n",
       "</g>\n",
       "<!-- _df_to_parquet_build_result_inputs&#45;&gt;df_to_parquet_build_result -->\n",
       "<g id=\"edge8\" class=\"edge\">\n",
       "<title>_df_to_parquet_build_result_inputs&#45;&gt;df_to_parquet_build_result</title>\n",
       "<path fill=\"none\" stroke=\"black\" d=\"M665.06,-528.39C687.59,-522.18 711.65,-511.88 728.65,-494.8 757.11,-466.21 729.17,-437.36 757.65,-408.8 759.92,-406.53 762.31,-404.38 764.82,-402.35\"/>\n",
       "<polygon fill=\"black\" stroke=\"black\" points=\"766.45,-405.49 772.5,-396.79 762.34,-399.82 766.45,-405.49\"/>\n",
       "</g>\n",
       "<!-- _spend_std_dev_inputs -->\n",
       "<g id=\"node19\" class=\"node\">\n",
       "<title>_spend_std_dev_inputs</title>\n",
       "<polygon fill=\"#ffffff\" stroke=\"black\" stroke-dasharray=\"5,2\" points=\"266.7,-353.85 150.1,-353.85 150.1,-307.75 266.7,-307.75 266.7,-353.85\"/>\n",
       "<text text-anchor=\"start\" x=\"164.9\" y=\"-325.75\" font-family=\"Helvetica,sans-Serif\" font-size=\"14.00\">spend</text>\n",
       "<text text-anchor=\"start\" x=\"210.65\" y=\"-325.75\" font-family=\"Helvetica,sans-Serif\" font-size=\"14.00\">Series</text>\n",
       "</g>\n",
       "<!-- _spend_std_dev_inputs&#45;&gt;spend_std_dev -->\n",
       "<g id=\"edge9\" class=\"edge\">\n",
       "<title>_spend_std_dev_inputs&#45;&gt;spend_std_dev</title>\n",
       "<path fill=\"none\" stroke=\"black\" d=\"M266.93,-330.8C276.01,-330.8 285.52,-330.8 294.94,-330.8\"/>\n",
       "<polygon fill=\"black\" stroke=\"black\" points=\"294.82,-334.3 304.82,-330.8 294.82,-327.3 294.82,-334.3\"/>\n",
       "</g>\n",
       "<!-- _df_to_feather_build_result_inputs -->\n",
       "<g id=\"node20\" class=\"node\">\n",
       "<title>_df_to_feather_build_result_inputs</title>\n",
       "<polygon fill=\"#ffffff\" stroke=\"black\" stroke-dasharray=\"5,2\" points=\"664.77,-657.6 539.17,-657.6 539.17,-590 664.77,-590 664.77,-657.6\"/>\n",
       "<text text-anchor=\"start\" x=\"558.6\" y=\"-629.5\" font-family=\"Helvetica,sans-Serif\" font-size=\"14.00\">spend</text>\n",
       "<text text-anchor=\"start\" x=\"608.85\" y=\"-629.5\" font-family=\"Helvetica,sans-Serif\" font-size=\"14.00\">Series</text>\n",
       "<text text-anchor=\"start\" x=\"553.72\" y=\"-607.5\" font-family=\"Helvetica,sans-Serif\" font-size=\"14.00\">signups</text>\n",
       "<text text-anchor=\"start\" x=\"608.85\" y=\"-607.5\" font-family=\"Helvetica,sans-Serif\" font-size=\"14.00\">Series</text>\n",
       "</g>\n",
       "<!-- _df_to_feather_build_result_inputs&#45;&gt;df_to_feather_build_result -->\n",
       "<g id=\"edge16\" class=\"edge\">\n",
       "<title>_df_to_feather_build_result_inputs&#45;&gt;df_to_feather_build_result</title>\n",
       "<path fill=\"none\" stroke=\"black\" d=\"M665.15,-607.82C686.09,-601.08 709.09,-592.12 728.65,-580.8 770.91,-556.34 812.11,-518.89 840.51,-490.28\"/>\n",
       "<polygon fill=\"black\" stroke=\"black\" points=\"842.98,-492.76 847.48,-483.17 837.98,-487.87 842.98,-492.76\"/>\n",
       "</g>\n",
       "<!-- _spend_per_signup_inputs -->\n",
       "<g id=\"node21\" class=\"node\">\n",
       "<title>_spend_per_signup_inputs</title>\n",
       "<polygon fill=\"#ffffff\" stroke=\"black\" stroke-dasharray=\"5,2\" points=\"433.8,-198.6 308.2,-198.6 308.2,-131 433.8,-131 433.8,-198.6\"/>\n",
       "<text text-anchor=\"start\" x=\"327.62\" y=\"-170.5\" font-family=\"Helvetica,sans-Serif\" font-size=\"14.00\">spend</text>\n",
       "<text text-anchor=\"start\" x=\"377.87\" y=\"-170.5\" font-family=\"Helvetica,sans-Serif\" font-size=\"14.00\">Series</text>\n",
       "<text text-anchor=\"start\" x=\"322.75\" y=\"-148.5\" font-family=\"Helvetica,sans-Serif\" font-size=\"14.00\">signups</text>\n",
       "<text text-anchor=\"start\" x=\"377.87\" y=\"-148.5\" font-family=\"Helvetica,sans-Serif\" font-size=\"14.00\">Series</text>\n",
       "</g>\n",
       "<!-- _spend_per_signup_inputs&#45;&gt;spend_per_signup -->\n",
       "<g id=\"edge17\" class=\"edge\">\n",
       "<title>_spend_per_signup_inputs&#45;&gt;spend_per_signup</title>\n",
       "<path fill=\"none\" stroke=\"black\" d=\"M434.27,-175.41C458.83,-179.59 487.48,-184.47 514.03,-188.99\"/>\n",
       "<polygon fill=\"black\" stroke=\"black\" points=\"513.32,-192.42 523.77,-190.65 514.5,-185.52 513.32,-192.42\"/>\n",
       "</g>\n",
       "<!-- _df_to_json_build_result_inputs -->\n",
       "<g id=\"node22\" class=\"node\">\n",
       "<title>_df_to_json_build_result_inputs</title>\n",
       "<polygon fill=\"#ffffff\" stroke=\"black\" stroke-dasharray=\"5,2\" points=\"664.77,-485.6 539.17,-485.6 539.17,-418 664.77,-418 664.77,-485.6\"/>\n",
       "<text text-anchor=\"start\" x=\"558.6\" y=\"-457.5\" font-family=\"Helvetica,sans-Serif\" font-size=\"14.00\">spend</text>\n",
       "<text text-anchor=\"start\" x=\"608.85\" y=\"-457.5\" font-family=\"Helvetica,sans-Serif\" font-size=\"14.00\">Series</text>\n",
       "<text text-anchor=\"start\" x=\"553.72\" y=\"-435.5\" font-family=\"Helvetica,sans-Serif\" font-size=\"14.00\">signups</text>\n",
       "<text text-anchor=\"start\" x=\"608.85\" y=\"-435.5\" font-family=\"Helvetica,sans-Serif\" font-size=\"14.00\">Series</text>\n",
       "</g>\n",
       "<!-- _df_to_json_build_result_inputs&#45;&gt;df_to_json_build_result -->\n",
       "<g id=\"edge21\" class=\"edge\">\n",
       "<title>_df_to_json_build_result_inputs&#45;&gt;df_to_json_build_result</title>\n",
       "<path fill=\"none\" stroke=\"black\" d=\"M665.25,-442.17C687.67,-435.93 711.6,-425.67 728.65,-408.8 756.12,-381.61 730.16,-353.97 757.65,-326.8 763.09,-321.43 769.25,-316.76 775.85,-312.7\"/>\n",
       "<polygon fill=\"black\" stroke=\"black\" points=\"777.43,-315.83 784.47,-307.92 774.03,-309.71 777.43,-315.83\"/>\n",
       "</g>\n",
       "<!-- _spend_zero_mean_inputs -->\n",
       "<g id=\"node23\" class=\"node\">\n",
       "<title>_spend_zero_mean_inputs</title>\n",
       "<polygon fill=\"#ffffff\" stroke=\"black\" stroke-dasharray=\"5,2\" points=\"266.7,-280.85 150.1,-280.85 150.1,-234.75 266.7,-234.75 266.7,-280.85\"/>\n",
       "<text text-anchor=\"start\" x=\"164.9\" y=\"-252.75\" font-family=\"Helvetica,sans-Serif\" font-size=\"14.00\">spend</text>\n",
       "<text text-anchor=\"start\" x=\"210.65\" y=\"-252.75\" font-family=\"Helvetica,sans-Serif\" font-size=\"14.00\">Series</text>\n",
       "</g>\n",
       "<!-- _spend_zero_mean_inputs&#45;&gt;spend_zero_mean -->\n",
       "<g id=\"edge23\" class=\"edge\">\n",
       "<title>_spend_zero_mean_inputs&#45;&gt;spend_zero_mean</title>\n",
       "<path fill=\"none\" stroke=\"black\" d=\"M266.93,-254.58C272.52,-254.26 278.28,-253.94 284.07,-253.62\"/>\n",
       "<polygon fill=\"black\" stroke=\"black\" points=\"283.93,-257.13 293.72,-253.07 283.54,-250.14 283.93,-257.13\"/>\n",
       "</g>\n",
       "<!-- _df_to_spreadsheet_build_result_inputs -->\n",
       "<g id=\"node24\" class=\"node\">\n",
       "<title>_df_to_spreadsheet_build_result_inputs</title>\n",
       "<polygon fill=\"#ffffff\" stroke=\"black\" stroke-dasharray=\"5,2\" points=\"664.77,-67.6 539.17,-67.6 539.17,0 664.77,0 664.77,-67.6\"/>\n",
       "<text text-anchor=\"start\" x=\"558.6\" y=\"-39.5\" font-family=\"Helvetica,sans-Serif\" font-size=\"14.00\">spend</text>\n",
       "<text text-anchor=\"start\" x=\"608.85\" y=\"-39.5\" font-family=\"Helvetica,sans-Serif\" font-size=\"14.00\">Series</text>\n",
       "<text text-anchor=\"start\" x=\"553.72\" y=\"-17.5\" font-family=\"Helvetica,sans-Serif\" font-size=\"14.00\">signups</text>\n",
       "<text text-anchor=\"start\" x=\"608.85\" y=\"-17.5\" font-family=\"Helvetica,sans-Serif\" font-size=\"14.00\">Series</text>\n",
       "</g>\n",
       "<!-- _df_to_spreadsheet_build_result_inputs&#45;&gt;df_to_spreadsheet_build_result -->\n",
       "<g id=\"edge27\" class=\"edge\">\n",
       "<title>_df_to_spreadsheet_build_result_inputs&#45;&gt;df_to_spreadsheet_build_result</title>\n",
       "<path fill=\"none\" stroke=\"black\" d=\"M665.06,-53.66C695.07,-63.26 732.03,-75.08 766.69,-86.17\"/>\n",
       "<polygon fill=\"black\" stroke=\"black\" points=\"765.33,-89.41 775.92,-89.12 767.46,-82.74 765.33,-89.41\"/>\n",
       "</g>\n",
       "<!-- _spend_mean_inputs -->\n",
       "<g id=\"node25\" class=\"node\">\n",
       "<title>_spend_mean_inputs</title>\n",
       "<polygon fill=\"#ffffff\" stroke=\"black\" stroke-dasharray=\"5,2\" points=\"121.1,-207.85 4.5,-207.85 4.5,-161.75 121.1,-161.75 121.1,-207.85\"/>\n",
       "<text text-anchor=\"start\" x=\"19.3\" y=\"-179.75\" font-family=\"Helvetica,sans-Serif\" font-size=\"14.00\">spend</text>\n",
       "<text text-anchor=\"start\" x=\"65.05\" y=\"-179.75\" font-family=\"Helvetica,sans-Serif\" font-size=\"14.00\">Series</text>\n",
       "</g>\n",
       "<!-- _spend_mean_inputs&#45;&gt;spend_mean -->\n",
       "<g id=\"edge28\" class=\"edge\">\n",
       "<title>_spend_mean_inputs&#45;&gt;spend_mean</title>\n",
       "<path fill=\"none\" stroke=\"black\" d=\"M121.38,-184.8C127.72,-184.8 134.21,-184.8 140.65,-184.8\"/>\n",
       "<polygon fill=\"black\" stroke=\"black\" points=\"140.63,-188.3 150.63,-184.8 140.63,-181.3 140.63,-188.3\"/>\n",
       "</g>\n",
       "<!-- _df_to_avro_build_result_inputs -->\n",
       "<g id=\"node26\" class=\"node\">\n",
       "<title>_df_to_avro_build_result_inputs</title>\n",
       "<polygon fill=\"#ffffff\" stroke=\"black\" stroke-dasharray=\"5,2\" points=\"664.77,-153.6 539.17,-153.6 539.17,-86 664.77,-86 664.77,-153.6\"/>\n",
       "<text text-anchor=\"start\" x=\"558.6\" y=\"-125.5\" font-family=\"Helvetica,sans-Serif\" font-size=\"14.00\">spend</text>\n",
       "<text text-anchor=\"start\" x=\"608.85\" y=\"-125.5\" font-family=\"Helvetica,sans-Serif\" font-size=\"14.00\">Series</text>\n",
       "<text text-anchor=\"start\" x=\"553.72\" y=\"-103.5\" font-family=\"Helvetica,sans-Serif\" font-size=\"14.00\">signups</text>\n",
       "<text text-anchor=\"start\" x=\"608.85\" y=\"-103.5\" font-family=\"Helvetica,sans-Serif\" font-size=\"14.00\">Series</text>\n",
       "</g>\n",
       "<!-- _df_to_avro_build_result_inputs&#45;&gt;df_to_avro_build_result -->\n",
       "<g id=\"edge33\" class=\"edge\">\n",
       "<title>_df_to_avro_build_result_inputs&#45;&gt;df_to_avro_build_result</title>\n",
       "<path fill=\"none\" stroke=\"black\" d=\"M665.06,-138.76C697.29,-148.6 737.54,-160.89 774.34,-172.13\"/>\n",
       "<polygon fill=\"black\" stroke=\"black\" points=\"773.09,-175.4 783.68,-174.98 775.14,-168.71 773.09,-175.4\"/>\n",
       "</g>\n",
       "<!-- input -->\n",
       "<g id=\"node27\" class=\"node\">\n",
       "<title>input</title>\n",
       "<polygon fill=\"#ffffff\" stroke=\"black\" stroke-dasharray=\"5,2\" points=\"89.8,-263.85 35.8,-263.85 35.8,-225.75 89.8,-225.75 89.8,-263.85\"/>\n",
       "<text text-anchor=\"middle\" x=\"62.8\" y=\"-239.75\" font-family=\"Helvetica,sans-Serif\" font-size=\"14.00\">input</text>\n",
       "</g>\n",
       "<!-- function -->\n",
       "<g id=\"node28\" class=\"node\">\n",
       "<title>function</title>\n",
       "<path fill=\"#b4d8e4\" stroke=\"black\" d=\"M86.35,-319.85C86.35,-319.85 39.25,-319.85 39.25,-319.85 33.25,-319.85 27.25,-313.85 27.25,-307.85 27.25,-307.85 27.25,-293.75 27.25,-293.75 27.25,-287.75 33.25,-281.75 39.25,-281.75 39.25,-281.75 86.35,-281.75 86.35,-281.75 92.35,-281.75 98.35,-287.75 98.35,-293.75 98.35,-293.75 98.35,-307.85 98.35,-307.85 98.35,-313.85 92.35,-319.85 86.35,-319.85\"/>\n",
       "<text text-anchor=\"middle\" x=\"62.8\" y=\"-295.75\" font-family=\"Helvetica,sans-Serif\" font-size=\"14.00\">function</text>\n",
       "</g>\n",
       "<!-- output -->\n",
       "<g id=\"node29\" class=\"node\">\n",
       "<title>output</title>\n",
       "<path fill=\"#ffc857\" stroke=\"black\" d=\"M81.1,-375.85C81.1,-375.85 44.5,-375.85 44.5,-375.85 38.5,-375.85 32.5,-369.85 32.5,-363.85 32.5,-363.85 32.5,-349.75 32.5,-349.75 32.5,-343.75 38.5,-337.75 44.5,-337.75 44.5,-337.75 81.1,-337.75 81.1,-337.75 87.1,-337.75 93.1,-343.75 93.1,-349.75 93.1,-349.75 93.1,-363.85 93.1,-363.85 93.1,-369.85 87.1,-375.85 81.1,-375.85\"/>\n",
       "<text text-anchor=\"middle\" x=\"62.8\" y=\"-351.75\" font-family=\"Helvetica,sans-Serif\" font-size=\"14.00\">output</text>\n",
       "</g>\n",
       "<!-- materializer -->\n",
       "<g id=\"node30\" class=\"node\">\n",
       "<title>materializer</title>\n",
       "<path fill=\"#ffffff\" stroke=\"black\" d=\"M109.6,-432.18C109.6,-434.31 88.62,-436.04 62.8,-436.04 36.98,-436.04 16,-434.31 16,-432.18 16,-432.18 16,-397.42 16,-397.42 16,-395.29 36.98,-393.56 62.8,-393.56 88.62,-393.56 109.6,-395.29 109.6,-397.42 109.6,-397.42 109.6,-432.18 109.6,-432.18\"/>\n",
       "<path fill=\"none\" stroke=\"black\" d=\"M109.6,-432.18C109.6,-430.05 88.62,-428.32 62.8,-428.32 36.98,-428.32 16,-430.05 16,-432.18\"/>\n",
       "<text text-anchor=\"middle\" x=\"62.8\" y=\"-409.75\" font-family=\"Helvetica,sans-Serif\" font-size=\"14.00\">materializer</text>\n",
       "</g>\n",
       "</g>\n",
       "</svg>\n"
      ],
      "text/plain": [
       "<graphviz.graphs.Digraph at 0x1db20c78790>"
      ]
     },
     "execution_count": 9,
     "metadata": {},
     "output_type": "execute_result"
    }
   ],
   "source": [
    "materializers = [\n",
    "    # materialize the dataframe to a parquet file\n",
    "    to.parquet(\n",
    "        dependencies=output_columns,\n",
    "        id=\"df_to_parquet\",\n",
    "        file=\"./df.parquet\",\n",
    "        combine=df_builder,\n",
    "    ),\n",
    "    # materialize the dataframe to a feather file\n",
    "    to.feather(\n",
    "        dependencies=output_columns,\n",
    "        id=\"df_to_feather\",\n",
    "        file=\"./df.feather\",\n",
    "        combine=df_builder,\n",
    "    ),\n",
    "    # materialize the dataframe to a json file\n",
    "    to.json(\n",
    "        dependencies=output_columns,\n",
    "        id=\"df_to_json\",\n",
    "        file=\"./df.json\",\n",
    "        combine=df_builder,\n",
    "    ),\n",
    "    # materialize the dataframe to an avro file\n",
    "    to.avro(\n",
    "        dependencies=output_columns,\n",
    "        id=\"df_to_avro\",\n",
    "        file=\"./df.avro\",\n",
    "        combine=df_builder,\n",
    "    ),\n",
    "    #materialize the dataframe to a spreadsheet file\n",
    "    to.spreadsheet(\n",
    "        dependencies=output_columns,\n",
    "        id=\"df_to_spreadsheet\",\n",
    "        workbook=\"./df.xlsx\",\n",
    "        worksheet=\"Sheet1\",\n",
    "        combine=df_builder,\n",
    "    ),\n",
    "]\n",
    "# Visualize what is happening\n",
    "dr.visualize_materialization(\n",
    "    *materializers,\n",
    "    additional_vars=output_columns,\n",
    "    inputs=initial_columns,\n",
    ")"
   ]
  },
  {
   "cell_type": "code",
   "execution_count": 10,
   "metadata": {
    "ExecuteTime": {
     "end_time": "2023-10-05T16:36:56.565384Z",
     "start_time": "2023-10-05T16:36:56.531421Z"
    }
   },
   "outputs": [],
   "source": [
    "# Materialize a result, i.e. execute the DAG!\n",
    "materialization_results, additional_outputs = dr.materialize(\n",
    "    *materializers,\n",
    "    additional_vars=[\n",
    "        \"df_to_parquet_build_result\",\n",
    "        \"df_to_feather_build_result\",\n",
    "        \"df_to_json_build_result\",\n",
    "        \"df_to_avro_build_result\",\n",
    "        \"df_to_spreadsheet_build_result\",\n",
    "    ],  # because combine is used, we can get that result here.\n",
    "    inputs=initial_columns,\n",
    ")"
   ]
  },
  {
   "cell_type": "code",
   "execution_count": 11,
   "metadata": {
    "ExecuteTime": {
     "end_time": "2023-10-05T16:36:57.122715Z",
     "start_time": "2023-10-05T16:36:57.101770Z"
    }
   },
   "outputs": [
    {
     "data": {
      "text/plain": [
       "{'df_to_parquet': {'file_metadata': {'size': 1609,\n",
       "   'path': './df.parquet',\n",
       "   'last_modified': 1711115838.3515146,\n",
       "   'timestamp': 1711096038.352033,\n",
       "   'scheme': '',\n",
       "   'notes': ''},\n",
       "  'dataframe_metadata': {'rows': 6,\n",
       "   'columns': 5,\n",
       "   'column_names': ['spend',\n",
       "    'signups',\n",
       "    'avg_3wk_spend',\n",
       "    'spend_per_signup',\n",
       "    'spend_zero_mean_unit_variance'],\n",
       "   'datatypes': ['Int64', 'Int64', 'Float64', 'Float64', 'Float64']}},\n",
       " 'df_to_feather': {'file_metadata': {'size': 1696,\n",
       "   'path': './df.feather',\n",
       "   'last_modified': 1711115838.3526683,\n",
       "   'timestamp': 1711096038.352668,\n",
       "   'scheme': '',\n",
       "   'notes': ''},\n",
       "  'dataframe_metadata': {'rows': 6,\n",
       "   'columns': 5,\n",
       "   'column_names': ['spend',\n",
       "    'signups',\n",
       "    'avg_3wk_spend',\n",
       "    'spend_per_signup',\n",
       "    'spend_zero_mean_unit_variance'],\n",
       "   'datatypes': ['Int64', 'Int64', 'Float64', 'Float64', 'Float64']}},\n",
       " 'df_to_json': {'file_metadata': {'size': 657,\n",
       "   'path': './df.json',\n",
       "   'last_modified': 1711115838.354239,\n",
       "   'timestamp': 1711096038.354238,\n",
       "   'scheme': '',\n",
       "   'notes': ''},\n",
       "  'dataframe_metadata': {'rows': 6,\n",
       "   'columns': 5,\n",
       "   'column_names': ['spend',\n",
       "    'signups',\n",
       "    'avg_3wk_spend',\n",
       "    'spend_per_signup',\n",
       "    'spend_zero_mean_unit_variance'],\n",
       "   'datatypes': ['Int64', 'Int64', 'Float64', 'Float64', 'Float64']}},\n",
       " 'df_to_avro': {'file_metadata': {'size': 517,\n",
       "   'path': './df.avro',\n",
       "   'last_modified': 1711115838.354239,\n",
       "   'timestamp': 1711096038.355679,\n",
       "   'scheme': '',\n",
       "   'notes': ''},\n",
       "  'dataframe_metadata': {'rows': 6,\n",
       "   'columns': 5,\n",
       "   'column_names': ['spend',\n",
       "    'signups',\n",
       "    'avg_3wk_spend',\n",
       "    'spend_per_signup',\n",
       "    'spend_zero_mean_unit_variance'],\n",
       "   'datatypes': ['Int64', 'Int64', 'Float64', 'Float64', 'Float64']}},\n",
       " 'df_to_spreadsheet': {'file_metadata': {'size': 6503,\n",
       "   'path': './df.xlsx',\n",
       "   'last_modified': 1711115838.3848748,\n",
       "   'timestamp': 1711096038.384874,\n",
       "   'scheme': '',\n",
       "   'notes': ''},\n",
       "  'dataframe_metadata': {'rows': 6,\n",
       "   'columns': 5,\n",
       "   'column_names': ['spend',\n",
       "    'signups',\n",
       "    'avg_3wk_spend',\n",
       "    'spend_per_signup',\n",
       "    'spend_zero_mean_unit_variance'],\n",
       "   'datatypes': ['Int64', 'Int64', 'Float64', 'Float64', 'Float64']}}}"
      ]
     },
     "execution_count": 11,
     "metadata": {},
     "output_type": "execute_result"
    }
   ],
   "source": [
    "materialization_results"
   ]
  },
  {
   "cell_type": "code",
   "execution_count": 12,
   "metadata": {
    "ExecuteTime": {
     "end_time": "2023-10-05T16:36:57.826266Z",
     "start_time": "2023-10-05T16:36:57.805459Z"
    }
   },
   "outputs": [
    {
     "data": {
      "text/html": [
       "<div><style>\n",
       ".dataframe > thead > tr,\n",
       ".dataframe > tbody > tr {\n",
       "  text-align: right;\n",
       "  white-space: pre-wrap;\n",
       "}\n",
       "</style>\n",
       "<small>shape: (6, 5)</small><table border=\"1\" class=\"dataframe\"><thead><tr><th>spend</th><th>signups</th><th>avg_3wk_spend</th><th>spend_per_signup</th><th>spend_zero_mean_unit_variance</th></tr><tr><td>i64</td><td>i64</td><td>f64</td><td>f64</td><td>f64</td></tr></thead><tbody><tr><td>10</td><td>1</td><td>null</td><td>10.0</td><td>-1.064405</td></tr><tr><td>10</td><td>10</td><td>null</td><td>1.0</td><td>-1.064405</td></tr><tr><td>20</td><td>50</td><td>13.333333</td><td>0.4</td><td>-0.483821</td></tr><tr><td>40</td><td>100</td><td>23.333333</td><td>0.4</td><td>0.677349</td></tr><tr><td>40</td><td>200</td><td>33.333333</td><td>0.2</td><td>0.677349</td></tr><tr><td>50</td><td>400</td><td>43.333333</td><td>0.125</td><td>1.257934</td></tr></tbody></table></div>"
      ],
      "text/plain": [
       "shape: (6, 5)\n",
       "┌───────┬─────────┬───────────────┬──────────────────┬───────────────────────────────┐\n",
       "│ spend ┆ signups ┆ avg_3wk_spend ┆ spend_per_signup ┆ spend_zero_mean_unit_variance │\n",
       "│ ---   ┆ ---     ┆ ---           ┆ ---              ┆ ---                           │\n",
       "│ i64   ┆ i64     ┆ f64           ┆ f64              ┆ f64                           │\n",
       "╞═══════╪═════════╪═══════════════╪══════════════════╪═══════════════════════════════╡\n",
       "│ 10    ┆ 1       ┆ null          ┆ 10.0             ┆ -1.064405                     │\n",
       "│ 10    ┆ 10      ┆ null          ┆ 1.0              ┆ -1.064405                     │\n",
       "│ 20    ┆ 50      ┆ 13.333333     ┆ 0.4              ┆ -0.483821                     │\n",
       "│ 40    ┆ 100     ┆ 23.333333     ┆ 0.4              ┆ 0.677349                      │\n",
       "│ 40    ┆ 200     ┆ 33.333333     ┆ 0.2              ┆ 0.677349                      │\n",
       "│ 50    ┆ 400     ┆ 43.333333     ┆ 0.125            ┆ 1.257934                      │\n",
       "└───────┴─────────┴───────────────┴──────────────────┴───────────────────────────────┘"
      ]
     },
     "execution_count": 12,
     "metadata": {},
     "output_type": "execute_result"
    }
   ],
   "source": [
    "additional_outputs[\"df_to_parquet_build_result\"]"
   ]
  },
  {
   "cell_type": "code",
   "execution_count": 13,
   "metadata": {
    "ExecuteTime": {
     "end_time": "2023-10-05T16:36:58.919203Z",
     "start_time": "2023-10-05T16:36:58.869761Z"
    }
   },
   "outputs": [
    {
     "data": {
      "text/html": [
       "<div><style>\n",
       ".dataframe > thead > tr,\n",
       ".dataframe > tbody > tr {\n",
       "  text-align: right;\n",
       "  white-space: pre-wrap;\n",
       "}\n",
       "</style>\n",
       "<small>shape: (6, 5)</small><table border=\"1\" class=\"dataframe\"><thead><tr><th>spend</th><th>signups</th><th>avg_3wk_spend</th><th>spend_per_signup</th><th>spend_zero_mean_unit_variance</th></tr><tr><td>i64</td><td>i64</td><td>f64</td><td>f64</td><td>f64</td></tr></thead><tbody><tr><td>10</td><td>1</td><td>null</td><td>10.0</td><td>-1.064405</td></tr><tr><td>10</td><td>10</td><td>null</td><td>1.0</td><td>-1.064405</td></tr><tr><td>20</td><td>50</td><td>13.333333</td><td>0.4</td><td>-0.483821</td></tr><tr><td>40</td><td>100</td><td>23.333333</td><td>0.4</td><td>0.677349</td></tr><tr><td>40</td><td>200</td><td>33.333333</td><td>0.2</td><td>0.677349</td></tr><tr><td>50</td><td>400</td><td>43.333333</td><td>0.125</td><td>1.257934</td></tr></tbody></table></div>"
      ],
      "text/plain": [
       "shape: (6, 5)\n",
       "┌───────┬─────────┬───────────────┬──────────────────┬───────────────────────────────┐\n",
       "│ spend ┆ signups ┆ avg_3wk_spend ┆ spend_per_signup ┆ spend_zero_mean_unit_variance │\n",
       "│ ---   ┆ ---     ┆ ---           ┆ ---              ┆ ---                           │\n",
       "│ i64   ┆ i64     ┆ f64           ┆ f64              ┆ f64                           │\n",
       "╞═══════╪═════════╪═══════════════╪══════════════════╪═══════════════════════════════╡\n",
       "│ 10    ┆ 1       ┆ null          ┆ 10.0             ┆ -1.064405                     │\n",
       "│ 10    ┆ 10      ┆ null          ┆ 1.0              ┆ -1.064405                     │\n",
       "│ 20    ┆ 50      ┆ 13.333333     ┆ 0.4              ┆ -0.483821                     │\n",
       "│ 40    ┆ 100     ┆ 23.333333     ┆ 0.4              ┆ 0.677349                      │\n",
       "│ 40    ┆ 200     ┆ 33.333333     ┆ 0.2              ┆ 0.677349                      │\n",
       "│ 50    ┆ 400     ┆ 43.333333     ┆ 0.125            ┆ 1.257934                      │\n",
       "└───────┴─────────┴───────────────┴──────────────────┴───────────────────────────────┘"
      ]
     },
     "execution_count": 13,
     "metadata": {},
     "output_type": "execute_result"
    }
   ],
   "source": [
    "additional_outputs[\"df_to_feather_build_result\"]"
   ]
  },
  {
   "cell_type": "code",
   "execution_count": 14,
   "metadata": {
    "ExecuteTime": {
     "end_time": "2023-10-05T16:37:01.766669Z",
     "start_time": "2023-10-05T16:37:01.705286Z"
    },
    "collapsed": false
   },
   "outputs": [
    {
     "data": {
      "text/html": [
       "<div><style>\n",
       ".dataframe > thead > tr,\n",
       ".dataframe > tbody > tr {\n",
       "  text-align: right;\n",
       "  white-space: pre-wrap;\n",
       "}\n",
       "</style>\n",
       "<small>shape: (6, 5)</small><table border=\"1\" class=\"dataframe\"><thead><tr><th>spend</th><th>signups</th><th>avg_3wk_spend</th><th>spend_per_signup</th><th>spend_zero_mean_unit_variance</th></tr><tr><td>i64</td><td>i64</td><td>f64</td><td>f64</td><td>f64</td></tr></thead><tbody><tr><td>10</td><td>1</td><td>null</td><td>10.0</td><td>-1.064405</td></tr><tr><td>10</td><td>10</td><td>null</td><td>1.0</td><td>-1.064405</td></tr><tr><td>20</td><td>50</td><td>13.333333</td><td>0.4</td><td>-0.483821</td></tr><tr><td>40</td><td>100</td><td>23.333333</td><td>0.4</td><td>0.677349</td></tr><tr><td>40</td><td>200</td><td>33.333333</td><td>0.2</td><td>0.677349</td></tr><tr><td>50</td><td>400</td><td>43.333333</td><td>0.125</td><td>1.257934</td></tr></tbody></table></div>"
      ],
      "text/plain": [
       "shape: (6, 5)\n",
       "┌───────┬─────────┬───────────────┬──────────────────┬───────────────────────────────┐\n",
       "│ spend ┆ signups ┆ avg_3wk_spend ┆ spend_per_signup ┆ spend_zero_mean_unit_variance │\n",
       "│ ---   ┆ ---     ┆ ---           ┆ ---              ┆ ---                           │\n",
       "│ i64   ┆ i64     ┆ f64           ┆ f64              ┆ f64                           │\n",
       "╞═══════╪═════════╪═══════════════╪══════════════════╪═══════════════════════════════╡\n",
       "│ 10    ┆ 1       ┆ null          ┆ 10.0             ┆ -1.064405                     │\n",
       "│ 10    ┆ 10      ┆ null          ┆ 1.0              ┆ -1.064405                     │\n",
       "│ 20    ┆ 50      ┆ 13.333333     ┆ 0.4              ┆ -0.483821                     │\n",
       "│ 40    ┆ 100     ┆ 23.333333     ┆ 0.4              ┆ 0.677349                      │\n",
       "│ 40    ┆ 200     ┆ 33.333333     ┆ 0.2              ┆ 0.677349                      │\n",
       "│ 50    ┆ 400     ┆ 43.333333     ┆ 0.125            ┆ 1.257934                      │\n",
       "└───────┴─────────┴───────────────┴──────────────────┴───────────────────────────────┘"
      ]
     },
     "execution_count": 14,
     "metadata": {},
     "output_type": "execute_result"
    }
   ],
   "source": [
    "additional_outputs[\"df_to_json_build_result\"]"
   ]
  },
  {
   "cell_type": "code",
   "execution_count": 15,
   "metadata": {
    "collapsed": false
   },
   "outputs": [
    {
     "data": {
      "text/html": [
       "<div><style>\n",
       ".dataframe > thead > tr,\n",
       ".dataframe > tbody > tr {\n",
       "  text-align: right;\n",
       "  white-space: pre-wrap;\n",
       "}\n",
       "</style>\n",
       "<small>shape: (6, 5)</small><table border=\"1\" class=\"dataframe\"><thead><tr><th>spend</th><th>signups</th><th>avg_3wk_spend</th><th>spend_per_signup</th><th>spend_zero_mean_unit_variance</th></tr><tr><td>i64</td><td>i64</td><td>f64</td><td>f64</td><td>f64</td></tr></thead><tbody><tr><td>10</td><td>1</td><td>null</td><td>10.0</td><td>-1.064405</td></tr><tr><td>10</td><td>10</td><td>null</td><td>1.0</td><td>-1.064405</td></tr><tr><td>20</td><td>50</td><td>13.333333</td><td>0.4</td><td>-0.483821</td></tr><tr><td>40</td><td>100</td><td>23.333333</td><td>0.4</td><td>0.677349</td></tr><tr><td>40</td><td>200</td><td>33.333333</td><td>0.2</td><td>0.677349</td></tr><tr><td>50</td><td>400</td><td>43.333333</td><td>0.125</td><td>1.257934</td></tr></tbody></table></div>"
      ],
      "text/plain": [
       "shape: (6, 5)\n",
       "┌───────┬─────────┬───────────────┬──────────────────┬───────────────────────────────┐\n",
       "│ spend ┆ signups ┆ avg_3wk_spend ┆ spend_per_signup ┆ spend_zero_mean_unit_variance │\n",
       "│ ---   ┆ ---     ┆ ---           ┆ ---              ┆ ---                           │\n",
       "│ i64   ┆ i64     ┆ f64           ┆ f64              ┆ f64                           │\n",
       "╞═══════╪═════════╪═══════════════╪══════════════════╪═══════════════════════════════╡\n",
       "│ 10    ┆ 1       ┆ null          ┆ 10.0             ┆ -1.064405                     │\n",
       "│ 10    ┆ 10      ┆ null          ┆ 1.0              ┆ -1.064405                     │\n",
       "│ 20    ┆ 50      ┆ 13.333333     ┆ 0.4              ┆ -0.483821                     │\n",
       "│ 40    ┆ 100     ┆ 23.333333     ┆ 0.4              ┆ 0.677349                      │\n",
       "│ 40    ┆ 200     ┆ 33.333333     ┆ 0.2              ┆ 0.677349                      │\n",
       "│ 50    ┆ 400     ┆ 43.333333     ┆ 0.125            ┆ 1.257934                      │\n",
       "└───────┴─────────┴───────────────┴──────────────────┴───────────────────────────────┘"
      ]
     },
     "execution_count": 15,
     "metadata": {},
     "output_type": "execute_result"
    }
   ],
   "source": [
    "additional_outputs[\"df_to_avro_build_result\"]"
   ]
  },
  {
   "cell_type": "code",
   "execution_count": null,
   "metadata": {},
   "outputs": [],
   "source": [
    "additional_outputs[\"df_to_spreadsheet_build_result\"]"
   ]
  }
 ],
 "metadata": {
  "kernelspec": {
   "display_name": "Python 3 (ipykernel)",
   "language": "python",
   "name": "python3"
  },
  "language_info": {
   "codemirror_mode": {
    "name": "ipython",
    "version": 3
   },
   "file_extension": ".py",
   "mimetype": "text/x-python",
   "name": "python",
   "nbconvert_exporter": "python",
   "pygments_lexer": "ipython3",
   "version": "3.10.5"
  }
 },
 "nbformat": 4,
 "nbformat_minor": 4
}
