# Cell 1
import business_logic
import data_loaders
from hamilton import base, driver

# Cell 2
dag_config = {
    "test_size_fraction": 0.5,
    "shuffle_train_test_split": True,
}

# Cell 3
adapter = base.SimplePythonGraphAdapter(base.DictResult())
dr = driver.Driver(dag_config, data_loaders, business_logic, adapter=adapter)

# Cell 4
results = dr.execute(["classification_report", "confusion_matrix", "fit_clf"])
for k, v in results.items():
    print(k, ":\n", v)