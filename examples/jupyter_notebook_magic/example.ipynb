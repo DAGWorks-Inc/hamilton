{
 "cells": [
  {
   "cell_type": "markdown",
   "id": "cff304da",
   "metadata": {},
   "source": [
    "# Hamilton notebook extension\n",
    "Jupyter magics are commands that can be executed in notebooks using `%` and `%%` in code cells.\n",
    "- **Line magics** start with `%` and apply to the current line\n",
    "- **Cell magics** start with `%%`, need to be the first line of a cell, and apply to the entire cell.\n",
    "\n",
    " You can think of them as Python decorators for lines and cells.\n",
    "\n",
    "> For example, `%timeit complex_function()` will return the time to execute `complex_function()` and adding `%%timeit` will return the time to execute the entire cell.\n",
    "\n",
    "This notebook is a tutorial on the Hamilton Jupyter magics and how they can improve your interactive development experience. It is meant to be read and have all cells executed linearly.\n",
    "\n",
    "- **Section 2** - Dataflow definition\n",
    "- **Section 3** - Dataflow execution\n",
    "\n",
    "> ⚠ This notebook extension is something we're actively developing. If you find any bugs, edge cases, performance impacts, or if you have feature requests, let us know."
   ]
  },
  {
   "cell_type": "markdown",
   "id": "245fa568",
   "metadata": {},
   "source": [
    "## 1. Loading the extension"
   ]
  },
  {
   "cell_type": "markdown",
   "id": "bddc7450",
   "metadata": {},
   "source": [
    "To load our Jupyter Magic, we use `%load_ext` with the import path for the Python module (as if you did `import ...`). You only need to load it once, and will need to reload it if you restart the kernel just like you would for a Python module."
   ]
  },
  {
   "cell_type": "code",
   "execution_count": 1,
   "id": "302defaa",
   "metadata": {},
   "outputs": [],
   "source": [
    "%reload_ext hamilton.plugins.jupyter_magic\n",
    "from hamilton import driver  # we'll need this later"
   ]
  },
  {
   "cell_type": "markdown",
   "id": "bb28d555",
   "metadata": {},
   "source": [
    "After loading the extension, Hamilton magics become available:\n",
    "- `%%cell_to_module`\n",
    "- `%module_to_cell`\n",
    "\n",
    "This notebook will cover them one-by-one, but if you need a quick refresher you can prepend `?` to get help."
   ]
  },
  {
   "cell_type": "code",
   "execution_count": 2,
   "id": "f4a9d444",
   "metadata": {},
   "outputs": [
    {
     "name": "stdout",
     "output_type": "stream",
     "text": [
      "\u001b[0;31mDocstring:\u001b[0m\n",
      "::\n",
      "\n",
      "  %cell_to_module [-m [MODULE_NAME]] [-d [DISPLAY]] [-x [EXECUTE]]\n",
      "                      [-b BUILDER] [-c CONFIG] [-i INPUTS] [-o OVERRIDES]\n",
      "                      [--hide_results] [-w [WRITE_TO_FILE]]\n",
      "                      [module_name]\n",
      "\n",
      "Turn a notebook cell into a Hamilton module definition. This allows you to define\n",
      "and execute a dataflow from a single cell.\n",
      "\n",
      "For example:\n",
      "```\n",
      "%%cell_to_module dataflow --display --execute\n",
      "def A() -> int:\n",
      "  return 37\n",
      "\n",
      "def B(A: int) -> bool:\n",
      "  return (A % 3) > 2\n",
      "```\n",
      "\n",
      "positional arguments:\n",
      "  module_name           Name for the module defined in this cell.\n",
      "\n",
      "options:\n",
      "  -m <[MODULE_NAME]>, --module_name <[MODULE_NAME]>\n",
      "                        Alias for positional argument `module_name`. There for\n",
      "                        backwards compatibility. Prefer the position arg.\n",
      "  -d <[DISPLAY]>, --display <[DISPLAY]>\n",
      "                        Display the dataflow. The argument is the variable\n",
      "                        name of a dictionary of visualization kwargs; else {}.\n",
      "  -x <[EXECUTE]>, --execute <[EXECUTE]>\n",
      "                        Execute the dataflow. The argument is the variable\n",
      "                        name of a list of nodes; else execute all nodes.\n",
      "  -b BUILDER, --builder BUILDER\n",
      "                        Builder to which the module will be added and used for\n",
      "                        execution. Allows to pass Config and Adapters\n",
      "  -c CONFIG, --config CONFIG\n",
      "                        Config to build a Driver. Passing -c/--config at the\n",
      "                        same time as a Builder -b/--builder with a config will\n",
      "                        raise an exception.\n",
      "  -i INPUTS, --inputs INPUTS\n",
      "                        Execution inputs. The argument is the variable name of\n",
      "                        a dict of inputs; else {}.\n",
      "  -o OVERRIDES, --overrides OVERRIDES\n",
      "                        Execution overrides. The argument is the variable name\n",
      "                        of a dict of overrides; else {}.\n",
      "  --hide_results        Hides the automatic display of execution results.\n",
      "  -w <[WRITE_TO_FILE]>, --write_to_file <[WRITE_TO_FILE]>\n",
      "                        Write cell content to a file. The argument is the file\n",
      "                        path; else write to {module_name}.py\n",
      "\u001b[0;31mFile:\u001b[0m      ~/projects/dagworks/hamilton/hamilton/plugins/jupyter_magic.py"
     ]
    }
   ],
   "source": [
    "?%%cell_to_module"
   ]
  },
  {
   "cell_type": "markdown",
   "id": "8db7e808",
   "metadata": {},
   "source": [
    "## 2. Define a Hamilton dataflow"
   ]
  },
  {
   "cell_type": "markdown",
   "id": "6d310207",
   "metadata": {},
   "source": [
    "### 2.1 Basics\n",
    "The main magic is `%%cell_to_module MODULE_NAME` which turns a cell into a temporary Python module in-memory. Successful cell execution means it's a valid Hamilton dataflow."
   ]
  },
  {
   "cell_type": "code",
   "execution_count": 3,
   "id": "a2f33575",
   "metadata": {},
   "outputs": [
    {
     "data": {
      "image/svg+xml": [
       "<?xml version=\"1.0\" encoding=\"UTF-8\" standalone=\"no\"?>\n",
       "<!DOCTYPE svg PUBLIC \"-//W3C//DTD SVG 1.1//EN\"\n",
       " \"http://www.w3.org/Graphics/SVG/1.1/DTD/svg11.dtd\">\n",
       "<!-- Generated by graphviz version 2.43.0 (0)\n",
       " -->\n",
       "<!-- Title: %3 Pages: 1 -->\n",
       "<svg width=\"257pt\" height=\"212pt\"\n",
       " viewBox=\"0.00 0.00 256.50 212.00\" xmlns=\"http://www.w3.org/2000/svg\" xmlns:xlink=\"http://www.w3.org/1999/xlink\">\n",
       "<g id=\"graph0\" class=\"graph\" transform=\"scale(1 1) rotate(0) translate(4 208)\">\n",
       "<title>%3</title>\n",
       "<polygon fill=\"white\" stroke=\"transparent\" points=\"-4,4 -4,-208 252.5,-208 252.5,4 -4,4\"/>\n",
       "<g id=\"clust1\" class=\"cluster\">\n",
       "<title>cluster__legend</title>\n",
       "<polygon fill=\"#ffffff\" stroke=\"black\" points=\"8,-64 8,-196 104,-196 104,-64 8,-64\"/>\n",
       "<text text-anchor=\"middle\" x=\"56\" y=\"-180.8\" font-family=\"Helvetica,sans-Serif\" font-size=\"14.00\">Legend</text>\n",
       "</g>\n",
       "<!-- joke_prompt -->\n",
       "<g id=\"node1\" class=\"node\">\n",
       "<title>joke_prompt</title>\n",
       "<path fill=\"#b4d8e4\" stroke=\"black\" d=\"M236.5,-64C236.5,-64 141.5,-64 141.5,-64 135.5,-64 129.5,-58 129.5,-52 129.5,-52 129.5,-12 129.5,-12 129.5,-6 135.5,0 141.5,0 141.5,0 236.5,0 236.5,0 242.5,0 248.5,-6 248.5,-12 248.5,-12 248.5,-52 248.5,-52 248.5,-58 242.5,-64 236.5,-64\"/>\n",
       "<text text-anchor=\"start\" x=\"140.5\" y=\"-42.8\" font-family=\"Helvetica,sans-Serif\" font-weight=\"bold\" font-size=\"14.00\">joke_prompt</text>\n",
       "<text text-anchor=\"start\" x=\"179.5\" y=\"-14.8\" font-family=\"Helvetica,sans-Serif\" font-style=\"italic\" font-size=\"14.00\">str</text>\n",
       "</g>\n",
       "<!-- _joke_prompt_inputs -->\n",
       "<g id=\"node2\" class=\"node\">\n",
       "<title>_joke_prompt_inputs</title>\n",
       "<polygon fill=\"#ffffff\" stroke=\"black\" stroke-dasharray=\"5,2\" points=\"100.5,-54.5 11.5,-54.5 11.5,-9.5 100.5,-9.5 100.5,-54.5\"/>\n",
       "<text text-anchor=\"start\" x=\"27\" y=\"-27.8\" font-family=\"Helvetica,sans-Serif\" font-size=\"14.00\">topic</text>\n",
       "<text text-anchor=\"start\" x=\"67\" y=\"-27.8\" font-family=\"Helvetica,sans-Serif\" font-size=\"14.00\">str</text>\n",
       "</g>\n",
       "<!-- _joke_prompt_inputs&#45;&gt;joke_prompt -->\n",
       "<g id=\"edge1\" class=\"edge\">\n",
       "<title>_joke_prompt_inputs&#45;&gt;joke_prompt</title>\n",
       "<path fill=\"none\" stroke=\"black\" d=\"M100.62,-32C106.68,-32 113.02,-32 119.39,-32\"/>\n",
       "<polygon fill=\"black\" stroke=\"black\" points=\"119.41,-35.5 129.41,-32 119.41,-28.5 119.41,-35.5\"/>\n",
       "</g>\n",
       "<!-- input -->\n",
       "<g id=\"node3\" class=\"node\">\n",
       "<title>input</title>\n",
       "<polygon fill=\"#ffffff\" stroke=\"black\" stroke-dasharray=\"5,2\" points=\"85.5,-164.5 26.5,-164.5 26.5,-127.5 85.5,-127.5 85.5,-164.5\"/>\n",
       "<text text-anchor=\"middle\" x=\"56\" y=\"-142.3\" font-family=\"Helvetica,sans-Serif\" font-size=\"14.00\">input</text>\n",
       "</g>\n",
       "<!-- function -->\n",
       "<g id=\"node4\" class=\"node\">\n",
       "<title>function</title>\n",
       "<path fill=\"#b4d8e4\" stroke=\"black\" d=\"M84,-109.5C84,-109.5 28,-109.5 28,-109.5 22,-109.5 16,-103.5 16,-97.5 16,-97.5 16,-84.5 16,-84.5 16,-78.5 22,-72.5 28,-72.5 28,-72.5 84,-72.5 84,-72.5 90,-72.5 96,-78.5 96,-84.5 96,-84.5 96,-97.5 96,-97.5 96,-103.5 90,-109.5 84,-109.5\"/>\n",
       "<text text-anchor=\"middle\" x=\"56\" y=\"-87.3\" font-family=\"Helvetica,sans-Serif\" font-size=\"14.00\">function</text>\n",
       "</g>\n",
       "</g>\n",
       "</svg>\n"
      ],
      "text/plain": [
       "<graphviz.graphs.Digraph at 0x7f9a8d02d5d0>"
      ]
     },
     "metadata": {},
     "output_type": "display_data"
    }
   ],
   "source": [
    "%%cell_to_module joke -d\n",
    "def joke_prompt(topic: str) -> str:\n",
    "    return f\"Tell me a short joke about {topic}\""
   ]
  },
  {
   "cell_type": "markdown",
   "id": "54e60f6b",
   "metadata": {},
   "source": [
    "The module name allows to namespace functions "
   ]
  },
  {
   "cell_type": "code",
   "execution_count": 4,
   "id": "b9676cc6",
   "metadata": {},
   "outputs": [
    {
     "name": "stdout",
     "output_type": "stream",
     "text": [
      "Tell me a short joke about hello\n",
      "Tell me a short joke about greetings\n"
     ]
    }
   ],
   "source": [
    "print(joke.joke_prompt(topic=\"hello\"))\n",
    "print(joke_prompt(topic=\"greetings\"))"
   ]
  },
  {
   "cell_type": "markdown",
   "id": "15977369",
   "metadata": {},
   "source": [
    "### 2.2 Module imports\n",
    "Code found in cells with `%%cell_to_module` is treated like an isolated `.py` file. This means you need to define Python imports in the cell itself. "
   ]
  },
  {
   "cell_type": "code",
   "execution_count": 5,
   "id": "aaf63f03",
   "metadata": {},
   "outputs": [],
   "source": [
    "%%cell_to_module joke\n",
    "from typing import Optional  # remove to get `NameError: name 'Optional' is not defined``\n",
    "\n",
    "def joke_prompt(topic: Optional[str] = None) -> str:\n",
    "    return f\"Tell me a short joke about {topic}\""
   ]
  },
  {
   "cell_type": "markdown",
   "id": "b9e3f0a0",
   "metadata": {},
   "source": [
    "### 2.3 Display module\n",
    "You can visualize with the `--display / -d` argument. It can receive a dictionary of [visualization `kwargs`](https://hamilton.dagworks.io/en/latest/reference/drivers/Driver/#hamilton.driver.Driver.display_all_functions)."
   ]
  },
  {
   "cell_type": "code",
   "execution_count": 6,
   "id": "378a4552",
   "metadata": {},
   "outputs": [
    {
     "data": {
      "image/svg+xml": [
       "<?xml version=\"1.0\" encoding=\"UTF-8\" standalone=\"no\"?>\n",
       "<!DOCTYPE svg PUBLIC \"-//W3C//DTD SVG 1.1//EN\"\n",
       " \"http://www.w3.org/Graphics/SVG/1.1/DTD/svg11.dtd\">\n",
       "<!-- Generated by graphviz version 2.43.0 (0)\n",
       " -->\n",
       "<!-- Title: %3 Pages: 1 -->\n",
       "<svg width=\"257pt\" height=\"212pt\"\n",
       " viewBox=\"0.00 0.00 256.50 212.00\" xmlns=\"http://www.w3.org/2000/svg\" xmlns:xlink=\"http://www.w3.org/1999/xlink\">\n",
       "<g id=\"graph0\" class=\"graph\" transform=\"scale(1 1) rotate(0) translate(4 208)\">\n",
       "<title>%3</title>\n",
       "<polygon fill=\"white\" stroke=\"transparent\" points=\"-4,4 -4,-208 252.5,-208 252.5,4 -4,4\"/>\n",
       "<g id=\"clust1\" class=\"cluster\">\n",
       "<title>cluster__legend</title>\n",
       "<polygon fill=\"#ffffff\" stroke=\"black\" points=\"8,-64 8,-196 104,-196 104,-64 8,-64\"/>\n",
       "<text text-anchor=\"middle\" x=\"56\" y=\"-180.8\" font-family=\"Helvetica,sans-Serif\" font-size=\"14.00\">Legend</text>\n",
       "</g>\n",
       "<!-- joke_prompt -->\n",
       "<g id=\"node1\" class=\"node\">\n",
       "<title>joke_prompt</title>\n",
       "<path fill=\"#b4d8e4\" stroke=\"black\" d=\"M236.5,-64C236.5,-64 141.5,-64 141.5,-64 135.5,-64 129.5,-58 129.5,-52 129.5,-52 129.5,-12 129.5,-12 129.5,-6 135.5,0 141.5,0 141.5,0 236.5,0 236.5,0 242.5,0 248.5,-6 248.5,-12 248.5,-12 248.5,-52 248.5,-52 248.5,-58 242.5,-64 236.5,-64\"/>\n",
       "<text text-anchor=\"start\" x=\"140.5\" y=\"-42.8\" font-family=\"Helvetica,sans-Serif\" font-weight=\"bold\" font-size=\"14.00\">joke_prompt</text>\n",
       "<text text-anchor=\"start\" x=\"179.5\" y=\"-14.8\" font-family=\"Helvetica,sans-Serif\" font-style=\"italic\" font-size=\"14.00\">str</text>\n",
       "</g>\n",
       "<!-- _joke_prompt_inputs -->\n",
       "<g id=\"node2\" class=\"node\">\n",
       "<title>_joke_prompt_inputs</title>\n",
       "<polygon fill=\"#ffffff\" stroke=\"black\" stroke-dasharray=\"5,2\" points=\"100.5,-54.5 11.5,-54.5 11.5,-9.5 100.5,-9.5 100.5,-54.5\"/>\n",
       "<text text-anchor=\"start\" x=\"27\" y=\"-27.8\" font-family=\"Helvetica,sans-Serif\" font-size=\"14.00\">topic</text>\n",
       "<text text-anchor=\"start\" x=\"67\" y=\"-27.8\" font-family=\"Helvetica,sans-Serif\" font-size=\"14.00\">str</text>\n",
       "</g>\n",
       "<!-- _joke_prompt_inputs&#45;&gt;joke_prompt -->\n",
       "<g id=\"edge1\" class=\"edge\">\n",
       "<title>_joke_prompt_inputs&#45;&gt;joke_prompt</title>\n",
       "<path fill=\"none\" stroke=\"black\" d=\"M100.62,-32C106.68,-32 113.02,-32 119.39,-32\"/>\n",
       "<polygon fill=\"black\" stroke=\"black\" points=\"119.41,-35.5 129.41,-32 119.41,-28.5 119.41,-35.5\"/>\n",
       "</g>\n",
       "<!-- input -->\n",
       "<g id=\"node3\" class=\"node\">\n",
       "<title>input</title>\n",
       "<polygon fill=\"#ffffff\" stroke=\"black\" stroke-dasharray=\"5,2\" points=\"85.5,-164.5 26.5,-164.5 26.5,-127.5 85.5,-127.5 85.5,-164.5\"/>\n",
       "<text text-anchor=\"middle\" x=\"56\" y=\"-142.3\" font-family=\"Helvetica,sans-Serif\" font-size=\"14.00\">input</text>\n",
       "</g>\n",
       "<!-- function -->\n",
       "<g id=\"node4\" class=\"node\">\n",
       "<title>function</title>\n",
       "<path fill=\"#b4d8e4\" stroke=\"black\" d=\"M84,-109.5C84,-109.5 28,-109.5 28,-109.5 22,-109.5 16,-103.5 16,-97.5 16,-97.5 16,-84.5 16,-84.5 16,-78.5 22,-72.5 28,-72.5 28,-72.5 84,-72.5 84,-72.5 90,-72.5 96,-78.5 96,-84.5 96,-84.5 96,-97.5 96,-97.5 96,-103.5 90,-109.5 84,-109.5\"/>\n",
       "<text text-anchor=\"middle\" x=\"56\" y=\"-87.3\" font-family=\"Helvetica,sans-Serif\" font-size=\"14.00\">function</text>\n",
       "</g>\n",
       "</g>\n",
       "</svg>\n"
      ],
      "text/plain": [
       "<graphviz.graphs.Digraph at 0x7f9a8d09c0d0>"
      ]
     },
     "metadata": {},
     "output_type": "display_data"
    }
   ],
   "source": [
    "%%cell_to_module joke --display\n",
    "def joke_prompt(topic: str) -> str:\n",
    "    return f\"Tell me a short joke about {topic}\""
   ]
  },
  {
   "cell_type": "code",
   "execution_count": 7,
   "id": "94772b5a",
   "metadata": {},
   "outputs": [],
   "source": [
    "display_config = dict(orient=\"TB\")  # orient visualization top to bottom"
   ]
  },
  {
   "cell_type": "code",
   "execution_count": 8,
   "id": "af95a65e",
   "metadata": {},
   "outputs": [
    {
     "data": {
      "image/svg+xml": [
       "<?xml version=\"1.0\" encoding=\"UTF-8\" standalone=\"no\"?>\n",
       "<!DOCTYPE svg PUBLIC \"-//W3C//DTD SVG 1.1//EN\"\n",
       " \"http://www.w3.org/Graphics/SVG/1.1/DTD/svg11.dtd\">\n",
       "<!-- Generated by graphviz version 2.43.0 (0)\n",
       " -->\n",
       "<!-- Title: %3 Pages: 1 -->\n",
       "<svg width=\"305pt\" height=\"181pt\"\n",
       " viewBox=\"0.00 0.00 304.50 181.00\" xmlns=\"http://www.w3.org/2000/svg\" xmlns:xlink=\"http://www.w3.org/1999/xlink\">\n",
       "<g id=\"graph0\" class=\"graph\" transform=\"scale(1 1) rotate(0) translate(4 177)\">\n",
       "<title>%3</title>\n",
       "<polygon fill=\"white\" stroke=\"transparent\" points=\"-4,4 -4,-177 300.5,-177 300.5,4 -4,4\"/>\n",
       "<g id=\"clust1\" class=\"cluster\">\n",
       "<title>cluster__legend</title>\n",
       "<polygon fill=\"#ffffff\" stroke=\"black\" points=\"114.5,-89 114.5,-165 288.5,-165 288.5,-89 114.5,-89\"/>\n",
       "<text text-anchor=\"middle\" x=\"201.5\" y=\"-149.8\" font-family=\"Helvetica,sans-Serif\" font-size=\"14.00\">Legend</text>\n",
       "</g>\n",
       "<!-- joke_prompt -->\n",
       "<g id=\"node1\" class=\"node\">\n",
       "<title>joke_prompt</title>\n",
       "<path fill=\"#b4d8e4\" stroke=\"black\" d=\"M107,-64C107,-64 12,-64 12,-64 6,-64 0,-58 0,-52 0,-52 0,-12 0,-12 0,-6 6,0 12,0 12,0 107,0 107,0 113,0 119,-6 119,-12 119,-12 119,-52 119,-52 119,-58 113,-64 107,-64\"/>\n",
       "<text text-anchor=\"start\" x=\"11\" y=\"-42.8\" font-family=\"Helvetica,sans-Serif\" font-weight=\"bold\" font-size=\"14.00\">joke_prompt</text>\n",
       "<text text-anchor=\"start\" x=\"50\" y=\"-14.8\" font-family=\"Helvetica,sans-Serif\" font-style=\"italic\" font-size=\"14.00\">str</text>\n",
       "</g>\n",
       "<!-- _joke_prompt_inputs -->\n",
       "<g id=\"node2\" class=\"node\">\n",
       "<title>_joke_prompt_inputs</title>\n",
       "<polygon fill=\"#ffffff\" stroke=\"black\" stroke-dasharray=\"5,2\" points=\"104,-138 15,-138 15,-93 104,-93 104,-138\"/>\n",
       "<text text-anchor=\"start\" x=\"30.5\" y=\"-111.3\" font-family=\"Helvetica,sans-Serif\" font-size=\"14.00\">topic</text>\n",
       "<text text-anchor=\"start\" x=\"70.5\" y=\"-111.3\" font-family=\"Helvetica,sans-Serif\" font-size=\"14.00\">str</text>\n",
       "</g>\n",
       "<!-- _joke_prompt_inputs&#45;&gt;joke_prompt -->\n",
       "<g id=\"edge1\" class=\"edge\">\n",
       "<title>_joke_prompt_inputs&#45;&gt;joke_prompt</title>\n",
       "<path fill=\"none\" stroke=\"black\" d=\"M59.5,-92.66C59.5,-87.04 59.5,-80.81 59.5,-74.55\"/>\n",
       "<polygon fill=\"black\" stroke=\"black\" points=\"63,-74.09 59.5,-64.09 56,-74.09 63,-74.09\"/>\n",
       "</g>\n",
       "<!-- input -->\n",
       "<g id=\"node3\" class=\"node\">\n",
       "<title>input</title>\n",
       "<polygon fill=\"#ffffff\" stroke=\"black\" stroke-dasharray=\"5,2\" points=\"280,-134 221,-134 221,-97 280,-97 280,-134\"/>\n",
       "<text text-anchor=\"middle\" x=\"250.5\" y=\"-111.8\" font-family=\"Helvetica,sans-Serif\" font-size=\"14.00\">input</text>\n",
       "</g>\n",
       "<!-- function -->\n",
       "<g id=\"node4\" class=\"node\">\n",
       "<title>function</title>\n",
       "<path fill=\"#b4d8e4\" stroke=\"black\" d=\"M190.5,-134C190.5,-134 134.5,-134 134.5,-134 128.5,-134 122.5,-128 122.5,-122 122.5,-122 122.5,-109 122.5,-109 122.5,-103 128.5,-97 134.5,-97 134.5,-97 190.5,-97 190.5,-97 196.5,-97 202.5,-103 202.5,-109 202.5,-109 202.5,-122 202.5,-122 202.5,-128 196.5,-134 190.5,-134\"/>\n",
       "<text text-anchor=\"middle\" x=\"162.5\" y=\"-111.8\" font-family=\"Helvetica,sans-Serif\" font-size=\"14.00\">function</text>\n",
       "</g>\n",
       "</g>\n",
       "</svg>\n"
      ],
      "text/plain": [
       "<graphviz.graphs.Digraph at 0x7f9a8d0a0290>"
      ]
     },
     "metadata": {},
     "output_type": "display_data"
    }
   ],
   "source": [
    "%%cell_to_module joke --display display_config\n",
    "def joke_prompt(topic: str) -> str:\n",
    "    return f\"Tell me a short joke about {topic}\""
   ]
  },
  {
   "cell_type": "markdown",
   "id": "f8b86615",
   "metadata": {},
   "source": [
    "### 2.4 Write module to file\n",
    "To make the transition from notebook to module easy and avoid copy-pasting, you can use `--write_to_file / -w`. This will copy the content of the file to `{MODULE_NAME}.py`. You can also specify a destination file path explicitly.\n",
    "\n",
    "> ⛔ Be careful with overwriting files with this command. Use git to version your files.\n",
    "\n",
    "After the running the next cell, you should see `joke.py` generated in your directory."
   ]
  },
  {
   "cell_type": "code",
   "execution_count": 9,
   "id": "0b428a30",
   "metadata": {},
   "outputs": [],
   "source": [
    "%%cell_to_module joke --write_to_file\n",
    "def joke_prompt(topic: str) -> str:\n",
    "    return f\"Knock, knock. Who's there? {topic}\""
   ]
  },
  {
   "cell_type": "code",
   "execution_count": 10,
   "id": "f52076cb",
   "metadata": {},
   "outputs": [
    {
     "data": {
      "text/plain": [
       "\"Knock, knock. Who's there? Cowsays\""
      ]
     },
     "execution_count": 10,
     "metadata": {},
     "output_type": "execute_result"
    }
   ],
   "source": [
    "import joke\n",
    "joke.joke_prompt(\"Cowsays\")"
   ]
  },
  {
   "cell_type": "markdown",
   "id": "6f10bf5f",
   "metadata": {},
   "source": [
    "### 2.5 Configure the `Driver`\n",
    "When using the `@config` function modifiers, you might need to pass a configuration to properly build your dataflow. You can do this inline with the `-c/--config` argument. It supports 3 different format:\n",
    "\n",
    "1. **Variable name** `--config my_config` where `my_config` is a variable e.g., `my_config=dict(a=True, b=-1)`\n",
    "2. **Key-value** `--config a=True, b=-1` evaluates to `dict(a=\"True\", b=\"-1\")` since everything is interpreted as strings.\n",
    "3. **JSON** `--config '{\"a\": true, \"b\": -1}'` evaluates to `dict(a=True, b=-1)`. For valid JSON, you need double quotes `\"` inside and have single quotes `'` outside.\n",
    "\n",
    "Here are examples. Notice how the config is properly displayed."
   ]
  },
  {
   "cell_type": "code",
   "execution_count": 11,
   "id": "3c2b11be",
   "metadata": {},
   "outputs": [
    {
     "data": {
      "image/svg+xml": [
       "<?xml version=\"1.0\" encoding=\"UTF-8\" standalone=\"no\"?>\n",
       "<!DOCTYPE svg PUBLIC \"-//W3C//DTD SVG 1.1//EN\"\n",
       " \"http://www.w3.org/Graphics/SVG/1.1/DTD/svg11.dtd\">\n",
       "<!-- Generated by graphviz version 2.43.0 (0)\n",
       " -->\n",
       "<!-- Title: %3 Pages: 1 -->\n",
       "<svg width=\"359pt\" height=\"325pt\"\n",
       " viewBox=\"0.00 0.00 359.00 325.00\" xmlns=\"http://www.w3.org/2000/svg\" xmlns:xlink=\"http://www.w3.org/1999/xlink\">\n",
       "<g id=\"graph0\" class=\"graph\" transform=\"scale(1 1) rotate(0) translate(4 321)\">\n",
       "<title>%3</title>\n",
       "<polygon fill=\"white\" stroke=\"transparent\" points=\"-4,4 -4,-321 355,-321 355,4 -4,4\"/>\n",
       "<g id=\"clust1\" class=\"cluster\">\n",
       "<title>cluster__legend</title>\n",
       "<polygon fill=\"#ffffff\" stroke=\"black\" points=\"8,-123 8,-309 104,-309 104,-123 8,-123\"/>\n",
       "<text text-anchor=\"middle\" x=\"56\" y=\"-293.8\" font-family=\"Helvetica,sans-Serif\" font-size=\"14.00\">Legend</text>\n",
       "</g>\n",
       "<!-- knock_joke -->\n",
       "<g id=\"node1\" class=\"node\">\n",
       "<title>knock_joke</title>\n",
       "<polygon fill=\"#ffffff\" stroke=\"black\" points=\"101,-50 5,-50 5,0 107,0 107,-44 101,-50\"/>\n",
       "<polyline fill=\"none\" stroke=\"black\" points=\"101,-50 101,-44 \"/>\n",
       "<polyline fill=\"none\" stroke=\"black\" points=\"107,-44 101,-44 \"/>\n",
       "<text text-anchor=\"start\" x=\"13\" y=\"-35.8\" font-family=\"Helvetica,sans-Serif\" font-weight=\"bold\" font-size=\"14.00\">knock_joke</text>\n",
       "<text text-anchor=\"start\" x=\"41.5\" y=\"-7.8\" font-family=\"Helvetica,sans-Serif\" font-style=\"italic\" font-size=\"14.00\">true</text>\n",
       "</g>\n",
       "<!-- joke_prompt -->\n",
       "<g id=\"node2\" class=\"node\">\n",
       "<title>joke_prompt</title>\n",
       "<path fill=\"#b4d8e4\" stroke=\"black\" d=\"M339,-123C339,-123 148,-123 148,-123 142,-123 136,-117 136,-111 136,-111 136,-71 136,-71 136,-65 142,-59 148,-59 148,-59 339,-59 339,-59 345,-59 351,-65 351,-71 351,-71 351,-111 351,-111 351,-117 345,-123 339,-123\"/>\n",
       "<text text-anchor=\"start\" x=\"147\" y=\"-101.8\" font-family=\"Helvetica,sans-Serif\" font-weight=\"bold\" font-size=\"14.00\">joke_prompt: knock_joke</text>\n",
       "<text text-anchor=\"start\" x=\"234\" y=\"-73.8\" font-family=\"Helvetica,sans-Serif\" font-style=\"italic\" font-size=\"14.00\">str</text>\n",
       "</g>\n",
       "<!-- _joke_prompt_inputs -->\n",
       "<g id=\"node3\" class=\"node\">\n",
       "<title>_joke_prompt_inputs</title>\n",
       "<polygon fill=\"#ffffff\" stroke=\"black\" stroke-dasharray=\"5,2\" points=\"100.5,-113.5 11.5,-113.5 11.5,-68.5 100.5,-68.5 100.5,-113.5\"/>\n",
       "<text text-anchor=\"start\" x=\"27\" y=\"-86.8\" font-family=\"Helvetica,sans-Serif\" font-size=\"14.00\">topic</text>\n",
       "<text text-anchor=\"start\" x=\"67\" y=\"-86.8\" font-family=\"Helvetica,sans-Serif\" font-size=\"14.00\">str</text>\n",
       "</g>\n",
       "<!-- _joke_prompt_inputs&#45;&gt;joke_prompt -->\n",
       "<g id=\"edge1\" class=\"edge\">\n",
       "<title>_joke_prompt_inputs&#45;&gt;joke_prompt</title>\n",
       "<path fill=\"none\" stroke=\"black\" d=\"M100.96,-91C108.66,-91 116.99,-91 125.62,-91\"/>\n",
       "<polygon fill=\"black\" stroke=\"black\" points=\"125.86,-94.5 135.86,-91 125.86,-87.5 125.86,-94.5\"/>\n",
       "</g>\n",
       "<!-- config -->\n",
       "<g id=\"node4\" class=\"node\">\n",
       "<title>config</title>\n",
       "<polygon fill=\"#ffffff\" stroke=\"black\" points=\"79.5,-278 26.5,-278 26.5,-242 85.5,-242 85.5,-272 79.5,-278\"/>\n",
       "<polyline fill=\"none\" stroke=\"black\" points=\"79.5,-278 79.5,-272 \"/>\n",
       "<polyline fill=\"none\" stroke=\"black\" points=\"85.5,-272 79.5,-272 \"/>\n",
       "<text text-anchor=\"middle\" x=\"56\" y=\"-256.3\" font-family=\"Helvetica,sans-Serif\" font-size=\"14.00\">config</text>\n",
       "</g>\n",
       "<!-- input -->\n",
       "<g id=\"node5\" class=\"node\">\n",
       "<title>input</title>\n",
       "<polygon fill=\"#ffffff\" stroke=\"black\" stroke-dasharray=\"5,2\" points=\"85.5,-223.5 26.5,-223.5 26.5,-186.5 85.5,-186.5 85.5,-223.5\"/>\n",
       "<text text-anchor=\"middle\" x=\"56\" y=\"-201.3\" font-family=\"Helvetica,sans-Serif\" font-size=\"14.00\">input</text>\n",
       "</g>\n",
       "<!-- function -->\n",
       "<g id=\"node6\" class=\"node\">\n",
       "<title>function</title>\n",
       "<path fill=\"#b4d8e4\" stroke=\"black\" d=\"M84,-168.5C84,-168.5 28,-168.5 28,-168.5 22,-168.5 16,-162.5 16,-156.5 16,-156.5 16,-143.5 16,-143.5 16,-137.5 22,-131.5 28,-131.5 28,-131.5 84,-131.5 84,-131.5 90,-131.5 96,-137.5 96,-143.5 96,-143.5 96,-156.5 96,-156.5 96,-162.5 90,-168.5 84,-168.5\"/>\n",
       "<text text-anchor=\"middle\" x=\"56\" y=\"-146.3\" font-family=\"Helvetica,sans-Serif\" font-size=\"14.00\">function</text>\n",
       "</g>\n",
       "</g>\n",
       "</svg>\n"
      ],
      "text/plain": [
       "<graphviz.graphs.Digraph at 0x7f9a8d0a2e50>"
      ]
     },
     "metadata": {},
     "output_type": "display_data"
    }
   ],
   "source": [
    "%%cell_to_module joke --display --config '{\"knock_joke\": \"true\"}'\n",
    "from hamilton.function_modifiers import config\n",
    "\n",
    "@config.when(knock_joke=\"true\")\n",
    "def joke_prompt__knock(topic: str) -> str:\n",
    "    return f\"Knock, knock. Who's there? {topic}\""
   ]
  },
  {
   "cell_type": "code",
   "execution_count": 12,
   "id": "39bc255e",
   "metadata": {},
   "outputs": [
    {
     "data": {
      "image/svg+xml": [
       "<?xml version=\"1.0\" encoding=\"UTF-8\" standalone=\"no\"?>\n",
       "<!DOCTYPE svg PUBLIC \"-//W3C//DTD SVG 1.1//EN\"\n",
       " \"http://www.w3.org/Graphics/SVG/1.1/DTD/svg11.dtd\">\n",
       "<!-- Generated by graphviz version 2.43.0 (0)\n",
       " -->\n",
       "<!-- Title: %3 Pages: 1 -->\n",
       "<svg width=\"359pt\" height=\"325pt\"\n",
       " viewBox=\"0.00 0.00 359.00 325.00\" xmlns=\"http://www.w3.org/2000/svg\" xmlns:xlink=\"http://www.w3.org/1999/xlink\">\n",
       "<g id=\"graph0\" class=\"graph\" transform=\"scale(1 1) rotate(0) translate(4 321)\">\n",
       "<title>%3</title>\n",
       "<polygon fill=\"white\" stroke=\"transparent\" points=\"-4,4 -4,-321 355,-321 355,4 -4,4\"/>\n",
       "<g id=\"clust1\" class=\"cluster\">\n",
       "<title>cluster__legend</title>\n",
       "<polygon fill=\"#ffffff\" stroke=\"black\" points=\"8,-123 8,-309 104,-309 104,-123 8,-123\"/>\n",
       "<text text-anchor=\"middle\" x=\"56\" y=\"-293.8\" font-family=\"Helvetica,sans-Serif\" font-size=\"14.00\">Legend</text>\n",
       "</g>\n",
       "<!-- knock_joke -->\n",
       "<g id=\"node1\" class=\"node\">\n",
       "<title>knock_joke</title>\n",
       "<polygon fill=\"#ffffff\" stroke=\"black\" points=\"101,-50 5,-50 5,0 107,0 107,-44 101,-50\"/>\n",
       "<polyline fill=\"none\" stroke=\"black\" points=\"101,-50 101,-44 \"/>\n",
       "<polyline fill=\"none\" stroke=\"black\" points=\"107,-44 101,-44 \"/>\n",
       "<text text-anchor=\"start\" x=\"13\" y=\"-35.8\" font-family=\"Helvetica,sans-Serif\" font-weight=\"bold\" font-size=\"14.00\">knock_joke</text>\n",
       "<text text-anchor=\"start\" x=\"41.5\" y=\"-7.8\" font-family=\"Helvetica,sans-Serif\" font-style=\"italic\" font-size=\"14.00\">true</text>\n",
       "</g>\n",
       "<!-- joke_prompt -->\n",
       "<g id=\"node2\" class=\"node\">\n",
       "<title>joke_prompt</title>\n",
       "<path fill=\"#b4d8e4\" stroke=\"black\" d=\"M339,-123C339,-123 148,-123 148,-123 142,-123 136,-117 136,-111 136,-111 136,-71 136,-71 136,-65 142,-59 148,-59 148,-59 339,-59 339,-59 345,-59 351,-65 351,-71 351,-71 351,-111 351,-111 351,-117 345,-123 339,-123\"/>\n",
       "<text text-anchor=\"start\" x=\"147\" y=\"-101.8\" font-family=\"Helvetica,sans-Serif\" font-weight=\"bold\" font-size=\"14.00\">joke_prompt: knock_joke</text>\n",
       "<text text-anchor=\"start\" x=\"234\" y=\"-73.8\" font-family=\"Helvetica,sans-Serif\" font-style=\"italic\" font-size=\"14.00\">str</text>\n",
       "</g>\n",
       "<!-- _joke_prompt_inputs -->\n",
       "<g id=\"node3\" class=\"node\">\n",
       "<title>_joke_prompt_inputs</title>\n",
       "<polygon fill=\"#ffffff\" stroke=\"black\" stroke-dasharray=\"5,2\" points=\"100.5,-113.5 11.5,-113.5 11.5,-68.5 100.5,-68.5 100.5,-113.5\"/>\n",
       "<text text-anchor=\"start\" x=\"27\" y=\"-86.8\" font-family=\"Helvetica,sans-Serif\" font-size=\"14.00\">topic</text>\n",
       "<text text-anchor=\"start\" x=\"67\" y=\"-86.8\" font-family=\"Helvetica,sans-Serif\" font-size=\"14.00\">str</text>\n",
       "</g>\n",
       "<!-- _joke_prompt_inputs&#45;&gt;joke_prompt -->\n",
       "<g id=\"edge1\" class=\"edge\">\n",
       "<title>_joke_prompt_inputs&#45;&gt;joke_prompt</title>\n",
       "<path fill=\"none\" stroke=\"black\" d=\"M100.96,-91C108.66,-91 116.99,-91 125.62,-91\"/>\n",
       "<polygon fill=\"black\" stroke=\"black\" points=\"125.86,-94.5 135.86,-91 125.86,-87.5 125.86,-94.5\"/>\n",
       "</g>\n",
       "<!-- config -->\n",
       "<g id=\"node4\" class=\"node\">\n",
       "<title>config</title>\n",
       "<polygon fill=\"#ffffff\" stroke=\"black\" points=\"79.5,-278 26.5,-278 26.5,-242 85.5,-242 85.5,-272 79.5,-278\"/>\n",
       "<polyline fill=\"none\" stroke=\"black\" points=\"79.5,-278 79.5,-272 \"/>\n",
       "<polyline fill=\"none\" stroke=\"black\" points=\"85.5,-272 79.5,-272 \"/>\n",
       "<text text-anchor=\"middle\" x=\"56\" y=\"-256.3\" font-family=\"Helvetica,sans-Serif\" font-size=\"14.00\">config</text>\n",
       "</g>\n",
       "<!-- input -->\n",
       "<g id=\"node5\" class=\"node\">\n",
       "<title>input</title>\n",
       "<polygon fill=\"#ffffff\" stroke=\"black\" stroke-dasharray=\"5,2\" points=\"85.5,-223.5 26.5,-223.5 26.5,-186.5 85.5,-186.5 85.5,-223.5\"/>\n",
       "<text text-anchor=\"middle\" x=\"56\" y=\"-201.3\" font-family=\"Helvetica,sans-Serif\" font-size=\"14.00\">input</text>\n",
       "</g>\n",
       "<!-- function -->\n",
       "<g id=\"node6\" class=\"node\">\n",
       "<title>function</title>\n",
       "<path fill=\"#b4d8e4\" stroke=\"black\" d=\"M84,-168.5C84,-168.5 28,-168.5 28,-168.5 22,-168.5 16,-162.5 16,-156.5 16,-156.5 16,-143.5 16,-143.5 16,-137.5 22,-131.5 28,-131.5 28,-131.5 84,-131.5 84,-131.5 90,-131.5 96,-137.5 96,-143.5 96,-143.5 96,-156.5 96,-156.5 96,-162.5 90,-168.5 84,-168.5\"/>\n",
       "<text text-anchor=\"middle\" x=\"56\" y=\"-146.3\" font-family=\"Helvetica,sans-Serif\" font-size=\"14.00\">function</text>\n",
       "</g>\n",
       "</g>\n",
       "</svg>\n"
      ],
      "text/plain": [
       "<graphviz.graphs.Digraph at 0x7f9a8d0aa290>"
      ]
     },
     "metadata": {},
     "output_type": "display_data"
    }
   ],
   "source": [
    "%%cell_to_module joke --display --config knock_joke=true\n",
    "from hamilton.function_modifiers import config\n",
    "\n",
    "@config.when(knock_joke=\"true\")\n",
    "def joke_prompt__knock(topic: str) -> str:\n",
    "    return f\"Knock, knock. Who's there? {topic}\""
   ]
  },
  {
   "cell_type": "code",
   "execution_count": 13,
   "id": "ebcc2729",
   "metadata": {},
   "outputs": [],
   "source": [
    "my_config = dict(knock_joke=\"true\")"
   ]
  },
  {
   "cell_type": "code",
   "execution_count": 14,
   "id": "a30d4cec",
   "metadata": {},
   "outputs": [
    {
     "data": {
      "image/svg+xml": [
       "<?xml version=\"1.0\" encoding=\"UTF-8\" standalone=\"no\"?>\n",
       "<!DOCTYPE svg PUBLIC \"-//W3C//DTD SVG 1.1//EN\"\n",
       " \"http://www.w3.org/Graphics/SVG/1.1/DTD/svg11.dtd\">\n",
       "<!-- Generated by graphviz version 2.43.0 (0)\n",
       " -->\n",
       "<!-- Title: %3 Pages: 1 -->\n",
       "<svg width=\"359pt\" height=\"325pt\"\n",
       " viewBox=\"0.00 0.00 359.00 325.00\" xmlns=\"http://www.w3.org/2000/svg\" xmlns:xlink=\"http://www.w3.org/1999/xlink\">\n",
       "<g id=\"graph0\" class=\"graph\" transform=\"scale(1 1) rotate(0) translate(4 321)\">\n",
       "<title>%3</title>\n",
       "<polygon fill=\"white\" stroke=\"transparent\" points=\"-4,4 -4,-321 355,-321 355,4 -4,4\"/>\n",
       "<g id=\"clust1\" class=\"cluster\">\n",
       "<title>cluster__legend</title>\n",
       "<polygon fill=\"#ffffff\" stroke=\"black\" points=\"8,-123 8,-309 104,-309 104,-123 8,-123\"/>\n",
       "<text text-anchor=\"middle\" x=\"56\" y=\"-293.8\" font-family=\"Helvetica,sans-Serif\" font-size=\"14.00\">Legend</text>\n",
       "</g>\n",
       "<!-- knock_joke -->\n",
       "<g id=\"node1\" class=\"node\">\n",
       "<title>knock_joke</title>\n",
       "<polygon fill=\"#ffffff\" stroke=\"black\" points=\"101,-50 5,-50 5,0 107,0 107,-44 101,-50\"/>\n",
       "<polyline fill=\"none\" stroke=\"black\" points=\"101,-50 101,-44 \"/>\n",
       "<polyline fill=\"none\" stroke=\"black\" points=\"107,-44 101,-44 \"/>\n",
       "<text text-anchor=\"start\" x=\"13\" y=\"-35.8\" font-family=\"Helvetica,sans-Serif\" font-weight=\"bold\" font-size=\"14.00\">knock_joke</text>\n",
       "<text text-anchor=\"start\" x=\"41.5\" y=\"-7.8\" font-family=\"Helvetica,sans-Serif\" font-style=\"italic\" font-size=\"14.00\">true</text>\n",
       "</g>\n",
       "<!-- joke_prompt -->\n",
       "<g id=\"node2\" class=\"node\">\n",
       "<title>joke_prompt</title>\n",
       "<path fill=\"#b4d8e4\" stroke=\"black\" d=\"M339,-123C339,-123 148,-123 148,-123 142,-123 136,-117 136,-111 136,-111 136,-71 136,-71 136,-65 142,-59 148,-59 148,-59 339,-59 339,-59 345,-59 351,-65 351,-71 351,-71 351,-111 351,-111 351,-117 345,-123 339,-123\"/>\n",
       "<text text-anchor=\"start\" x=\"147\" y=\"-101.8\" font-family=\"Helvetica,sans-Serif\" font-weight=\"bold\" font-size=\"14.00\">joke_prompt: knock_joke</text>\n",
       "<text text-anchor=\"start\" x=\"234\" y=\"-73.8\" font-family=\"Helvetica,sans-Serif\" font-style=\"italic\" font-size=\"14.00\">str</text>\n",
       "</g>\n",
       "<!-- _joke_prompt_inputs -->\n",
       "<g id=\"node3\" class=\"node\">\n",
       "<title>_joke_prompt_inputs</title>\n",
       "<polygon fill=\"#ffffff\" stroke=\"black\" stroke-dasharray=\"5,2\" points=\"100.5,-113.5 11.5,-113.5 11.5,-68.5 100.5,-68.5 100.5,-113.5\"/>\n",
       "<text text-anchor=\"start\" x=\"27\" y=\"-86.8\" font-family=\"Helvetica,sans-Serif\" font-size=\"14.00\">topic</text>\n",
       "<text text-anchor=\"start\" x=\"67\" y=\"-86.8\" font-family=\"Helvetica,sans-Serif\" font-size=\"14.00\">str</text>\n",
       "</g>\n",
       "<!-- _joke_prompt_inputs&#45;&gt;joke_prompt -->\n",
       "<g id=\"edge1\" class=\"edge\">\n",
       "<title>_joke_prompt_inputs&#45;&gt;joke_prompt</title>\n",
       "<path fill=\"none\" stroke=\"black\" d=\"M100.96,-91C108.66,-91 116.99,-91 125.62,-91\"/>\n",
       "<polygon fill=\"black\" stroke=\"black\" points=\"125.86,-94.5 135.86,-91 125.86,-87.5 125.86,-94.5\"/>\n",
       "</g>\n",
       "<!-- config -->\n",
       "<g id=\"node4\" class=\"node\">\n",
       "<title>config</title>\n",
       "<polygon fill=\"#ffffff\" stroke=\"black\" points=\"79.5,-278 26.5,-278 26.5,-242 85.5,-242 85.5,-272 79.5,-278\"/>\n",
       "<polyline fill=\"none\" stroke=\"black\" points=\"79.5,-278 79.5,-272 \"/>\n",
       "<polyline fill=\"none\" stroke=\"black\" points=\"85.5,-272 79.5,-272 \"/>\n",
       "<text text-anchor=\"middle\" x=\"56\" y=\"-256.3\" font-family=\"Helvetica,sans-Serif\" font-size=\"14.00\">config</text>\n",
       "</g>\n",
       "<!-- input -->\n",
       "<g id=\"node5\" class=\"node\">\n",
       "<title>input</title>\n",
       "<polygon fill=\"#ffffff\" stroke=\"black\" stroke-dasharray=\"5,2\" points=\"85.5,-223.5 26.5,-223.5 26.5,-186.5 85.5,-186.5 85.5,-223.5\"/>\n",
       "<text text-anchor=\"middle\" x=\"56\" y=\"-201.3\" font-family=\"Helvetica,sans-Serif\" font-size=\"14.00\">input</text>\n",
       "</g>\n",
       "<!-- function -->\n",
       "<g id=\"node6\" class=\"node\">\n",
       "<title>function</title>\n",
       "<path fill=\"#b4d8e4\" stroke=\"black\" d=\"M84,-168.5C84,-168.5 28,-168.5 28,-168.5 22,-168.5 16,-162.5 16,-156.5 16,-156.5 16,-143.5 16,-143.5 16,-137.5 22,-131.5 28,-131.5 28,-131.5 84,-131.5 84,-131.5 90,-131.5 96,-137.5 96,-143.5 96,-143.5 96,-156.5 96,-156.5 96,-162.5 90,-168.5 84,-168.5\"/>\n",
       "<text text-anchor=\"middle\" x=\"56\" y=\"-146.3\" font-family=\"Helvetica,sans-Serif\" font-size=\"14.00\">function</text>\n",
       "</g>\n",
       "</g>\n",
       "</svg>\n"
      ],
      "text/plain": [
       "<graphviz.graphs.Digraph at 0x7f9a8d08fb10>"
      ]
     },
     "metadata": {},
     "output_type": "display_data"
    }
   ],
   "source": [
    "%%cell_to_module joke --display --config my_config\n",
    "from hamilton.function_modifiers import config\n",
    "\n",
    "@config.when(knock_joke=\"true\")\n",
    "def joke_prompt__knock(topic: str) -> str:\n",
    "    return f\"Knock, knock. Who's there? {topic}\""
   ]
  },
  {
   "cell_type": "markdown",
   "id": "0fc21caf",
   "metadata": {},
   "source": [
    "### 2.6 Build a `Driver`"
   ]
  },
  {
   "cell_type": "markdown",
   "id": "37873813",
   "metadata": {},
   "source": [
    "The `Driver` definition can be required to properly build some Hamilton dataflow, in particular those using `.with_config() / @config` and `Parallelizable[]/Collect[]`. We can pass a `Builder` object using `-b/--builder`.\n",
    "\n",
    "Here are examples. Notice how the config from the `Builder` is properly displayed."
   ]
  },
  {
   "cell_type": "code",
   "execution_count": 15,
   "id": "2582a54d",
   "metadata": {},
   "outputs": [],
   "source": [
    "my_builder = (\n",
    "    driver.Builder()\n",
    "    .enable_dynamic_execution(allow_experimental_mode=True)\n",
    "    .with_config({\"knock_joke\": \"true\"})\n",
    ")"
   ]
  },
  {
   "cell_type": "code",
   "execution_count": 16,
   "id": "922a4255",
   "metadata": {},
   "outputs": [
    {
     "data": {
      "image/svg+xml": [
       "<?xml version=\"1.0\" encoding=\"UTF-8\" standalone=\"no\"?>\n",
       "<!DOCTYPE svg PUBLIC \"-//W3C//DTD SVG 1.1//EN\"\n",
       " \"http://www.w3.org/Graphics/SVG/1.1/DTD/svg11.dtd\">\n",
       "<!-- Generated by graphviz version 2.43.0 (0)\n",
       " -->\n",
       "<!-- Title: %3 Pages: 1 -->\n",
       "<svg width=\"612pt\" height=\"423pt\"\n",
       " viewBox=\"0.00 0.00 612.00 423.00\" xmlns=\"http://www.w3.org/2000/svg\" xmlns:xlink=\"http://www.w3.org/1999/xlink\">\n",
       "<g id=\"graph0\" class=\"graph\" transform=\"scale(1 1) rotate(0) translate(4 419)\">\n",
       "<title>%3</title>\n",
       "<polygon fill=\"white\" stroke=\"transparent\" points=\"-4,4 -4,-419 608,-419 608,4 -4,4\"/>\n",
       "<g id=\"clust1\" class=\"cluster\">\n",
       "<title>cluster__legend</title>\n",
       "<polygon fill=\"#ffffff\" stroke=\"black\" points=\"11.5,-150 11.5,-407 109.5,-407 109.5,-150 11.5,-150\"/>\n",
       "<text text-anchor=\"middle\" x=\"60.5\" y=\"-391.8\" font-family=\"Helvetica,sans-Serif\" font-size=\"14.00\">Legend</text>\n",
       "</g>\n",
       "<!-- knock_joke -->\n",
       "<g id=\"node1\" class=\"node\">\n",
       "<title>knock_joke</title>\n",
       "<polygon fill=\"#ffffff\" stroke=\"black\" points=\"105.5,-50 9.5,-50 9.5,0 111.5,0 111.5,-44 105.5,-50\"/>\n",
       "<polyline fill=\"none\" stroke=\"black\" points=\"105.5,-50 105.5,-44 \"/>\n",
       "<polyline fill=\"none\" stroke=\"black\" points=\"111.5,-44 105.5,-44 \"/>\n",
       "<text text-anchor=\"start\" x=\"17.5\" y=\"-35.8\" font-family=\"Helvetica,sans-Serif\" font-weight=\"bold\" font-size=\"14.00\">knock_joke</text>\n",
       "<text text-anchor=\"start\" x=\"46\" y=\"-7.8\" font-family=\"Helvetica,sans-Serif\" font-style=\"italic\" font-size=\"14.00\">true</text>\n",
       "</g>\n",
       "<!-- topic -->\n",
       "<g id=\"node2\" class=\"node\">\n",
       "<title>topic</title>\n",
       "<path fill=\"#b4d8e4\" stroke=\"#56e39f\" d=\"M105,-136C105,-136 16,-136 16,-136 10,-136 4,-130 4,-124 4,-124 4,-84 4,-84 4,-78 10,-72 16,-72 16,-72 105,-72 105,-72 111,-72 117,-78 117,-84 117,-84 117,-124 117,-124 117,-130 111,-136 105,-136\"/>\n",
       "<path fill=\"none\" stroke=\"#56e39f\" d=\"M109,-140C109,-140 12,-140 12,-140 6,-140 0,-134 0,-128 0,-128 0,-80 0,-80 0,-74 6,-68 12,-68 12,-68 109,-68 109,-68 115,-68 121,-74 121,-80 121,-80 121,-128 121,-128 121,-134 115,-140 109,-140\"/>\n",
       "<text text-anchor=\"start\" x=\"40.5\" y=\"-114.8\" font-family=\"Helvetica,sans-Serif\" font-weight=\"bold\" font-size=\"14.00\">topic</text>\n",
       "<text text-anchor=\"start\" x=\"15\" y=\"-86.8\" font-family=\"Helvetica,sans-Serif\" font-style=\"italic\" font-size=\"14.00\">Parallelizable</text>\n",
       "</g>\n",
       "<!-- joke_prompt -->\n",
       "<g id=\"node4\" class=\"node\">\n",
       "<title>joke_prompt</title>\n",
       "<path fill=\"#b4d8e4\" stroke=\"black\" d=\"M353,-136C353,-136 162,-136 162,-136 156,-136 150,-130 150,-124 150,-124 150,-84 150,-84 150,-78 156,-72 162,-72 162,-72 353,-72 353,-72 359,-72 365,-78 365,-84 365,-84 365,-124 365,-124 365,-130 359,-136 353,-136\"/>\n",
       "<text text-anchor=\"start\" x=\"161\" y=\"-114.8\" font-family=\"Helvetica,sans-Serif\" font-weight=\"bold\" font-size=\"14.00\">joke_prompt: knock_joke</text>\n",
       "<text text-anchor=\"start\" x=\"248\" y=\"-86.8\" font-family=\"Helvetica,sans-Serif\" font-style=\"italic\" font-size=\"14.00\">str</text>\n",
       "</g>\n",
       "<!-- topic&#45;&gt;joke_prompt -->\n",
       "<g id=\"edge2\" class=\"edge\">\n",
       "<title>topic&#45;&gt;joke_prompt</title>\n",
       "<path fill=\"none\" stroke=\"black\" d=\"M121.07,-104C127.09,-104 133.35,-104 139.72,-104\"/>\n",
       "<polygon fill=\"black\" stroke=\"black\" points=\"139.81,-104 149.81,-108.5 144.81,-104 149.81,-104 149.81,-104 149.81,-104 144.81,-104 149.81,-99.5 139.81,-104 139.81,-104\"/>\n",
       "</g>\n",
       "<!-- joke_prompt_collection -->\n",
       "<g id=\"node3\" class=\"node\">\n",
       "<title>joke_prompt_collection</title>\n",
       "<path fill=\"#b4d8e4\" stroke=\"#ea5556\" d=\"M588,-136C588,-136 410,-136 410,-136 404,-136 398,-130 398,-124 398,-124 398,-84 398,-84 398,-78 404,-72 410,-72 410,-72 588,-72 588,-72 594,-72 600,-78 600,-84 600,-84 600,-124 600,-124 600,-130 594,-136 588,-136\"/>\n",
       "<path fill=\"none\" stroke=\"#ea5556\" d=\"M592,-140C592,-140 406,-140 406,-140 400,-140 394,-134 394,-128 394,-128 394,-80 394,-80 394,-74 400,-68 406,-68 406,-68 592,-68 592,-68 598,-68 604,-74 604,-80 604,-80 604,-128 604,-128 604,-134 598,-140 592,-140\"/>\n",
       "<text text-anchor=\"start\" x=\"409\" y=\"-114.8\" font-family=\"Helvetica,sans-Serif\" font-weight=\"bold\" font-size=\"14.00\">joke_prompt_collection</text>\n",
       "<text text-anchor=\"start\" x=\"488.5\" y=\"-86.8\" font-family=\"Helvetica,sans-Serif\" font-style=\"italic\" font-size=\"14.00\">list</text>\n",
       "</g>\n",
       "<!-- joke_prompt&#45;&gt;joke_prompt_collection -->\n",
       "<g id=\"edge1\" class=\"edge\">\n",
       "<title>joke_prompt&#45;&gt;joke_prompt_collection</title>\n",
       "<path fill=\"none\" stroke=\"black\" d=\"M375.54,-104C378.21,-104 380.89,-104 383.56,-104\"/>\n",
       "<polygon fill=\"black\" stroke=\"black\" points=\"375.29,-104 365.29,-99.5 370.29,-104 365.29,-104 365.29,-104 365.29,-104 370.29,-104 365.29,-108.5 375.29,-104 375.29,-104\"/>\n",
       "<polygon fill=\"black\" stroke=\"black\" points=\"383.82,-107.5 393.82,-104 383.82,-100.5 383.82,-107.5\"/>\n",
       "</g>\n",
       "<!-- config -->\n",
       "<g id=\"node5\" class=\"node\">\n",
       "<title>config</title>\n",
       "<polygon fill=\"#ffffff\" stroke=\"black\" points=\"84,-376 31,-376 31,-340 90,-340 90,-370 84,-376\"/>\n",
       "<polyline fill=\"none\" stroke=\"black\" points=\"84,-376 84,-370 \"/>\n",
       "<polyline fill=\"none\" stroke=\"black\" points=\"90,-370 84,-370 \"/>\n",
       "<text text-anchor=\"middle\" x=\"60.5\" y=\"-354.3\" font-family=\"Helvetica,sans-Serif\" font-size=\"14.00\">config</text>\n",
       "</g>\n",
       "<!-- function -->\n",
       "<g id=\"node6\" class=\"node\">\n",
       "<title>function</title>\n",
       "<path fill=\"#b4d8e4\" stroke=\"black\" d=\"M88.5,-321.5C88.5,-321.5 32.5,-321.5 32.5,-321.5 26.5,-321.5 20.5,-315.5 20.5,-309.5 20.5,-309.5 20.5,-296.5 20.5,-296.5 20.5,-290.5 26.5,-284.5 32.5,-284.5 32.5,-284.5 88.5,-284.5 88.5,-284.5 94.5,-284.5 100.5,-290.5 100.5,-296.5 100.5,-296.5 100.5,-309.5 100.5,-309.5 100.5,-315.5 94.5,-321.5 88.5,-321.5\"/>\n",
       "<text text-anchor=\"middle\" x=\"60.5\" y=\"-299.3\" font-family=\"Helvetica,sans-Serif\" font-size=\"14.00\">function</text>\n",
       "</g>\n",
       "<!-- expand -->\n",
       "<g id=\"node7\" class=\"node\">\n",
       "<title>expand</title>\n",
       "<path fill=\"#b4d8e4\" stroke=\"#56e39f\" d=\"M85.5,-262.5C85.5,-262.5 35.5,-262.5 35.5,-262.5 29.5,-262.5 23.5,-256.5 23.5,-250.5 23.5,-250.5 23.5,-237.5 23.5,-237.5 23.5,-231.5 29.5,-225.5 35.5,-225.5 35.5,-225.5 85.5,-225.5 85.5,-225.5 91.5,-225.5 97.5,-231.5 97.5,-237.5 97.5,-237.5 97.5,-250.5 97.5,-250.5 97.5,-256.5 91.5,-262.5 85.5,-262.5\"/>\n",
       "<path fill=\"none\" stroke=\"#56e39f\" d=\"M89.5,-266.5C89.5,-266.5 31.5,-266.5 31.5,-266.5 25.5,-266.5 19.5,-260.5 19.5,-254.5 19.5,-254.5 19.5,-233.5 19.5,-233.5 19.5,-227.5 25.5,-221.5 31.5,-221.5 31.5,-221.5 89.5,-221.5 89.5,-221.5 95.5,-221.5 101.5,-227.5 101.5,-233.5 101.5,-233.5 101.5,-254.5 101.5,-254.5 101.5,-260.5 95.5,-266.5 89.5,-266.5\"/>\n",
       "<text text-anchor=\"middle\" x=\"60.5\" y=\"-240.3\" font-family=\"Helvetica,sans-Serif\" font-size=\"14.00\">expand</text>\n",
       "</g>\n",
       "<!-- collect -->\n",
       "<g id=\"node8\" class=\"node\">\n",
       "<title>collect</title>\n",
       "<path fill=\"#b4d8e4\" stroke=\"#ea5556\" d=\"M82,-199.5C82,-199.5 39,-199.5 39,-199.5 33,-199.5 27,-193.5 27,-187.5 27,-187.5 27,-174.5 27,-174.5 27,-168.5 33,-162.5 39,-162.5 39,-162.5 82,-162.5 82,-162.5 88,-162.5 94,-168.5 94,-174.5 94,-174.5 94,-187.5 94,-187.5 94,-193.5 88,-199.5 82,-199.5\"/>\n",
       "<path fill=\"none\" stroke=\"#ea5556\" d=\"M86,-203.5C86,-203.5 35,-203.5 35,-203.5 29,-203.5 23,-197.5 23,-191.5 23,-191.5 23,-170.5 23,-170.5 23,-164.5 29,-158.5 35,-158.5 35,-158.5 86,-158.5 86,-158.5 92,-158.5 98,-164.5 98,-170.5 98,-170.5 98,-191.5 98,-191.5 98,-197.5 92,-203.5 86,-203.5\"/>\n",
       "<text text-anchor=\"middle\" x=\"60.5\" y=\"-177.3\" font-family=\"Helvetica,sans-Serif\" font-size=\"14.00\">collect</text>\n",
       "</g>\n",
       "</g>\n",
       "</svg>\n"
      ],
      "text/plain": [
       "<graphviz.graphs.Digraph at 0x7f9a8c6449d0>"
      ]
     },
     "metadata": {},
     "output_type": "display_data"
    }
   ],
   "source": [
    "%%cell_to_module joke --display -b my_builder\n",
    "from hamilton.htypes import Parallelizable, Collect\n",
    "from hamilton.function_modifiers import config\n",
    "\n",
    "def topic() -> Parallelizable[str]:\n",
    "    for t in [\"Tom\", \"Jerry\"]:\n",
    "        yield t\n",
    "\n",
    "@config.when(knock_joke=\"true\")\n",
    "def joke_prompt__knock(topic: str) -> str:\n",
    "    return f\"Knock, knock. Who's there? {topic}\"\n",
    "\n",
    "def joke_prompt_collection(joke_prompt: Collect[str]) -> list:\n",
    "    return list(joke_prompt)"
   ]
  },
  {
   "cell_type": "markdown",
   "id": "8c2774be",
   "metadata": {},
   "source": [
    "### 2.7 Load external modules\n",
    "While developing your dataflow with `%%cell_to_module`, you might want to load nodes from another Python module. To do, simply import it and add it to the `Driver` using `.with_modules()` "
   ]
  },
  {
   "cell_type": "code",
   "execution_count": 33,
   "id": "c59a633b",
   "metadata": {},
   "outputs": [],
   "source": [
    "my_builder = driver.Builder().with_modules(joke)"
   ]
  },
  {
   "cell_type": "markdown",
   "id": "eb6c1b06",
   "metadata": {},
   "source": [
    "The nodes `topic` and `joke_prompt` origin from `joke.py`"
   ]
  },
  {
   "cell_type": "code",
   "execution_count": 34,
   "id": "2ca32ee2",
   "metadata": {},
   "outputs": [
    {
     "data": {
      "image/svg+xml": [
       "<?xml version=\"1.0\" encoding=\"UTF-8\" standalone=\"no\"?>\n",
       "<!DOCTYPE svg PUBLIC \"-//W3C//DTD SVG 1.1//EN\"\n",
       " \"http://www.w3.org/Graphics/SVG/1.1/DTD/svg11.dtd\">\n",
       "<!-- Generated by graphviz version 2.43.0 (0)\n",
       " -->\n",
       "<!-- Title: %3 Pages: 1 -->\n",
       "<svg width=\"417pt\" height=\"208pt\"\n",
       " viewBox=\"0.00 0.00 417.00 208.00\" xmlns=\"http://www.w3.org/2000/svg\" xmlns:xlink=\"http://www.w3.org/1999/xlink\">\n",
       "<g id=\"graph0\" class=\"graph\" transform=\"scale(1 1) rotate(0) translate(4 204)\">\n",
       "<title>%3</title>\n",
       "<polygon fill=\"white\" stroke=\"transparent\" points=\"-4,4 -4,-204 413,-204 413,4 -4,4\"/>\n",
       "<g id=\"clust1\" class=\"cluster\">\n",
       "<title>cluster__legend</title>\n",
       "<polygon fill=\"#ffffff\" stroke=\"black\" points=\"11.5,-115 11.5,-192 107.5,-192 107.5,-115 11.5,-115\"/>\n",
       "<text text-anchor=\"middle\" x=\"59.5\" y=\"-176.8\" font-family=\"Helvetica,sans-Serif\" font-size=\"14.00\">Legend</text>\n",
       "</g>\n",
       "<!-- reply -->\n",
       "<g id=\"node1\" class=\"node\">\n",
       "<title>reply</title>\n",
       "<path fill=\"#b4d8e4\" stroke=\"black\" d=\"M234,-146C234,-146 196,-146 196,-146 190,-146 184,-140 184,-134 184,-134 184,-94 184,-94 184,-88 190,-82 196,-82 196,-82 234,-82 234,-82 240,-82 246,-88 246,-94 246,-94 246,-134 246,-134 246,-140 240,-146 234,-146\"/>\n",
       "<text text-anchor=\"start\" x=\"195\" y=\"-124.8\" font-family=\"Helvetica,sans-Serif\" font-weight=\"bold\" font-size=\"14.00\">reply</text>\n",
       "<text text-anchor=\"start\" x=\"205.5\" y=\"-96.8\" font-family=\"Helvetica,sans-Serif\" font-style=\"italic\" font-size=\"14.00\">str</text>\n",
       "</g>\n",
       "<!-- punchline -->\n",
       "<g id=\"node4\" class=\"node\">\n",
       "<title>punchline</title>\n",
       "<path fill=\"#b4d8e4\" stroke=\"black\" d=\"M397,-146C397,-146 323,-146 323,-146 317,-146 311,-140 311,-134 311,-134 311,-94 311,-94 311,-88 317,-82 323,-82 323,-82 397,-82 397,-82 403,-82 409,-88 409,-94 409,-94 409,-134 409,-134 409,-140 403,-146 397,-146\"/>\n",
       "<text text-anchor=\"start\" x=\"322\" y=\"-124.8\" font-family=\"Helvetica,sans-Serif\" font-weight=\"bold\" font-size=\"14.00\">punchline</text>\n",
       "<text text-anchor=\"start\" x=\"350.5\" y=\"-96.8\" font-family=\"Helvetica,sans-Serif\" font-style=\"italic\" font-size=\"14.00\">str</text>\n",
       "</g>\n",
       "<!-- reply&#45;&gt;punchline -->\n",
       "<g id=\"edge3\" class=\"edge\">\n",
       "<title>reply&#45;&gt;punchline</title>\n",
       "<path fill=\"none\" stroke=\"black\" d=\"M246.33,-114C262.17,-114 282.1,-114 300.78,-114\"/>\n",
       "<polygon fill=\"black\" stroke=\"black\" points=\"300.99,-117.5 310.99,-114 300.99,-110.5 300.99,-117.5\"/>\n",
       "</g>\n",
       "<!-- joke_response -->\n",
       "<g id=\"node2\" class=\"node\">\n",
       "<title>joke_response</title>\n",
       "<path fill=\"#b4d8e4\" stroke=\"black\" d=\"M270,-64C270,-64 160,-64 160,-64 154,-64 148,-58 148,-52 148,-52 148,-12 148,-12 148,-6 154,0 160,0 160,0 270,0 270,0 276,0 282,-6 282,-12 282,-12 282,-52 282,-52 282,-58 276,-64 270,-64\"/>\n",
       "<text text-anchor=\"start\" x=\"159\" y=\"-42.8\" font-family=\"Helvetica,sans-Serif\" font-weight=\"bold\" font-size=\"14.00\">joke_response</text>\n",
       "<text text-anchor=\"start\" x=\"205.5\" y=\"-14.8\" font-family=\"Helvetica,sans-Serif\" font-style=\"italic\" font-size=\"14.00\">str</text>\n",
       "</g>\n",
       "<!-- joke_prompt -->\n",
       "<g id=\"node3\" class=\"node\">\n",
       "<title>joke_prompt</title>\n",
       "<path fill=\"#b4d8e4\" stroke=\"black\" d=\"M107,-105C107,-105 12,-105 12,-105 6,-105 0,-99 0,-93 0,-93 0,-53 0,-53 0,-47 6,-41 12,-41 12,-41 107,-41 107,-41 113,-41 119,-47 119,-53 119,-53 119,-93 119,-93 119,-99 113,-105 107,-105\"/>\n",
       "<text text-anchor=\"start\" x=\"11\" y=\"-83.8\" font-family=\"Helvetica,sans-Serif\" font-weight=\"bold\" font-size=\"14.00\">joke_prompt</text>\n",
       "<text text-anchor=\"start\" x=\"50\" y=\"-55.8\" font-family=\"Helvetica,sans-Serif\" font-style=\"italic\" font-size=\"14.00\">str</text>\n",
       "</g>\n",
       "<!-- joke_prompt&#45;&gt;reply -->\n",
       "<g id=\"edge1\" class=\"edge\">\n",
       "<title>joke_prompt&#45;&gt;reply</title>\n",
       "<path fill=\"none\" stroke=\"black\" d=\"M119.41,-88.73C137.61,-93.6 157.23,-98.84 173.86,-103.28\"/>\n",
       "<polygon fill=\"black\" stroke=\"black\" points=\"173.22,-106.73 183.79,-105.93 175.03,-99.97 173.22,-106.73\"/>\n",
       "</g>\n",
       "<!-- joke_prompt&#45;&gt;joke_response -->\n",
       "<g id=\"edge2\" class=\"edge\">\n",
       "<title>joke_prompt&#45;&gt;joke_response</title>\n",
       "<path fill=\"none\" stroke=\"black\" d=\"M119.41,-57.27C125.51,-55.64 131.77,-53.96 138.03,-52.29\"/>\n",
       "<polygon fill=\"black\" stroke=\"black\" points=\"139.07,-55.64 147.83,-49.67 137.27,-48.87 139.07,-55.64\"/>\n",
       "</g>\n",
       "<!-- function -->\n",
       "<g id=\"node5\" class=\"node\">\n",
       "<title>function</title>\n",
       "<path fill=\"#b4d8e4\" stroke=\"black\" d=\"M87.5,-160.5C87.5,-160.5 31.5,-160.5 31.5,-160.5 25.5,-160.5 19.5,-154.5 19.5,-148.5 19.5,-148.5 19.5,-135.5 19.5,-135.5 19.5,-129.5 25.5,-123.5 31.5,-123.5 31.5,-123.5 87.5,-123.5 87.5,-123.5 93.5,-123.5 99.5,-129.5 99.5,-135.5 99.5,-135.5 99.5,-148.5 99.5,-148.5 99.5,-154.5 93.5,-160.5 87.5,-160.5\"/>\n",
       "<text text-anchor=\"middle\" x=\"59.5\" y=\"-138.3\" font-family=\"Helvetica,sans-Serif\" font-size=\"14.00\">function</text>\n",
       "</g>\n",
       "</g>\n",
       "</svg>\n"
      ],
      "text/plain": [
       "<graphviz.graphs.Digraph at 0x7f9a8c6456d0>"
      ]
     },
     "metadata": {},
     "output_type": "display_data"
    }
   ],
   "source": [
    "%%cell_to_module reply --display --builder my_builder\n",
    "def joke_response(joke_prompt: str) -> str:\n",
    "    return f\"{joke_prompt}\\n\\nCowsay who?\""
   ]
  },
  {
   "cell_type": "markdown",
   "id": "2c7624a0",
   "metadata": {},
   "source": [
    "### 2.8 Edit external modules\n",
    "It is also possible to load the content of a Python module into a notebook cell to be able to edit it interactively!\n",
    "\n",
    "This is essentially the reverse operation of `%%cell_to_module` hence why it's called `%module_to_cell`. This is a line magic (single `%`) and it reads the content of the line as a file path to a `.py` file."
   ]
  },
  {
   "cell_type": "code",
   "execution_count": 19,
   "id": "d72ac640",
   "metadata": {},
   "outputs": [
    {
     "data": {
      "text/html": [
       "<script>\n",
       "\n",
       "        if (document.getElementById('notebook-container')) {\n",
       "            //console.log('Jupyter Notebook');\n",
       "            allCells = document.getElementById('notebook-container').children;\n",
       "            selectionClass = /\\bselected\\b/;\n",
       "            jupyter = 'notebook';\n",
       "        }\n",
       "        else if (document.getElementsByClassName('jp-Notebook-cell').length){\n",
       "            //console.log('Jupyter Lab');\n",
       "            allCells = document.getElementsByClassName('jp-Notebook-cell');\n",
       "            selectionClass = /\\bjp-mod-selected\\b/;\n",
       "            jupyter = 'lab';\n",
       "        }\n",
       "        else {\n",
       "            console.log('Unknown Environment');\n",
       "        }\n",
       "\n",
       "        if (typeof allCells !== 'undefined') {\n",
       "            for (i = 0; i < allCells.length - 1; i++) {\n",
       "                if(selectionClass.test(allCells[i].getAttribute('class'))){\n",
       "                    allCells[i + 1].remove();\n",
       "\n",
       "                    // remove output indicators of current cell\n",
       "                    window.setTimeout(function(){\n",
       "                        if(jupyter === 'lab') {\n",
       "                            allCells[i].setAttribute('class', allCells[i].getAttribute('class') + ' jp-mod-noOutputs');\n",
       "                            allCells[i].getElementsByClassName('jp-OutputArea jp-Cell-outputArea')[0].innerHTML = '';\n",
       "                        } else if(jupyter === 'notebook'){\n",
       "                            allCells[i].getElementsByClassName('output')[0].innerHTML = '';\n",
       "                        }\n",
       "                    }, 20);\n",
       "\n",
       "                    break;\n",
       "                }\n",
       "            }\n",
       "        }\n",
       "        </script>"
      ],
      "text/plain": [
       "<IPython.core.display.HTML object>"
      ]
     },
     "metadata": {},
     "output_type": "display_data"
    }
   ],
   "source": [
    "# execute this to generate a new cell\n",
    "%module_to_cell ./joke.py"
   ]
  },
  {
   "cell_type": "markdown",
   "id": "c8331b92",
   "metadata": {},
   "source": [
    "If you executed the previous cell, a new code cell was created above with the content of `joke.py`. You can add `--write_to_file` to write the notebook cell back to the file."
   ]
  },
  {
   "cell_type": "markdown",
   "id": "ed689861",
   "metadata": {},
   "source": [
    "## 3. Execute a dataflow\n",
    "One of the best part about notebooks is the ability to execute and immediately inspect results. They provide a \"read-eval-print\" loop (REPL) coding experience. With this extension, you can use a single notebook cell to define and execute your dataflow for a tight feedback loop.\n",
    "\n",
    "If you're familiar with Hamilton, you probably figured out that you can build a `Driver` from the dynamically defined modules (like the next cell). But we have better interactive options!"
   ]
  },
  {
   "cell_type": "code",
   "execution_count": 22,
   "id": "ed95343f",
   "metadata": {},
   "outputs": [
    {
     "data": {
      "text/plain": [
       "{'joke_prompt': \"Knock, knock. Who's there? Cowsay\"}"
      ]
     },
     "execution_count": 22,
     "metadata": {},
     "output_type": "execute_result"
    }
   ],
   "source": [
    "dr = driver.Builder().with_modules(joke).build()\n",
    "results = dr.execute([\"joke_prompt\"], inputs=dict(topic=\"Cowsay\"))\n",
    "results"
   ]
  },
  {
   "cell_type": "markdown",
   "id": "b36418f1",
   "metadata": {},
   "source": [
    "### 3.1 Execute cell\n",
    "By adding `--execute / -x` to your module definition, the defined dataflow will be executed using `Driver.execute()` with all available nodes.\n",
    "\n",
    "The `--display` visualization should now include **output** nodes reflecting the executed nodes."
   ]
  },
  {
   "cell_type": "code",
   "execution_count": 23,
   "id": "0da888d5",
   "metadata": {},
   "outputs": [
    {
     "data": {
      "image/svg+xml": [
       "<?xml version=\"1.0\" encoding=\"UTF-8\" standalone=\"no\"?>\n",
       "<!DOCTYPE svg PUBLIC \"-//W3C//DTD SVG 1.1//EN\"\n",
       " \"http://www.w3.org/Graphics/SVG/1.1/DTD/svg11.dtd\">\n",
       "<!-- Generated by graphviz version 2.43.0 (0)\n",
       " -->\n",
       "<!-- Title: %3 Pages: 1 -->\n",
       "<svg width=\"348pt\" height=\"304pt\"\n",
       " viewBox=\"0.00 0.00 348.00 304.00\" xmlns=\"http://www.w3.org/2000/svg\" xmlns:xlink=\"http://www.w3.org/1999/xlink\">\n",
       "<g id=\"graph0\" class=\"graph\" transform=\"scale(1 1) rotate(0) translate(4 300)\">\n",
       "<title>%3</title>\n",
       "<polygon fill=\"white\" stroke=\"transparent\" points=\"-4,4 -4,-300 344,-300 344,4 -4,4\"/>\n",
       "<g id=\"clust1\" class=\"cluster\">\n",
       "<title>cluster__legend</title>\n",
       "<polygon fill=\"#ffffff\" stroke=\"black\" points=\"13,-156 13,-288 109,-288 109,-156 13,-156\"/>\n",
       "<text text-anchor=\"middle\" x=\"61\" y=\"-272.8\" font-family=\"Helvetica,sans-Serif\" font-size=\"14.00\">Legend</text>\n",
       "</g>\n",
       "<!-- a_dataframe -->\n",
       "<g id=\"node1\" class=\"node\">\n",
       "<title>a_dataframe</title>\n",
       "<path fill=\"#ffc857\" stroke=\"black\" d=\"M110,-64C110,-64 12,-64 12,-64 6,-64 0,-58 0,-52 0,-52 0,-12 0,-12 0,-6 6,0 12,0 12,0 110,0 110,0 116,0 122,-6 122,-12 122,-12 122,-52 122,-52 122,-58 116,-64 110,-64\"/>\n",
       "<text text-anchor=\"start\" x=\"11\" y=\"-42.8\" font-family=\"Helvetica,sans-Serif\" font-weight=\"bold\" font-size=\"14.00\">a_dataframe</text>\n",
       "<text text-anchor=\"start\" x=\"22.5\" y=\"-14.8\" font-family=\"Helvetica,sans-Serif\" font-style=\"italic\" font-size=\"14.00\">DataFrame</text>\n",
       "</g>\n",
       "<!-- reply -->\n",
       "<g id=\"node2\" class=\"node\">\n",
       "<title>reply</title>\n",
       "<path fill=\"#ffc857\" stroke=\"black\" d=\"M201,-146C201,-146 163,-146 163,-146 157,-146 151,-140 151,-134 151,-134 151,-94 151,-94 151,-88 157,-82 163,-82 163,-82 201,-82 201,-82 207,-82 213,-88 213,-94 213,-94 213,-134 213,-134 213,-140 207,-146 201,-146\"/>\n",
       "<text text-anchor=\"start\" x=\"162\" y=\"-124.8\" font-family=\"Helvetica,sans-Serif\" font-weight=\"bold\" font-size=\"14.00\">reply</text>\n",
       "<text text-anchor=\"start\" x=\"172.5\" y=\"-96.8\" font-family=\"Helvetica,sans-Serif\" font-style=\"italic\" font-size=\"14.00\">str</text>\n",
       "</g>\n",
       "<!-- punchline -->\n",
       "<g id=\"node4\" class=\"node\">\n",
       "<title>punchline</title>\n",
       "<path fill=\"#ffc857\" stroke=\"black\" d=\"M328,-146C328,-146 254,-146 254,-146 248,-146 242,-140 242,-134 242,-134 242,-94 242,-94 242,-88 248,-82 254,-82 254,-82 328,-82 328,-82 334,-82 340,-88 340,-94 340,-94 340,-134 340,-134 340,-140 334,-146 328,-146\"/>\n",
       "<text text-anchor=\"start\" x=\"253\" y=\"-124.8\" font-family=\"Helvetica,sans-Serif\" font-weight=\"bold\" font-size=\"14.00\">punchline</text>\n",
       "<text text-anchor=\"start\" x=\"281.5\" y=\"-96.8\" font-family=\"Helvetica,sans-Serif\" font-style=\"italic\" font-size=\"14.00\">str</text>\n",
       "</g>\n",
       "<!-- reply&#45;&gt;punchline -->\n",
       "<g id=\"edge2\" class=\"edge\">\n",
       "<title>reply&#45;&gt;punchline</title>\n",
       "<path fill=\"none\" stroke=\"black\" d=\"M213.09,-114C218.93,-114 225.24,-114 231.64,-114\"/>\n",
       "<polygon fill=\"black\" stroke=\"black\" points=\"231.71,-117.5 241.71,-114 231.71,-110.5 231.71,-117.5\"/>\n",
       "</g>\n",
       "<!-- joke_prompt -->\n",
       "<g id=\"node3\" class=\"node\">\n",
       "<title>joke_prompt</title>\n",
       "<path fill=\"#ffc857\" stroke=\"black\" d=\"M108.5,-146C108.5,-146 13.5,-146 13.5,-146 7.5,-146 1.5,-140 1.5,-134 1.5,-134 1.5,-94 1.5,-94 1.5,-88 7.5,-82 13.5,-82 13.5,-82 108.5,-82 108.5,-82 114.5,-82 120.5,-88 120.5,-94 120.5,-94 120.5,-134 120.5,-134 120.5,-140 114.5,-146 108.5,-146\"/>\n",
       "<text text-anchor=\"start\" x=\"12.5\" y=\"-124.8\" font-family=\"Helvetica,sans-Serif\" font-weight=\"bold\" font-size=\"14.00\">joke_prompt</text>\n",
       "<text text-anchor=\"start\" x=\"51.5\" y=\"-96.8\" font-family=\"Helvetica,sans-Serif\" font-style=\"italic\" font-size=\"14.00\">str</text>\n",
       "</g>\n",
       "<!-- joke_prompt&#45;&gt;reply -->\n",
       "<g id=\"edge1\" class=\"edge\">\n",
       "<title>joke_prompt&#45;&gt;reply</title>\n",
       "<path fill=\"none\" stroke=\"black\" d=\"M120.8,-114C127.48,-114 134.17,-114 140.53,-114\"/>\n",
       "<polygon fill=\"black\" stroke=\"black\" points=\"140.88,-117.5 150.88,-114 140.88,-110.5 140.88,-117.5\"/>\n",
       "</g>\n",
       "<!-- function -->\n",
       "<g id=\"node5\" class=\"node\">\n",
       "<title>function</title>\n",
       "<path fill=\"#b4d8e4\" stroke=\"black\" d=\"M89,-256.5C89,-256.5 33,-256.5 33,-256.5 27,-256.5 21,-250.5 21,-244.5 21,-244.5 21,-231.5 21,-231.5 21,-225.5 27,-219.5 33,-219.5 33,-219.5 89,-219.5 89,-219.5 95,-219.5 101,-225.5 101,-231.5 101,-231.5 101,-244.5 101,-244.5 101,-250.5 95,-256.5 89,-256.5\"/>\n",
       "<text text-anchor=\"middle\" x=\"61\" y=\"-234.3\" font-family=\"Helvetica,sans-Serif\" font-size=\"14.00\">function</text>\n",
       "</g>\n",
       "<!-- output -->\n",
       "<g id=\"node6\" class=\"node\">\n",
       "<title>output</title>\n",
       "<path fill=\"#ffc857\" stroke=\"black\" d=\"M83,-201.5C83,-201.5 39,-201.5 39,-201.5 33,-201.5 27,-195.5 27,-189.5 27,-189.5 27,-176.5 27,-176.5 27,-170.5 33,-164.5 39,-164.5 39,-164.5 83,-164.5 83,-164.5 89,-164.5 95,-170.5 95,-176.5 95,-176.5 95,-189.5 95,-189.5 95,-195.5 89,-201.5 83,-201.5\"/>\n",
       "<text text-anchor=\"middle\" x=\"61\" y=\"-179.3\" font-family=\"Helvetica,sans-Serif\" font-size=\"14.00\">output</text>\n",
       "</g>\n",
       "</g>\n",
       "</svg>\n"
      ],
      "text/plain": [
       "<graphviz.graphs.Digraph at 0x7f9a8c655810>"
      ]
     },
     "metadata": {},
     "output_type": "display_data"
    },
    {
     "data": {
      "text/html": [
       "<div>\n",
       "<style scoped>\n",
       "    .dataframe tbody tr th:only-of-type {\n",
       "        vertical-align: middle;\n",
       "    }\n",
       "\n",
       "    .dataframe tbody tr th {\n",
       "        vertical-align: top;\n",
       "    }\n",
       "\n",
       "    .dataframe thead th {\n",
       "        text-align: right;\n",
       "    }\n",
       "</style>\n",
       "<table border=\"1\" class=\"dataframe\">\n",
       "  <thead>\n",
       "    <tr style=\"text-align: right;\">\n",
       "      <th></th>\n",
       "      <th>a</th>\n",
       "      <th>b</th>\n",
       "    </tr>\n",
       "  </thead>\n",
       "  <tbody>\n",
       "    <tr>\n",
       "      <th>0</th>\n",
       "      <td>0</td>\n",
       "      <td>a</td>\n",
       "    </tr>\n",
       "    <tr>\n",
       "      <th>1</th>\n",
       "      <td>1</td>\n",
       "      <td>b</td>\n",
       "    </tr>\n",
       "    <tr>\n",
       "      <th>2</th>\n",
       "      <td>2</td>\n",
       "      <td>c</td>\n",
       "    </tr>\n",
       "    <tr>\n",
       "      <th>3</th>\n",
       "      <td>3</td>\n",
       "      <td>d</td>\n",
       "    </tr>\n",
       "  </tbody>\n",
       "</table>\n",
       "</div>"
      ],
      "text/plain": [
       "   a  b\n",
       "0  0  a\n",
       "1  1  b\n",
       "2  2  c\n",
       "3  3  d"
      ]
     },
     "metadata": {},
     "output_type": "display_data"
    },
    {
     "data": {
      "text/plain": [
       "\"Knock, knock. Who's there? Cowsay\""
      ]
     },
     "metadata": {},
     "output_type": "display_data"
    },
    {
     "data": {
      "text/plain": [
       "'Cowsay who?'"
      ]
     },
     "metadata": {},
     "output_type": "display_data"
    },
    {
     "data": {
      "text/plain": [
       "'No, Cowsay MooOOooo'"
      ]
     },
     "metadata": {},
     "output_type": "display_data"
    }
   ],
   "source": [
    "%%cell_to_module joke --display --execute\n",
    "import pandas as pd\n",
    "\n",
    "def joke_prompt() -> str:\n",
    "    return f\"Knock, knock. Who's there? Cowsay\"\n",
    "\n",
    "def reply(joke_prompt: str) -> str:\n",
    "    _, _, right = joke_prompt.partition(\"? \")\n",
    "    return f\"{right} who?\"\n",
    "\n",
    "def punchline(reply: str) -> str:\n",
    "    left, _, _ = reply.partition(\" \")\n",
    "    return f\"No, {left} MooOOooo\"\n",
    "\n",
    "def a_dataframe() -> pd.DataFrame:\n",
    "    return pd.DataFrame({\"a\": [0, 1, 2, 3], \"b\": [\"a\", \"b\", \"c\", \"d\"]})"
   ]
  },
  {
   "cell_type": "markdown",
   "id": "8026ec86",
   "metadata": {},
   "source": [
    "👆 As you see, node results are automatically displayed in topologically sorted order. You can hide them with `--hide_results`."
   ]
  },
  {
   "cell_type": "markdown",
   "id": "9a5738f6",
   "metadata": {},
   "source": [
    "### 3.2 Requesting nodes\n",
    "You can a variable name to `--execute` which specifies the list of nodes to execute. This will be reflected in the visualization."
   ]
  },
  {
   "cell_type": "code",
   "execution_count": 24,
   "id": "d20198e1",
   "metadata": {},
   "outputs": [],
   "source": [
    "node_to_execute = [\"reply\"]"
   ]
  },
  {
   "cell_type": "code",
   "execution_count": 25,
   "id": "b7eea8d6",
   "metadata": {},
   "outputs": [
    {
     "data": {
      "image/svg+xml": [
       "<?xml version=\"1.0\" encoding=\"UTF-8\" standalone=\"no\"?>\n",
       "<!DOCTYPE svg PUBLIC \"-//W3C//DTD SVG 1.1//EN\"\n",
       " \"http://www.w3.org/Graphics/SVG/1.1/DTD/svg11.dtd\">\n",
       "<!-- Generated by graphviz version 2.43.0 (0)\n",
       " -->\n",
       "<!-- Title: %3 Pages: 1 -->\n",
       "<svg width=\"343pt\" height=\"222pt\"\n",
       " viewBox=\"0.00 0.00 343.00 222.00\" xmlns=\"http://www.w3.org/2000/svg\" xmlns:xlink=\"http://www.w3.org/1999/xlink\">\n",
       "<g id=\"graph0\" class=\"graph\" transform=\"scale(1 1) rotate(0) translate(4 218)\">\n",
       "<title>%3</title>\n",
       "<polygon fill=\"white\" stroke=\"transparent\" points=\"-4,4 -4,-218 339,-218 339,4 -4,4\"/>\n",
       "<g id=\"clust1\" class=\"cluster\">\n",
       "<title>cluster__legend</title>\n",
       "<polygon fill=\"#ffffff\" stroke=\"black\" points=\"8,-74 8,-206 104,-206 104,-74 8,-74\"/>\n",
       "<text text-anchor=\"middle\" x=\"56\" y=\"-190.8\" font-family=\"Helvetica,sans-Serif\" font-size=\"14.00\">Legend</text>\n",
       "</g>\n",
       "<!-- topic -->\n",
       "<g id=\"node1\" class=\"node\">\n",
       "<title>topic</title>\n",
       "<path fill=\"#b4d8e4\" stroke=\"black\" d=\"M75,-64C75,-64 37,-64 37,-64 31,-64 25,-58 25,-52 25,-52 25,-12 25,-12 25,-6 31,0 37,0 37,0 75,0 75,0 81,0 87,-6 87,-12 87,-12 87,-52 87,-52 87,-58 81,-64 75,-64\"/>\n",
       "<text text-anchor=\"start\" x=\"36\" y=\"-42.8\" font-family=\"Helvetica,sans-Serif\" font-weight=\"bold\" font-size=\"14.00\">topic</text>\n",
       "<text text-anchor=\"start\" x=\"46.5\" y=\"-14.8\" font-family=\"Helvetica,sans-Serif\" font-style=\"italic\" font-size=\"14.00\">str</text>\n",
       "</g>\n",
       "<!-- joke_prompt -->\n",
       "<g id=\"node3\" class=\"node\">\n",
       "<title>joke_prompt</title>\n",
       "<path fill=\"#b4d8e4\" stroke=\"black\" d=\"M232,-64C232,-64 137,-64 137,-64 131,-64 125,-58 125,-52 125,-52 125,-12 125,-12 125,-6 131,0 137,0 137,0 232,0 232,0 238,0 244,-6 244,-12 244,-12 244,-52 244,-52 244,-58 238,-64 232,-64\"/>\n",
       "<text text-anchor=\"start\" x=\"136\" y=\"-42.8\" font-family=\"Helvetica,sans-Serif\" font-weight=\"bold\" font-size=\"14.00\">joke_prompt</text>\n",
       "<text text-anchor=\"start\" x=\"175\" y=\"-14.8\" font-family=\"Helvetica,sans-Serif\" font-style=\"italic\" font-size=\"14.00\">str</text>\n",
       "</g>\n",
       "<!-- topic&#45;&gt;joke_prompt -->\n",
       "<g id=\"edge2\" class=\"edge\">\n",
       "<title>topic&#45;&gt;joke_prompt</title>\n",
       "<path fill=\"none\" stroke=\"black\" d=\"M87.3,-32C95.71,-32 105.2,-32 114.85,-32\"/>\n",
       "<polygon fill=\"black\" stroke=\"black\" points=\"114.94,-35.5 124.94,-32 114.94,-28.5 114.94,-35.5\"/>\n",
       "</g>\n",
       "<!-- reply -->\n",
       "<g id=\"node2\" class=\"node\">\n",
       "<title>reply</title>\n",
       "<path fill=\"#ffc857\" stroke=\"black\" d=\"M323,-64C323,-64 285,-64 285,-64 279,-64 273,-58 273,-52 273,-52 273,-12 273,-12 273,-6 279,0 285,0 285,0 323,0 323,0 329,0 335,-6 335,-12 335,-12 335,-52 335,-52 335,-58 329,-64 323,-64\"/>\n",
       "<text text-anchor=\"start\" x=\"284\" y=\"-42.8\" font-family=\"Helvetica,sans-Serif\" font-weight=\"bold\" font-size=\"14.00\">reply</text>\n",
       "<text text-anchor=\"start\" x=\"294.5\" y=\"-14.8\" font-family=\"Helvetica,sans-Serif\" font-style=\"italic\" font-size=\"14.00\">str</text>\n",
       "</g>\n",
       "<!-- joke_prompt&#45;&gt;reply -->\n",
       "<g id=\"edge1\" class=\"edge\">\n",
       "<title>joke_prompt&#45;&gt;reply</title>\n",
       "<path fill=\"none\" stroke=\"black\" d=\"M244.25,-32C250.42,-32 256.59,-32 262.48,-32\"/>\n",
       "<polygon fill=\"black\" stroke=\"black\" points=\"262.74,-35.5 272.74,-32 262.74,-28.5 262.74,-35.5\"/>\n",
       "</g>\n",
       "<!-- function -->\n",
       "<g id=\"node4\" class=\"node\">\n",
       "<title>function</title>\n",
       "<path fill=\"#b4d8e4\" stroke=\"black\" d=\"M84,-174.5C84,-174.5 28,-174.5 28,-174.5 22,-174.5 16,-168.5 16,-162.5 16,-162.5 16,-149.5 16,-149.5 16,-143.5 22,-137.5 28,-137.5 28,-137.5 84,-137.5 84,-137.5 90,-137.5 96,-143.5 96,-149.5 96,-149.5 96,-162.5 96,-162.5 96,-168.5 90,-174.5 84,-174.5\"/>\n",
       "<text text-anchor=\"middle\" x=\"56\" y=\"-152.3\" font-family=\"Helvetica,sans-Serif\" font-size=\"14.00\">function</text>\n",
       "</g>\n",
       "<!-- output -->\n",
       "<g id=\"node5\" class=\"node\">\n",
       "<title>output</title>\n",
       "<path fill=\"#ffc857\" stroke=\"black\" d=\"M78,-119.5C78,-119.5 34,-119.5 34,-119.5 28,-119.5 22,-113.5 22,-107.5 22,-107.5 22,-94.5 22,-94.5 22,-88.5 28,-82.5 34,-82.5 34,-82.5 78,-82.5 78,-82.5 84,-82.5 90,-88.5 90,-94.5 90,-94.5 90,-107.5 90,-107.5 90,-113.5 84,-119.5 78,-119.5\"/>\n",
       "<text text-anchor=\"middle\" x=\"56\" y=\"-97.3\" font-family=\"Helvetica,sans-Serif\" font-size=\"14.00\">output</text>\n",
       "</g>\n",
       "</g>\n",
       "</svg>\n"
      ],
      "text/plain": [
       "<graphviz.graphs.Digraph at 0x7f9a8d0a2150>"
      ]
     },
     "metadata": {},
     "output_type": "display_data"
    },
    {
     "data": {
      "text/plain": [
       "'Cowsay who?'"
      ]
     },
     "metadata": {},
     "output_type": "display_data"
    }
   ],
   "source": [
    "%%cell_to_module joke --display --execute node_to_execute\n",
    "def topic() -> str:\n",
    "    return \"Cowsay\"\n",
    "\n",
    "def joke_prompt(topic: str) -> str:\n",
    "    return f\"Knock, knock. Who's there? {topic}\"\n",
    "\n",
    "def reply(joke_prompt: str) -> str:\n",
    "    _, _, right = joke_prompt.partition(\"? \")\n",
    "    return f\"{right} who?\"\n",
    "\n",
    "def punchline(reply: str) -> str:\n",
    "    left, _, _ = reply.partition(\" \")\n",
    "    return f\"No, {left} MooOOooo\""
   ]
  },
  {
   "cell_type": "markdown",
   "id": "e10dd1d9",
   "metadata": {},
   "source": [
    "### 3.3 Inspecting results\n",
    "Ok, but how do you access results? With the node name! Magic 🧙"
   ]
  },
  {
   "cell_type": "code",
   "execution_count": 26,
   "id": "5eab142c",
   "metadata": {},
   "outputs": [
    {
     "data": {
      "image/svg+xml": [
       "<?xml version=\"1.0\" encoding=\"UTF-8\" standalone=\"no\"?>\n",
       "<!DOCTYPE svg PUBLIC \"-//W3C//DTD SVG 1.1//EN\"\n",
       " \"http://www.w3.org/Graphics/SVG/1.1/DTD/svg11.dtd\">\n",
       "<!-- Generated by graphviz version 2.43.0 (0)\n",
       " -->\n",
       "<!-- Title: %3 Pages: 1 -->\n",
       "<svg width=\"470pt\" height=\"222pt\"\n",
       " viewBox=\"0.00 0.00 470.00 222.00\" xmlns=\"http://www.w3.org/2000/svg\" xmlns:xlink=\"http://www.w3.org/1999/xlink\">\n",
       "<g id=\"graph0\" class=\"graph\" transform=\"scale(1 1) rotate(0) translate(4 218)\">\n",
       "<title>%3</title>\n",
       "<polygon fill=\"white\" stroke=\"transparent\" points=\"-4,4 -4,-218 466,-218 466,4 -4,4\"/>\n",
       "<g id=\"clust1\" class=\"cluster\">\n",
       "<title>cluster__legend</title>\n",
       "<polygon fill=\"#ffffff\" stroke=\"black\" points=\"8,-74 8,-206 104,-206 104,-74 8,-74\"/>\n",
       "<text text-anchor=\"middle\" x=\"56\" y=\"-190.8\" font-family=\"Helvetica,sans-Serif\" font-size=\"14.00\">Legend</text>\n",
       "</g>\n",
       "<!-- reply -->\n",
       "<g id=\"node1\" class=\"node\">\n",
       "<title>reply</title>\n",
       "<path fill=\"#ffc857\" stroke=\"black\" d=\"M323,-64C323,-64 285,-64 285,-64 279,-64 273,-58 273,-52 273,-52 273,-12 273,-12 273,-6 279,0 285,0 285,0 323,0 323,0 329,0 335,-6 335,-12 335,-12 335,-52 335,-52 335,-58 329,-64 323,-64\"/>\n",
       "<text text-anchor=\"start\" x=\"284\" y=\"-42.8\" font-family=\"Helvetica,sans-Serif\" font-weight=\"bold\" font-size=\"14.00\">reply</text>\n",
       "<text text-anchor=\"start\" x=\"294.5\" y=\"-14.8\" font-family=\"Helvetica,sans-Serif\" font-style=\"italic\" font-size=\"14.00\">str</text>\n",
       "</g>\n",
       "<!-- punchline -->\n",
       "<g id=\"node4\" class=\"node\">\n",
       "<title>punchline</title>\n",
       "<path fill=\"#ffc857\" stroke=\"black\" d=\"M450,-64C450,-64 376,-64 376,-64 370,-64 364,-58 364,-52 364,-52 364,-12 364,-12 364,-6 370,0 376,0 376,0 450,0 450,0 456,0 462,-6 462,-12 462,-12 462,-52 462,-52 462,-58 456,-64 450,-64\"/>\n",
       "<text text-anchor=\"start\" x=\"375\" y=\"-42.8\" font-family=\"Helvetica,sans-Serif\" font-weight=\"bold\" font-size=\"14.00\">punchline</text>\n",
       "<text text-anchor=\"start\" x=\"403.5\" y=\"-14.8\" font-family=\"Helvetica,sans-Serif\" font-style=\"italic\" font-size=\"14.00\">str</text>\n",
       "</g>\n",
       "<!-- reply&#45;&gt;punchline -->\n",
       "<g id=\"edge3\" class=\"edge\">\n",
       "<title>reply&#45;&gt;punchline</title>\n",
       "<path fill=\"none\" stroke=\"black\" d=\"M335.09,-32C340.93,-32 347.24,-32 353.64,-32\"/>\n",
       "<polygon fill=\"black\" stroke=\"black\" points=\"353.71,-35.5 363.71,-32 353.71,-28.5 353.71,-35.5\"/>\n",
       "</g>\n",
       "<!-- topic -->\n",
       "<g id=\"node2\" class=\"node\">\n",
       "<title>topic</title>\n",
       "<path fill=\"#ffc857\" stroke=\"black\" d=\"M75,-64C75,-64 37,-64 37,-64 31,-64 25,-58 25,-52 25,-52 25,-12 25,-12 25,-6 31,0 37,0 37,0 75,0 75,0 81,0 87,-6 87,-12 87,-12 87,-52 87,-52 87,-58 81,-64 75,-64\"/>\n",
       "<text text-anchor=\"start\" x=\"36\" y=\"-42.8\" font-family=\"Helvetica,sans-Serif\" font-weight=\"bold\" font-size=\"14.00\">topic</text>\n",
       "<text text-anchor=\"start\" x=\"46.5\" y=\"-14.8\" font-family=\"Helvetica,sans-Serif\" font-style=\"italic\" font-size=\"14.00\">str</text>\n",
       "</g>\n",
       "<!-- joke_prompt -->\n",
       "<g id=\"node3\" class=\"node\">\n",
       "<title>joke_prompt</title>\n",
       "<path fill=\"#ffc857\" stroke=\"black\" d=\"M232,-64C232,-64 137,-64 137,-64 131,-64 125,-58 125,-52 125,-52 125,-12 125,-12 125,-6 131,0 137,0 137,0 232,0 232,0 238,0 244,-6 244,-12 244,-12 244,-52 244,-52 244,-58 238,-64 232,-64\"/>\n",
       "<text text-anchor=\"start\" x=\"136\" y=\"-42.8\" font-family=\"Helvetica,sans-Serif\" font-weight=\"bold\" font-size=\"14.00\">joke_prompt</text>\n",
       "<text text-anchor=\"start\" x=\"175\" y=\"-14.8\" font-family=\"Helvetica,sans-Serif\" font-style=\"italic\" font-size=\"14.00\">str</text>\n",
       "</g>\n",
       "<!-- topic&#45;&gt;joke_prompt -->\n",
       "<g id=\"edge2\" class=\"edge\">\n",
       "<title>topic&#45;&gt;joke_prompt</title>\n",
       "<path fill=\"none\" stroke=\"black\" d=\"M87.3,-32C95.71,-32 105.2,-32 114.85,-32\"/>\n",
       "<polygon fill=\"black\" stroke=\"black\" points=\"114.94,-35.5 124.94,-32 114.94,-28.5 114.94,-35.5\"/>\n",
       "</g>\n",
       "<!-- joke_prompt&#45;&gt;reply -->\n",
       "<g id=\"edge1\" class=\"edge\">\n",
       "<title>joke_prompt&#45;&gt;reply</title>\n",
       "<path fill=\"none\" stroke=\"black\" d=\"M244.25,-32C250.42,-32 256.59,-32 262.48,-32\"/>\n",
       "<polygon fill=\"black\" stroke=\"black\" points=\"262.74,-35.5 272.74,-32 262.74,-28.5 262.74,-35.5\"/>\n",
       "</g>\n",
       "<!-- function -->\n",
       "<g id=\"node5\" class=\"node\">\n",
       "<title>function</title>\n",
       "<path fill=\"#b4d8e4\" stroke=\"black\" d=\"M84,-174.5C84,-174.5 28,-174.5 28,-174.5 22,-174.5 16,-168.5 16,-162.5 16,-162.5 16,-149.5 16,-149.5 16,-143.5 22,-137.5 28,-137.5 28,-137.5 84,-137.5 84,-137.5 90,-137.5 96,-143.5 96,-149.5 96,-149.5 96,-162.5 96,-162.5 96,-168.5 90,-174.5 84,-174.5\"/>\n",
       "<text text-anchor=\"middle\" x=\"56\" y=\"-152.3\" font-family=\"Helvetica,sans-Serif\" font-size=\"14.00\">function</text>\n",
       "</g>\n",
       "<!-- output -->\n",
       "<g id=\"node6\" class=\"node\">\n",
       "<title>output</title>\n",
       "<path fill=\"#ffc857\" stroke=\"black\" d=\"M78,-119.5C78,-119.5 34,-119.5 34,-119.5 28,-119.5 22,-113.5 22,-107.5 22,-107.5 22,-94.5 22,-94.5 22,-88.5 28,-82.5 34,-82.5 34,-82.5 78,-82.5 78,-82.5 84,-82.5 90,-88.5 90,-94.5 90,-94.5 90,-107.5 90,-107.5 90,-113.5 84,-119.5 78,-119.5\"/>\n",
       "<text text-anchor=\"middle\" x=\"56\" y=\"-97.3\" font-family=\"Helvetica,sans-Serif\" font-size=\"14.00\">output</text>\n",
       "</g>\n",
       "</g>\n",
       "</svg>\n"
      ],
      "text/plain": [
       "<graphviz.graphs.Digraph at 0x7f9a8c65de50>"
      ]
     },
     "metadata": {},
     "output_type": "display_data"
    }
   ],
   "source": [
    "%%cell_to_module joke --display --execute --hide_results\n",
    "def topic() -> str:\n",
    "    return \"Cowsay\"\n",
    "\n",
    "def joke_prompt(topic: str) -> str:\n",
    "    return f\"Knock, knock. Who's there? {topic}\"\n",
    "\n",
    "def reply(joke_prompt: str) -> str:\n",
    "    _, _, right = joke_prompt.partition(\"? \")\n",
    "    return f\"{right} who?\"\n",
    "\n",
    "def punchline(reply: str) -> str:\n",
    "    left, _, _ = reply.partition(\" \")\n",
    "    return f\"No, {left} MooOOooo\""
   ]
  },
  {
   "cell_type": "code",
   "execution_count": 27,
   "id": "607d3863",
   "metadata": {},
   "outputs": [
    {
     "data": {
      "text/plain": [
       "'No, Cowsay MooOOooo'"
      ]
     },
     "execution_count": 27,
     "metadata": {},
     "output_type": "execute_result"
    }
   ],
   "source": [
    "punchline"
   ]
  },
  {
   "cell_type": "markdown",
   "id": "ad5f79be",
   "metadata": {},
   "source": [
    "The results are assigned to variables matching their node names. This means you can quickly access them by typing their name. In most notebook environment, you get tab-completion for the and can view results in the variable inspector (especially useful for dataframes).\n",
    "\n",
    "What's the magic trick? 🐰\n",
    "\n",
    "When executing the cell, we are effectively:\n",
    "1. Loading it's content as a module\n",
    "2. Building a `Driver` with this module\n",
    "3. Executing the module with all nodes\n",
    "4. Assigning values from the results of `.execute()` to variables\n",
    "\n",
    "Consequently, functions defined in `%%cell_to_node` are replaced by their \"value\". You access functions directly through their module:"
   ]
  },
  {
   "cell_type": "code",
   "execution_count": 28,
   "id": "f9a9df33",
   "metadata": {},
   "outputs": [
    {
     "data": {
      "text/plain": [
       "'No, Foxey MooOOooo'"
      ]
     },
     "execution_count": 28,
     "metadata": {},
     "output_type": "execute_result"
    }
   ],
   "source": [
    "joke.punchline(\"Foxey\")"
   ]
  },
  {
   "cell_type": "markdown",
   "id": "72b09bee",
   "metadata": {},
   "source": [
    "### 3.4 Inputs & overrides\n",
    "In Hamilton, *inputs*  are values external to the dataflow and *overrides* are values to replace the output of a node (it effectively skips upstream operations). You can use `--inputs / -i` and `--outputs / -o` to pass dictionaries of values for execution."
   ]
  },
  {
   "cell_type": "code",
   "execution_count": 29,
   "id": "ce7d51d4",
   "metadata": {},
   "outputs": [],
   "source": [
    "my_inputs = dict(topic=\"monday\")\n",
    "my_overrides = dict(punchline=\"Bingo bongo!\")"
   ]
  },
  {
   "cell_type": "code",
   "execution_count": 30,
   "id": "83c61edd",
   "metadata": {},
   "outputs": [
    {
     "data": {
      "image/svg+xml": [
       "<?xml version=\"1.0\" encoding=\"UTF-8\" standalone=\"no\"?>\n",
       "<!DOCTYPE svg PUBLIC \"-//W3C//DTD SVG 1.1//EN\"\n",
       " \"http://www.w3.org/Graphics/SVG/1.1/DTD/svg11.dtd\">\n",
       "<!-- Generated by graphviz version 2.43.0 (0)\n",
       " -->\n",
       "<!-- Title: %3 Pages: 1 -->\n",
       "<svg width=\"475pt\" height=\"322pt\"\n",
       " viewBox=\"0.00 0.00 474.50 322.00\" xmlns=\"http://www.w3.org/2000/svg\" xmlns:xlink=\"http://www.w3.org/1999/xlink\">\n",
       "<g id=\"graph0\" class=\"graph\" transform=\"scale(1 1) rotate(0) translate(4 318)\">\n",
       "<title>%3</title>\n",
       "<polygon fill=\"white\" stroke=\"transparent\" points=\"-4,4 -4,-318 470.5,-318 470.5,4 -4,4\"/>\n",
       "<g id=\"clust1\" class=\"cluster\">\n",
       "<title>cluster__legend</title>\n",
       "<polygon fill=\"#ffffff\" stroke=\"black\" points=\"8,-64 8,-306 104,-306 104,-64 8,-64\"/>\n",
       "<text text-anchor=\"middle\" x=\"56\" y=\"-290.8\" font-family=\"Helvetica,sans-Serif\" font-size=\"14.00\">Legend</text>\n",
       "</g>\n",
       "<!-- reply -->\n",
       "<g id=\"node1\" class=\"node\">\n",
       "<title>reply</title>\n",
       "<path fill=\"#ffc857\" stroke=\"black\" d=\"M327.5,-64C327.5,-64 289.5,-64 289.5,-64 283.5,-64 277.5,-58 277.5,-52 277.5,-52 277.5,-12 277.5,-12 277.5,-6 283.5,0 289.5,0 289.5,0 327.5,0 327.5,0 333.5,0 339.5,-6 339.5,-12 339.5,-12 339.5,-52 339.5,-52 339.5,-58 333.5,-64 327.5,-64\"/>\n",
       "<text text-anchor=\"start\" x=\"288.5\" y=\"-42.8\" font-family=\"Helvetica,sans-Serif\" font-weight=\"bold\" font-size=\"14.00\">reply</text>\n",
       "<text text-anchor=\"start\" x=\"299\" y=\"-14.8\" font-family=\"Helvetica,sans-Serif\" font-style=\"italic\" font-size=\"14.00\">str</text>\n",
       "</g>\n",
       "<!-- punchline -->\n",
       "<g id=\"node3\" class=\"node\">\n",
       "<title>punchline</title>\n",
       "<polygon fill=\"#ffc857\" stroke=\"black\" points=\"466.5,-64 368.5,-64 368.5,0 466.5,0 466.5,-64\"/>\n",
       "<polyline fill=\"none\" stroke=\"black\" points=\"380.5,-64 368.5,-52 \"/>\n",
       "<polyline fill=\"none\" stroke=\"black\" points=\"368.5,-12 380.5,0 \"/>\n",
       "<polyline fill=\"none\" stroke=\"black\" points=\"454.5,0 466.5,-12 \"/>\n",
       "<polyline fill=\"none\" stroke=\"black\" points=\"466.5,-52 454.5,-64 \"/>\n",
       "<text text-anchor=\"start\" x=\"379.5\" y=\"-42.8\" font-family=\"Helvetica,sans-Serif\" font-weight=\"bold\" font-size=\"14.00\">punchline</text>\n",
       "<text text-anchor=\"start\" x=\"408\" y=\"-14.8\" font-family=\"Helvetica,sans-Serif\" font-style=\"italic\" font-size=\"14.00\">str</text>\n",
       "</g>\n",
       "<!-- reply&#45;&gt;punchline -->\n",
       "<g id=\"edge3\" class=\"edge\">\n",
       "<title>reply&#45;&gt;punchline</title>\n",
       "<path fill=\"none\" stroke=\"black\" d=\"M339.59,-32C345.43,-32 351.74,-32 358.14,-32\"/>\n",
       "<polygon fill=\"black\" stroke=\"black\" points=\"358.21,-35.5 368.21,-32 358.21,-28.5 358.21,-35.5\"/>\n",
       "</g>\n",
       "<!-- joke_prompt -->\n",
       "<g id=\"node2\" class=\"node\">\n",
       "<title>joke_prompt</title>\n",
       "<path fill=\"#ffc857\" stroke=\"black\" d=\"M236.5,-64C236.5,-64 141.5,-64 141.5,-64 135.5,-64 129.5,-58 129.5,-52 129.5,-52 129.5,-12 129.5,-12 129.5,-6 135.5,0 141.5,0 141.5,0 236.5,0 236.5,0 242.5,0 248.5,-6 248.5,-12 248.5,-12 248.5,-52 248.5,-52 248.5,-58 242.5,-64 236.5,-64\"/>\n",
       "<text text-anchor=\"start\" x=\"140.5\" y=\"-42.8\" font-family=\"Helvetica,sans-Serif\" font-weight=\"bold\" font-size=\"14.00\">joke_prompt</text>\n",
       "<text text-anchor=\"start\" x=\"179.5\" y=\"-14.8\" font-family=\"Helvetica,sans-Serif\" font-style=\"italic\" font-size=\"14.00\">str</text>\n",
       "</g>\n",
       "<!-- joke_prompt&#45;&gt;reply -->\n",
       "<g id=\"edge1\" class=\"edge\">\n",
       "<title>joke_prompt&#45;&gt;reply</title>\n",
       "<path fill=\"none\" stroke=\"black\" d=\"M248.75,-32C254.92,-32 261.09,-32 266.98,-32\"/>\n",
       "<polygon fill=\"black\" stroke=\"black\" points=\"267.24,-35.5 277.24,-32 267.24,-28.5 267.24,-35.5\"/>\n",
       "</g>\n",
       "<!-- _joke_prompt_inputs -->\n",
       "<g id=\"node4\" class=\"node\">\n",
       "<title>_joke_prompt_inputs</title>\n",
       "<polygon fill=\"#ffffff\" stroke=\"black\" stroke-dasharray=\"5,2\" points=\"100.5,-54.5 11.5,-54.5 11.5,-9.5 100.5,-9.5 100.5,-54.5\"/>\n",
       "<text text-anchor=\"start\" x=\"27\" y=\"-27.8\" font-family=\"Helvetica,sans-Serif\" font-size=\"14.00\">topic</text>\n",
       "<text text-anchor=\"start\" x=\"67\" y=\"-27.8\" font-family=\"Helvetica,sans-Serif\" font-size=\"14.00\">str</text>\n",
       "</g>\n",
       "<!-- _joke_prompt_inputs&#45;&gt;joke_prompt -->\n",
       "<g id=\"edge2\" class=\"edge\">\n",
       "<title>_joke_prompt_inputs&#45;&gt;joke_prompt</title>\n",
       "<path fill=\"none\" stroke=\"black\" d=\"M100.62,-32C106.68,-32 113.02,-32 119.39,-32\"/>\n",
       "<polygon fill=\"black\" stroke=\"black\" points=\"119.41,-35.5 129.41,-32 119.41,-28.5 119.41,-35.5\"/>\n",
       "</g>\n",
       "<!-- input -->\n",
       "<g id=\"node5\" class=\"node\">\n",
       "<title>input</title>\n",
       "<polygon fill=\"#ffffff\" stroke=\"black\" stroke-dasharray=\"5,2\" points=\"85.5,-274.5 26.5,-274.5 26.5,-237.5 85.5,-237.5 85.5,-274.5\"/>\n",
       "<text text-anchor=\"middle\" x=\"56\" y=\"-252.3\" font-family=\"Helvetica,sans-Serif\" font-size=\"14.00\">input</text>\n",
       "</g>\n",
       "<!-- function -->\n",
       "<g id=\"node6\" class=\"node\">\n",
       "<title>function</title>\n",
       "<path fill=\"#b4d8e4\" stroke=\"black\" d=\"M84,-219.5C84,-219.5 28,-219.5 28,-219.5 22,-219.5 16,-213.5 16,-207.5 16,-207.5 16,-194.5 16,-194.5 16,-188.5 22,-182.5 28,-182.5 28,-182.5 84,-182.5 84,-182.5 90,-182.5 96,-188.5 96,-194.5 96,-194.5 96,-207.5 96,-207.5 96,-213.5 90,-219.5 84,-219.5\"/>\n",
       "<text text-anchor=\"middle\" x=\"56\" y=\"-197.3\" font-family=\"Helvetica,sans-Serif\" font-size=\"14.00\">function</text>\n",
       "</g>\n",
       "<!-- output -->\n",
       "<g id=\"node7\" class=\"node\">\n",
       "<title>output</title>\n",
       "<path fill=\"#ffc857\" stroke=\"black\" d=\"M78,-164.5C78,-164.5 34,-164.5 34,-164.5 28,-164.5 22,-158.5 22,-152.5 22,-152.5 22,-139.5 22,-139.5 22,-133.5 28,-127.5 34,-127.5 34,-127.5 78,-127.5 78,-127.5 84,-127.5 90,-133.5 90,-139.5 90,-139.5 90,-152.5 90,-152.5 90,-158.5 84,-164.5 78,-164.5\"/>\n",
       "<text text-anchor=\"middle\" x=\"56\" y=\"-142.3\" font-family=\"Helvetica,sans-Serif\" font-size=\"14.00\">output</text>\n",
       "</g>\n",
       "<!-- override -->\n",
       "<g id=\"node8\" class=\"node\">\n",
       "<title>override</title>\n",
       "<polygon fill=\"#b4d8e4\" stroke=\"black\" points=\"96,-109.5 16,-109.5 16,-72.5 96,-72.5 96,-109.5\"/>\n",
       "<polyline fill=\"none\" stroke=\"black\" points=\"28,-109.5 16,-97.5 \"/>\n",
       "<polyline fill=\"none\" stroke=\"black\" points=\"16,-84.5 28,-72.5 \"/>\n",
       "<polyline fill=\"none\" stroke=\"black\" points=\"84,-72.5 96,-84.5 \"/>\n",
       "<polyline fill=\"none\" stroke=\"black\" points=\"96,-97.5 84,-109.5 \"/>\n",
       "<text text-anchor=\"middle\" x=\"56\" y=\"-87.3\" font-family=\"Helvetica,sans-Serif\" font-size=\"14.00\">override</text>\n",
       "</g>\n",
       "</g>\n",
       "</svg>\n"
      ],
      "text/plain": [
       "<graphviz.graphs.Digraph at 0x7f9a8c65c690>"
      ]
     },
     "metadata": {},
     "output_type": "display_data"
    },
    {
     "data": {
      "text/plain": [
       "'monday'"
      ]
     },
     "metadata": {},
     "output_type": "display_data"
    },
    {
     "data": {
      "text/plain": [
       "\"Knock, knock. Who's there? monday\""
      ]
     },
     "metadata": {},
     "output_type": "display_data"
    },
    {
     "data": {
      "text/plain": [
       "'monday who?'"
      ]
     },
     "metadata": {},
     "output_type": "display_data"
    },
    {
     "data": {
      "text/plain": [
       "'Bingo bongo!'"
      ]
     },
     "metadata": {},
     "output_type": "display_data"
    }
   ],
   "source": [
    "%%cell_to_module joke --display --execute --inputs my_inputs --overrides my_overrides\n",
    "def joke_prompt(topic: str) -> str:\n",
    "    return f\"Knock, knock. Who's there? {topic}\"\n",
    "\n",
    "def reply(joke_prompt: str) -> str:\n",
    "    _, _, right = joke_prompt.partition(\"? \")\n",
    "    return f\"{right} who?\"\n",
    "\n",
    "def punchline(reply: str) -> str:\n",
    "    left, _, _ = reply.partition(\" \")\n",
    "    return f\"No, {left} MooOOooo\""
   ]
  },
  {
   "cell_type": "markdown",
   "id": "2c21fd58",
   "metadata": {},
   "source": [
    "### 3.5 Driver Adapters\n",
    "You can modify execution by passing adapters to `--builder / -b`. Adapters are flexible tools that can provide a variety of features. For instance, the next few cells uses `PrintLn()` to execution status after each node."
   ]
  },
  {
   "cell_type": "code",
   "execution_count": 31,
   "id": "abe2edb4",
   "metadata": {},
   "outputs": [],
   "source": [
    "from hamilton.lifecycle.default import PrintLn\n",
    "my_builder = driver.Builder().with_adapters(PrintLn())  # add the adapter"
   ]
  },
  {
   "cell_type": "markdown",
   "id": "7d0b177c",
   "metadata": {},
   "source": [
    "Notice in the printed statement how the overriden `punchline` node isn't executed."
   ]
  },
  {
   "cell_type": "code",
   "execution_count": 32,
   "id": "ac0a6585",
   "metadata": {},
   "outputs": [
    {
     "data": {
      "image/svg+xml": [
       "<?xml version=\"1.0\" encoding=\"UTF-8\" standalone=\"no\"?>\n",
       "<!DOCTYPE svg PUBLIC \"-//W3C//DTD SVG 1.1//EN\"\n",
       " \"http://www.w3.org/Graphics/SVG/1.1/DTD/svg11.dtd\">\n",
       "<!-- Generated by graphviz version 2.43.0 (0)\n",
       " -->\n",
       "<!-- Title: %3 Pages: 1 -->\n",
       "<svg width=\"345pt\" height=\"222pt\"\n",
       " viewBox=\"0.00 0.00 345.00 222.00\" xmlns=\"http://www.w3.org/2000/svg\" xmlns:xlink=\"http://www.w3.org/1999/xlink\">\n",
       "<g id=\"graph0\" class=\"graph\" transform=\"scale(1 1) rotate(0) translate(4 218)\">\n",
       "<title>%3</title>\n",
       "<polygon fill=\"white\" stroke=\"transparent\" points=\"-4,4 -4,-218 341,-218 341,4 -4,4\"/>\n",
       "<g id=\"clust1\" class=\"cluster\">\n",
       "<title>cluster__legend</title>\n",
       "<polygon fill=\"#ffffff\" stroke=\"black\" points=\"11.5,-74 11.5,-206 107.5,-206 107.5,-74 11.5,-74\"/>\n",
       "<text text-anchor=\"middle\" x=\"59.5\" y=\"-190.8\" font-family=\"Helvetica,sans-Serif\" font-size=\"14.00\">Legend</text>\n",
       "</g>\n",
       "<!-- reply -->\n",
       "<g id=\"node1\" class=\"node\">\n",
       "<title>reply</title>\n",
       "<path fill=\"#ffc857\" stroke=\"black\" d=\"M198,-64C198,-64 160,-64 160,-64 154,-64 148,-58 148,-52 148,-52 148,-12 148,-12 148,-6 154,0 160,0 160,0 198,0 198,0 204,0 210,-6 210,-12 210,-12 210,-52 210,-52 210,-58 204,-64 198,-64\"/>\n",
       "<text text-anchor=\"start\" x=\"159\" y=\"-42.8\" font-family=\"Helvetica,sans-Serif\" font-weight=\"bold\" font-size=\"14.00\">reply</text>\n",
       "<text text-anchor=\"start\" x=\"169.5\" y=\"-14.8\" font-family=\"Helvetica,sans-Serif\" font-style=\"italic\" font-size=\"14.00\">str</text>\n",
       "</g>\n",
       "<!-- punchline -->\n",
       "<g id=\"node3\" class=\"node\">\n",
       "<title>punchline</title>\n",
       "<path fill=\"#ffc857\" stroke=\"black\" d=\"M325,-64C325,-64 251,-64 251,-64 245,-64 239,-58 239,-52 239,-52 239,-12 239,-12 239,-6 245,0 251,0 251,0 325,0 325,0 331,0 337,-6 337,-12 337,-12 337,-52 337,-52 337,-58 331,-64 325,-64\"/>\n",
       "<text text-anchor=\"start\" x=\"250\" y=\"-42.8\" font-family=\"Helvetica,sans-Serif\" font-weight=\"bold\" font-size=\"14.00\">punchline</text>\n",
       "<text text-anchor=\"start\" x=\"278.5\" y=\"-14.8\" font-family=\"Helvetica,sans-Serif\" font-style=\"italic\" font-size=\"14.00\">str</text>\n",
       "</g>\n",
       "<!-- reply&#45;&gt;punchline -->\n",
       "<g id=\"edge2\" class=\"edge\">\n",
       "<title>reply&#45;&gt;punchline</title>\n",
       "<path fill=\"none\" stroke=\"black\" d=\"M210.09,-32C215.93,-32 222.24,-32 228.64,-32\"/>\n",
       "<polygon fill=\"black\" stroke=\"black\" points=\"228.71,-35.5 238.71,-32 228.71,-28.5 228.71,-35.5\"/>\n",
       "</g>\n",
       "<!-- joke_prompt -->\n",
       "<g id=\"node2\" class=\"node\">\n",
       "<title>joke_prompt</title>\n",
       "<path fill=\"#ffc857\" stroke=\"black\" d=\"M107,-64C107,-64 12,-64 12,-64 6,-64 0,-58 0,-52 0,-52 0,-12 0,-12 0,-6 6,0 12,0 12,0 107,0 107,0 113,0 119,-6 119,-12 119,-12 119,-52 119,-52 119,-58 113,-64 107,-64\"/>\n",
       "<text text-anchor=\"start\" x=\"11\" y=\"-42.8\" font-family=\"Helvetica,sans-Serif\" font-weight=\"bold\" font-size=\"14.00\">joke_prompt</text>\n",
       "<text text-anchor=\"start\" x=\"50\" y=\"-14.8\" font-family=\"Helvetica,sans-Serif\" font-style=\"italic\" font-size=\"14.00\">str</text>\n",
       "</g>\n",
       "<!-- joke_prompt&#45;&gt;reply -->\n",
       "<g id=\"edge1\" class=\"edge\">\n",
       "<title>joke_prompt&#45;&gt;reply</title>\n",
       "<path fill=\"none\" stroke=\"black\" d=\"M119.25,-32C125.42,-32 131.59,-32 137.48,-32\"/>\n",
       "<polygon fill=\"black\" stroke=\"black\" points=\"137.74,-35.5 147.74,-32 137.74,-28.5 137.74,-35.5\"/>\n",
       "</g>\n",
       "<!-- function -->\n",
       "<g id=\"node4\" class=\"node\">\n",
       "<title>function</title>\n",
       "<path fill=\"#b4d8e4\" stroke=\"black\" d=\"M87.5,-174.5C87.5,-174.5 31.5,-174.5 31.5,-174.5 25.5,-174.5 19.5,-168.5 19.5,-162.5 19.5,-162.5 19.5,-149.5 19.5,-149.5 19.5,-143.5 25.5,-137.5 31.5,-137.5 31.5,-137.5 87.5,-137.5 87.5,-137.5 93.5,-137.5 99.5,-143.5 99.5,-149.5 99.5,-149.5 99.5,-162.5 99.5,-162.5 99.5,-168.5 93.5,-174.5 87.5,-174.5\"/>\n",
       "<text text-anchor=\"middle\" x=\"59.5\" y=\"-152.3\" font-family=\"Helvetica,sans-Serif\" font-size=\"14.00\">function</text>\n",
       "</g>\n",
       "<!-- output -->\n",
       "<g id=\"node5\" class=\"node\">\n",
       "<title>output</title>\n",
       "<path fill=\"#ffc857\" stroke=\"black\" d=\"M81.5,-119.5C81.5,-119.5 37.5,-119.5 37.5,-119.5 31.5,-119.5 25.5,-113.5 25.5,-107.5 25.5,-107.5 25.5,-94.5 25.5,-94.5 25.5,-88.5 31.5,-82.5 37.5,-82.5 37.5,-82.5 81.5,-82.5 81.5,-82.5 87.5,-82.5 93.5,-88.5 93.5,-94.5 93.5,-94.5 93.5,-107.5 93.5,-107.5 93.5,-113.5 87.5,-119.5 81.5,-119.5\"/>\n",
       "<text text-anchor=\"middle\" x=\"59.5\" y=\"-97.3\" font-family=\"Helvetica,sans-Serif\" font-size=\"14.00\">output</text>\n",
       "</g>\n",
       "</g>\n",
       "</svg>\n"
      ],
      "text/plain": [
       "<graphviz.graphs.Digraph at 0x7f9a8c646690>"
      ]
     },
     "metadata": {},
     "output_type": "display_data"
    },
    {
     "name": "stdout",
     "output_type": "stream",
     "text": [
      "Executing node: joke_prompt.\n",
      "Finished debugging node: joke_prompt in 53.4μs. Status: Success.\n",
      "Executing node: reply.\n",
      "Finished debugging node: reply in 10.5μs. Status: Success.\n",
      "Executing node: punchline.\n",
      "Finished debugging node: punchline in 9.78μs. Status: Success.\n"
     ]
    },
    {
     "data": {
      "text/plain": [
       "\"Knock, knock. Who's there? Cowsay\""
      ]
     },
     "metadata": {},
     "output_type": "display_data"
    },
    {
     "data": {
      "text/plain": [
       "'Cowsay who?'"
      ]
     },
     "metadata": {},
     "output_type": "display_data"
    },
    {
     "data": {
      "text/plain": [
       "'No, Cowsay MooOOooo'"
      ]
     },
     "metadata": {},
     "output_type": "display_data"
    }
   ],
   "source": [
    "%%cell_to_module joke --builder my_builder --display --execute \n",
    "def joke_prompt() -> str:\n",
    "    return f\"Knock, knock. Who's there? Cowsay\"\n",
    "\n",
    "def reply(joke_prompt: str) -> str:\n",
    "    _, _, right = joke_prompt.partition(\"? \")\n",
    "    return f\"{right} who?\"\n",
    "\n",
    "def punchline(reply: str) -> str:\n",
    "    left, _, _ = reply.partition(\" \")\n",
    "    return f\"No, {left} MooOOooo\""
   ]
  },
  {
   "cell_type": "markdown",
   "id": "15cea16a",
   "metadata": {},
   "source": [
    "There are ton of awesome adapters that can help you with your notebook experience. Here are a few notable mentions:\n",
    "\n",
    "1. `hamilton.lifecycle.default.CacheAdapter()` will automatically version the node's code and input values and store its result on disk. When running the same node (code, inputs) pair, it will read the value from disk instead of recomputing. This can help save LLM API costs!\n",
    "2. `hamilton.plugins.h_diskcache.DiskCacheAdapter()` same core features as `CacheAdapter()`, but more utilities around cache management\n",
    "3. `hamilton.lifecycle.default.PrintLn()` print execution status.\n",
    "4. `hamilton.plugins.h_tqdm.ProgressBar()` add a progress bar for execution.\n",
    "5. `hamilton.lifecycle.default.PDBDebugger()` allows you to step into a node with a Python debugger, allowing you to execute code line by line.\n",
    "\n",
    "Note that all of these adapters work with Hamilton outside notebooks too!"
   ]
  }
 ],
 "metadata": {
  "kernelspec": {
   "display_name": "venv",
   "language": "python",
   "name": "python3"
  },
  "language_info": {
   "codemirror_mode": {
    "name": "ipython",
    "version": 3
   },
   "file_extension": ".py",
   "mimetype": "text/x-python",
   "name": "python",
   "nbconvert_exporter": "python",
   "pygments_lexer": "ipython3",
   "version": "3.11.1"
  }
 },
 "nbformat": 4,
 "nbformat_minor": 5
}
