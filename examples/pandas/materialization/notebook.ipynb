{
 "cells": [
  {
   "cell_type": "code",
   "execution_count": 1,
   "metadata": {},
   "outputs": [
    {
     "name": "stdout",
     "output_type": "stream",
     "text": [
      "Defaulting to user installation because normal site-packages is not writeable\n",
      "Requirement already satisfied: pandas in /home/jordan/.local/lib/python3.10/site-packages (2.1.0)\n",
      "Collecting pandas\n",
      "  Downloading pandas-2.1.1-cp310-cp310-manylinux_2_17_x86_64.manylinux2014_x86_64.whl (12.3 MB)\n",
      "\u001b[2K     \u001b[90m━━━━━━━━━━━━━━━━━━━━━━━━━━━━━━━━━━━━━━━━\u001b[0m \u001b[32m12.3/12.3 MB\u001b[0m \u001b[31m1.8 MB/s\u001b[0m eta \u001b[36m0:00:00\u001b[0m00:01\u001b[0m00:01\u001b[0m\n",
      "\u001b[?25hRequirement already satisfied: pytz>=2020.1 in /usr/lib/python3/dist-packages (from pandas) (2022.1)\n",
      "Requirement already satisfied: tzdata>=2022.1 in /home/jordan/.local/lib/python3.10/site-packages (from pandas) (2023.3)\n",
      "Requirement already satisfied: python-dateutil>=2.8.2 in /home/jordan/.local/lib/python3.10/site-packages (from pandas) (2.8.2)\n",
      "Requirement already satisfied: numpy>=1.22.4 in /home/jordan/.local/lib/python3.10/site-packages (from pandas) (1.25.1)\n",
      "Requirement already satisfied: six>=1.5 in /usr/lib/python3/dist-packages (from python-dateutil>=2.8.2->pandas) (1.16.0)\n",
      "Installing collected packages: pandas\n",
      "  Attempting uninstall: pandas\n",
      "    Found existing installation: pandas 2.1.0\n",
      "    Uninstalling pandas-2.1.0:\n",
      "      Successfully uninstalled pandas-2.1.0\n",
      "Successfully installed pandas-2.1.1\n"
     ]
    }
   ],
   "source": [
    "# update the pandas package - optional\n",
    "# !pip install --upgrade pandas"
   ]
  },
  {
   "cell_type": "code",
   "execution_count": 15,
   "metadata": {
    "ExecuteTime": {
     "end_time": "2023-09-17T05:43:33.890006Z",
     "start_time": "2023-09-17T05:43:33.866292Z"
    }
   },
   "outputs": [],
   "source": [
    "import sqlite3\n",
    "import sys\n",
    "import pandas as pd\n",
    "\n",
    "# Add the hamilton module to your path - optinal\n",
    "# project_dir = \"### ADD PATH HERE ###\"\n",
    "# sys.path.append(project_dir)\n",
    "\n",
    "from hamilton import base, driver\n",
    "from hamilton.io.materialization import to"
   ]
  },
  {
   "cell_type": "code",
   "execution_count": 16,
   "metadata": {
    "ExecuteTime": {
     "end_time": "2023-09-17T05:43:33.890336Z",
     "start_time": "2023-09-17T05:43:33.869093Z"
    },
    "pycharm": {
     "name": "#%%\n"
    }
   },
   "outputs": [
    {
     "name": "stdout",
     "output_type": "stream",
     "text": [
      "The autoreload extension is already loaded. To reload it, use:\n",
      "  %reload_ext autoreload\n"
     ]
    }
   ],
   "source": [
    "# We use the autoreload extension that comes with ipython to automatically reload modules when\n",
    "# the code in them changes.\n",
    "\n",
    "# import the jupyter extension\n",
    "%load_ext autoreload\n",
    "# set it to only reload the modules imported\n",
    "%autoreload 1"
   ]
  },
  {
   "cell_type": "code",
   "execution_count": 25,
   "metadata": {
    "ExecuteTime": {
     "end_time": "2023-09-17T05:43:33.930823Z",
     "start_time": "2023-09-17T05:43:33.875941Z"
    },
    "pycharm": {
     "name": "#%%\n"
    }
   },
   "outputs": [
    {
     "name": "stdout",
     "output_type": "stream",
     "text": [
      "Overwriting spend_calculations.py\n"
     ]
    }
   ],
   "source": [
    "%%writefile spend_calculations.py\n",
    "# Define your new Hamilton functions.\n",
    "# The %%writefile magic command creates a new Python module with the functions below.\n",
    "# We will import this later and pass it into our Driver.\n",
    "\n",
    "import pandas as pd \n",
    "# Look at `my_functions` to see how these functions connect.\n",
    "def avg_3wk_spend(spend: pd.Series) -> pd.Series:\n",
    "    \"\"\"Rolling 3 week average spend.\"\"\"\n",
    "    return spend.rolling(3).mean()\n",
    "\n",
    "\n",
    "def spend_per_signup(spend: pd.Series, signups: pd.Series) -> pd.Series:\n",
    "    \"\"\"The cost per signup in relation to spend.\"\"\"\n",
    "    return spend / signups\n",
    "\n",
    "\n",
    "def spend_mean(spend: pd.Series) -> float:\n",
    "    \"\"\"Shows function creating a scalar. In this case it computes the mean of the entire column.\"\"\"\n",
    "    return spend.mean()\n",
    "\n",
    "\n",
    "def spend_zero_mean(spend: pd.Series, spend_mean: float) -> pd.Series:\n",
    "    \"\"\"Shows function that takes a scalar. In this case to zero mean spend.\"\"\"\n",
    "    return spend - spend_mean\n",
    "\n",
    "\n",
    "def spend_std_dev(spend: pd.Series) -> float:\n",
    "    \"\"\"Function that computes the standard deviation of the spend column.\"\"\"\n",
    "    return spend.std()\n",
    "\n",
    "\n",
    "def spend_zero_mean_unit_variance(spend_zero_mean: pd.Series, spend_std_dev: float) -> pd.Series:\n",
    "    \"\"\"Function showing one way to make spend have zero mean and unit variance.\"\"\"\n",
    "    return spend_zero_mean / spend_std_dev"
   ]
  },
  {
   "cell_type": "code",
   "execution_count": 26,
   "metadata": {
    "ExecuteTime": {
     "end_time": "2023-09-17T05:43:33.931096Z",
     "start_time": "2023-09-17T05:43:33.881858Z"
    },
    "pycharm": {
     "name": "#%%\n"
    }
   },
   "outputs": [],
   "source": [
    "initial_columns = {  # load from actuals or wherever -- this is our initial data we use as input.\n",
    "    # Note: these values don't have to be all series, they could be a scalar.\n",
    "    \"signups\": pd.Series([1, 10, 50, 100, 200, 400]),\n",
    "    \"spend\": pd.Series([10, 10, 20, 40, 40, 50]),\n",
    "}"
   ]
  },
  {
   "cell_type": "code",
   "execution_count": 27,
   "metadata": {
    "ExecuteTime": {
     "end_time": "2023-09-17T05:43:33.932468Z",
     "start_time": "2023-09-17T05:43:33.887774Z"
    },
    "pycharm": {
     "name": "#%%\n"
    }
   },
   "outputs": [
    {
     "name": "stderr",
     "output_type": "stream",
     "text": [
      "Note: Hamilton collects completely anonymous data about usage. This will help us improve Hamilton over time. See https://github.com/dagworks-inc/hamilton#usage-analytics--data-privacy for details.\n"
     ]
    }
   ],
   "source": [
    "%aimport spend_calculations\n",
    "\n",
    "df_builder = base.PandasDataFrameResult()\n",
    "dr = driver.Driver({}, spend_calculations)  # can pass in multiple modules"
   ]
  },
  {
   "cell_type": "code",
   "execution_count": 28,
   "metadata": {
    "ExecuteTime": {
     "end_time": "2023-09-17T05:43:33.932900Z",
     "start_time": "2023-09-17T05:43:33.892681Z"
    }
   },
   "outputs": [],
   "source": [
    "# we need to specify what we want in the final dataframe. These can be string names, or function references.\n",
    "output_columns = [\n",
    "    \"spend\",\n",
    "    \"signups\",\n",
    "    \"avg_3wk_spend\",\n",
    "    \"spend_per_signup\",\n",
    "    \"spend_zero_mean_unit_variance\",\n",
    "]"
   ]
  },
  {
   "cell_type": "code",
   "execution_count": 29,
   "metadata": {
    "ExecuteTime": {
     "end_time": "2023-09-17T05:43:33.933121Z",
     "start_time": "2023-09-17T05:43:33.896779Z"
    },
    "collapsed": false
   },
   "outputs": [],
   "source": [
    "# set up db connection for sql materializer below\n",
    "conn = sqlite3.connect(\"df.db\")"
   ]
  },
  {
   "cell_type": "code",
   "execution_count": 32,
   "metadata": {
    "ExecuteTime": {
     "end_time": "2023-09-17T05:43:34.014270Z",
     "start_time": "2023-09-17T05:43:33.912979Z"
    }
   },
   "outputs": [
    {
     "data": {
      "image/svg+xml": [
       "<?xml version=\"1.0\" encoding=\"UTF-8\" standalone=\"no\"?>\n",
       "<!DOCTYPE svg PUBLIC \"-//W3C//DTD SVG 1.1//EN\"\n",
       " \"http://www.w3.org/Graphics/SVG/1.1/DTD/svg11.dtd\">\n",
       "<!-- Generated by graphviz version 2.43.0 (0)\n",
       " -->\n",
       "<!-- Title: %3 Pages: 1 -->\n",
       "<svg width=\"1251pt\" height=\"404pt\"\n",
       " viewBox=\"0.00 0.00 1251.08 404.00\" xmlns=\"http://www.w3.org/2000/svg\" xmlns:xlink=\"http://www.w3.org/1999/xlink\">\n",
       "<g id=\"graph0\" class=\"graph\" transform=\"scale(1 1) rotate(0) translate(4 400)\">\n",
       "<title>%3</title>\n",
       "<polygon fill=\"white\" stroke=\"transparent\" points=\"-4,4 -4,-400 1247.08,-400 1247.08,4 -4,4\"/>\n",
       "<!-- df_to_sql -->\n",
       "<g id=\"node1\" class=\"node\">\n",
       "<title>df_to_sql</title>\n",
       "<polygon fill=\"none\" stroke=\"black\" points=\"151.14,-36 71.14,-36 71.14,0 151.14,0 151.14,-36\"/>\n",
       "<text text-anchor=\"middle\" x=\"111.14\" y=\"-14.3\" font-family=\"Times,serif\" font-size=\"14.00\">df_to_sql</text>\n",
       "</g>\n",
       "<!-- spend_mean -->\n",
       "<g id=\"node2\" class=\"node\">\n",
       "<title>spend_mean</title>\n",
       "<ellipse fill=\"none\" stroke=\"black\" cx=\"700.14\" cy=\"-306\" rx=\"68.49\" ry=\"18\"/>\n",
       "<text text-anchor=\"middle\" x=\"700.14\" y=\"-302.3\" font-family=\"Times,serif\" font-size=\"14.00\">spend_mean</text>\n",
       "</g>\n",
       "<!-- spend_zero_mean -->\n",
       "<g id=\"node15\" class=\"node\">\n",
       "<title>spend_zero_mean</title>\n",
       "<ellipse fill=\"none\" stroke=\"black\" cx=\"782.14\" cy=\"-234\" rx=\"92.88\" ry=\"18\"/>\n",
       "<text text-anchor=\"middle\" x=\"782.14\" y=\"-230.3\" font-family=\"Times,serif\" font-size=\"14.00\">spend_zero_mean</text>\n",
       "</g>\n",
       "<!-- spend_mean&#45;&gt;spend_zero_mean -->\n",
       "<g id=\"edge28\" class=\"edge\">\n",
       "<title>spend_mean&#45;&gt;spend_zero_mean</title>\n",
       "<path fill=\"none\" stroke=\"black\" d=\"M719.57,-288.41C730.12,-279.41 743.32,-268.14 754.88,-258.27\"/>\n",
       "<polygon fill=\"black\" stroke=\"black\" points=\"757.23,-260.87 762.56,-251.71 752.68,-255.54 757.23,-260.87\"/>\n",
       "</g>\n",
       "<!-- spend_per_signup -->\n",
       "<g id=\"node3\" class=\"node\">\n",
       "<title>spend_per_signup</title>\n",
       "<polygon fill=\"none\" stroke=\"black\" points=\"533.64,-180 388.64,-180 388.64,-144 533.64,-144 533.64,-180\"/>\n",
       "<text text-anchor=\"middle\" x=\"461.14\" y=\"-158.3\" font-family=\"Times,serif\" font-size=\"14.00\">spend_per_signup</text>\n",
       "</g>\n",
       "<!-- df_to_pickle_build_result -->\n",
       "<g id=\"node5\" class=\"node\">\n",
       "<title>df_to_pickle_build_result</title>\n",
       "<ellipse fill=\"none\" stroke=\"black\" cx=\"365.14\" cy=\"-90\" rx=\"124.58\" ry=\"18\"/>\n",
       "<text text-anchor=\"middle\" x=\"365.14\" y=\"-86.3\" font-family=\"Times,serif\" font-size=\"14.00\">df_to_pickle_build_result</text>\n",
       "</g>\n",
       "<!-- spend_per_signup&#45;&gt;df_to_pickle_build_result -->\n",
       "<g id=\"edge10\" class=\"edge\">\n",
       "<title>spend_per_signup&#45;&gt;df_to_pickle_build_result</title>\n",
       "<path fill=\"none\" stroke=\"black\" d=\"M437.41,-143.7C425.11,-134.73 409.93,-123.66 396.66,-113.98\"/>\n",
       "<polygon fill=\"black\" stroke=\"black\" points=\"398.41,-110.93 388.27,-107.86 394.28,-116.58 398.41,-110.93\"/>\n",
       "</g>\n",
       "<!-- df_to_sql_build_result -->\n",
       "<g id=\"node6\" class=\"node\">\n",
       "<title>df_to_sql_build_result</title>\n",
       "<ellipse fill=\"none\" stroke=\"black\" cx=\"111.14\" cy=\"-90\" rx=\"111.28\" ry=\"18\"/>\n",
       "<text text-anchor=\"middle\" x=\"111.14\" y=\"-86.3\" font-family=\"Times,serif\" font-size=\"14.00\">df_to_sql_build_result</text>\n",
       "</g>\n",
       "<!-- spend_per_signup&#45;&gt;df_to_sql_build_result -->\n",
       "<g id=\"edge15\" class=\"edge\">\n",
       "<title>spend_per_signup&#45;&gt;df_to_sql_build_result</title>\n",
       "<path fill=\"none\" stroke=\"black\" d=\"M388.62,-146.5C330.13,-134.8 248.07,-118.39 188.36,-106.44\"/>\n",
       "<polygon fill=\"black\" stroke=\"black\" points=\"188.72,-102.95 178.23,-104.42 187.35,-109.81 188.72,-102.95\"/>\n",
       "</g>\n",
       "<!-- df_to_xml_build_result -->\n",
       "<g id=\"node7\" class=\"node\">\n",
       "<title>df_to_xml_build_result</title>\n",
       "<ellipse fill=\"none\" stroke=\"black\" cx=\"622.14\" cy=\"-90\" rx=\"114.28\" ry=\"18\"/>\n",
       "<text text-anchor=\"middle\" x=\"622.14\" y=\"-86.3\" font-family=\"Times,serif\" font-size=\"14.00\">df_to_xml_build_result</text>\n",
       "</g>\n",
       "<!-- spend_per_signup&#45;&gt;df_to_xml_build_result -->\n",
       "<g id=\"edge20\" class=\"edge\">\n",
       "<title>spend_per_signup&#45;&gt;df_to_xml_build_result</title>\n",
       "<path fill=\"none\" stroke=\"black\" d=\"M500.53,-143.88C523.29,-133.98 552.05,-121.47 575.89,-111.11\"/>\n",
       "<polygon fill=\"black\" stroke=\"black\" points=\"577.32,-114.3 585.1,-107.11 574.53,-107.88 577.32,-114.3\"/>\n",
       "</g>\n",
       "<!-- df_to_html_build_result -->\n",
       "<g id=\"node17\" class=\"node\">\n",
       "<title>df_to_html_build_result</title>\n",
       "<ellipse fill=\"none\" stroke=\"black\" cx=\"1124.14\" cy=\"-90\" rx=\"118.88\" ry=\"18\"/>\n",
       "<text text-anchor=\"middle\" x=\"1124.14\" y=\"-86.3\" font-family=\"Times,serif\" font-size=\"14.00\">df_to_html_build_result</text>\n",
       "</g>\n",
       "<!-- spend_per_signup&#45;&gt;df_to_html_build_result -->\n",
       "<g id=\"edge33\" class=\"edge\">\n",
       "<title>spend_per_signup&#45;&gt;df_to_html_build_result</title>\n",
       "<path fill=\"none\" stroke=\"black\" d=\"M533.93,-145.42C537.04,-144.91 540.12,-144.43 543.14,-144 743.08,-115.44 795.3,-129.3 996.14,-108 1007.17,-106.83 1018.73,-105.48 1030.19,-104.05\"/>\n",
       "<polygon fill=\"black\" stroke=\"black\" points=\"1030.73,-107.51 1040.22,-102.79 1029.86,-100.57 1030.73,-107.51\"/>\n",
       "</g>\n",
       "<!-- df_to_json_build_result -->\n",
       "<g id=\"node18\" class=\"node\">\n",
       "<title>df_to_json_build_result</title>\n",
       "<ellipse fill=\"none\" stroke=\"black\" cx=\"871.14\" cy=\"-90\" rx=\"116.18\" ry=\"18\"/>\n",
       "<text text-anchor=\"middle\" x=\"871.14\" y=\"-86.3\" font-family=\"Times,serif\" font-size=\"14.00\">df_to_json_build_result</text>\n",
       "</g>\n",
       "<!-- spend_per_signup&#45;&gt;df_to_json_build_result -->\n",
       "<g id=\"edge38\" class=\"edge\">\n",
       "<title>spend_per_signup&#45;&gt;df_to_json_build_result</title>\n",
       "<path fill=\"none\" stroke=\"black\" d=\"M533.98,-145.72C537.08,-145.13 540.14,-144.55 543.14,-144 623.13,-129.25 714.52,-114.67 780.48,-104.55\"/>\n",
       "<polygon fill=\"black\" stroke=\"black\" points=\"781.07,-108 790.43,-103.02 780.01,-101.08 781.07,-108\"/>\n",
       "</g>\n",
       "<!-- spend_zero_mean_unit_variance -->\n",
       "<g id=\"node4\" class=\"node\">\n",
       "<title>spend_zero_mean_unit_variance</title>\n",
       "<polygon fill=\"none\" stroke=\"black\" points=\"943.64,-180 698.64,-180 698.64,-144 943.64,-144 943.64,-180\"/>\n",
       "<text text-anchor=\"middle\" x=\"821.14\" y=\"-158.3\" font-family=\"Times,serif\" font-size=\"14.00\">spend_zero_mean_unit_variance</text>\n",
       "</g>\n",
       "<!-- spend_zero_mean_unit_variance&#45;&gt;df_to_pickle_build_result -->\n",
       "<g id=\"edge11\" class=\"edge\">\n",
       "<title>spend_zero_mean_unit_variance&#45;&gt;df_to_pickle_build_result</title>\n",
       "<path fill=\"none\" stroke=\"black\" d=\"M710.17,-143.97C632.62,-132.06 530.29,-116.35 457.25,-105.14\"/>\n",
       "<polygon fill=\"black\" stroke=\"black\" points=\"457.56,-101.65 447.15,-103.59 456.5,-108.57 457.56,-101.65\"/>\n",
       "</g>\n",
       "<!-- spend_zero_mean_unit_variance&#45;&gt;df_to_sql_build_result -->\n",
       "<g id=\"edge16\" class=\"edge\">\n",
       "<title>spend_zero_mean_unit_variance&#45;&gt;df_to_sql_build_result</title>\n",
       "<path fill=\"none\" stroke=\"black\" d=\"M698.55,-145C695.39,-144.66 692.24,-144.32 689.14,-144 486.04,-122.95 434.1,-130.33 231.14,-108 220.92,-106.88 210.22,-105.56 199.61,-104.17\"/>\n",
       "<polygon fill=\"black\" stroke=\"black\" points=\"199.85,-100.67 189.48,-102.81 198.93,-107.61 199.85,-100.67\"/>\n",
       "</g>\n",
       "<!-- spend_zero_mean_unit_variance&#45;&gt;df_to_xml_build_result -->\n",
       "<g id=\"edge21\" class=\"edge\">\n",
       "<title>spend_zero_mean_unit_variance&#45;&gt;df_to_xml_build_result</title>\n",
       "<path fill=\"none\" stroke=\"black\" d=\"M772.71,-143.97C743.54,-133.7 706.34,-120.62 676.21,-110.02\"/>\n",
       "<polygon fill=\"black\" stroke=\"black\" points=\"677.29,-106.69 666.69,-106.67 674.96,-113.29 677.29,-106.69\"/>\n",
       "</g>\n",
       "<!-- spend_zero_mean_unit_variance&#45;&gt;df_to_html_build_result -->\n",
       "<g id=\"edge34\" class=\"edge\">\n",
       "<title>spend_zero_mean_unit_variance&#45;&gt;df_to_html_build_result</title>\n",
       "<path fill=\"none\" stroke=\"black\" d=\"M894.87,-143.97C942.63,-132.93 1004.53,-118.63 1051.97,-107.67\"/>\n",
       "<polygon fill=\"black\" stroke=\"black\" points=\"1052.9,-111.05 1061.86,-105.39 1051.33,-104.23 1052.9,-111.05\"/>\n",
       "</g>\n",
       "<!-- spend_zero_mean_unit_variance&#45;&gt;df_to_json_build_result -->\n",
       "<g id=\"edge39\" class=\"edge\">\n",
       "<title>spend_zero_mean_unit_variance&#45;&gt;df_to_json_build_result</title>\n",
       "<path fill=\"none\" stroke=\"black\" d=\"M833.5,-143.7C839.37,-135.47 846.51,-125.48 852.98,-116.42\"/>\n",
       "<polygon fill=\"black\" stroke=\"black\" points=\"855.96,-118.28 858.92,-108.1 850.26,-114.21 855.96,-118.28\"/>\n",
       "</g>\n",
       "<!-- df_to_pickle -->\n",
       "<g id=\"node16\" class=\"node\">\n",
       "<title>df_to_pickle</title>\n",
       "<polygon fill=\"none\" stroke=\"black\" points=\"415.64,-36 314.64,-36 314.64,0 415.64,0 415.64,-36\"/>\n",
       "<text text-anchor=\"middle\" x=\"365.14\" y=\"-14.3\" font-family=\"Times,serif\" font-size=\"14.00\">df_to_pickle</text>\n",
       "</g>\n",
       "<!-- df_to_pickle_build_result&#45;&gt;df_to_pickle -->\n",
       "<g id=\"edge29\" class=\"edge\">\n",
       "<title>df_to_pickle_build_result&#45;&gt;df_to_pickle</title>\n",
       "<path fill=\"none\" stroke=\"black\" d=\"M365.14,-71.7C365.14,-63.98 365.14,-54.71 365.14,-46.11\"/>\n",
       "<polygon fill=\"black\" stroke=\"black\" points=\"368.64,-46.1 365.14,-36.1 361.64,-46.1 368.64,-46.1\"/>\n",
       "</g>\n",
       "<!-- df_to_sql_build_result&#45;&gt;df_to_sql -->\n",
       "<g id=\"edge1\" class=\"edge\">\n",
       "<title>df_to_sql_build_result&#45;&gt;df_to_sql</title>\n",
       "<path fill=\"none\" stroke=\"black\" d=\"M111.14,-71.7C111.14,-63.98 111.14,-54.71 111.14,-46.11\"/>\n",
       "<polygon fill=\"black\" stroke=\"black\" points=\"114.64,-46.1 111.14,-36.1 107.64,-46.1 114.64,-46.1\"/>\n",
       "</g>\n",
       "<!-- df_to_xml -->\n",
       "<g id=\"node12\" class=\"node\">\n",
       "<title>df_to_xml</title>\n",
       "<polygon fill=\"none\" stroke=\"black\" points=\"664.64,-36 579.64,-36 579.64,0 664.64,0 664.64,-36\"/>\n",
       "<text text-anchor=\"middle\" x=\"622.14\" y=\"-14.3\" font-family=\"Times,serif\" font-size=\"14.00\">df_to_xml</text>\n",
       "</g>\n",
       "<!-- df_to_xml_build_result&#45;&gt;df_to_xml -->\n",
       "<g id=\"edge24\" class=\"edge\">\n",
       "<title>df_to_xml_build_result&#45;&gt;df_to_xml</title>\n",
       "<path fill=\"none\" stroke=\"black\" d=\"M622.14,-71.7C622.14,-63.98 622.14,-54.71 622.14,-46.11\"/>\n",
       "<polygon fill=\"black\" stroke=\"black\" points=\"625.64,-46.1 622.14,-36.1 618.64,-46.1 625.64,-46.1\"/>\n",
       "</g>\n",
       "<!-- spend -->\n",
       "<g id=\"node8\" class=\"node\">\n",
       "<title>spend</title>\n",
       "<polygon fill=\"none\" stroke=\"black\" stroke-dasharray=\"5,2\" points=\"801.64,-396 694.64,-396 694.64,-360 801.64,-360 801.64,-396\"/>\n",
       "<text text-anchor=\"middle\" x=\"748.14\" y=\"-374.3\" font-family=\"Times,serif\" font-size=\"14.00\">Input: spend</text>\n",
       "</g>\n",
       "<!-- spend&#45;&gt;spend_mean -->\n",
       "<g id=\"edge2\" class=\"edge\">\n",
       "<title>spend&#45;&gt;spend_mean</title>\n",
       "<path fill=\"none\" stroke=\"black\" d=\"M736.27,-359.7C730.64,-351.47 723.79,-341.48 717.57,-332.42\"/>\n",
       "<polygon fill=\"black\" stroke=\"black\" points=\"720.41,-330.37 711.87,-324.1 714.64,-334.33 720.41,-330.37\"/>\n",
       "</g>\n",
       "<!-- spend&#45;&gt;spend_per_signup -->\n",
       "<g id=\"edge3\" class=\"edge\">\n",
       "<title>spend&#45;&gt;spend_per_signup</title>\n",
       "<path fill=\"none\" stroke=\"black\" d=\"M694.59,-363.9C666.39,-355.39 632.16,-342.41 605.14,-324 550.23,-286.6 502.35,-223.85 478.07,-188.76\"/>\n",
       "<polygon fill=\"black\" stroke=\"black\" points=\"480.67,-186.34 472.14,-180.05 474.88,-190.28 480.67,-186.34\"/>\n",
       "</g>\n",
       "<!-- spend&#45;&gt;df_to_pickle_build_result -->\n",
       "<g id=\"edge7\" class=\"edge\">\n",
       "<title>spend&#45;&gt;df_to_pickle_build_result</title>\n",
       "<path fill=\"none\" stroke=\"black\" d=\"M694.45,-369.29C590.42,-353.14 367.7,-312.19 323.14,-252 293,-211.3 323.85,-150.83 346.28,-116.76\"/>\n",
       "<polygon fill=\"black\" stroke=\"black\" points=\"349.31,-118.53 352.04,-108.29 343.52,-114.59 349.31,-118.53\"/>\n",
       "</g>\n",
       "<!-- spend&#45;&gt;df_to_sql_build_result -->\n",
       "<g id=\"edge12\" class=\"edge\">\n",
       "<title>spend&#45;&gt;df_to_sql_build_result</title>\n",
       "<path fill=\"none\" stroke=\"black\" d=\"M694.4,-373.31C604.39,-366.5 427.48,-350.19 371.14,-324 264.11,-274.24 169.47,-165.36 130.3,-116.1\"/>\n",
       "<polygon fill=\"black\" stroke=\"black\" points=\"132.99,-113.87 124.06,-108.17 127.49,-118.19 132.99,-113.87\"/>\n",
       "</g>\n",
       "<!-- spend&#45;&gt;df_to_xml_build_result -->\n",
       "<g id=\"edge17\" class=\"edge\">\n",
       "<title>spend&#45;&gt;df_to_xml_build_result</title>\n",
       "<path fill=\"none\" stroke=\"black\" d=\"M801.66,-372.99C865.86,-366.94 967.81,-352.96 991.14,-324 1026.84,-279.68 1043.89,-226.57 952.14,-144 947.64,-139.95 808.83,-118.67 712.7,-104.33\"/>\n",
       "<polygon fill=\"black\" stroke=\"black\" points=\"713.07,-100.85 702.66,-102.84 712.04,-107.77 713.07,-100.85\"/>\n",
       "</g>\n",
       "<!-- spend_std_dev -->\n",
       "<g id=\"node10\" class=\"node\">\n",
       "<title>spend_std_dev</title>\n",
       "<ellipse fill=\"none\" stroke=\"black\" cx=\"903.14\" cy=\"-306\" rx=\"78.79\" ry=\"18\"/>\n",
       "<text text-anchor=\"middle\" x=\"903.14\" y=\"-302.3\" font-family=\"Times,serif\" font-size=\"14.00\">spend_std_dev</text>\n",
       "</g>\n",
       "<!-- spend&#45;&gt;spend_std_dev -->\n",
       "<g id=\"edge22\" class=\"edge\">\n",
       "<title>spend&#45;&gt;spend_std_dev</title>\n",
       "<path fill=\"none\" stroke=\"black\" d=\"M786.06,-359.88C808.43,-349.77 836.81,-336.95 860.03,-326.47\"/>\n",
       "<polygon fill=\"black\" stroke=\"black\" points=\"861.63,-329.59 869.31,-322.28 858.75,-323.21 861.63,-329.59\"/>\n",
       "</g>\n",
       "<!-- avg_3wk_spend -->\n",
       "<g id=\"node14\" class=\"node\">\n",
       "<title>avg_3wk_spend</title>\n",
       "<polygon fill=\"none\" stroke=\"black\" points=\"680.14,-180 552.14,-180 552.14,-144 680.14,-144 680.14,-180\"/>\n",
       "<text text-anchor=\"middle\" x=\"616.14\" y=\"-158.3\" font-family=\"Times,serif\" font-size=\"14.00\">avg_3wk_spend</text>\n",
       "</g>\n",
       "<!-- spend&#45;&gt;avg_3wk_spend -->\n",
       "<g id=\"edge26\" class=\"edge\">\n",
       "<title>spend&#45;&gt;avg_3wk_spend</title>\n",
       "<path fill=\"none\" stroke=\"black\" d=\"M694.4,-367.97C668.45,-360.66 639.47,-347.53 623.14,-324 595.46,-284.11 602.09,-224.31 609.24,-189.93\"/>\n",
       "<polygon fill=\"black\" stroke=\"black\" points=\"612.66,-190.65 611.43,-180.13 605.83,-189.12 612.66,-190.65\"/>\n",
       "</g>\n",
       "<!-- spend&#45;&gt;spend_zero_mean -->\n",
       "<g id=\"edge27\" class=\"edge\">\n",
       "<title>spend&#45;&gt;spend_zero_mean</title>\n",
       "<path fill=\"none\" stroke=\"black\" d=\"M760.17,-359.71C766.43,-349.74 773.51,-336.71 777.14,-324 782.91,-303.82 783.97,-280.04 783.69,-262.14\"/>\n",
       "<polygon fill=\"black\" stroke=\"black\" points=\"787.19,-261.99 783.38,-252.1 780.19,-262.2 787.19,-261.99\"/>\n",
       "</g>\n",
       "<!-- spend&#45;&gt;df_to_html_build_result -->\n",
       "<g id=\"edge30\" class=\"edge\">\n",
       "<title>spend&#45;&gt;df_to_html_build_result</title>\n",
       "<path fill=\"none\" stroke=\"black\" d=\"M801.95,-374.07C878.54,-368.85 1013.75,-355.37 1050.14,-324 1111.41,-271.19 1122.47,-167.87 1124.12,-118.52\"/>\n",
       "<polygon fill=\"black\" stroke=\"black\" points=\"1127.62,-118.37 1124.35,-108.29 1120.62,-118.21 1127.62,-118.37\"/>\n",
       "</g>\n",
       "<!-- spend&#45;&gt;df_to_json_build_result -->\n",
       "<g id=\"edge35\" class=\"edge\">\n",
       "<title>spend&#45;&gt;df_to_json_build_result</title>\n",
       "<path fill=\"none\" stroke=\"black\" d=\"M801.69,-374.56C873.85,-370.02 996.48,-357.48 1024.14,-324 1075.1,-262.33 1070.54,-209.17 1024.14,-144 1010.79,-125.25 990.33,-113.07 968.67,-105.18\"/>\n",
       "<polygon fill=\"black\" stroke=\"black\" points=\"969.59,-101.8 958.99,-101.95 967.37,-108.43 969.59,-101.8\"/>\n",
       "</g>\n",
       "<!-- signups -->\n",
       "<g id=\"node9\" class=\"node\">\n",
       "<title>signups</title>\n",
       "<polygon fill=\"none\" stroke=\"black\" stroke-dasharray=\"5,2\" points=\"451.64,-252 332.64,-252 332.64,-216 451.64,-216 451.64,-252\"/>\n",
       "<text text-anchor=\"middle\" x=\"392.14\" y=\"-230.3\" font-family=\"Times,serif\" font-size=\"14.00\">Input: signups</text>\n",
       "</g>\n",
       "<!-- signups&#45;&gt;spend_per_signup -->\n",
       "<g id=\"edge4\" class=\"edge\">\n",
       "<title>signups&#45;&gt;spend_per_signup</title>\n",
       "<path fill=\"none\" stroke=\"black\" d=\"M409.2,-215.7C417.64,-207.14 427.96,-196.66 437.18,-187.3\"/>\n",
       "<polygon fill=\"black\" stroke=\"black\" points=\"439.75,-189.68 444.28,-180.1 434.77,-184.77 439.75,-189.68\"/>\n",
       "</g>\n",
       "<!-- signups&#45;&gt;df_to_pickle_build_result -->\n",
       "<g id=\"edge8\" class=\"edge\">\n",
       "<title>signups&#45;&gt;df_to_pickle_build_result</title>\n",
       "<path fill=\"none\" stroke=\"black\" d=\"M371.32,-215.62C361.68,-206.2 351.26,-193.7 346.14,-180 338.54,-159.64 344.59,-135.47 351.82,-117.46\"/>\n",
       "<polygon fill=\"black\" stroke=\"black\" points=\"355.09,-118.72 355.87,-108.15 348.67,-115.92 355.09,-118.72\"/>\n",
       "</g>\n",
       "<!-- signups&#45;&gt;df_to_sql_build_result -->\n",
       "<g id=\"edge13\" class=\"edge\">\n",
       "<title>signups&#45;&gt;df_to_sql_build_result</title>\n",
       "<path fill=\"none\" stroke=\"black\" d=\"M358.24,-215.87C306.64,-189.79 208.48,-140.19 152.66,-111.98\"/>\n",
       "<polygon fill=\"black\" stroke=\"black\" points=\"153.92,-108.7 143.42,-107.31 150.77,-114.95 153.92,-108.7\"/>\n",
       "</g>\n",
       "<!-- signups&#45;&gt;df_to_xml_build_result -->\n",
       "<g id=\"edge18\" class=\"edge\">\n",
       "<title>signups&#45;&gt;df_to_xml_build_result</title>\n",
       "<path fill=\"none\" stroke=\"black\" d=\"M382.75,-215.92C373.43,-196.38 362.68,-164.43 379.14,-144 389.12,-131.61 468.2,-115.91 533.48,-104.82\"/>\n",
       "<polygon fill=\"black\" stroke=\"black\" points=\"534.13,-108.26 543.41,-103.15 532.97,-101.36 534.13,-108.26\"/>\n",
       "</g>\n",
       "<!-- signups&#45;&gt;df_to_html_build_result -->\n",
       "<g id=\"edge31\" class=\"edge\">\n",
       "<title>signups&#45;&gt;df_to_html_build_result</title>\n",
       "<path fill=\"none\" stroke=\"black\" d=\"M451.71,-229C589.4,-219.53 921.61,-195.42 970.14,-180 1016.48,-165.27 1064.07,-134.99 1093.85,-113.86\"/>\n",
       "<polygon fill=\"black\" stroke=\"black\" points=\"1096.06,-116.58 1102.13,-107.9 1091.97,-110.9 1096.06,-116.58\"/>\n",
       "</g>\n",
       "<!-- signups&#45;&gt;df_to_json_build_result -->\n",
       "<g id=\"edge36\" class=\"edge\">\n",
       "<title>signups&#45;&gt;df_to_json_build_result</title>\n",
       "<path fill=\"none\" stroke=\"black\" d=\"M451.8,-229.5C592.69,-220.94 935.45,-198.34 952.14,-180 962.91,-168.17 959.75,-158.07 952.14,-144 944.93,-130.67 932.75,-120.15 919.99,-112.12\"/>\n",
       "<polygon fill=\"black\" stroke=\"black\" points=\"921.52,-108.96 911.12,-106.96 918,-115.01 921.52,-108.96\"/>\n",
       "</g>\n",
       "<!-- spend_std_dev&#45;&gt;spend_zero_mean_unit_variance -->\n",
       "<g id=\"edge6\" class=\"edge\">\n",
       "<title>spend_std_dev&#45;&gt;spend_zero_mean_unit_variance</title>\n",
       "<path fill=\"none\" stroke=\"black\" d=\"M902.73,-287.73C901.58,-268.86 897.56,-238.35 884.14,-216 877.35,-204.69 867.26,-194.64 857.14,-186.42\"/>\n",
       "<polygon fill=\"black\" stroke=\"black\" points=\"859.14,-183.54 849.08,-180.23 854.87,-189.1 859.14,-183.54\"/>\n",
       "</g>\n",
       "<!-- df_to_json -->\n",
       "<g id=\"node11\" class=\"node\">\n",
       "<title>df_to_json</title>\n",
       "<polygon fill=\"none\" stroke=\"black\" points=\"915.14,-36 827.14,-36 827.14,0 915.14,0 915.14,-36\"/>\n",
       "<text text-anchor=\"middle\" x=\"871.14\" y=\"-14.3\" font-family=\"Times,serif\" font-size=\"14.00\">df_to_json</text>\n",
       "</g>\n",
       "<!-- df_to_html -->\n",
       "<g id=\"node13\" class=\"node\">\n",
       "<title>df_to_html</title>\n",
       "<polygon fill=\"none\" stroke=\"black\" points=\"1170.14,-36 1078.14,-36 1078.14,0 1170.14,0 1170.14,-36\"/>\n",
       "<text text-anchor=\"middle\" x=\"1124.14\" y=\"-14.3\" font-family=\"Times,serif\" font-size=\"14.00\">df_to_html</text>\n",
       "</g>\n",
       "<!-- avg_3wk_spend&#45;&gt;df_to_pickle_build_result -->\n",
       "<g id=\"edge9\" class=\"edge\">\n",
       "<title>avg_3wk_spend&#45;&gt;df_to_pickle_build_result</title>\n",
       "<path fill=\"none\" stroke=\"black\" d=\"M555.06,-143.97C517.1,-133.38 468.34,-119.78 429.74,-109.01\"/>\n",
       "<polygon fill=\"black\" stroke=\"black\" points=\"430.22,-105.52 419.65,-106.2 428.34,-112.26 430.22,-105.52\"/>\n",
       "</g>\n",
       "<!-- avg_3wk_spend&#45;&gt;df_to_sql_build_result -->\n",
       "<g id=\"edge14\" class=\"edge\">\n",
       "<title>avg_3wk_spend&#45;&gt;df_to_sql_build_result</title>\n",
       "<path fill=\"none\" stroke=\"black\" d=\"M552.05,-145.82C548.71,-145.17 545.39,-144.56 542.14,-144 405.01,-120.39 369.15,-125.76 231.14,-108 221.36,-106.74 211.13,-105.37 200.96,-103.98\"/>\n",
       "<polygon fill=\"black\" stroke=\"black\" points=\"201.2,-100.48 190.82,-102.58 200.25,-107.41 201.2,-100.48\"/>\n",
       "</g>\n",
       "<!-- avg_3wk_spend&#45;&gt;df_to_xml_build_result -->\n",
       "<g id=\"edge19\" class=\"edge\">\n",
       "<title>avg_3wk_spend&#45;&gt;df_to_xml_build_result</title>\n",
       "<path fill=\"none\" stroke=\"black\" d=\"M617.62,-143.7C618.28,-135.98 619.08,-126.71 619.82,-118.11\"/>\n",
       "<polygon fill=\"black\" stroke=\"black\" points=\"623.31,-118.37 620.67,-108.1 616.33,-117.77 623.31,-118.37\"/>\n",
       "</g>\n",
       "<!-- avg_3wk_spend&#45;&gt;df_to_html_build_result -->\n",
       "<g id=\"edge32\" class=\"edge\">\n",
       "<title>avg_3wk_spend&#45;&gt;df_to_html_build_result</title>\n",
       "<path fill=\"none\" stroke=\"black\" d=\"M680.15,-145.67C683.18,-145.07 686.19,-144.51 689.14,-144 824.47,-120.38 859.82,-125.04 996.14,-108 1006.61,-106.69 1017.57,-105.29 1028.46,-103.87\"/>\n",
       "<polygon fill=\"black\" stroke=\"black\" points=\"1028.98,-107.33 1038.44,-102.57 1028.07,-100.39 1028.98,-107.33\"/>\n",
       "</g>\n",
       "<!-- avg_3wk_spend&#45;&gt;df_to_json_build_result -->\n",
       "<g id=\"edge37\" class=\"edge\">\n",
       "<title>avg_3wk_spend&#45;&gt;df_to_json_build_result</title>\n",
       "<path fill=\"none\" stroke=\"black\" d=\"M678.19,-143.97C717.2,-133.26 767.42,-119.47 806.84,-108.65\"/>\n",
       "<polygon fill=\"black\" stroke=\"black\" points=\"807.9,-111.99 816.62,-105.97 806.05,-105.24 807.9,-111.99\"/>\n",
       "</g>\n",
       "<!-- spend_zero_mean&#45;&gt;spend_zero_mean_unit_variance -->\n",
       "<g id=\"edge5\" class=\"edge\">\n",
       "<title>spend_zero_mean&#45;&gt;spend_zero_mean_unit_variance</title>\n",
       "<path fill=\"none\" stroke=\"black\" d=\"M791.58,-216.05C796.06,-208.01 801.53,-198.2 806.53,-189.23\"/>\n",
       "<polygon fill=\"black\" stroke=\"black\" points=\"809.71,-190.71 811.52,-180.28 803.59,-187.31 809.71,-190.71\"/>\n",
       "</g>\n",
       "<!-- df_to_html_build_result&#45;&gt;df_to_html -->\n",
       "<g id=\"edge25\" class=\"edge\">\n",
       "<title>df_to_html_build_result&#45;&gt;df_to_html</title>\n",
       "<path fill=\"none\" stroke=\"black\" d=\"M1124.14,-71.7C1124.14,-63.98 1124.14,-54.71 1124.14,-46.11\"/>\n",
       "<polygon fill=\"black\" stroke=\"black\" points=\"1127.64,-46.1 1124.14,-36.1 1120.64,-46.1 1127.64,-46.1\"/>\n",
       "</g>\n",
       "<!-- df_to_json_build_result&#45;&gt;df_to_json -->\n",
       "<g id=\"edge23\" class=\"edge\">\n",
       "<title>df_to_json_build_result&#45;&gt;df_to_json</title>\n",
       "<path fill=\"none\" stroke=\"black\" d=\"M871.14,-71.7C871.14,-63.98 871.14,-54.71 871.14,-46.11\"/>\n",
       "<polygon fill=\"black\" stroke=\"black\" points=\"874.64,-46.1 871.14,-36.1 867.64,-46.1 874.64,-46.1\"/>\n",
       "</g>\n",
       "</g>\n",
       "</svg>\n"
      ],
      "text/plain": [
       "<graphviz.graphs.Digraph at 0x7faa85c976d0>"
      ]
     },
     "execution_count": 32,
     "metadata": {},
     "output_type": "execute_result"
    }
   ],
   "source": [
    "materializers = [\n",
    "    # materialize the dataframe to a pickle file\n",
    "    to.pickle(\n",
    "        dependencies=output_columns,\n",
    "        id=\"df_to_pickle\",\n",
    "        path=\"./df.pkl\",\n",
    "        combine=df_builder,\n",
    "    ),\n",
    "    # materialize the dataframe to a JSON file\n",
    "    to.json(\n",
    "        dependencies=output_columns,\n",
    "        id=\"df_to_json\",\n",
    "        filepath_or_buffer=\"./df.json\",\n",
    "        combine=df_builder,\n",
    "    ),\n",
    "    to.sql(\n",
    "        dependencies=output_columns,\n",
    "        id=\"df_to_sql\",\n",
    "        table_name=\"test\",\n",
    "        db_connection=conn,\n",
    "        combine=df_builder,\n",
    "    ),\n",
    "    # materialize the dataframe to a XML file\n",
    "    to.xml(\n",
    "        dependencies=output_columns,\n",
    "        id=\"df_to_xml\",\n",
    "        path_or_buffer=\"./df.xml\",\n",
    "        combine=df_builder,\n",
    "    ),\n",
    "    to.html(\n",
    "        dependencies=output_columns,\n",
    "        id=\"df_to_html\",\n",
    "        buf=\"./df.html\",\n",
    "        combine=df_builder,\n",
    "    ),\n",
    "]\n",
    "# Visualize what is happening\n",
    "dr.visualize_materialization(\n",
    "    *materializers,\n",
    "    additional_vars=output_columns,\n",
    "    inputs=initial_columns,\n",
    ")"
   ]
  },
  {
   "cell_type": "code",
   "execution_count": 33,
   "metadata": {
    "ExecuteTime": {
     "end_time": "2023-09-17T05:43:34.026203Z",
     "start_time": "2023-09-17T05:43:34.016610Z"
    }
   },
   "outputs": [],
   "source": [
    "# Materialize a result, i.e. execute the DAG!\n",
    "materialization_results, additional_outputs = dr.materialize(\n",
    "    *materializers,\n",
    "    additional_vars=[\n",
    "        \"df_to_pickle_build_result\",\n",
    "        \"df_to_json_build_result\",\n",
    "        \"df_to_sql_build_result\",\n",
    "        \"df_to_xml_build_result\",\n",
    "        \"df_to_html_build_result\",\n",
    "    ],  # because combine is used, we can get that result here.\n",
    "    inputs=initial_columns,\n",
    ")"
   ]
  },
  {
   "cell_type": "code",
   "execution_count": 34,
   "metadata": {
    "ExecuteTime": {
     "end_time": "2023-09-17T05:43:34.041466Z",
     "start_time": "2023-09-17T05:43:34.028346Z"
    }
   },
   "outputs": [
    {
     "data": {
      "text/plain": [
       "{'df_to_pickle': {'size': 1088,\n",
       "  'path': './df.pkl',\n",
       "  'last_modified': 1695347027.167039,\n",
       "  'timestamp': 1695372227.170665},\n",
       " 'df_to_json': {'size': 428,\n",
       "  'path': './df.json',\n",
       "  'last_modified': 1695347027.1710389,\n",
       "  'timestamp': 1695372227.172465},\n",
       " 'df_to_sql': {'rows': 6,\n",
       "  'query': None,\n",
       "  'table_name': 'test2',\n",
       "  'timestamp': 1695372227.184442},\n",
       " 'df_to_xml': {'size': 1622,\n",
       "  'path': './df.xml',\n",
       "  'last_modified': 1695347027.1950386,\n",
       "  'timestamp': 1695372227.199781},\n",
       " 'df_to_html': {'size': 1145,\n",
       "  'path': './df.html',\n",
       "  'last_modified': 1695347027.1990385,\n",
       "  'timestamp': 1695372227.202998}}"
      ]
     },
     "execution_count": 34,
     "metadata": {},
     "output_type": "execute_result"
    }
   ],
   "source": [
    "materialization_results"
   ]
  },
  {
   "cell_type": "code",
   "execution_count": 35,
   "metadata": {
    "ExecuteTime": {
     "end_time": "2023-09-17T05:43:34.051151Z",
     "start_time": "2023-09-17T05:43:34.043320Z"
    }
   },
   "outputs": [
    {
     "data": {
      "text/html": [
       "<div>\n",
       "<style scoped>\n",
       "    .dataframe tbody tr th:only-of-type {\n",
       "        vertical-align: middle;\n",
       "    }\n",
       "\n",
       "    .dataframe tbody tr th {\n",
       "        vertical-align: top;\n",
       "    }\n",
       "\n",
       "    .dataframe thead th {\n",
       "        text-align: right;\n",
       "    }\n",
       "</style>\n",
       "<table border=\"1\" class=\"dataframe\">\n",
       "  <thead>\n",
       "    <tr style=\"text-align: right;\">\n",
       "      <th></th>\n",
       "      <th>spend</th>\n",
       "      <th>signups</th>\n",
       "      <th>avg_3wk_spend</th>\n",
       "      <th>spend_per_signup</th>\n",
       "      <th>spend_zero_mean_unit_variance</th>\n",
       "    </tr>\n",
       "  </thead>\n",
       "  <tbody>\n",
       "    <tr>\n",
       "      <th>0</th>\n",
       "      <td>10</td>\n",
       "      <td>1</td>\n",
       "      <td>NaN</td>\n",
       "      <td>10.000</td>\n",
       "      <td>-1.064405</td>\n",
       "    </tr>\n",
       "    <tr>\n",
       "      <th>1</th>\n",
       "      <td>10</td>\n",
       "      <td>10</td>\n",
       "      <td>NaN</td>\n",
       "      <td>1.000</td>\n",
       "      <td>-1.064405</td>\n",
       "    </tr>\n",
       "    <tr>\n",
       "      <th>2</th>\n",
       "      <td>20</td>\n",
       "      <td>50</td>\n",
       "      <td>13.333333</td>\n",
       "      <td>0.400</td>\n",
       "      <td>-0.483821</td>\n",
       "    </tr>\n",
       "    <tr>\n",
       "      <th>3</th>\n",
       "      <td>40</td>\n",
       "      <td>100</td>\n",
       "      <td>23.333333</td>\n",
       "      <td>0.400</td>\n",
       "      <td>0.677349</td>\n",
       "    </tr>\n",
       "    <tr>\n",
       "      <th>4</th>\n",
       "      <td>40</td>\n",
       "      <td>200</td>\n",
       "      <td>33.333333</td>\n",
       "      <td>0.200</td>\n",
       "      <td>0.677349</td>\n",
       "    </tr>\n",
       "    <tr>\n",
       "      <th>5</th>\n",
       "      <td>50</td>\n",
       "      <td>400</td>\n",
       "      <td>43.333333</td>\n",
       "      <td>0.125</td>\n",
       "      <td>1.257934</td>\n",
       "    </tr>\n",
       "  </tbody>\n",
       "</table>\n",
       "</div>"
      ],
      "text/plain": [
       "   spend  signups  avg_3wk_spend  spend_per_signup  \\\n",
       "0     10        1            NaN            10.000   \n",
       "1     10       10            NaN             1.000   \n",
       "2     20       50      13.333333             0.400   \n",
       "3     40      100      23.333333             0.400   \n",
       "4     40      200      33.333333             0.200   \n",
       "5     50      400      43.333333             0.125   \n",
       "\n",
       "   spend_zero_mean_unit_variance  \n",
       "0                      -1.064405  \n",
       "1                      -1.064405  \n",
       "2                      -0.483821  \n",
       "3                       0.677349  \n",
       "4                       0.677349  \n",
       "5                       1.257934  "
      ]
     },
     "execution_count": 35,
     "metadata": {},
     "output_type": "execute_result"
    }
   ],
   "source": [
    "additional_outputs[\"df_to_pickle_build_result\"]"
   ]
  },
  {
   "cell_type": "code",
   "execution_count": 36,
   "metadata": {
    "ExecuteTime": {
     "end_time": "2023-09-17T05:43:34.058608Z",
     "start_time": "2023-09-17T05:43:34.048662Z"
    },
    "pycharm": {
     "name": "#%%\n"
    }
   },
   "outputs": [
    {
     "data": {
      "text/html": [
       "<div>\n",
       "<style scoped>\n",
       "    .dataframe tbody tr th:only-of-type {\n",
       "        vertical-align: middle;\n",
       "    }\n",
       "\n",
       "    .dataframe tbody tr th {\n",
       "        vertical-align: top;\n",
       "    }\n",
       "\n",
       "    .dataframe thead th {\n",
       "        text-align: right;\n",
       "    }\n",
       "</style>\n",
       "<table border=\"1\" class=\"dataframe\">\n",
       "  <thead>\n",
       "    <tr style=\"text-align: right;\">\n",
       "      <th></th>\n",
       "      <th>spend</th>\n",
       "      <th>signups</th>\n",
       "      <th>avg_3wk_spend</th>\n",
       "      <th>spend_per_signup</th>\n",
       "      <th>spend_zero_mean_unit_variance</th>\n",
       "    </tr>\n",
       "  </thead>\n",
       "  <tbody>\n",
       "    <tr>\n",
       "      <th>0</th>\n",
       "      <td>10</td>\n",
       "      <td>1</td>\n",
       "      <td>NaN</td>\n",
       "      <td>10.000</td>\n",
       "      <td>-1.064405</td>\n",
       "    </tr>\n",
       "    <tr>\n",
       "      <th>1</th>\n",
       "      <td>10</td>\n",
       "      <td>10</td>\n",
       "      <td>NaN</td>\n",
       "      <td>1.000</td>\n",
       "      <td>-1.064405</td>\n",
       "    </tr>\n",
       "    <tr>\n",
       "      <th>2</th>\n",
       "      <td>20</td>\n",
       "      <td>50</td>\n",
       "      <td>13.333333</td>\n",
       "      <td>0.400</td>\n",
       "      <td>-0.483821</td>\n",
       "    </tr>\n",
       "    <tr>\n",
       "      <th>3</th>\n",
       "      <td>40</td>\n",
       "      <td>100</td>\n",
       "      <td>23.333333</td>\n",
       "      <td>0.400</td>\n",
       "      <td>0.677349</td>\n",
       "    </tr>\n",
       "    <tr>\n",
       "      <th>4</th>\n",
       "      <td>40</td>\n",
       "      <td>200</td>\n",
       "      <td>33.333333</td>\n",
       "      <td>0.200</td>\n",
       "      <td>0.677349</td>\n",
       "    </tr>\n",
       "    <tr>\n",
       "      <th>5</th>\n",
       "      <td>50</td>\n",
       "      <td>400</td>\n",
       "      <td>43.333333</td>\n",
       "      <td>0.125</td>\n",
       "      <td>1.257934</td>\n",
       "    </tr>\n",
       "  </tbody>\n",
       "</table>\n",
       "</div>"
      ],
      "text/plain": [
       "   spend  signups  avg_3wk_spend  spend_per_signup  \\\n",
       "0     10        1            NaN            10.000   \n",
       "1     10       10            NaN             1.000   \n",
       "2     20       50      13.333333             0.400   \n",
       "3     40      100      23.333333             0.400   \n",
       "4     40      200      33.333333             0.200   \n",
       "5     50      400      43.333333             0.125   \n",
       "\n",
       "   spend_zero_mean_unit_variance  \n",
       "0                      -1.064405  \n",
       "1                      -1.064405  \n",
       "2                      -0.483821  \n",
       "3                       0.677349  \n",
       "4                       0.677349  \n",
       "5                       1.257934  "
      ]
     },
     "execution_count": 36,
     "metadata": {},
     "output_type": "execute_result"
    }
   ],
   "source": [
    "additional_outputs[\"df_to_json_build_result\"]"
   ]
  },
  {
   "cell_type": "code",
   "execution_count": 37,
   "metadata": {
    "ExecuteTime": {
     "end_time": "2023-09-17T05:43:34.089706Z",
     "start_time": "2023-09-17T05:43:34.060251Z"
    },
    "collapsed": false
   },
   "outputs": [
    {
     "name": "stdout",
     "output_type": "stream",
     "text": [
      "   spend  signups  avg_3wk_spend  spend_per_signup  \\\n",
      "0     10        1            NaN            10.000   \n",
      "1     10       10            NaN             1.000   \n",
      "2     20       50      13.333333             0.400   \n",
      "3     40      100      23.333333             0.400   \n",
      "4     40      200      33.333333             0.200   \n",
      "5     50      400      43.333333             0.125   \n",
      "\n",
      "   spend_zero_mean_unit_variance  \n",
      "0                      -1.064405  \n",
      "1                      -1.064405  \n",
      "2                      -0.483821  \n",
      "3                       0.677349  \n",
      "4                       0.677349  \n",
      "5                       1.257934  \n"
     ]
    }
   ],
   "source": [
    "print(additional_outputs[\"df_to_sql_build_result\"])"
   ]
  },
  {
   "cell_type": "code",
   "execution_count": 38,
   "metadata": {},
   "outputs": [
    {
     "name": "stdout",
     "output_type": "stream",
     "text": [
      "   spend  signups  avg_3wk_spend  spend_per_signup  \\\n",
      "0     10        1            NaN            10.000   \n",
      "1     10       10            NaN             1.000   \n",
      "2     20       50      13.333333             0.400   \n",
      "3     40      100      23.333333             0.400   \n",
      "4     40      200      33.333333             0.200   \n",
      "5     50      400      43.333333             0.125   \n",
      "\n",
      "   spend_zero_mean_unit_variance  \n",
      "0                      -1.064405  \n",
      "1                      -1.064405  \n",
      "2                      -0.483821  \n",
      "3                       0.677349  \n",
      "4                       0.677349  \n",
      "5                       1.257934  \n"
     ]
    }
   ],
   "source": [
    "print(additional_outputs[\"df_to_xml_build_result\"])"
   ]
  },
  {
   "cell_type": "code",
   "execution_count": 39,
   "metadata": {},
   "outputs": [
    {
     "name": "stdout",
     "output_type": "stream",
     "text": [
      "   spend  signups  avg_3wk_spend  spend_per_signup  \\\n",
      "0     10        1            NaN            10.000   \n",
      "1     10       10            NaN             1.000   \n",
      "2     20       50      13.333333             0.400   \n",
      "3     40      100      23.333333             0.400   \n",
      "4     40      200      33.333333             0.200   \n",
      "5     50      400      43.333333             0.125   \n",
      "\n",
      "   spend_zero_mean_unit_variance  \n",
      "0                      -1.064405  \n",
      "1                      -1.064405  \n",
      "2                      -0.483821  \n",
      "3                       0.677349  \n",
      "4                       0.677349  \n",
      "5                       1.257934  \n"
     ]
    }
   ],
   "source": [
    "print(additional_outputs[\"df_to_html_build_result\"])"
   ]
  },
  {
   "cell_type": "code",
   "execution_count": 40,
   "metadata": {
    "ExecuteTime": {
     "end_time": "2023-09-17T05:43:34.090208Z",
     "start_time": "2023-09-17T05:43:34.066483Z"
    },
    "collapsed": false
   },
   "outputs": [],
   "source": [
    "# closing out db connection\n",
    "conn.close()"
   ]
  }
 ],
 "metadata": {
  "kernelspec": {
   "display_name": "Python 3 (ipykernel)",
   "language": "python",
   "name": "python3"
  },
  "language_info": {
   "codemirror_mode": {
    "name": "ipython",
    "version": 3
   },
   "file_extension": ".py",
   "mimetype": "text/x-python",
   "name": "python",
   "nbconvert_exporter": "python",
   "pygments_lexer": "ipython3",
   "version": "3.10.12"
  }
 },
 "nbformat": 4,
 "nbformat_minor": 4
}
