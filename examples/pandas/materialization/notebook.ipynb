{
 "cells": [
  {
   "cell_type": "code",
   "execution_count": 76,
   "metadata": {
    "ExecuteTime": {
     "end_time": "2023-09-17T05:43:33.890006Z",
     "start_time": "2023-09-17T05:43:33.866292Z"
    }
   },
   "outputs": [],
   "source": [
    "import sqlite3\n",
    "\n",
    "import pandas as pd\n",
    "\n",
    "from hamilton import base, driver\n",
    "from hamilton.io.materialization import to"
   ]
  },
  {
   "cell_type": "code",
   "execution_count": 77,
   "metadata": {
    "pycharm": {
     "name": "#%%\n"
    },
    "ExecuteTime": {
     "end_time": "2023-09-17T05:43:33.890336Z",
     "start_time": "2023-09-17T05:43:33.869093Z"
    }
   },
   "outputs": [
    {
     "name": "stdout",
     "output_type": "stream",
     "text": [
      "The autoreload extension is already loaded. To reload it, use:\n",
      "  %reload_ext autoreload\n"
     ]
    }
   ],
   "source": [
    "# We use the autoreload extension that comes with ipython to automatically reload modules when\n",
    "# the code in them changes.\n",
    "\n",
    "# import the jupyter extension\n",
    "%load_ext autoreload\n",
    "# set it to only reload the modules imported\n",
    "%autoreload 1"
   ]
  },
  {
   "cell_type": "code",
   "execution_count": 78,
   "metadata": {
    "pycharm": {
     "name": "#%%\n"
    },
    "ExecuteTime": {
     "end_time": "2023-09-17T05:43:33.930823Z",
     "start_time": "2023-09-17T05:43:33.875941Z"
    }
   },
   "outputs": [
    {
     "name": "stdout",
     "output_type": "stream",
     "text": [
      "Overwriting spend_calculations.py\n"
     ]
    }
   ],
   "source": [
    "%%writefile spend_calculations.py\n",
    "\n",
    "import pandas as pd\n",
    "\n",
    "# Define your new Hamilton functions.\n",
    "# The %%writefile magic command creates a new Python module with the functions below.\n",
    "# We will import this later and pass it into our Driver.\n",
    "\n",
    "# Look at `my_functions` to see how these functions connect.\n",
    "def avg_3wk_spend(spend: pd.Series) -> pd.Series:\n",
    "    \"\"\"Rolling 3 week average spend.\"\"\"\n",
    "    return spend.rolling(3).mean()\n",
    "\n",
    "\n",
    "def spend_per_signup(spend: pd.Series, signups: pd.Series) -> pd.Series:\n",
    "    \"\"\"The cost per signup in relation to spend.\"\"\"\n",
    "    return spend / signups\n",
    "\n",
    "\n",
    "def spend_mean(spend: pd.Series) -> float:\n",
    "    \"\"\"Shows function creating a scalar. In this case it computes the mean of the entire column.\"\"\"\n",
    "    return spend.mean()\n",
    "\n",
    "\n",
    "def spend_zero_mean(spend: pd.Series, spend_mean: float) -> pd.Series:\n",
    "    \"\"\"Shows function that takes a scalar. In this case to zero mean spend.\"\"\"\n",
    "    return spend - spend_mean\n",
    "\n",
    "\n",
    "def spend_std_dev(spend: pd.Series) -> float:\n",
    "    \"\"\"Function that computes the standard deviation of the spend column.\"\"\"\n",
    "    return spend.std()\n",
    "\n",
    "\n",
    "def spend_zero_mean_unit_variance(spend_zero_mean: pd.Series, spend_std_dev: float) -> pd.Series:\n",
    "    \"\"\"Function showing one way to make spend have zero mean and unit variance.\"\"\"\n",
    "    return spend_zero_mean / spend_std_dev"
   ]
  },
  {
   "cell_type": "code",
   "execution_count": 79,
   "metadata": {
    "pycharm": {
     "name": "#%%\n"
    },
    "ExecuteTime": {
     "end_time": "2023-09-17T05:43:33.931096Z",
     "start_time": "2023-09-17T05:43:33.881858Z"
    }
   },
   "outputs": [],
   "source": [
    "initial_columns = {  # load from actuals or wherever -- this is our initial data we use as input.\n",
    "    # Note: these values don't have to be all series, they could be a scalar.\n",
    "    \"signups\": pd.Series([1, 10, 50, 100, 200, 400]),\n",
    "    \"spend\": pd.Series([10, 10, 20, 40, 40, 50]),\n",
    "}"
   ]
  },
  {
   "cell_type": "code",
   "execution_count": 80,
   "metadata": {
    "pycharm": {
     "name": "#%%\n"
    },
    "ExecuteTime": {
     "end_time": "2023-09-17T05:43:33.932468Z",
     "start_time": "2023-09-17T05:43:33.887774Z"
    }
   },
   "outputs": [],
   "source": [
    "%aimport spend_calculations\n",
    "\n",
    "df_builder = base.PandasDataFrameResult()\n",
    "dr = driver.Driver({}, spend_calculations)  # can pass in multiple modules"
   ]
  },
  {
   "cell_type": "code",
   "execution_count": 81,
   "metadata": {
    "ExecuteTime": {
     "end_time": "2023-09-17T05:43:33.932900Z",
     "start_time": "2023-09-17T05:43:33.892681Z"
    }
   },
   "outputs": [],
   "source": [
    "# we need to specify what we want in the final dataframe. These can be string names, or function references.\n",
    "output_columns = [\n",
    "    \"spend\",\n",
    "    \"signups\",\n",
    "    \"avg_3wk_spend\",\n",
    "    \"spend_per_signup\",\n",
    "    \"spend_zero_mean_unit_variance\",\n",
    "]"
   ]
  },
  {
   "cell_type": "code",
   "execution_count": 82,
   "outputs": [],
   "source": [
    "# set up db connection for sql materializer below\n",
    "conn = sqlite3.connect(\"df.db\")"
   ],
   "metadata": {
    "collapsed": false,
    "ExecuteTime": {
     "end_time": "2023-09-17T05:43:33.933121Z",
     "start_time": "2023-09-17T05:43:33.896779Z"
    }
   }
  },
  {
   "cell_type": "code",
   "execution_count": 83,
   "metadata": {
    "ExecuteTime": {
     "end_time": "2023-09-17T05:43:34.014270Z",
     "start_time": "2023-09-17T05:43:33.912979Z"
    }
   },
   "outputs": [
    {
     "data": {
      "image/svg+xml": "<?xml version=\"1.0\" encoding=\"UTF-8\" standalone=\"no\"?>\n<!DOCTYPE svg PUBLIC \"-//W3C//DTD SVG 1.1//EN\"\n \"http://www.w3.org/Graphics/SVG/1.1/DTD/svg11.dtd\">\n<!-- Generated by graphviz version 8.1.0 (20230707.0739)\n -->\n<!-- Pages: 1 -->\n<svg width=\"652pt\" height=\"404pt\"\n viewBox=\"0.00 0.00 652.29 404.00\" xmlns=\"http://www.w3.org/2000/svg\" xmlns:xlink=\"http://www.w3.org/1999/xlink\">\n<g id=\"graph0\" class=\"graph\" transform=\"scale(1 1) rotate(0) translate(4 400)\">\n<polygon fill=\"white\" stroke=\"none\" points=\"-4,4 -4,-400 648.29,-400 648.29,4 -4,4\"/>\n<!-- spend_zero_mean -->\n<g id=\"node1\" class=\"node\">\n<title>spend_zero_mean</title>\n<ellipse fill=\"none\" stroke=\"black\" cx=\"428.95\" cy=\"-234\" rx=\"77.97\" ry=\"18\"/>\n<text text-anchor=\"middle\" x=\"428.95\" y=\"-228.95\" font-family=\"Times,serif\" font-size=\"14.00\">spend_zero_mean</text>\n</g>\n<!-- spend_zero_mean_unit_variance -->\n<g id=\"node7\" class=\"node\">\n<title>spend_zero_mean_unit_variance</title>\n<polygon fill=\"none\" stroke=\"black\" points=\"480.2,-180 285.7,-180 285.7,-144 480.2,-144 480.2,-180\"/>\n<text text-anchor=\"middle\" x=\"382.95\" y=\"-156.95\" font-family=\"Times,serif\" font-size=\"14.00\">spend_zero_mean_unit_variance</text>\n</g>\n<!-- spend_zero_mean&#45;&gt;spend_zero_mean_unit_variance -->\n<g id=\"edge8\" class=\"edge\">\n<title>spend_zero_mean&#45;&gt;spend_zero_mean_unit_variance</title>\n<path fill=\"none\" stroke=\"black\" d=\"M417.58,-215.7C412.34,-207.73 406.01,-198.1 400.21,-189.26\"/>\n<polygon fill=\"black\" stroke=\"black\" points=\"402.61,-187.54 394.19,-181.1 396.76,-191.38 402.61,-187.54\"/>\n</g>\n<!-- spend_mean -->\n<g id=\"node2\" class=\"node\">\n<title>spend_mean</title>\n<ellipse fill=\"none\" stroke=\"black\" cx=\"409.95\" cy=\"-306\" rx=\"57.49\" ry=\"18\"/>\n<text text-anchor=\"middle\" x=\"409.95\" y=\"-300.95\" font-family=\"Times,serif\" font-size=\"14.00\">spend_mean</text>\n</g>\n<!-- spend_mean&#45;&gt;spend_zero_mean -->\n<g id=\"edge2\" class=\"edge\">\n<title>spend_mean&#45;&gt;spend_zero_mean</title>\n<path fill=\"none\" stroke=\"black\" d=\"M414.65,-287.7C416.69,-280.15 419.15,-271.12 421.44,-262.68\"/>\n<polygon fill=\"black\" stroke=\"black\" points=\"425.07,-263.67 424.31,-253.1 418.31,-261.84 425.07,-263.67\"/>\n</g>\n<!-- df_to_pickle -->\n<g id=\"node3\" class=\"node\">\n<title>df_to_pickle</title>\n<polygon fill=\"none\" stroke=\"black\" points=\"364.07,-36 279.82,-36 279.82,0 364.07,0 364.07,-36\"/>\n<text text-anchor=\"middle\" x=\"321.95\" y=\"-12.95\" font-family=\"Times,serif\" font-size=\"14.00\">df_to_pickle</text>\n</g>\n<!-- df_to_json -->\n<g id=\"node4\" class=\"node\">\n<title>df_to_json</title>\n<polygon fill=\"none\" stroke=\"black\" points=\"135.82,-36 62.07,-36 62.07,0 135.82,0 135.82,-36\"/>\n<text text-anchor=\"middle\" x=\"98.95\" y=\"-12.95\" font-family=\"Times,serif\" font-size=\"14.00\">df_to_json</text>\n</g>\n<!-- spend_per_signup -->\n<g id=\"node5\" class=\"node\">\n<title>spend_per_signup</title>\n<polygon fill=\"none\" stroke=\"black\" points=\"230.07,-180 115.82,-180 115.82,-144 230.07,-144 230.07,-180\"/>\n<text text-anchor=\"middle\" x=\"172.95\" y=\"-156.95\" font-family=\"Times,serif\" font-size=\"14.00\">spend_per_signup</text>\n</g>\n<!-- df_to_json_build_result -->\n<g id=\"node8\" class=\"node\">\n<title>df_to_json_build_result</title>\n<ellipse fill=\"none\" stroke=\"black\" cx=\"98.95\" cy=\"-90\" rx=\"98.95\" ry=\"18\"/>\n<text text-anchor=\"middle\" x=\"98.95\" y=\"-84.95\" font-family=\"Times,serif\" font-size=\"14.00\">df_to_json_build_result</text>\n</g>\n<!-- spend_per_signup&#45;&gt;df_to_json_build_result -->\n<g id=\"edge13\" class=\"edge\">\n<title>spend_per_signup&#45;&gt;df_to_json_build_result</title>\n<path fill=\"none\" stroke=\"black\" d=\"M154.66,-143.7C145.7,-135.22 134.75,-124.86 124.94,-115.58\"/>\n<polygon fill=\"black\" stroke=\"black\" points=\"127.7,-113.43 118.03,-109.1 122.89,-118.52 127.7,-113.43\"/>\n</g>\n<!-- df_to_pickle_build_result -->\n<g id=\"node9\" class=\"node\">\n<title>df_to_pickle_build_result</title>\n<ellipse fill=\"none\" stroke=\"black\" cx=\"321.95\" cy=\"-90\" rx=\"106.11\" ry=\"18\"/>\n<text text-anchor=\"middle\" x=\"321.95\" y=\"-84.95\" font-family=\"Times,serif\" font-size=\"14.00\">df_to_pickle_build_result</text>\n</g>\n<!-- spend_per_signup&#45;&gt;df_to_pickle_build_result -->\n<g id=\"edge18\" class=\"edge\">\n<title>spend_per_signup&#45;&gt;df_to_pickle_build_result</title>\n<path fill=\"none\" stroke=\"black\" d=\"M210.16,-143.52C230.48,-133.97 255.78,-122.09 277.17,-112.04\"/>\n<polygon fill=\"black\" stroke=\"black\" points=\"278.44,-114.84 286,-107.42 275.46,-108.5 278.44,-114.84\"/>\n</g>\n<!-- df_to_sql_build_result -->\n<g id=\"node11\" class=\"node\">\n<title>df_to_sql_build_result</title>\n<ellipse fill=\"none\" stroke=\"black\" cx=\"549.95\" cy=\"-90\" rx=\"94.34\" ry=\"18\"/>\n<text text-anchor=\"middle\" x=\"549.95\" y=\"-84.95\" font-family=\"Times,serif\" font-size=\"14.00\">df_to_sql_build_result</text>\n</g>\n<!-- spend_per_signup&#45;&gt;df_to_sql_build_result -->\n<g id=\"edge24\" class=\"edge\">\n<title>spend_per_signup&#45;&gt;df_to_sql_build_result</title>\n<path fill=\"none\" stroke=\"black\" d=\"M230.21,-150.37C295.06,-138.33 401.06,-118.65 473.07,-105.27\"/>\n<polygon fill=\"black\" stroke=\"black\" points=\"473.69,-108.53 482.89,-103.27 472.42,-101.65 473.69,-108.53\"/>\n</g>\n<!-- signups -->\n<g id=\"node6\" class=\"node\">\n<title>signups</title>\n<polygon fill=\"none\" stroke=\"black\" stroke-dasharray=\"5,2\" points=\"294.57,-252 201.32,-252 201.32,-216 294.57,-216 294.57,-252\"/>\n<text text-anchor=\"middle\" x=\"247.95\" y=\"-228.95\" font-family=\"Times,serif\" font-size=\"14.00\">Input: signups</text>\n</g>\n<!-- signups&#45;&gt;spend_per_signup -->\n<g id=\"edge7\" class=\"edge\">\n<title>signups&#45;&gt;spend_per_signup</title>\n<path fill=\"none\" stroke=\"black\" d=\"M229.41,-215.7C220.4,-207.28 209.4,-197.02 199.51,-187.79\"/>\n<polygon fill=\"black\" stroke=\"black\" points=\"202.23,-185.61 192.54,-181.35 197.46,-190.73 202.23,-185.61\"/>\n</g>\n<!-- signups&#45;&gt;df_to_json_build_result -->\n<g id=\"edge11\" class=\"edge\">\n<title>signups&#45;&gt;df_to_json_build_result</title>\n<path fill=\"none\" stroke=\"black\" d=\"M200.99,-228.16C169.21,-222.26 129.12,-209.14 106.95,-180 93.9,-162.85 92.66,-138.09 94.25,-119.05\"/>\n<polygon fill=\"black\" stroke=\"black\" points=\"97.82,-119.65 95.49,-109.32 90.87,-118.85 97.82,-119.65\"/>\n</g>\n<!-- signups&#45;&gt;df_to_pickle_build_result -->\n<g id=\"edge16\" class=\"edge\">\n<title>signups&#45;&gt;df_to_pickle_build_result</title>\n<path fill=\"none\" stroke=\"black\" d=\"M251.46,-215.79C255.71,-197.25 263.95,-167.27 276.95,-144 282.51,-134.04 290.1,-124.21 297.46,-115.78\"/>\n<polygon fill=\"black\" stroke=\"black\" points=\"299.53,-118.6 303.66,-108.85 294.35,-113.9 299.53,-118.6\"/>\n</g>\n<!-- signups&#45;&gt;df_to_sql_build_result -->\n<g id=\"edge22\" class=\"edge\">\n<title>signups&#45;&gt;df_to_sql_build_result</title>\n<path fill=\"none\" stroke=\"black\" d=\"M294.73,-224.1C309.79,-221.36 326.55,-218.42 341.95,-216 401.53,-206.63 571.23,-225.39 610.95,-180 629.11,-159.25 606.22,-132.94 583.48,-114.32\"/>\n<polygon fill=\"black\" stroke=\"black\" points=\"585.9,-110.98 575.86,-107.59 581.59,-116.5 585.9,-110.98\"/>\n</g>\n<!-- spend_zero_mean_unit_variance&#45;&gt;df_to_json_build_result -->\n<g id=\"edge14\" class=\"edge\">\n<title>spend_zero_mean_unit_variance&#45;&gt;df_to_json_build_result</title>\n<path fill=\"none\" stroke=\"black\" d=\"M312.02,-143.52C267.55,-132.56 210.54,-118.51 166.69,-107.7\"/>\n<polygon fill=\"black\" stroke=\"black\" points=\"167.67,-104.09 157.13,-105.09 166,-110.88 167.67,-104.09\"/>\n</g>\n<!-- spend_zero_mean_unit_variance&#45;&gt;df_to_pickle_build_result -->\n<g id=\"edge19\" class=\"edge\">\n<title>spend_zero_mean_unit_variance&#45;&gt;df_to_pickle_build_result</title>\n<path fill=\"none\" stroke=\"black\" d=\"M367.87,-143.7C360.63,-135.39 351.82,-125.28 343.86,-116.14\"/>\n<polygon fill=\"black\" stroke=\"black\" points=\"346.06,-114.34 336.85,-109.1 340.79,-118.94 346.06,-114.34\"/>\n</g>\n<!-- spend_zero_mean_unit_variance&#45;&gt;df_to_sql_build_result -->\n<g id=\"edge25\" class=\"edge\">\n<title>spend_zero_mean_unit_variance&#45;&gt;df_to_sql_build_result</title>\n<path fill=\"none\" stroke=\"black\" d=\"M424.66,-143.52C448.08,-133.7 477.4,-121.41 501.79,-111.19\"/>\n<polygon fill=\"black\" stroke=\"black\" points=\"503.04,-114.04 510.91,-106.95 500.33,-107.58 503.04,-114.04\"/>\n</g>\n<!-- df_to_json_build_result&#45;&gt;df_to_json -->\n<g id=\"edge5\" class=\"edge\">\n<title>df_to_json_build_result&#45;&gt;df_to_json</title>\n<path fill=\"none\" stroke=\"black\" d=\"M98.95,-71.7C98.95,-64.24 98.95,-55.32 98.95,-46.97\"/>\n<polygon fill=\"black\" stroke=\"black\" points=\"102.45,-47.1 98.95,-37.1 95.45,-47.1 102.45,-47.1\"/>\n</g>\n<!-- df_to_pickle_build_result&#45;&gt;df_to_pickle -->\n<g id=\"edge4\" class=\"edge\">\n<title>df_to_pickle_build_result&#45;&gt;df_to_pickle</title>\n<path fill=\"none\" stroke=\"black\" d=\"M321.95,-71.7C321.95,-64.24 321.95,-55.32 321.95,-46.97\"/>\n<polygon fill=\"black\" stroke=\"black\" points=\"325.45,-47.1 321.95,-37.1 318.45,-47.1 325.45,-47.1\"/>\n</g>\n<!-- df_to_sql -->\n<g id=\"node10\" class=\"node\">\n<title>df_to_sql</title>\n<polygon fill=\"none\" stroke=\"black\" points=\"583.45,-36 516.45,-36 516.45,0 583.45,0 583.45,-36\"/>\n<text text-anchor=\"middle\" x=\"549.95\" y=\"-12.95\" font-family=\"Times,serif\" font-size=\"14.00\">df_to_sql</text>\n</g>\n<!-- df_to_sql_build_result&#45;&gt;df_to_sql -->\n<g id=\"edge20\" class=\"edge\">\n<title>df_to_sql_build_result&#45;&gt;df_to_sql</title>\n<path fill=\"none\" stroke=\"black\" d=\"M549.95,-71.7C549.95,-64.24 549.95,-55.32 549.95,-46.97\"/>\n<polygon fill=\"black\" stroke=\"black\" points=\"553.45,-47.1 549.95,-37.1 546.45,-47.1 553.45,-47.1\"/>\n</g>\n<!-- spend_std_dev -->\n<g id=\"node12\" class=\"node\">\n<title>spend_std_dev</title>\n<ellipse fill=\"none\" stroke=\"black\" cx=\"268.95\" cy=\"-306\" rx=\"65.68\" ry=\"18\"/>\n<text text-anchor=\"middle\" x=\"268.95\" y=\"-300.95\" font-family=\"Times,serif\" font-size=\"14.00\">spend_std_dev</text>\n</g>\n<!-- spend_std_dev&#45;&gt;spend_zero_mean_unit_variance -->\n<g id=\"edge9\" class=\"edge\">\n<title>spend_std_dev&#45;&gt;spend_zero_mean_unit_variance</title>\n<path fill=\"none\" stroke=\"black\" d=\"M282.47,-288.15C302.25,-263.52 339.22,-217.47 362.38,-188.63\"/>\n<polygon fill=\"black\" stroke=\"black\" points=\"365.56,-191.26 369.09,-181.27 360.1,-186.87 365.56,-191.26\"/>\n</g>\n<!-- spend -->\n<g id=\"node13\" class=\"node\">\n<title>spend</title>\n<polygon fill=\"none\" stroke=\"black\" stroke-dasharray=\"5,2\" points=\"380.7,-396 297.2,-396 297.2,-360 380.7,-360 380.7,-396\"/>\n<text text-anchor=\"middle\" x=\"338.95\" y=\"-372.95\" font-family=\"Times,serif\" font-size=\"14.00\">Input: spend</text>\n</g>\n<!-- spend&#45;&gt;spend_zero_mean -->\n<g id=\"edge1\" class=\"edge\">\n<title>spend&#45;&gt;spend_zero_mean</title>\n<path fill=\"none\" stroke=\"black\" d=\"M381.11,-373.12C413.02,-367.72 454.83,-354.82 475.95,-324 490.21,-303.19 473.44,-277.55 456.1,-259.14\"/>\n<polygon fill=\"black\" stroke=\"black\" points=\"459.26,-257.35 449.72,-252.73 454.3,-262.28 459.26,-257.35\"/>\n</g>\n<!-- spend&#45;&gt;spend_mean -->\n<g id=\"edge3\" class=\"edge\">\n<title>spend&#45;&gt;spend_mean</title>\n<path fill=\"none\" stroke=\"black\" d=\"M356.5,-359.7C365.23,-351.09 375.92,-340.55 385.44,-331.17\"/>\n<polygon fill=\"black\" stroke=\"black\" points=\"387.43,-334.14 392.09,-324.62 382.51,-329.15 387.43,-334.14\"/>\n</g>\n<!-- spend&#45;&gt;spend_per_signup -->\n<g id=\"edge6\" class=\"edge\">\n<title>spend&#45;&gt;spend_per_signup</title>\n<path fill=\"none\" stroke=\"black\" d=\"M296.88,-373.25C263.63,-367.93 218.82,-355.07 193.95,-324 163.64,-286.14 164.59,-226.45 168.47,-191.37\"/>\n<polygon fill=\"black\" stroke=\"black\" points=\"172.06,-191.85 169.85,-181.49 165.12,-190.96 172.06,-191.85\"/>\n</g>\n<!-- spend&#45;&gt;df_to_json_build_result -->\n<g id=\"edge10\" class=\"edge\">\n<title>spend&#45;&gt;df_to_json_build_result</title>\n<path fill=\"none\" stroke=\"black\" d=\"M297,-375.44C251.81,-371.83 179.7,-360.29 129.95,-324 63.33,-275.4 74.33,-225.78 84.95,-144 86.03,-135.69 88.02,-126.84 90.17,-118.79\"/>\n<polygon fill=\"black\" stroke=\"black\" points=\"93.74,-120.02 93.13,-109.44 87.01,-118.09 93.74,-120.02\"/>\n</g>\n<!-- spend&#45;&gt;df_to_pickle_build_result -->\n<g id=\"edge15\" class=\"edge\">\n<title>spend&#45;&gt;df_to_pickle_build_result</title>\n<path fill=\"none\" stroke=\"black\" d=\"M296.85,-373.24C259.93,-367.91 206.83,-355.03 171.95,-324 108.4,-267.47 54.49,-210.96 106.95,-144 115.57,-133 183.8,-117.39 241.12,-105.96\"/>\n<polygon fill=\"black\" stroke=\"black\" points=\"241.54,-109.25 250.68,-103.88 240.19,-102.38 241.54,-109.25\"/>\n</g>\n<!-- spend&#45;&gt;df_to_sql_build_result -->\n<g id=\"edge21\" class=\"edge\">\n<title>spend&#45;&gt;df_to_sql_build_result</title>\n<path fill=\"none\" stroke=\"black\" d=\"M380.86,-372.13C419.32,-366 476.44,-352.59 517.95,-324 584.27,-278.32 602.14,-256.29 627.95,-180 633.08,-164.84 635.44,-158.14 627.95,-144 620.98,-130.84 609.12,-120.35 596.73,-112.28\"/>\n<polygon fill=\"black\" stroke=\"black\" points=\"599.04,-108.99 588.67,-106.83 595.44,-114.99 599.04,-108.99\"/>\n</g>\n<!-- spend&#45;&gt;spend_std_dev -->\n<g id=\"edge26\" class=\"edge\">\n<title>spend&#45;&gt;spend_std_dev</title>\n<path fill=\"none\" stroke=\"black\" d=\"M321.65,-359.7C313.04,-351.09 302.5,-340.55 293.12,-331.17\"/>\n<polygon fill=\"black\" stroke=\"black\" points=\"296.12,-329.22 286.57,-324.62 291.17,-334.17 296.12,-329.22\"/>\n</g>\n<!-- avg_3wk_spend -->\n<g id=\"node14\" class=\"node\">\n<title>avg_3wk_spend</title>\n<polygon fill=\"none\" stroke=\"black\" points=\"601.82,-180 498.07,-180 498.07,-144 601.82,-144 601.82,-180\"/>\n<text text-anchor=\"middle\" x=\"549.95\" y=\"-156.95\" font-family=\"Times,serif\" font-size=\"14.00\">avg_3wk_spend</text>\n</g>\n<!-- spend&#45;&gt;avg_3wk_spend -->\n<g id=\"edge27\" class=\"edge\">\n<title>spend&#45;&gt;avg_3wk_spend</title>\n<path fill=\"none\" stroke=\"black\" d=\"M381.17,-372.39C415.21,-366.56 462.15,-353.43 491.95,-324 528.66,-287.73 542.26,-226.56 547.2,-190.98\"/>\n<polygon fill=\"black\" stroke=\"black\" points=\"550.76,-191.74 548.52,-181.38 543.81,-190.88 550.76,-191.74\"/>\n</g>\n<!-- avg_3wk_spend&#45;&gt;df_to_json_build_result -->\n<g id=\"edge12\" class=\"edge\">\n<title>avg_3wk_spend&#45;&gt;df_to_json_build_result</title>\n<path fill=\"none\" stroke=\"black\" d=\"M497.83,-145.94C494.83,-145.24 491.86,-144.59 488.95,-144 365.1,-118.97 332.04,-125.83 206.95,-108 198.82,-106.84 190.36,-105.59 181.91,-104.31\"/>\n<polygon fill=\"black\" stroke=\"black\" points=\"182.65,-100.73 172.23,-102.68 181.59,-107.65 182.65,-100.73\"/>\n</g>\n<!-- avg_3wk_spend&#45;&gt;df_to_pickle_build_result -->\n<g id=\"edge17\" class=\"edge\">\n<title>avg_3wk_spend&#45;&gt;df_to_pickle_build_result</title>\n<path fill=\"none\" stroke=\"black\" d=\"M497.64,-144.94C463.18,-134.36 417.95,-120.48 382.02,-109.44\"/>\n<polygon fill=\"black\" stroke=\"black\" points=\"383.26,-105.85 372.67,-106.26 381.2,-112.55 383.26,-105.85\"/>\n</g>\n<!-- avg_3wk_spend&#45;&gt;df_to_sql_build_result -->\n<g id=\"edge23\" class=\"edge\">\n<title>avg_3wk_spend&#45;&gt;df_to_sql_build_result</title>\n<path fill=\"none\" stroke=\"black\" d=\"M549.95,-143.7C549.95,-136.24 549.95,-127.32 549.95,-118.97\"/>\n<polygon fill=\"black\" stroke=\"black\" points=\"553.45,-119.1 549.95,-109.1 546.45,-119.1 553.45,-119.1\"/>\n</g>\n</g>\n</svg>\n",
      "text/plain": "<graphviz.graphs.Digraph at 0x175346c10>"
     },
     "execution_count": 83,
     "metadata": {},
     "output_type": "execute_result"
    }
   ],
   "source": [
    "materializers = [\n",
    "    # materialize the dataframe to a pickle file\n",
    "    to.pickle(\n",
    "        dependencies=output_columns,\n",
    "        id=\"df_to_pickle\",\n",
    "        path=\"./df.pkl\",\n",
    "        combine=df_builder,\n",
    "    ),\n",
    "    # materialize the dataframe to a JSON file\n",
    "    to.json(\n",
    "        dependencies=output_columns,\n",
    "        id=\"df_to_json\",\n",
    "        filepath_or_buffer=\"./df.json\",\n",
    "        combine=df_builder,\n",
    "    ),\n",
    "    to.sql(\n",
    "        dependencies=output_columns,\n",
    "        id=\"df_to_sql\",\n",
    "        table_name=\"test\",\n",
    "        db_connection=conn,\n",
    "        combine=df_builder,\n",
    "    ),\n",
    "]\n",
    "# Visualize what is happening\n",
    "dr.visualize_materialization(\n",
    "    *materializers,\n",
    "    additional_vars=output_columns,\n",
    "    inputs=initial_columns,\n",
    ")"
   ]
  },
  {
   "cell_type": "code",
   "execution_count": 84,
   "metadata": {
    "ExecuteTime": {
     "end_time": "2023-09-17T05:43:34.026203Z",
     "start_time": "2023-09-17T05:43:34.016610Z"
    }
   },
   "outputs": [],
   "source": [
    "# Materialize a result, i.e. execute the DAG!\n",
    "materialization_results, additional_outputs = dr.materialize(\n",
    "    *materializers,\n",
    "    additional_vars=[\n",
    "        \"df_to_pickle_build_result\",\n",
    "        \"df_to_json_build_result\",\n",
    "        \"df_to_sql_build_result\",\n",
    "    ],  # because combine is used, we can get that result here.\n",
    "    inputs=initial_columns,\n",
    ")"
   ]
  },
  {
   "cell_type": "code",
   "execution_count": 85,
   "metadata": {
    "ExecuteTime": {
     "end_time": "2023-09-17T05:43:34.041466Z",
     "start_time": "2023-09-17T05:43:34.028346Z"
    }
   },
   "outputs": [
    {
     "data": {
      "text/plain": "{'df_to_pickle': {'size': 1088,\n  'path': './df.pkl',\n  'last_modified': 1694929414.0159032,\n  'timestamp': 1694943814.016074},\n 'df_to_json': {'size': 428,\n  'path': './df.json',\n  'last_modified': 1694929414.0170484,\n  'timestamp': 1694943814.017277},\n 'df_to_sql': {'rows': 6,\n  'query': None,\n  'table_name': 'test',\n  'timestamp': 1694943814.020865}}"
     },
     "execution_count": 85,
     "metadata": {},
     "output_type": "execute_result"
    }
   ],
   "source": [
    "materialization_results"
   ]
  },
  {
   "cell_type": "code",
   "execution_count": 86,
   "metadata": {
    "ExecuteTime": {
     "end_time": "2023-09-17T05:43:34.051151Z",
     "start_time": "2023-09-17T05:43:34.043320Z"
    }
   },
   "outputs": [
    {
     "data": {
      "text/plain": "   spend  signups  avg_3wk_spend  spend_per_signup  \\\n0     10        1            NaN            10.000   \n1     10       10            NaN             1.000   \n2     20       50      13.333333             0.400   \n3     40      100      23.333333             0.400   \n4     40      200      33.333333             0.200   \n5     50      400      43.333333             0.125   \n\n   spend_zero_mean_unit_variance  \n0                      -1.064405  \n1                      -1.064405  \n2                      -0.483821  \n3                       0.677349  \n4                       0.677349  \n5                       1.257934  ",
      "text/html": "<div>\n<style scoped>\n    .dataframe tbody tr th:only-of-type {\n        vertical-align: middle;\n    }\n\n    .dataframe tbody tr th {\n        vertical-align: top;\n    }\n\n    .dataframe thead th {\n        text-align: right;\n    }\n</style>\n<table border=\"1\" class=\"dataframe\">\n  <thead>\n    <tr style=\"text-align: right;\">\n      <th></th>\n      <th>spend</th>\n      <th>signups</th>\n      <th>avg_3wk_spend</th>\n      <th>spend_per_signup</th>\n      <th>spend_zero_mean_unit_variance</th>\n    </tr>\n  </thead>\n  <tbody>\n    <tr>\n      <th>0</th>\n      <td>10</td>\n      <td>1</td>\n      <td>NaN</td>\n      <td>10.000</td>\n      <td>-1.064405</td>\n    </tr>\n    <tr>\n      <th>1</th>\n      <td>10</td>\n      <td>10</td>\n      <td>NaN</td>\n      <td>1.000</td>\n      <td>-1.064405</td>\n    </tr>\n    <tr>\n      <th>2</th>\n      <td>20</td>\n      <td>50</td>\n      <td>13.333333</td>\n      <td>0.400</td>\n      <td>-0.483821</td>\n    </tr>\n    <tr>\n      <th>3</th>\n      <td>40</td>\n      <td>100</td>\n      <td>23.333333</td>\n      <td>0.400</td>\n      <td>0.677349</td>\n    </tr>\n    <tr>\n      <th>4</th>\n      <td>40</td>\n      <td>200</td>\n      <td>33.333333</td>\n      <td>0.200</td>\n      <td>0.677349</td>\n    </tr>\n    <tr>\n      <th>5</th>\n      <td>50</td>\n      <td>400</td>\n      <td>43.333333</td>\n      <td>0.125</td>\n      <td>1.257934</td>\n    </tr>\n  </tbody>\n</table>\n</div>"
     },
     "execution_count": 86,
     "metadata": {},
     "output_type": "execute_result"
    }
   ],
   "source": [
    "additional_outputs[\"df_to_pickle_build_result\"]"
   ]
  },
  {
   "cell_type": "code",
   "execution_count": 87,
   "metadata": {
    "pycharm": {
     "name": "#%%\n"
    },
    "ExecuteTime": {
     "end_time": "2023-09-17T05:43:34.058608Z",
     "start_time": "2023-09-17T05:43:34.048662Z"
    }
   },
   "outputs": [
    {
     "data": {
      "text/plain": "   spend  signups  avg_3wk_spend  spend_per_signup  \\\n0     10        1            NaN            10.000   \n1     10       10            NaN             1.000   \n2     20       50      13.333333             0.400   \n3     40      100      23.333333             0.400   \n4     40      200      33.333333             0.200   \n5     50      400      43.333333             0.125   \n\n   spend_zero_mean_unit_variance  \n0                      -1.064405  \n1                      -1.064405  \n2                      -0.483821  \n3                       0.677349  \n4                       0.677349  \n5                       1.257934  ",
      "text/html": "<div>\n<style scoped>\n    .dataframe tbody tr th:only-of-type {\n        vertical-align: middle;\n    }\n\n    .dataframe tbody tr th {\n        vertical-align: top;\n    }\n\n    .dataframe thead th {\n        text-align: right;\n    }\n</style>\n<table border=\"1\" class=\"dataframe\">\n  <thead>\n    <tr style=\"text-align: right;\">\n      <th></th>\n      <th>spend</th>\n      <th>signups</th>\n      <th>avg_3wk_spend</th>\n      <th>spend_per_signup</th>\n      <th>spend_zero_mean_unit_variance</th>\n    </tr>\n  </thead>\n  <tbody>\n    <tr>\n      <th>0</th>\n      <td>10</td>\n      <td>1</td>\n      <td>NaN</td>\n      <td>10.000</td>\n      <td>-1.064405</td>\n    </tr>\n    <tr>\n      <th>1</th>\n      <td>10</td>\n      <td>10</td>\n      <td>NaN</td>\n      <td>1.000</td>\n      <td>-1.064405</td>\n    </tr>\n    <tr>\n      <th>2</th>\n      <td>20</td>\n      <td>50</td>\n      <td>13.333333</td>\n      <td>0.400</td>\n      <td>-0.483821</td>\n    </tr>\n    <tr>\n      <th>3</th>\n      <td>40</td>\n      <td>100</td>\n      <td>23.333333</td>\n      <td>0.400</td>\n      <td>0.677349</td>\n    </tr>\n    <tr>\n      <th>4</th>\n      <td>40</td>\n      <td>200</td>\n      <td>33.333333</td>\n      <td>0.200</td>\n      <td>0.677349</td>\n    </tr>\n    <tr>\n      <th>5</th>\n      <td>50</td>\n      <td>400</td>\n      <td>43.333333</td>\n      <td>0.125</td>\n      <td>1.257934</td>\n    </tr>\n  </tbody>\n</table>\n</div>"
     },
     "execution_count": 87,
     "metadata": {},
     "output_type": "execute_result"
    }
   ],
   "source": [
    "additional_outputs[\"df_to_json_build_result\"]"
   ]
  },
  {
   "cell_type": "code",
   "execution_count": 88,
   "outputs": [
    {
     "name": "stdout",
     "output_type": "stream",
     "text": [
      "   spend  signups  avg_3wk_spend  spend_per_signup  \\\n",
      "0     10        1            NaN            10.000   \n",
      "1     10       10            NaN             1.000   \n",
      "2     20       50      13.333333             0.400   \n",
      "3     40      100      23.333333             0.400   \n",
      "4     40      200      33.333333             0.200   \n",
      "5     50      400      43.333333             0.125   \n",
      "\n",
      "   spend_zero_mean_unit_variance  \n",
      "0                      -1.064405  \n",
      "1                      -1.064405  \n",
      "2                      -0.483821  \n",
      "3                       0.677349  \n",
      "4                       0.677349  \n",
      "5                       1.257934  \n"
     ]
    }
   ],
   "source": [
    "print(additional_outputs[\"df_to_sql_build_result\"])"
   ],
   "metadata": {
    "collapsed": false,
    "ExecuteTime": {
     "end_time": "2023-09-17T05:43:34.089706Z",
     "start_time": "2023-09-17T05:43:34.060251Z"
    }
   }
  },
  {
   "cell_type": "code",
   "execution_count": 89,
   "outputs": [],
   "source": [
    "# closing out db connection\n",
    "conn.close()"
   ],
   "metadata": {
    "collapsed": false,
    "ExecuteTime": {
     "end_time": "2023-09-17T05:43:34.090208Z",
     "start_time": "2023-09-17T05:43:34.066483Z"
    }
   }
  }
 ],
 "metadata": {
  "kernelspec": {
   "display_name": "Python 3 (ipykernel)",
   "language": "python",
   "name": "python3"
  },
  "language_info": {
   "codemirror_mode": {
    "name": "ipython",
    "version": 3
   },
   "file_extension": ".py",
   "mimetype": "text/x-python",
   "name": "python",
   "nbconvert_exporter": "python",
   "pygments_lexer": "ipython3",
   "version": "3.9.13"
  }
 },
 "nbformat": 4,
 "nbformat_minor": 4
}
