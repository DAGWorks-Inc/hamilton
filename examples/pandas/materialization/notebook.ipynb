{
 "cells": [
  {
   "cell_type": "code",
   "execution_count": 6,
   "metadata": {},
   "outputs": [
    {
     "name": "stdout",
     "output_type": "stream",
     "text": [
      "Defaulting to user installation because normal site-packages is not writeable\n",
      "Requirement already satisfied: pandas in /home/jordan/.local/lib/python3.10/site-packages (2.1.0)\n",
      "Requirement already satisfied: pytz>=2020.1 in /usr/lib/python3/dist-packages (from pandas) (2022.1)\n",
      "Requirement already satisfied: numpy>=1.22.4 in /home/jordan/.local/lib/python3.10/site-packages (from pandas) (1.25.1)\n",
      "Requirement already satisfied: python-dateutil>=2.8.2 in /home/jordan/.local/lib/python3.10/site-packages (from pandas) (2.8.2)\n",
      "Requirement already satisfied: tzdata>=2022.1 in /home/jordan/.local/lib/python3.10/site-packages (from pandas) (2023.3)\n",
      "Requirement already satisfied: six>=1.5 in /usr/lib/python3/dist-packages (from python-dateutil>=2.8.2->pandas) (1.16.0)\n"
     ]
    }
   ],
   "source": [
    "# update the pandas package - optional\n",
    "# !pip install --upgrade pandas"
   ]
  },
  {
   "cell_type": "code",
   "execution_count": 7,
   "metadata": {
    "ExecuteTime": {
     "end_time": "2023-09-17T05:43:33.890006Z",
     "start_time": "2023-09-17T05:43:33.866292Z"
    }
   },
   "outputs": [],
   "source": [
    "import sqlite3\n",
    "import sys\n",
    "import pandas as pd\n",
    "\n",
    "# Add the hamilton module to your path - optinal\n",
    "# project_dir = \"### ADD PATH HERE ###\"\n",
    "# sys.path.append(project_dir)\n",
    "\n",
    "from hamilton import base, driver\n",
    "from hamilton.io.materialization import to"
   ]
  },
  {
   "cell_type": "code",
   "execution_count": 8,
   "metadata": {
    "ExecuteTime": {
     "end_time": "2023-09-17T05:43:33.890336Z",
     "start_time": "2023-09-17T05:43:33.869093Z"
    },
    "pycharm": {
     "name": "#%%\n"
    }
   },
   "outputs": [],
   "source": [
    "# We use the autoreload extension that comes with ipython to automatically reload modules when\n",
    "# the code in them changes.\n",
    "\n",
    "# import the jupyter extension\n",
    "%load_ext autoreload\n",
    "# set it to only reload the modules imported\n",
    "%autoreload 1"
   ]
  },
  {
   "cell_type": "code",
   "execution_count": 9,
   "metadata": {
    "ExecuteTime": {
     "end_time": "2023-09-17T05:43:33.930823Z",
     "start_time": "2023-09-17T05:43:33.875941Z"
    },
    "pycharm": {
     "name": "#%%\n"
    }
   },
   "outputs": [
    {
     "name": "stdout",
     "output_type": "stream",
     "text": [
      "Writing spend_calculations.py\n"
     ]
    }
   ],
   "source": [
    "%%writefile spend_calculations.py\n",
    "# Define your new Hamilton functions.\n",
    "# The %%writefile magic command creates a new Python module with the functions below.\n",
    "# We will import this later and pass it into our Driver.\n",
    "\n",
    "# Look at `my_functions` to see how these functions connect.\n",
    "def avg_3wk_spend(spend: pd.Series) -> pd.Series:\n",
    "    \"\"\"Rolling 3 week average spend.\"\"\"\n",
    "    return spend.rolling(3).mean()\n",
    "\n",
    "\n",
    "def spend_per_signup(spend: pd.Series, signups: pd.Series) -> pd.Series:\n",
    "    \"\"\"The cost per signup in relation to spend.\"\"\"\n",
    "    return spend / signups\n",
    "\n",
    "\n",
    "def spend_mean(spend: pd.Series) -> float:\n",
    "    \"\"\"Shows function creating a scalar. In this case it computes the mean of the entire column.\"\"\"\n",
    "    return spend.mean()\n",
    "\n",
    "\n",
    "def spend_zero_mean(spend: pd.Series, spend_mean: float) -> pd.Series:\n",
    "    \"\"\"Shows function that takes a scalar. In this case to zero mean spend.\"\"\"\n",
    "    return spend - spend_mean\n",
    "\n",
    "\n",
    "def spend_std_dev(spend: pd.Series) -> float:\n",
    "    \"\"\"Function that computes the standard deviation of the spend column.\"\"\"\n",
    "    return spend.std()\n",
    "\n",
    "\n",
    "def spend_zero_mean_unit_variance(spend_zero_mean: pd.Series, spend_std_dev: float) -> pd.Series:\n",
    "    \"\"\"Function showing one way to make spend have zero mean and unit variance.\"\"\"\n",
    "    return spend_zero_mean / spend_std_dev"
   ]
  },
  {
   "cell_type": "code",
   "execution_count": 10,
   "metadata": {
    "ExecuteTime": {
     "end_time": "2023-09-17T05:43:33.931096Z",
     "start_time": "2023-09-17T05:43:33.881858Z"
    },
    "pycharm": {
     "name": "#%%\n"
    }
   },
   "outputs": [],
   "source": [
    "initial_columns = {  # load from actuals or wherever -- this is our initial data we use as input.\n",
    "    # Note: these values don't have to be all series, they could be a scalar.\n",
    "    \"signups\": pd.Series([1, 10, 50, 100, 200, 400]),\n",
    "    \"spend\": pd.Series([10, 10, 20, 40, 40, 50]),\n",
    "}"
   ]
  },
  {
   "cell_type": "code",
   "execution_count": 11,
   "metadata": {
    "ExecuteTime": {
     "end_time": "2023-09-17T05:43:33.932468Z",
     "start_time": "2023-09-17T05:43:33.887774Z"
    },
    "pycharm": {
     "name": "#%%\n"
    }
   },
   "outputs": [
    {
     "name": "stderr",
     "output_type": "stream",
     "text": [
      "Note: Hamilton collects completely anonymous data about usage. This will help us improve Hamilton over time. See https://github.com/dagworks-inc/hamilton#usage-analytics--data-privacy for details.\n"
     ]
    }
   ],
   "source": [
    "%aimport spend_calculations\n",
    "\n",
    "df_builder = base.PandasDataFrameResult()\n",
    "dr = driver.Driver({}, spend_calculations)  # can pass in multiple modules"
   ]
  },
  {
   "cell_type": "code",
   "execution_count": 12,
   "metadata": {
    "ExecuteTime": {
     "end_time": "2023-09-17T05:43:33.932900Z",
     "start_time": "2023-09-17T05:43:33.892681Z"
    }
   },
   "outputs": [],
   "source": [
    "# we need to specify what we want in the final dataframe. These can be string names, or function references.\n",
    "output_columns = [\n",
    "    \"spend\",\n",
    "    \"signups\",\n",
    "    \"avg_3wk_spend\",\n",
    "    \"spend_per_signup\",\n",
    "    \"spend_zero_mean_unit_variance\",\n",
    "]"
   ]
  },
  {
   "cell_type": "code",
   "execution_count": 13,
   "metadata": {
    "ExecuteTime": {
     "end_time": "2023-09-17T05:43:33.933121Z",
     "start_time": "2023-09-17T05:43:33.896779Z"
    },
    "collapsed": false
   },
   "outputs": [],
   "source": [
    "# set up db connection for sql materializer below\n",
    "conn = sqlite3.connect(\"df.db\")"
   ]
  },
  {
   "cell_type": "code",
   "execution_count": 15,
   "metadata": {
    "ExecuteTime": {
     "end_time": "2023-09-17T05:43:34.014270Z",
     "start_time": "2023-09-17T05:43:33.912979Z"
    }
   },
   "outputs": [
    {
     "data": {
      "image/svg+xml": [
       "<?xml version=\"1.0\" encoding=\"UTF-8\" standalone=\"no\"?>\n",
       "<!DOCTYPE svg PUBLIC \"-//W3C//DTD SVG 1.1//EN\"\n",
       " \"http://www.w3.org/Graphics/SVG/1.1/DTD/svg11.dtd\">\n",
       "<!-- Generated by graphviz version 2.43.0 (0)\n",
       " -->\n",
       "<!-- Title: %3 Pages: 1 -->\n",
       "<svg width=\"995pt\" height=\"404pt\"\n",
       " viewBox=\"0.00 0.00 994.53 404.00\" xmlns=\"http://www.w3.org/2000/svg\" xmlns:xlink=\"http://www.w3.org/1999/xlink\">\n",
       "<g id=\"graph0\" class=\"graph\" transform=\"scale(1 1) rotate(0) translate(4 400)\">\n",
       "<title>%3</title>\n",
       "<polygon fill=\"white\" stroke=\"transparent\" points=\"-4,4 -4,-400 990.53,-400 990.53,4 -4,4\"/>\n",
       "<!-- df_to_sql -->\n",
       "<g id=\"node1\" class=\"node\">\n",
       "<title>df_to_sql</title>\n",
       "<polygon fill=\"none\" stroke=\"black\" points=\"151.14,-36 71.14,-36 71.14,0 151.14,0 151.14,-36\"/>\n",
       "<text text-anchor=\"middle\" x=\"111.14\" y=\"-14.3\" font-family=\"Times,serif\" font-size=\"14.00\">df_to_sql</text>\n",
       "</g>\n",
       "<!-- avg_3wk_spend -->\n",
       "<g id=\"node2\" class=\"node\">\n",
       "<title>avg_3wk_spend</title>\n",
       "<polygon fill=\"none\" stroke=\"black\" points=\"585.14,-180 457.14,-180 457.14,-144 585.14,-144 585.14,-180\"/>\n",
       "<text text-anchor=\"middle\" x=\"521.14\" y=\"-158.3\" font-family=\"Times,serif\" font-size=\"14.00\">avg_3wk_spend</text>\n",
       "</g>\n",
       "<!-- df_to_json_build_result -->\n",
       "<g id=\"node3\" class=\"node\">\n",
       "<title>df_to_json_build_result</title>\n",
       "<ellipse fill=\"none\" stroke=\"black\" cx=\"356.14\" cy=\"-90\" rx=\"116.18\" ry=\"18\"/>\n",
       "<text text-anchor=\"middle\" x=\"356.14\" y=\"-86.3\" font-family=\"Times,serif\" font-size=\"14.00\">df_to_json_build_result</text>\n",
       "</g>\n",
       "<!-- avg_3wk_spend&#45;&gt;df_to_json_build_result -->\n",
       "<g id=\"edge5\" class=\"edge\">\n",
       "<title>avg_3wk_spend&#45;&gt;df_to_json_build_result</title>\n",
       "<path fill=\"none\" stroke=\"black\" d=\"M480.78,-143.88C457.45,-133.98 427.97,-121.47 403.54,-111.11\"/>\n",
       "<polygon fill=\"black\" stroke=\"black\" points=\"404.68,-107.79 394.11,-107.11 401.94,-114.23 404.68,-107.79\"/>\n",
       "</g>\n",
       "<!-- df_to_sql_build_result -->\n",
       "<g id=\"node6\" class=\"node\">\n",
       "<title>df_to_sql_build_result</title>\n",
       "<ellipse fill=\"none\" stroke=\"black\" cx=\"111.14\" cy=\"-90\" rx=\"111.28\" ry=\"18\"/>\n",
       "<text text-anchor=\"middle\" x=\"111.14\" y=\"-86.3\" font-family=\"Times,serif\" font-size=\"14.00\">df_to_sql_build_result</text>\n",
       "</g>\n",
       "<!-- avg_3wk_spend&#45;&gt;df_to_sql_build_result -->\n",
       "<g id=\"edge13\" class=\"edge\">\n",
       "<title>avg_3wk_spend&#45;&gt;df_to_sql_build_result</title>\n",
       "<path fill=\"none\" stroke=\"black\" d=\"M457.08,-150.06C386.49,-138.01 272.68,-118.58 195.03,-105.32\"/>\n",
       "<polygon fill=\"black\" stroke=\"black\" points=\"195.24,-101.81 184.79,-103.58 194.06,-108.71 195.24,-101.81\"/>\n",
       "</g>\n",
       "<!-- df_to_pickle_build_result -->\n",
       "<g id=\"node9\" class=\"node\">\n",
       "<title>df_to_pickle_build_result</title>\n",
       "<ellipse fill=\"none\" stroke=\"black\" cx=\"615.14\" cy=\"-90\" rx=\"124.58\" ry=\"18\"/>\n",
       "<text text-anchor=\"middle\" x=\"615.14\" y=\"-86.3\" font-family=\"Times,serif\" font-size=\"14.00\">df_to_pickle_build_result</text>\n",
       "</g>\n",
       "<!-- avg_3wk_spend&#45;&gt;df_to_pickle_build_result -->\n",
       "<g id=\"edge20\" class=\"edge\">\n",
       "<title>avg_3wk_spend&#45;&gt;df_to_pickle_build_result</title>\n",
       "<path fill=\"none\" stroke=\"black\" d=\"M544.38,-143.7C556.42,-134.73 571.28,-123.66 584.28,-113.98\"/>\n",
       "<polygon fill=\"black\" stroke=\"black\" points=\"586.57,-116.64 592.5,-107.86 582.38,-111.03 586.57,-116.64\"/>\n",
       "</g>\n",
       "<!-- df_to_xml_build_result -->\n",
       "<g id=\"node10\" class=\"node\">\n",
       "<title>df_to_xml_build_result</title>\n",
       "<ellipse fill=\"none\" stroke=\"black\" cx=\"872.14\" cy=\"-90\" rx=\"114.28\" ry=\"18\"/>\n",
       "<text text-anchor=\"middle\" x=\"872.14\" y=\"-86.3\" font-family=\"Times,serif\" font-size=\"14.00\">df_to_xml_build_result</text>\n",
       "</g>\n",
       "<!-- avg_3wk_spend&#45;&gt;df_to_xml_build_result -->\n",
       "<g id=\"edge25\" class=\"edge\">\n",
       "<title>avg_3wk_spend&#45;&gt;df_to_xml_build_result</title>\n",
       "<path fill=\"none\" stroke=\"black\" d=\"M585.28,-146.11C588.61,-145.39 591.92,-144.68 595.14,-144 660.54,-130.24 734.96,-116.08 790.17,-105.87\"/>\n",
       "<polygon fill=\"black\" stroke=\"black\" points=\"791.06,-109.26 800.25,-104.01 789.78,-102.38 791.06,-109.26\"/>\n",
       "</g>\n",
       "<!-- df_to_json -->\n",
       "<g id=\"node13\" class=\"node\">\n",
       "<title>df_to_json</title>\n",
       "<polygon fill=\"none\" stroke=\"black\" points=\"400.14,-36 312.14,-36 312.14,0 400.14,0 400.14,-36\"/>\n",
       "<text text-anchor=\"middle\" x=\"356.14\" y=\"-14.3\" font-family=\"Times,serif\" font-size=\"14.00\">df_to_json</text>\n",
       "</g>\n",
       "<!-- df_to_json_build_result&#45;&gt;df_to_json -->\n",
       "<g id=\"edge29\" class=\"edge\">\n",
       "<title>df_to_json_build_result&#45;&gt;df_to_json</title>\n",
       "<path fill=\"none\" stroke=\"black\" d=\"M356.14,-71.7C356.14,-63.98 356.14,-54.71 356.14,-46.11\"/>\n",
       "<polygon fill=\"black\" stroke=\"black\" points=\"359.64,-46.1 356.14,-36.1 352.64,-46.1 359.64,-46.1\"/>\n",
       "</g>\n",
       "<!-- spend_per_signup -->\n",
       "<g id=\"node4\" class=\"node\">\n",
       "<title>spend_per_signup</title>\n",
       "<polygon fill=\"none\" stroke=\"black\" points=\"748.64,-180 603.64,-180 603.64,-144 748.64,-144 748.64,-180\"/>\n",
       "<text text-anchor=\"middle\" x=\"676.14\" y=\"-158.3\" font-family=\"Times,serif\" font-size=\"14.00\">spend_per_signup</text>\n",
       "</g>\n",
       "<!-- spend_per_signup&#45;&gt;df_to_json_build_result -->\n",
       "<g id=\"edge6\" class=\"edge\">\n",
       "<title>spend_per_signup&#45;&gt;df_to_json_build_result</title>\n",
       "<path fill=\"none\" stroke=\"black\" d=\"M603.53,-145.12C551.73,-133.79 482.31,-118.6 430.19,-107.2\"/>\n",
       "<polygon fill=\"black\" stroke=\"black\" points=\"430.85,-103.76 420.33,-105.04 429.36,-110.6 430.85,-103.76\"/>\n",
       "</g>\n",
       "<!-- spend_per_signup&#45;&gt;df_to_sql_build_result -->\n",
       "<g id=\"edge14\" class=\"edge\">\n",
       "<title>spend_per_signup&#45;&gt;df_to_sql_build_result</title>\n",
       "<path fill=\"none\" stroke=\"black\" d=\"M603.33,-145.49C600.23,-144.96 597.16,-144.46 594.14,-144 433.88,-119.51 392.1,-127.37 231.14,-108 221.09,-106.79 210.57,-105.43 200.13,-104.03\"/>\n",
       "<polygon fill=\"black\" stroke=\"black\" points=\"200.53,-100.55 190.15,-102.67 199.59,-107.49 200.53,-100.55\"/>\n",
       "</g>\n",
       "<!-- spend_per_signup&#45;&gt;df_to_pickle_build_result -->\n",
       "<g id=\"edge21\" class=\"edge\">\n",
       "<title>spend_per_signup&#45;&gt;df_to_pickle_build_result</title>\n",
       "<path fill=\"none\" stroke=\"black\" d=\"M661.06,-143.7C653.75,-135.3 644.83,-125.07 636.81,-115.86\"/>\n",
       "<polygon fill=\"black\" stroke=\"black\" points=\"639.25,-113.34 630.05,-108.1 633.98,-117.94 639.25,-113.34\"/>\n",
       "</g>\n",
       "<!-- spend_per_signup&#45;&gt;df_to_xml_build_result -->\n",
       "<g id=\"edge26\" class=\"edge\">\n",
       "<title>spend_per_signup&#45;&gt;df_to_xml_build_result</title>\n",
       "<path fill=\"none\" stroke=\"black\" d=\"M723.84,-143.97C752.44,-133.75 788.9,-120.73 818.5,-110.16\"/>\n",
       "<polygon fill=\"black\" stroke=\"black\" points=\"820.02,-113.33 828.26,-106.67 817.67,-106.74 820.02,-113.33\"/>\n",
       "</g>\n",
       "<!-- df_to_xml -->\n",
       "<g id=\"node5\" class=\"node\">\n",
       "<title>df_to_xml</title>\n",
       "<polygon fill=\"none\" stroke=\"black\" points=\"914.64,-36 829.64,-36 829.64,0 914.64,0 914.64,-36\"/>\n",
       "<text text-anchor=\"middle\" x=\"872.14\" y=\"-14.3\" font-family=\"Times,serif\" font-size=\"14.00\">df_to_xml</text>\n",
       "</g>\n",
       "<!-- df_to_sql_build_result&#45;&gt;df_to_sql -->\n",
       "<g id=\"edge1\" class=\"edge\">\n",
       "<title>df_to_sql_build_result&#45;&gt;df_to_sql</title>\n",
       "<path fill=\"none\" stroke=\"black\" d=\"M111.14,-71.7C111.14,-63.98 111.14,-54.71 111.14,-46.11\"/>\n",
       "<polygon fill=\"black\" stroke=\"black\" points=\"114.64,-46.1 111.14,-36.1 107.64,-46.1 114.64,-46.1\"/>\n",
       "</g>\n",
       "<!-- spend -->\n",
       "<g id=\"node7\" class=\"node\">\n",
       "<title>spend</title>\n",
       "<polygon fill=\"none\" stroke=\"black\" stroke-dasharray=\"5,2\" points=\"490.64,-396 383.64,-396 383.64,-360 490.64,-360 490.64,-396\"/>\n",
       "<text text-anchor=\"middle\" x=\"437.14\" y=\"-374.3\" font-family=\"Times,serif\" font-size=\"14.00\">Input: spend</text>\n",
       "</g>\n",
       "<!-- spend&#45;&gt;avg_3wk_spend -->\n",
       "<g id=\"edge2\" class=\"edge\">\n",
       "<title>spend&#45;&gt;avg_3wk_spend</title>\n",
       "<path fill=\"none\" stroke=\"black\" d=\"M475.67,-359.95C490.34,-351.38 505.57,-339.48 514.14,-324 537.38,-282.04 532.63,-224.07 526.96,-190.36\"/>\n",
       "<polygon fill=\"black\" stroke=\"black\" points=\"530.36,-189.52 525.12,-180.31 523.48,-190.78 530.36,-189.52\"/>\n",
       "</g>\n",
       "<!-- spend&#45;&gt;df_to_json_build_result -->\n",
       "<g id=\"edge3\" class=\"edge\">\n",
       "<title>spend&#45;&gt;df_to_json_build_result</title>\n",
       "<path fill=\"none\" stroke=\"black\" d=\"M383.57,-375.16C307.95,-371.31 175.79,-359.54 146.14,-324 94.89,-262.57 96.98,-207.11 146.14,-144 160.65,-125.37 211.47,-112.26 259.48,-103.75\"/>\n",
       "<polygon fill=\"black\" stroke=\"black\" points=\"260.09,-107.19 269.35,-102.05 258.9,-100.29 260.09,-107.19\"/>\n",
       "</g>\n",
       "<!-- spend&#45;&gt;spend_per_signup -->\n",
       "<g id=\"edge8\" class=\"edge\">\n",
       "<title>spend&#45;&gt;spend_per_signup</title>\n",
       "<path fill=\"none\" stroke=\"black\" d=\"M490.88,-367.63C551.32,-353.9 646.7,-321.91 690.14,-252 701.76,-233.31 696.37,-208.27 689.17,-189.52\"/>\n",
       "<polygon fill=\"black\" stroke=\"black\" points=\"692.3,-187.95 685.2,-180.09 685.85,-190.66 692.3,-187.95\"/>\n",
       "</g>\n",
       "<!-- spend&#45;&gt;df_to_sql_build_result -->\n",
       "<g id=\"edge11\" class=\"edge\">\n",
       "<title>spend&#45;&gt;df_to_sql_build_result</title>\n",
       "<path fill=\"none\" stroke=\"black\" d=\"M383.6,-375.26C302.97,-371.49 155.89,-359.77 119.14,-324 63.63,-269.97 86.65,-166.5 101.8,-117.71\"/>\n",
       "<polygon fill=\"black\" stroke=\"black\" points=\"105.14,-118.76 104.89,-108.17 98.48,-116.61 105.14,-118.76\"/>\n",
       "</g>\n",
       "<!-- spend_zero_mean -->\n",
       "<g id=\"node8\" class=\"node\">\n",
       "<title>spend_zero_mean</title>\n",
       "<ellipse fill=\"none\" stroke=\"black\" cx=\"355.14\" cy=\"-234\" rx=\"92.88\" ry=\"18\"/>\n",
       "<text text-anchor=\"middle\" x=\"355.14\" y=\"-230.3\" font-family=\"Times,serif\" font-size=\"14.00\">spend_zero_mean</text>\n",
       "</g>\n",
       "<!-- spend&#45;&gt;spend_zero_mean -->\n",
       "<g id=\"edge16\" class=\"edge\">\n",
       "<title>spend&#45;&gt;spend_zero_mean</title>\n",
       "<path fill=\"none\" stroke=\"black\" d=\"M398.7,-359.9C384.05,-351.32 368.81,-339.42 360.14,-324 349.68,-305.39 349.04,-281 350.68,-262.46\"/>\n",
       "<polygon fill=\"black\" stroke=\"black\" points=\"354.18,-262.64 351.84,-252.3 347.22,-261.84 354.18,-262.64\"/>\n",
       "</g>\n",
       "<!-- spend&#45;&gt;df_to_pickle_build_result -->\n",
       "<g id=\"edge18\" class=\"edge\">\n",
       "<title>spend&#45;&gt;df_to_pickle_build_result</title>\n",
       "<path fill=\"none\" stroke=\"black\" d=\"M490.65,-372.58C535.71,-366.85 600.42,-353.77 649.14,-324 721.71,-279.66 745.23,-259.61 775.14,-180 780.77,-165.02 784.51,-156.97 775.14,-144 761.63,-125.3 741.27,-113.09 719.56,-105.15\"/>\n",
       "<polygon fill=\"black\" stroke=\"black\" points=\"720.44,-101.75 709.85,-101.89 718.22,-108.39 720.44,-101.75\"/>\n",
       "</g>\n",
       "<!-- spend&#45;&gt;df_to_xml_build_result -->\n",
       "<g id=\"edge23\" class=\"edge\">\n",
       "<title>spend&#45;&gt;df_to_xml_build_result</title>\n",
       "<path fill=\"none\" stroke=\"black\" d=\"M490.74,-374.38C543.87,-369.85 626.21,-357.53 689.14,-324 777.02,-277.18 836.64,-167.93 860.49,-117.44\"/>\n",
       "<polygon fill=\"black\" stroke=\"black\" points=\"863.75,-118.71 864.77,-108.16 857.4,-115.77 863.75,-118.71\"/>\n",
       "</g>\n",
       "<!-- spend_std_dev -->\n",
       "<g id=\"node15\" class=\"node\">\n",
       "<title>spend_std_dev</title>\n",
       "<ellipse fill=\"none\" stroke=\"black\" cx=\"234.14\" cy=\"-306\" rx=\"78.79\" ry=\"18\"/>\n",
       "<text text-anchor=\"middle\" x=\"234.14\" y=\"-302.3\" font-family=\"Times,serif\" font-size=\"14.00\">spend_std_dev</text>\n",
       "</g>\n",
       "<!-- spend&#45;&gt;spend_std_dev -->\n",
       "<g id=\"edge32\" class=\"edge\">\n",
       "<title>spend&#45;&gt;spend_std_dev</title>\n",
       "<path fill=\"none\" stroke=\"black\" d=\"M387.74,-359.97C356.82,-349.3 317.04,-335.59 285.72,-324.79\"/>\n",
       "<polygon fill=\"black\" stroke=\"black\" points=\"286.46,-321.34 275.87,-321.39 284.18,-327.96 286.46,-321.34\"/>\n",
       "</g>\n",
       "<!-- spend_mean -->\n",
       "<g id=\"node16\" class=\"node\">\n",
       "<title>spend_mean</title>\n",
       "<ellipse fill=\"none\" stroke=\"black\" cx=\"437.14\" cy=\"-306\" rx=\"68.49\" ry=\"18\"/>\n",
       "<text text-anchor=\"middle\" x=\"437.14\" y=\"-302.3\" font-family=\"Times,serif\" font-size=\"14.00\">spend_mean</text>\n",
       "</g>\n",
       "<!-- spend&#45;&gt;spend_mean -->\n",
       "<g id=\"edge33\" class=\"edge\">\n",
       "<title>spend&#45;&gt;spend_mean</title>\n",
       "<path fill=\"none\" stroke=\"black\" d=\"M437.14,-359.7C437.14,-351.98 437.14,-342.71 437.14,-334.11\"/>\n",
       "<polygon fill=\"black\" stroke=\"black\" points=\"440.64,-334.1 437.14,-324.1 433.64,-334.1 440.64,-334.1\"/>\n",
       "</g>\n",
       "<!-- spend_zero_mean_unit_variance -->\n",
       "<g id=\"node14\" class=\"node\">\n",
       "<title>spend_zero_mean_unit_variance</title>\n",
       "<polygon fill=\"none\" stroke=\"black\" points=\"400.64,-180 155.64,-180 155.64,-144 400.64,-144 400.64,-180\"/>\n",
       "<text text-anchor=\"middle\" x=\"278.14\" y=\"-158.3\" font-family=\"Times,serif\" font-size=\"14.00\">spend_zero_mean_unit_variance</text>\n",
       "</g>\n",
       "<!-- spend_zero_mean&#45;&gt;spend_zero_mean_unit_variance -->\n",
       "<g id=\"edge30\" class=\"edge\">\n",
       "<title>spend_zero_mean&#45;&gt;spend_zero_mean_unit_variance</title>\n",
       "<path fill=\"none\" stroke=\"black\" d=\"M336.5,-216.05C326.83,-207.26 314.86,-196.38 304.28,-186.76\"/>\n",
       "<polygon fill=\"black\" stroke=\"black\" points=\"306.63,-184.17 296.87,-180.03 301.92,-189.35 306.63,-184.17\"/>\n",
       "</g>\n",
       "<!-- df_to_pickle -->\n",
       "<g id=\"node12\" class=\"node\">\n",
       "<title>df_to_pickle</title>\n",
       "<polygon fill=\"none\" stroke=\"black\" points=\"665.64,-36 564.64,-36 564.64,0 665.64,0 665.64,-36\"/>\n",
       "<text text-anchor=\"middle\" x=\"615.14\" y=\"-14.3\" font-family=\"Times,serif\" font-size=\"14.00\">df_to_pickle</text>\n",
       "</g>\n",
       "<!-- df_to_pickle_build_result&#45;&gt;df_to_pickle -->\n",
       "<g id=\"edge28\" class=\"edge\">\n",
       "<title>df_to_pickle_build_result&#45;&gt;df_to_pickle</title>\n",
       "<path fill=\"none\" stroke=\"black\" d=\"M615.14,-71.7C615.14,-63.98 615.14,-54.71 615.14,-46.11\"/>\n",
       "<polygon fill=\"black\" stroke=\"black\" points=\"618.64,-46.1 615.14,-36.1 611.64,-46.1 618.64,-46.1\"/>\n",
       "</g>\n",
       "<!-- df_to_xml_build_result&#45;&gt;df_to_xml -->\n",
       "<g id=\"edge10\" class=\"edge\">\n",
       "<title>df_to_xml_build_result&#45;&gt;df_to_xml</title>\n",
       "<path fill=\"none\" stroke=\"black\" d=\"M872.14,-71.7C872.14,-63.98 872.14,-54.71 872.14,-46.11\"/>\n",
       "<polygon fill=\"black\" stroke=\"black\" points=\"875.64,-46.1 872.14,-36.1 868.64,-46.1 875.64,-46.1\"/>\n",
       "</g>\n",
       "<!-- signups -->\n",
       "<g id=\"node11\" class=\"node\">\n",
       "<title>signups</title>\n",
       "<polygon fill=\"none\" stroke=\"black\" stroke-dasharray=\"5,2\" points=\"680.64,-252 561.64,-252 561.64,-216 680.64,-216 680.64,-252\"/>\n",
       "<text text-anchor=\"middle\" x=\"621.14\" y=\"-230.3\" font-family=\"Times,serif\" font-size=\"14.00\">Input: signups</text>\n",
       "</g>\n",
       "<!-- signups&#45;&gt;df_to_json_build_result -->\n",
       "<g id=\"edge4\" class=\"edge\">\n",
       "<title>signups&#45;&gt;df_to_json_build_result</title>\n",
       "<path fill=\"none\" stroke=\"black\" d=\"M561.42,-222.01C526.7,-213.89 483.04,-200.59 448.14,-180 446.14,-178.82 407.38,-141.1 380.82,-115.15\"/>\n",
       "<polygon fill=\"black\" stroke=\"black\" points=\"382.95,-112.34 373.36,-107.85 378.06,-117.34 382.95,-112.34\"/>\n",
       "</g>\n",
       "<!-- signups&#45;&gt;spend_per_signup -->\n",
       "<g id=\"edge9\" class=\"edge\">\n",
       "<title>signups&#45;&gt;spend_per_signup</title>\n",
       "<path fill=\"none\" stroke=\"black\" d=\"M634.74,-215.7C641.26,-207.39 649.21,-197.28 656.39,-188.14\"/>\n",
       "<polygon fill=\"black\" stroke=\"black\" points=\"659.27,-190.13 662.7,-180.1 653.77,-185.81 659.27,-190.13\"/>\n",
       "</g>\n",
       "<!-- signups&#45;&gt;df_to_sql_build_result -->\n",
       "<g id=\"edge12\" class=\"edge\">\n",
       "<title>signups&#45;&gt;df_to_sql_build_result</title>\n",
       "<path fill=\"none\" stroke=\"black\" d=\"M561.59,-226.75C434.99,-213.42 150.24,-183.14 146.14,-180 126.95,-165.3 118.26,-138.53 114.34,-118.17\"/>\n",
       "<polygon fill=\"black\" stroke=\"black\" points=\"117.78,-117.51 112.7,-108.21 110.88,-118.65 117.78,-117.51\"/>\n",
       "</g>\n",
       "<!-- signups&#45;&gt;df_to_pickle_build_result -->\n",
       "<g id=\"edge19\" class=\"edge\">\n",
       "<title>signups&#45;&gt;df_to_pickle_build_result</title>\n",
       "<path fill=\"none\" stroke=\"black\" d=\"M680.7,-225.56C709.13,-218.69 740.7,-205.45 758.14,-180 767.19,-166.8 767.28,-157.13 758.14,-144 746,-126.55 727.41,-114.83 707.61,-106.97\"/>\n",
       "<polygon fill=\"black\" stroke=\"black\" points=\"708.72,-103.65 698.13,-103.52 706.33,-110.23 708.72,-103.65\"/>\n",
       "</g>\n",
       "<!-- signups&#45;&gt;df_to_xml_build_result -->\n",
       "<g id=\"edge24\" class=\"edge\">\n",
       "<title>signups&#45;&gt;df_to_xml_build_result</title>\n",
       "<path fill=\"none\" stroke=\"black\" d=\"M680.66,-218.71C710.32,-210.09 745.98,-197.36 775.14,-180 804.44,-162.56 832.53,-135.22 850.88,-115.44\"/>\n",
       "<polygon fill=\"black\" stroke=\"black\" points=\"853.5,-117.76 857.65,-108.01 848.33,-113.04 853.5,-117.76\"/>\n",
       "</g>\n",
       "<!-- spend_zero_mean_unit_variance&#45;&gt;df_to_json_build_result -->\n",
       "<g id=\"edge7\" class=\"edge\">\n",
       "<title>spend_zero_mean_unit_variance&#45;&gt;df_to_json_build_result</title>\n",
       "<path fill=\"none\" stroke=\"black\" d=\"M297.42,-143.7C307.13,-134.99 319.05,-124.29 329.6,-114.82\"/>\n",
       "<polygon fill=\"black\" stroke=\"black\" points=\"332.25,-117.15 337.35,-107.86 327.57,-111.94 332.25,-117.15\"/>\n",
       "</g>\n",
       "<!-- spend_zero_mean_unit_variance&#45;&gt;df_to_sql_build_result -->\n",
       "<g id=\"edge15\" class=\"edge\">\n",
       "<title>spend_zero_mean_unit_variance&#45;&gt;df_to_sql_build_result</title>\n",
       "<path fill=\"none\" stroke=\"black\" d=\"M237.29,-143.88C213.48,-133.9 183.36,-121.27 158.52,-110.86\"/>\n",
       "<polygon fill=\"black\" stroke=\"black\" points=\"159.86,-107.63 149.28,-106.99 157.15,-114.08 159.86,-107.63\"/>\n",
       "</g>\n",
       "<!-- spend_zero_mean_unit_variance&#45;&gt;df_to_pickle_build_result -->\n",
       "<g id=\"edge22\" class=\"edge\">\n",
       "<title>spend_zero_mean_unit_variance&#45;&gt;df_to_pickle_build_result</title>\n",
       "<path fill=\"none\" stroke=\"black\" d=\"M360.15,-143.97C413.96,-132.79 483.92,-118.26 536.94,-107.24\"/>\n",
       "<polygon fill=\"black\" stroke=\"black\" points=\"537.9,-110.62 546.98,-105.16 536.47,-103.77 537.9,-110.62\"/>\n",
       "</g>\n",
       "<!-- spend_zero_mean_unit_variance&#45;&gt;df_to_xml_build_result -->\n",
       "<g id=\"edge27\" class=\"edge\">\n",
       "<title>spend_zero_mean_unit_variance&#45;&gt;df_to_xml_build_result</title>\n",
       "<path fill=\"none\" stroke=\"black\" d=\"M400.72,-148.07C495.84,-137.82 630.95,-122.81 749.14,-108 759.19,-106.74 769.69,-105.37 780.15,-103.97\"/>\n",
       "<polygon fill=\"black\" stroke=\"black\" points=\"780.69,-107.43 790.14,-102.63 779.76,-100.49 780.69,-107.43\"/>\n",
       "</g>\n",
       "<!-- spend_std_dev&#45;&gt;spend_zero_mean_unit_variance -->\n",
       "<g id=\"edge31\" class=\"edge\">\n",
       "<title>spend_std_dev&#45;&gt;spend_zero_mean_unit_variance</title>\n",
       "<path fill=\"none\" stroke=\"black\" d=\"M236.58,-287.96C239.45,-269.81 244.9,-240.4 253.14,-216 256.13,-207.13 260.2,-197.79 264.19,-189.47\"/>\n",
       "<polygon fill=\"black\" stroke=\"black\" points=\"267.46,-190.76 268.76,-180.25 261.19,-187.65 267.46,-190.76\"/>\n",
       "</g>\n",
       "<!-- spend_mean&#45;&gt;spend_zero_mean -->\n",
       "<g id=\"edge17\" class=\"edge\">\n",
       "<title>spend_mean&#45;&gt;spend_zero_mean</title>\n",
       "<path fill=\"none\" stroke=\"black\" d=\"M417.71,-288.41C407.16,-279.41 393.96,-268.14 382.4,-258.27\"/>\n",
       "<polygon fill=\"black\" stroke=\"black\" points=\"384.6,-255.54 374.72,-251.71 380.05,-260.87 384.6,-255.54\"/>\n",
       "</g>\n",
       "</g>\n",
       "</svg>\n"
      ],
      "text/plain": [
       "<graphviz.graphs.Digraph at 0x7f627104a080>"
      ]
     },
     "execution_count": 15,
     "metadata": {},
     "output_type": "execute_result"
    }
   ],
   "source": [
    "materializers = [\n",
    "    # materialize the dataframe to a pickle file\n",
    "    to.pickle(\n",
    "        dependencies=output_columns,\n",
    "        id=\"df_to_pickle\",\n",
    "        path=\"./df.pkl\",\n",
    "        combine=df_builder,\n",
    "    ),\n",
    "    # materialize the dataframe to a JSON file\n",
    "    to.json(\n",
    "        dependencies=output_columns,\n",
    "        id=\"df_to_json\",\n",
    "        filepath_or_buffer=\"./df.json\",\n",
    "        combine=df_builder,\n",
    "    ),\n",
    "    to.sql(\n",
    "        dependencies=output_columns,\n",
    "        id=\"df_to_sql\",\n",
    "        table_name=\"test\",\n",
    "        db_connection=conn,\n",
    "        combine=df_builder,\n",
    "    ),\n",
    "    # materialize the dataframe to a XML file\n",
    "    to.xml(\n",
    "        dependencies=output_columns,\n",
    "        id=\"df_to_xml\",\n",
    "        path_or_buffer=\"./df.xml\",\n",
    "        combine=df_builder,\n",
    "    ),\n",
    "]\n",
    "# Visualize what is happening\n",
    "dr.visualize_materialization(\n",
    "    *materializers,\n",
    "    additional_vars=output_columns,\n",
    "    inputs=initial_columns,\n",
    ")"
   ]
  },
  {
   "cell_type": "code",
   "execution_count": 16,
   "metadata": {
    "ExecuteTime": {
     "end_time": "2023-09-17T05:43:34.026203Z",
     "start_time": "2023-09-17T05:43:34.016610Z"
    }
   },
   "outputs": [],
   "source": [
    "# Materialize a result, i.e. execute the DAG!\n",
    "materialization_results, additional_outputs = dr.materialize(\n",
    "    *materializers,\n",
    "    additional_vars=[\n",
    "        \"df_to_pickle_build_result\",\n",
    "        \"df_to_json_build_result\",\n",
    "        \"df_to_sql_build_result\",\n",
    "        \"df_to_xml_build_result\",\n",
    "    ],  # because combine is used, we can get that result here.\n",
    "    inputs=initial_columns,\n",
    ")"
   ]
  },
  {
   "cell_type": "code",
   "execution_count": 17,
   "metadata": {
    "ExecuteTime": {
     "end_time": "2023-09-17T05:43:34.041466Z",
     "start_time": "2023-09-17T05:43:34.028346Z"
    }
   },
   "outputs": [
    {
     "data": {
      "text/plain": [
       "{'df_to_pickle': {'size': 1088,\n",
       "  'path': './df.pkl',\n",
       "  'last_modified': 1695179196.0751731,\n",
       "  'timestamp': 1695204396.079447},\n",
       " 'df_to_json': {'size': 428,\n",
       "  'path': './df.json',\n",
       "  'last_modified': 1695179196.0791733,\n",
       "  'timestamp': 1695204396.081337},\n",
       " 'df_to_sql': {'rows': 6,\n",
       "  'query': None,\n",
       "  'table_name': 'test',\n",
       "  'timestamp': 1695204396.133208},\n",
       " 'df_to_xml': {'size': 1622,\n",
       "  'path': './df.xml',\n",
       "  'last_modified': 1695179196.1431766,\n",
       "  'timestamp': 1695204396.147854}}"
      ]
     },
     "execution_count": 17,
     "metadata": {},
     "output_type": "execute_result"
    }
   ],
   "source": [
    "materialization_results"
   ]
  },
  {
   "cell_type": "code",
   "execution_count": 18,
   "metadata": {
    "ExecuteTime": {
     "end_time": "2023-09-17T05:43:34.051151Z",
     "start_time": "2023-09-17T05:43:34.043320Z"
    }
   },
   "outputs": [
    {
     "data": {
      "text/html": [
       "<div>\n",
       "<style scoped>\n",
       "    .dataframe tbody tr th:only-of-type {\n",
       "        vertical-align: middle;\n",
       "    }\n",
       "\n",
       "    .dataframe tbody tr th {\n",
       "        vertical-align: top;\n",
       "    }\n",
       "\n",
       "    .dataframe thead th {\n",
       "        text-align: right;\n",
       "    }\n",
       "</style>\n",
       "<table border=\"1\" class=\"dataframe\">\n",
       "  <thead>\n",
       "    <tr style=\"text-align: right;\">\n",
       "      <th></th>\n",
       "      <th>spend</th>\n",
       "      <th>signups</th>\n",
       "      <th>avg_3wk_spend</th>\n",
       "      <th>spend_per_signup</th>\n",
       "      <th>spend_zero_mean_unit_variance</th>\n",
       "    </tr>\n",
       "  </thead>\n",
       "  <tbody>\n",
       "    <tr>\n",
       "      <th>0</th>\n",
       "      <td>10</td>\n",
       "      <td>1</td>\n",
       "      <td>NaN</td>\n",
       "      <td>10.000</td>\n",
       "      <td>-1.064405</td>\n",
       "    </tr>\n",
       "    <tr>\n",
       "      <th>1</th>\n",
       "      <td>10</td>\n",
       "      <td>10</td>\n",
       "      <td>NaN</td>\n",
       "      <td>1.000</td>\n",
       "      <td>-1.064405</td>\n",
       "    </tr>\n",
       "    <tr>\n",
       "      <th>2</th>\n",
       "      <td>20</td>\n",
       "      <td>50</td>\n",
       "      <td>13.333333</td>\n",
       "      <td>0.400</td>\n",
       "      <td>-0.483821</td>\n",
       "    </tr>\n",
       "    <tr>\n",
       "      <th>3</th>\n",
       "      <td>40</td>\n",
       "      <td>100</td>\n",
       "      <td>23.333333</td>\n",
       "      <td>0.400</td>\n",
       "      <td>0.677349</td>\n",
       "    </tr>\n",
       "    <tr>\n",
       "      <th>4</th>\n",
       "      <td>40</td>\n",
       "      <td>200</td>\n",
       "      <td>33.333333</td>\n",
       "      <td>0.200</td>\n",
       "      <td>0.677349</td>\n",
       "    </tr>\n",
       "    <tr>\n",
       "      <th>5</th>\n",
       "      <td>50</td>\n",
       "      <td>400</td>\n",
       "      <td>43.333333</td>\n",
       "      <td>0.125</td>\n",
       "      <td>1.257934</td>\n",
       "    </tr>\n",
       "  </tbody>\n",
       "</table>\n",
       "</div>"
      ],
      "text/plain": [
       "   spend  signups  avg_3wk_spend  spend_per_signup  \\\n",
       "0     10        1            NaN            10.000   \n",
       "1     10       10            NaN             1.000   \n",
       "2     20       50      13.333333             0.400   \n",
       "3     40      100      23.333333             0.400   \n",
       "4     40      200      33.333333             0.200   \n",
       "5     50      400      43.333333             0.125   \n",
       "\n",
       "   spend_zero_mean_unit_variance  \n",
       "0                      -1.064405  \n",
       "1                      -1.064405  \n",
       "2                      -0.483821  \n",
       "3                       0.677349  \n",
       "4                       0.677349  \n",
       "5                       1.257934  "
      ]
     },
     "execution_count": 18,
     "metadata": {},
     "output_type": "execute_result"
    }
   ],
   "source": [
    "additional_outputs[\"df_to_pickle_build_result\"]"
   ]
  },
  {
   "cell_type": "code",
   "execution_count": 19,
   "metadata": {
    "ExecuteTime": {
     "end_time": "2023-09-17T05:43:34.058608Z",
     "start_time": "2023-09-17T05:43:34.048662Z"
    },
    "pycharm": {
     "name": "#%%\n"
    }
   },
   "outputs": [
    {
     "data": {
      "text/html": [
       "<div>\n",
       "<style scoped>\n",
       "    .dataframe tbody tr th:only-of-type {\n",
       "        vertical-align: middle;\n",
       "    }\n",
       "\n",
       "    .dataframe tbody tr th {\n",
       "        vertical-align: top;\n",
       "    }\n",
       "\n",
       "    .dataframe thead th {\n",
       "        text-align: right;\n",
       "    }\n",
       "</style>\n",
       "<table border=\"1\" class=\"dataframe\">\n",
       "  <thead>\n",
       "    <tr style=\"text-align: right;\">\n",
       "      <th></th>\n",
       "      <th>spend</th>\n",
       "      <th>signups</th>\n",
       "      <th>avg_3wk_spend</th>\n",
       "      <th>spend_per_signup</th>\n",
       "      <th>spend_zero_mean_unit_variance</th>\n",
       "    </tr>\n",
       "  </thead>\n",
       "  <tbody>\n",
       "    <tr>\n",
       "      <th>0</th>\n",
       "      <td>10</td>\n",
       "      <td>1</td>\n",
       "      <td>NaN</td>\n",
       "      <td>10.000</td>\n",
       "      <td>-1.064405</td>\n",
       "    </tr>\n",
       "    <tr>\n",
       "      <th>1</th>\n",
       "      <td>10</td>\n",
       "      <td>10</td>\n",
       "      <td>NaN</td>\n",
       "      <td>1.000</td>\n",
       "      <td>-1.064405</td>\n",
       "    </tr>\n",
       "    <tr>\n",
       "      <th>2</th>\n",
       "      <td>20</td>\n",
       "      <td>50</td>\n",
       "      <td>13.333333</td>\n",
       "      <td>0.400</td>\n",
       "      <td>-0.483821</td>\n",
       "    </tr>\n",
       "    <tr>\n",
       "      <th>3</th>\n",
       "      <td>40</td>\n",
       "      <td>100</td>\n",
       "      <td>23.333333</td>\n",
       "      <td>0.400</td>\n",
       "      <td>0.677349</td>\n",
       "    </tr>\n",
       "    <tr>\n",
       "      <th>4</th>\n",
       "      <td>40</td>\n",
       "      <td>200</td>\n",
       "      <td>33.333333</td>\n",
       "      <td>0.200</td>\n",
       "      <td>0.677349</td>\n",
       "    </tr>\n",
       "    <tr>\n",
       "      <th>5</th>\n",
       "      <td>50</td>\n",
       "      <td>400</td>\n",
       "      <td>43.333333</td>\n",
       "      <td>0.125</td>\n",
       "      <td>1.257934</td>\n",
       "    </tr>\n",
       "  </tbody>\n",
       "</table>\n",
       "</div>"
      ],
      "text/plain": [
       "   spend  signups  avg_3wk_spend  spend_per_signup  \\\n",
       "0     10        1            NaN            10.000   \n",
       "1     10       10            NaN             1.000   \n",
       "2     20       50      13.333333             0.400   \n",
       "3     40      100      23.333333             0.400   \n",
       "4     40      200      33.333333             0.200   \n",
       "5     50      400      43.333333             0.125   \n",
       "\n",
       "   spend_zero_mean_unit_variance  \n",
       "0                      -1.064405  \n",
       "1                      -1.064405  \n",
       "2                      -0.483821  \n",
       "3                       0.677349  \n",
       "4                       0.677349  \n",
       "5                       1.257934  "
      ]
     },
     "execution_count": 19,
     "metadata": {},
     "output_type": "execute_result"
    }
   ],
   "source": [
    "additional_outputs[\"df_to_json_build_result\"]"
   ]
  },
  {
   "cell_type": "code",
   "execution_count": 20,
   "metadata": {
    "ExecuteTime": {
     "end_time": "2023-09-17T05:43:34.089706Z",
     "start_time": "2023-09-17T05:43:34.060251Z"
    },
    "collapsed": false
   },
   "outputs": [
    {
     "name": "stdout",
     "output_type": "stream",
     "text": [
      "   spend  signups  avg_3wk_spend  spend_per_signup  \\\n",
      "0     10        1            NaN            10.000   \n",
      "1     10       10            NaN             1.000   \n",
      "2     20       50      13.333333             0.400   \n",
      "3     40      100      23.333333             0.400   \n",
      "4     40      200      33.333333             0.200   \n",
      "5     50      400      43.333333             0.125   \n",
      "\n",
      "   spend_zero_mean_unit_variance  \n",
      "0                      -1.064405  \n",
      "1                      -1.064405  \n",
      "2                      -0.483821  \n",
      "3                       0.677349  \n",
      "4                       0.677349  \n",
      "5                       1.257934  \n"
     ]
    }
   ],
   "source": [
    "print(additional_outputs[\"df_to_sql_build_result\"])"
   ]
  },
  {
   "cell_type": "code",
   "execution_count": 21,
   "metadata": {},
   "outputs": [
    {
     "name": "stdout",
     "output_type": "stream",
     "text": [
      "   spend  signups  avg_3wk_spend  spend_per_signup  \\\n",
      "0     10        1            NaN            10.000   \n",
      "1     10       10            NaN             1.000   \n",
      "2     20       50      13.333333             0.400   \n",
      "3     40      100      23.333333             0.400   \n",
      "4     40      200      33.333333             0.200   \n",
      "5     50      400      43.333333             0.125   \n",
      "\n",
      "   spend_zero_mean_unit_variance  \n",
      "0                      -1.064405  \n",
      "1                      -1.064405  \n",
      "2                      -0.483821  \n",
      "3                       0.677349  \n",
      "4                       0.677349  \n",
      "5                       1.257934  \n"
     ]
    }
   ],
   "source": [
    "print(additional_outputs[\"df_to_xml_build_result\"])"
   ]
  },
  {
   "cell_type": "code",
   "execution_count": 22,
   "metadata": {
    "ExecuteTime": {
     "end_time": "2023-09-17T05:43:34.090208Z",
     "start_time": "2023-09-17T05:43:34.066483Z"
    },
    "collapsed": false
   },
   "outputs": [],
   "source": [
    "# closing out db connection\n",
    "conn.close()"
   ]
  }
 ],
 "metadata": {
  "kernelspec": {
   "display_name": "Python 3 (ipykernel)",
   "language": "python",
   "name": "python3"
  },
  "language_info": {
   "codemirror_mode": {
    "name": "ipython",
    "version": 3
   },
   "file_extension": ".py",
   "mimetype": "text/x-python",
   "name": "python",
   "nbconvert_exporter": "python",
   "pygments_lexer": "ipython3",
   "version": "3.10.12"
  }
 },
 "nbformat": 4,
 "nbformat_minor": 4
}
