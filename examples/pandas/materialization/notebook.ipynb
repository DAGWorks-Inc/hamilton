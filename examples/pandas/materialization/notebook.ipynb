{
 "cells": [
  {
   "cell_type": "code",
   "execution_count": 1,
   "metadata": {},
   "outputs": [
    {
     "name": "stdout",
     "output_type": "stream",
     "text": [
      "Defaulting to user installation because normal site-packages is not writeable\n",
      "Requirement already satisfied: pandas in /home/jordan/.local/lib/python3.10/site-packages (2.1.0)\n",
      "Collecting pandas\n",
      "  Downloading pandas-2.1.1-cp310-cp310-manylinux_2_17_x86_64.manylinux2014_x86_64.whl (12.3 MB)\n",
      "\u001b[2K     \u001b[90m━━━━━━━━━━━━━━━━━━━━━━━━━━━━━━━━━━━━━━━━\u001b[0m \u001b[32m12.3/12.3 MB\u001b[0m \u001b[31m1.8 MB/s\u001b[0m eta \u001b[36m0:00:00\u001b[0m00:01\u001b[0m00:01\u001b[0m\n",
      "\u001b[?25hRequirement already satisfied: pytz>=2020.1 in /usr/lib/python3/dist-packages (from pandas) (2022.1)\n",
      "Requirement already satisfied: tzdata>=2022.1 in /home/jordan/.local/lib/python3.10/site-packages (from pandas) (2023.3)\n",
      "Requirement already satisfied: python-dateutil>=2.8.2 in /home/jordan/.local/lib/python3.10/site-packages (from pandas) (2.8.2)\n",
      "Requirement already satisfied: numpy>=1.22.4 in /home/jordan/.local/lib/python3.10/site-packages (from pandas) (1.25.1)\n",
      "Requirement already satisfied: six>=1.5 in /usr/lib/python3/dist-packages (from python-dateutil>=2.8.2->pandas) (1.16.0)\n",
      "Installing collected packages: pandas\n",
      "  Attempting uninstall: pandas\n",
      "    Found existing installation: pandas 2.1.0\n",
      "    Uninstalling pandas-2.1.0:\n",
      "      Successfully uninstalled pandas-2.1.0\n",
      "Successfully installed pandas-2.1.1\n"
     ]
    }
   ],
   "source": [
    "# update the pandas package - optional\n",
    "# !pip install --upgrade pandas"
   ]
  },
  {
   "cell_type": "code",
   "execution_count": 15,
   "metadata": {
    "ExecuteTime": {
     "end_time": "2023-09-17T05:43:33.890006Z",
     "start_time": "2023-09-17T05:43:33.866292Z"
    }
   },
   "outputs": [],
   "source": [
    "import sqlite3\n",
    "import sys\n",
    "import pandas as pd\n",
    "\n",
    "# Add the hamilton module to your path - optinal\n",
    "# project_dir = \"### ADD PATH HERE ###\"\n",
    "# sys.path.append(project_dir)\n",
    "\n",
    "from hamilton import base, driver\n",
    "from hamilton.io.materialization import to"
   ]
  },
  {
   "cell_type": "code",
   "execution_count": 19,
   "metadata": {
    "ExecuteTime": {
     "end_time": "2023-09-17T05:43:33.890336Z",
     "start_time": "2023-09-17T05:43:33.869093Z"
    },
    "pycharm": {
     "name": "#%%\n"
    }
   },
   "outputs": [
    {
     "name": "stdout",
     "output_type": "stream",
     "text": [
      "The autoreload extension is already loaded. To reload it, use:\n",
      "  %reload_ext autoreload\n"
     ]
    }
   ],
   "source": [
    "# We use the autoreload extension that comes with ipython to automatically reload modules when\n",
    "# the code in them changes.\n",
    "\n",
    "# import the jupyter extension\n",
    "%load_ext autoreload\n",
    "# set it to only reload the modules imported\n",
    "%autoreload 1"
   ]
  },
  {
   "cell_type": "code",
   "execution_count": 20,
   "metadata": {
    "ExecuteTime": {
     "end_time": "2023-09-17T05:43:33.930823Z",
     "start_time": "2023-09-17T05:43:33.875941Z"
    },
    "pycharm": {
     "name": "#%%\n"
    }
   },
   "outputs": [
    {
     "name": "stdout",
     "output_type": "stream",
     "text": [
      "Overwriting spend_calculations.py\n"
     ]
    }
   ],
   "source": [
    "%%writefile spend_calculations.py\n",
    "# Define your new Hamilton functions.\n",
    "# The %%writefile magic command creates a new Python module with the functions below.\n",
    "# We will import this later and pass it into our Driver.\n",
    "\n",
    "import pandas as pd \n",
    "# Look at `my_functions` to see how these functions connect.\n",
    "def avg_3wk_spend(spend: pd.Series) -> pd.Series:\n",
    "    \"\"\"Rolling 3 week average spend.\"\"\"\n",
    "    return spend.rolling(3).mean()\n",
    "\n",
    "\n",
    "def spend_per_signup(spend: pd.Series, signups: pd.Series) -> pd.Series:\n",
    "    \"\"\"The cost per signup in relation to spend.\"\"\"\n",
    "    return spend / signups\n",
    "\n",
    "\n",
    "def spend_mean(spend: pd.Series) -> float:\n",
    "    \"\"\"Shows function creating a scalar. In this case it computes the mean of the entire column.\"\"\"\n",
    "    return spend.mean()\n",
    "\n",
    "\n",
    "def spend_zero_mean(spend: pd.Series, spend_mean: float) -> pd.Series:\n",
    "    \"\"\"Shows function that takes a scalar. In this case to zero mean spend.\"\"\"\n",
    "    return spend - spend_mean\n",
    "\n",
    "\n",
    "def spend_std_dev(spend: pd.Series) -> float:\n",
    "    \"\"\"Function that computes the standard deviation of the spend column.\"\"\"\n",
    "    return spend.std()\n",
    "\n",
    "\n",
    "def spend_zero_mean_unit_variance(spend_zero_mean: pd.Series, spend_std_dev: float) -> pd.Series:\n",
    "    \"\"\"Function showing one way to make spend have zero mean and unit variance.\"\"\"\n",
    "    return spend_zero_mean / spend_std_dev"
   ]
  },
  {
   "cell_type": "code",
   "execution_count": 21,
   "metadata": {
    "ExecuteTime": {
     "end_time": "2023-09-17T05:43:33.931096Z",
     "start_time": "2023-09-17T05:43:33.881858Z"
    },
    "pycharm": {
     "name": "#%%\n"
    }
   },
   "outputs": [],
   "source": [
    "initial_columns = {  # load from actuals or wherever -- this is our initial data we use as input.\n",
    "    # Note: these values don't have to be all series, they could be a scalar.\n",
    "    \"signups\": pd.Series([1, 10, 50, 100, 200, 400]),\n",
    "    \"spend\": pd.Series([10, 10, 20, 40, 40, 50]),\n",
    "}"
   ]
  },
  {
   "cell_type": "code",
   "execution_count": 22,
   "metadata": {
    "ExecuteTime": {
     "end_time": "2023-09-17T05:43:33.932468Z",
     "start_time": "2023-09-17T05:43:33.887774Z"
    },
    "pycharm": {
     "name": "#%%\n"
    }
   },
   "outputs": [],
   "source": [
    "%aimport spend_calculations\n",
    "\n",
    "df_builder = base.PandasDataFrameResult()\n",
    "dr = driver.Driver({}, spend_calculations)  # can pass in multiple modules"
   ]
  },
  {
   "cell_type": "code",
   "execution_count": 23,
   "metadata": {
    "ExecuteTime": {
     "end_time": "2023-09-17T05:43:33.932900Z",
     "start_time": "2023-09-17T05:43:33.892681Z"
    }
   },
   "outputs": [],
   "source": [
    "# we need to specify what we want in the final dataframe. These can be string names, or function references.\n",
    "output_columns = [\n",
    "    \"spend\",\n",
    "    \"signups\",\n",
    "    \"avg_3wk_spend\",\n",
    "    \"spend_per_signup\",\n",
    "    \"spend_zero_mean_unit_variance\",\n",
    "]"
   ]
  },
  {
   "cell_type": "code",
   "execution_count": 24,
   "metadata": {
    "ExecuteTime": {
     "end_time": "2023-09-17T05:43:33.933121Z",
     "start_time": "2023-09-17T05:43:33.896779Z"
    },
    "collapsed": false
   },
   "outputs": [],
   "source": [
    "# set up db connection for sql materializer below\n",
    "conn = sqlite3.connect(\"df.db\")\n",
    "\n",
    "# remove an previous instances of the 'test' table that will be created next\n",
    "conn.cursor().execute(\"DROP TABLE IF EXISTS test;\")\n",
    "conn.commit()"
   ]
  },
  {
   "cell_type": "code",
   "execution_count": 25,
   "metadata": {
    "ExecuteTime": {
     "end_time": "2023-09-17T05:43:34.014270Z",
     "start_time": "2023-09-17T05:43:33.912979Z"
    }
   },
   "outputs": [
    {
     "data": {
      "image/svg+xml": [
       "<?xml version=\"1.0\" encoding=\"UTF-8\" standalone=\"no\"?>\n",
       "<!DOCTYPE svg PUBLIC \"-//W3C//DTD SVG 1.1//EN\"\n",
       " \"http://www.w3.org/Graphics/SVG/1.1/DTD/svg11.dtd\">\n",
       "<!-- Generated by graphviz version 2.43.0 (0)\n",
       " -->\n",
       "<!-- Title: %3 Pages: 1 -->\n",
       "<svg width=\"1251pt\" height=\"404pt\"\n",
       " viewBox=\"0.00 0.00 1251.48 404.00\" xmlns=\"http://www.w3.org/2000/svg\" xmlns:xlink=\"http://www.w3.org/1999/xlink\">\n",
       "<g id=\"graph0\" class=\"graph\" transform=\"scale(1 1) rotate(0) translate(4 400)\">\n",
       "<title>%3</title>\n",
       "<polygon fill=\"white\" stroke=\"transparent\" points=\"-4,4 -4,-400 1247.48,-400 1247.48,4 -4,4\"/>\n",
       "<!-- df_to_json_build_result -->\n",
       "<g id=\"node1\" class=\"node\">\n",
       "<title>df_to_json_build_result</title>\n",
       "<ellipse fill=\"none\" stroke=\"black\" cx=\"116.34\" cy=\"-90\" rx=\"116.18\" ry=\"18\"/>\n",
       "<text text-anchor=\"middle\" x=\"116.34\" y=\"-86.3\" font-family=\"Times,serif\" font-size=\"14.00\">df_to_json_build_result</text>\n",
       "</g>\n",
       "<!-- df_to_json -->\n",
       "<g id=\"node17\" class=\"node\">\n",
       "<title>df_to_json</title>\n",
       "<polygon fill=\"none\" stroke=\"black\" points=\"160.34,-36 72.34,-36 72.34,0 160.34,0 160.34,-36\"/>\n",
       "<text text-anchor=\"middle\" x=\"116.34\" y=\"-14.3\" font-family=\"Times,serif\" font-size=\"14.00\">df_to_json</text>\n",
       "</g>\n",
       "<!-- df_to_json_build_result&#45;&gt;df_to_json -->\n",
       "<g id=\"edge37\" class=\"edge\">\n",
       "<title>df_to_json_build_result&#45;&gt;df_to_json</title>\n",
       "<path fill=\"none\" stroke=\"black\" d=\"M116.34,-71.7C116.34,-63.98 116.34,-54.71 116.34,-46.11\"/>\n",
       "<polygon fill=\"black\" stroke=\"black\" points=\"119.84,-46.1 116.34,-36.1 112.84,-46.1 119.84,-46.1\"/>\n",
       "</g>\n",
       "<!-- spend_per_signup -->\n",
       "<g id=\"node2\" class=\"node\">\n",
       "<title>spend_per_signup</title>\n",
       "<polygon fill=\"none\" stroke=\"black\" points=\"541.84,-180 396.84,-180 396.84,-144 541.84,-144 541.84,-180\"/>\n",
       "<text text-anchor=\"middle\" x=\"469.34\" y=\"-158.3\" font-family=\"Times,serif\" font-size=\"14.00\">spend_per_signup</text>\n",
       "</g>\n",
       "<!-- spend_per_signup&#45;&gt;df_to_json_build_result -->\n",
       "<g id=\"edge4\" class=\"edge\">\n",
       "<title>spend_per_signup&#45;&gt;df_to_json_build_result</title>\n",
       "<path fill=\"none\" stroke=\"black\" d=\"M396.63,-146.58C337.74,-134.9 254.95,-118.49 194.62,-106.52\"/>\n",
       "<polygon fill=\"black\" stroke=\"black\" points=\"195.25,-103.08 184.76,-104.57 193.89,-109.95 195.25,-103.08\"/>\n",
       "</g>\n",
       "<!-- df_to_xml_build_result -->\n",
       "<g id=\"node3\" class=\"node\">\n",
       "<title>df_to_xml_build_result</title>\n",
       "<ellipse fill=\"none\" stroke=\"black\" cx=\"888.34\" cy=\"-90\" rx=\"114.28\" ry=\"18\"/>\n",
       "<text text-anchor=\"middle\" x=\"888.34\" y=\"-86.3\" font-family=\"Times,serif\" font-size=\"14.00\">df_to_xml_build_result</text>\n",
       "</g>\n",
       "<!-- spend_per_signup&#45;&gt;df_to_xml_build_result -->\n",
       "<g id=\"edge11\" class=\"edge\">\n",
       "<title>spend_per_signup&#45;&gt;df_to_xml_build_result</title>\n",
       "<path fill=\"none\" stroke=\"black\" d=\"M542.18,-145.71C545.27,-145.12 548.34,-144.55 551.34,-144 634.06,-128.93 728.67,-114.28 796.54,-104.21\"/>\n",
       "<polygon fill=\"black\" stroke=\"black\" points=\"797.4,-107.62 806.78,-102.7 796.37,-100.7 797.4,-107.62\"/>\n",
       "</g>\n",
       "<!-- df_to_pickle_build_result -->\n",
       "<g id=\"node8\" class=\"node\">\n",
       "<title>df_to_pickle_build_result</title>\n",
       "<ellipse fill=\"none\" stroke=\"black\" cx=\"375.34\" cy=\"-90\" rx=\"124.58\" ry=\"18\"/>\n",
       "<text text-anchor=\"middle\" x=\"375.34\" y=\"-86.3\" font-family=\"Times,serif\" font-size=\"14.00\">df_to_pickle_build_result</text>\n",
       "</g>\n",
       "<!-- spend_per_signup&#45;&gt;df_to_pickle_build_result -->\n",
       "<g id=\"edge20\" class=\"edge\">\n",
       "<title>spend_per_signup&#45;&gt;df_to_pickle_build_result</title>\n",
       "<path fill=\"none\" stroke=\"black\" d=\"M446.1,-143.7C434.06,-134.73 419.2,-123.66 406.2,-113.98\"/>\n",
       "<polygon fill=\"black\" stroke=\"black\" points=\"408.09,-111.03 397.98,-107.86 403.91,-116.64 408.09,-111.03\"/>\n",
       "</g>\n",
       "<!-- df_to_html_build_result -->\n",
       "<g id=\"node12\" class=\"node\">\n",
       "<title>df_to_html_build_result</title>\n",
       "<ellipse fill=\"none\" stroke=\"black\" cx=\"637.34\" cy=\"-90\" rx=\"118.88\" ry=\"18\"/>\n",
       "<text text-anchor=\"middle\" x=\"637.34\" y=\"-86.3\" font-family=\"Times,serif\" font-size=\"14.00\">df_to_html_build_result</text>\n",
       "</g>\n",
       "<!-- spend_per_signup&#45;&gt;df_to_html_build_result -->\n",
       "<g id=\"edge29\" class=\"edge\">\n",
       "<title>spend_per_signup&#45;&gt;df_to_html_build_result</title>\n",
       "<path fill=\"none\" stroke=\"black\" d=\"M510.44,-143.88C534.3,-133.93 564.47,-121.36 589.41,-110.97\"/>\n",
       "<polygon fill=\"black\" stroke=\"black\" points=\"590.8,-114.18 598.68,-107.11 588.11,-107.72 590.8,-114.18\"/>\n",
       "</g>\n",
       "<!-- df_to_sql_build_result -->\n",
       "<g id=\"node14\" class=\"node\">\n",
       "<title>df_to_sql_build_result</title>\n",
       "<ellipse fill=\"none\" stroke=\"black\" cx=\"1132.34\" cy=\"-90\" rx=\"111.28\" ry=\"18\"/>\n",
       "<text text-anchor=\"middle\" x=\"1132.34\" y=\"-86.3\" font-family=\"Times,serif\" font-size=\"14.00\">df_to_sql_build_result</text>\n",
       "</g>\n",
       "<!-- spend_per_signup&#45;&gt;df_to_sql_build_result -->\n",
       "<g id=\"edge34\" class=\"edge\">\n",
       "<title>spend_per_signup&#45;&gt;df_to_sql_build_result</title>\n",
       "<path fill=\"none\" stroke=\"black\" d=\"M542.13,-145.41C545.24,-144.9 548.32,-144.43 551.34,-144 754.37,-115.13 807.48,-130.28 1011.34,-108 1021.83,-106.85 1032.82,-105.51 1043.71,-104.09\"/>\n",
       "<polygon fill=\"black\" stroke=\"black\" points=\"1044.22,-107.55 1053.67,-102.77 1043.3,-100.61 1044.22,-107.55\"/>\n",
       "</g>\n",
       "<!-- df_to_xml -->\n",
       "<g id=\"node4\" class=\"node\">\n",
       "<title>df_to_xml</title>\n",
       "<polygon fill=\"none\" stroke=\"black\" points=\"930.84,-36 845.84,-36 845.84,0 930.84,0 930.84,-36\"/>\n",
       "<text text-anchor=\"middle\" x=\"888.34\" y=\"-14.3\" font-family=\"Times,serif\" font-size=\"14.00\">df_to_xml</text>\n",
       "</g>\n",
       "<!-- df_to_xml_build_result&#45;&gt;df_to_xml -->\n",
       "<g id=\"edge13\" class=\"edge\">\n",
       "<title>df_to_xml_build_result&#45;&gt;df_to_xml</title>\n",
       "<path fill=\"none\" stroke=\"black\" d=\"M888.34,-71.7C888.34,-63.98 888.34,-54.71 888.34,-46.11\"/>\n",
       "<polygon fill=\"black\" stroke=\"black\" points=\"891.84,-46.1 888.34,-36.1 884.84,-46.1 891.84,-46.1\"/>\n",
       "</g>\n",
       "<!-- spend_mean -->\n",
       "<g id=\"node5\" class=\"node\">\n",
       "<title>spend_mean</title>\n",
       "<ellipse fill=\"none\" stroke=\"black\" cx=\"922.34\" cy=\"-306\" rx=\"68.49\" ry=\"18\"/>\n",
       "<text text-anchor=\"middle\" x=\"922.34\" y=\"-302.3\" font-family=\"Times,serif\" font-size=\"14.00\">spend_mean</text>\n",
       "</g>\n",
       "<!-- spend_zero_mean -->\n",
       "<g id=\"node11\" class=\"node\">\n",
       "<title>spend_zero_mean</title>\n",
       "<ellipse fill=\"none\" stroke=\"black\" cx=\"840.34\" cy=\"-234\" rx=\"92.88\" ry=\"18\"/>\n",
       "<text text-anchor=\"middle\" x=\"840.34\" y=\"-230.3\" font-family=\"Times,serif\" font-size=\"14.00\">spend_zero_mean</text>\n",
       "</g>\n",
       "<!-- spend_mean&#45;&gt;spend_zero_mean -->\n",
       "<g id=\"edge25\" class=\"edge\">\n",
       "<title>spend_mean&#45;&gt;spend_zero_mean</title>\n",
       "<path fill=\"none\" stroke=\"black\" d=\"M902.91,-288.41C892.36,-279.41 879.16,-268.14 867.6,-258.27\"/>\n",
       "<polygon fill=\"black\" stroke=\"black\" points=\"869.8,-255.54 859.92,-251.71 865.25,-260.87 869.8,-255.54\"/>\n",
       "</g>\n",
       "<!-- df_to_sql -->\n",
       "<g id=\"node6\" class=\"node\">\n",
       "<title>df_to_sql</title>\n",
       "<polygon fill=\"none\" stroke=\"black\" points=\"1172.34,-36 1092.34,-36 1092.34,0 1172.34,0 1172.34,-36\"/>\n",
       "<text text-anchor=\"middle\" x=\"1132.34\" y=\"-14.3\" font-family=\"Times,serif\" font-size=\"14.00\">df_to_sql</text>\n",
       "</g>\n",
       "<!-- df_to_html -->\n",
       "<g id=\"node7\" class=\"node\">\n",
       "<title>df_to_html</title>\n",
       "<polygon fill=\"none\" stroke=\"black\" points=\"683.34,-36 591.34,-36 591.34,0 683.34,0 683.34,-36\"/>\n",
       "<text text-anchor=\"middle\" x=\"637.34\" y=\"-14.3\" font-family=\"Times,serif\" font-size=\"14.00\">df_to_html</text>\n",
       "</g>\n",
       "<!-- df_to_pickle -->\n",
       "<g id=\"node10\" class=\"node\">\n",
       "<title>df_to_pickle</title>\n",
       "<polygon fill=\"none\" stroke=\"black\" points=\"425.84,-36 324.84,-36 324.84,0 425.84,0 425.84,-36\"/>\n",
       "<text text-anchor=\"middle\" x=\"375.34\" y=\"-14.3\" font-family=\"Times,serif\" font-size=\"14.00\">df_to_pickle</text>\n",
       "</g>\n",
       "<!-- df_to_pickle_build_result&#45;&gt;df_to_pickle -->\n",
       "<g id=\"edge23\" class=\"edge\">\n",
       "<title>df_to_pickle_build_result&#45;&gt;df_to_pickle</title>\n",
       "<path fill=\"none\" stroke=\"black\" d=\"M375.34,-71.7C375.34,-63.98 375.34,-54.71 375.34,-46.11\"/>\n",
       "<polygon fill=\"black\" stroke=\"black\" points=\"378.84,-46.1 375.34,-36.1 371.84,-46.1 378.84,-46.1\"/>\n",
       "</g>\n",
       "<!-- spend_std_dev -->\n",
       "<g id=\"node9\" class=\"node\">\n",
       "<title>spend_std_dev</title>\n",
       "<ellipse fill=\"none\" stroke=\"black\" cx=\"719.34\" cy=\"-306\" rx=\"78.79\" ry=\"18\"/>\n",
       "<text text-anchor=\"middle\" x=\"719.34\" y=\"-302.3\" font-family=\"Times,serif\" font-size=\"14.00\">spend_std_dev</text>\n",
       "</g>\n",
       "<!-- spend_zero_mean_unit_variance -->\n",
       "<g id=\"node18\" class=\"node\">\n",
       "<title>spend_zero_mean_unit_variance</title>\n",
       "<polygon fill=\"none\" stroke=\"black\" points=\"951.84,-180 706.84,-180 706.84,-144 951.84,-144 951.84,-180\"/>\n",
       "<text text-anchor=\"middle\" x=\"829.34\" y=\"-158.3\" font-family=\"Times,serif\" font-size=\"14.00\">spend_zero_mean_unit_variance</text>\n",
       "</g>\n",
       "<!-- spend_std_dev&#45;&gt;spend_zero_mean_unit_variance -->\n",
       "<g id=\"edge39\" class=\"edge\">\n",
       "<title>spend_std_dev&#45;&gt;spend_zero_mean_unit_variance</title>\n",
       "<path fill=\"none\" stroke=\"black\" d=\"M719.02,-287.96C719.49,-268.73 722.86,-237.37 738.34,-216 747.67,-203.13 761.15,-192.88 774.9,-184.97\"/>\n",
       "<polygon fill=\"black\" stroke=\"black\" points=\"776.79,-187.93 783.93,-180.1 773.47,-181.76 776.79,-187.93\"/>\n",
       "</g>\n",
       "<!-- spend_zero_mean&#45;&gt;spend_zero_mean_unit_variance -->\n",
       "<g id=\"edge38\" class=\"edge\">\n",
       "<title>spend_zero_mean&#45;&gt;spend_zero_mean_unit_variance</title>\n",
       "<path fill=\"none\" stroke=\"black\" d=\"M837.62,-215.7C836.41,-207.98 834.95,-198.71 833.6,-190.11\"/>\n",
       "<polygon fill=\"black\" stroke=\"black\" points=\"837.04,-189.44 832.03,-180.1 830.12,-190.53 837.04,-189.44\"/>\n",
       "</g>\n",
       "<!-- df_to_html_build_result&#45;&gt;df_to_html -->\n",
       "<g id=\"edge16\" class=\"edge\">\n",
       "<title>df_to_html_build_result&#45;&gt;df_to_html</title>\n",
       "<path fill=\"none\" stroke=\"black\" d=\"M637.34,-71.7C637.34,-63.98 637.34,-54.71 637.34,-46.11\"/>\n",
       "<polygon fill=\"black\" stroke=\"black\" points=\"640.84,-46.1 637.34,-36.1 633.84,-46.1 640.84,-46.1\"/>\n",
       "</g>\n",
       "<!-- signups -->\n",
       "<g id=\"node13\" class=\"node\">\n",
       "<title>signups</title>\n",
       "<polygon fill=\"none\" stroke=\"black\" stroke-dasharray=\"5,2\" points=\"433.84,-252 314.84,-252 314.84,-216 433.84,-216 433.84,-252\"/>\n",
       "<text text-anchor=\"middle\" x=\"374.34\" y=\"-230.3\" font-family=\"Times,serif\" font-size=\"14.00\">Input: signups</text>\n",
       "</g>\n",
       "<!-- signups&#45;&gt;df_to_json_build_result -->\n",
       "<g id=\"edge2\" class=\"edge\">\n",
       "<title>signups&#45;&gt;df_to_json_build_result</title>\n",
       "<path fill=\"none\" stroke=\"black\" d=\"M343.22,-215.87C296.06,-189.92 206.56,-140.66 155.19,-112.39\"/>\n",
       "<polygon fill=\"black\" stroke=\"black\" points=\"156.82,-109.29 146.37,-107.53 153.45,-115.42 156.82,-109.29\"/>\n",
       "</g>\n",
       "<!-- signups&#45;&gt;spend_per_signup -->\n",
       "<g id=\"edge7\" class=\"edge\">\n",
       "<title>signups&#45;&gt;spend_per_signup</title>\n",
       "<path fill=\"none\" stroke=\"black\" d=\"M397.82,-215.7C409.9,-206.8 424.79,-195.82 437.86,-186.2\"/>\n",
       "<polygon fill=\"black\" stroke=\"black\" points=\"440.15,-188.85 446.13,-180.1 436,-183.22 440.15,-188.85\"/>\n",
       "</g>\n",
       "<!-- signups&#45;&gt;df_to_xml_build_result -->\n",
       "<g id=\"edge9\" class=\"edge\">\n",
       "<title>signups&#45;&gt;df_to_xml_build_result</title>\n",
       "<path fill=\"none\" stroke=\"black\" d=\"M433.91,-229.77C579.66,-221.59 943.7,-199.31 961.34,-180 972.13,-168.19 968.61,-158.25 961.34,-144 954.82,-131.2 943.59,-120.77 931.88,-112.65\"/>\n",
       "<polygon fill=\"black\" stroke=\"black\" points=\"933.62,-109.61 923.32,-107.15 929.84,-115.5 933.62,-109.61\"/>\n",
       "</g>\n",
       "<!-- signups&#45;&gt;df_to_pickle_build_result -->\n",
       "<g id=\"edge18\" class=\"edge\">\n",
       "<title>signups&#45;&gt;df_to_pickle_build_result</title>\n",
       "<path fill=\"none\" stroke=\"black\" d=\"M366.03,-215.79C361.6,-205.63 356.6,-192.38 354.34,-180 351.47,-164.26 351.34,-159.72 354.34,-144 356.05,-135.06 359.24,-125.7 362.63,-117.37\"/>\n",
       "<polygon fill=\"black\" stroke=\"black\" points=\"365.85,-118.73 366.62,-108.17 359.43,-115.95 365.85,-118.73\"/>\n",
       "</g>\n",
       "<!-- signups&#45;&gt;df_to_html_build_result -->\n",
       "<g id=\"edge27\" class=\"edge\">\n",
       "<title>signups&#45;&gt;df_to_html_build_result</title>\n",
       "<path fill=\"none\" stroke=\"black\" d=\"M371.57,-215.82C369.4,-195.87 369.28,-163.25 387.34,-144 398.55,-132.05 480.01,-116.25 546.95,-105.02\"/>\n",
       "<polygon fill=\"black\" stroke=\"black\" points=\"547.84,-108.42 557.13,-103.33 546.69,-101.52 547.84,-108.42\"/>\n",
       "</g>\n",
       "<!-- signups&#45;&gt;df_to_sql_build_result -->\n",
       "<g id=\"edge32\" class=\"edge\">\n",
       "<title>signups&#45;&gt;df_to_sql_build_result</title>\n",
       "<path fill=\"none\" stroke=\"black\" d=\"M433.99,-231.05C565.77,-226.21 877.96,-211.69 978.34,-180 1024.71,-165.36 1072.3,-135.06 1102.06,-113.9\"/>\n",
       "<polygon fill=\"black\" stroke=\"black\" points=\"1104.28,-116.62 1110.34,-107.93 1100.18,-110.94 1104.28,-116.62\"/>\n",
       "</g>\n",
       "<!-- df_to_sql_build_result&#45;&gt;df_to_sql -->\n",
       "<g id=\"edge15\" class=\"edge\">\n",
       "<title>df_to_sql_build_result&#45;&gt;df_to_sql</title>\n",
       "<path fill=\"none\" stroke=\"black\" d=\"M1132.34,-71.7C1132.34,-63.98 1132.34,-54.71 1132.34,-46.11\"/>\n",
       "<polygon fill=\"black\" stroke=\"black\" points=\"1135.84,-46.1 1132.34,-36.1 1128.84,-46.1 1135.84,-46.1\"/>\n",
       "</g>\n",
       "<!-- avg_3wk_spend -->\n",
       "<g id=\"node15\" class=\"node\">\n",
       "<title>avg_3wk_spend</title>\n",
       "<polygon fill=\"none\" stroke=\"black\" points=\"688.34,-180 560.34,-180 560.34,-144 688.34,-144 688.34,-180\"/>\n",
       "<text text-anchor=\"middle\" x=\"624.34\" y=\"-158.3\" font-family=\"Times,serif\" font-size=\"14.00\">avg_3wk_spend</text>\n",
       "</g>\n",
       "<!-- avg_3wk_spend&#45;&gt;df_to_json_build_result -->\n",
       "<g id=\"edge3\" class=\"edge\">\n",
       "<title>avg_3wk_spend&#45;&gt;df_to_json_build_result</title>\n",
       "<path fill=\"none\" stroke=\"black\" d=\"M560.33,-145.66C557.3,-145.07 554.29,-144.51 551.34,-144 414.69,-120.23 378.95,-125.35 241.34,-108 231.13,-106.71 220.46,-105.33 209.84,-103.92\"/>\n",
       "<polygon fill=\"black\" stroke=\"black\" points=\"210.06,-100.42 199.69,-102.57 209.14,-107.36 210.06,-100.42\"/>\n",
       "</g>\n",
       "<!-- avg_3wk_spend&#45;&gt;df_to_xml_build_result -->\n",
       "<g id=\"edge10\" class=\"edge\">\n",
       "<title>avg_3wk_spend&#45;&gt;df_to_xml_build_result</title>\n",
       "<path fill=\"none\" stroke=\"black\" d=\"M688.58,-143.97C729.33,-133.16 781.9,-119.22 822.88,-108.36\"/>\n",
       "<polygon fill=\"black\" stroke=\"black\" points=\"824,-111.68 832.77,-105.73 822.21,-104.91 824,-111.68\"/>\n",
       "</g>\n",
       "<!-- avg_3wk_spend&#45;&gt;df_to_pickle_build_result -->\n",
       "<g id=\"edge19\" class=\"edge\">\n",
       "<title>avg_3wk_spend&#45;&gt;df_to_pickle_build_result</title>\n",
       "<path fill=\"none\" stroke=\"black\" d=\"M563.75,-143.97C526.22,-133.42 478.06,-119.88 439.82,-109.13\"/>\n",
       "<polygon fill=\"black\" stroke=\"black\" points=\"440.4,-105.65 429.83,-106.32 438.51,-112.39 440.4,-105.65\"/>\n",
       "</g>\n",
       "<!-- avg_3wk_spend&#45;&gt;df_to_html_build_result -->\n",
       "<g id=\"edge28\" class=\"edge\">\n",
       "<title>avg_3wk_spend&#45;&gt;df_to_html_build_result</title>\n",
       "<path fill=\"none\" stroke=\"black\" d=\"M627.55,-143.7C628.99,-135.98 630.71,-126.71 632.3,-118.11\"/>\n",
       "<polygon fill=\"black\" stroke=\"black\" points=\"635.78,-118.58 634.16,-108.1 628.9,-117.3 635.78,-118.58\"/>\n",
       "</g>\n",
       "<!-- avg_3wk_spend&#45;&gt;df_to_sql_build_result -->\n",
       "<g id=\"edge33\" class=\"edge\">\n",
       "<title>avg_3wk_spend&#45;&gt;df_to_sql_build_result</title>\n",
       "<path fill=\"none\" stroke=\"black\" d=\"M688.43,-145.82C691.77,-145.17 695.09,-144.56 698.34,-144 836.35,-120.29 872.44,-125.74 1011.34,-108 1021.39,-106.72 1031.89,-105.32 1042.34,-103.9\"/>\n",
       "<polygon fill=\"black\" stroke=\"black\" points=\"1042.89,-107.36 1052.32,-102.53 1041.94,-100.42 1042.89,-107.36\"/>\n",
       "</g>\n",
       "<!-- spend -->\n",
       "<g id=\"node16\" class=\"node\">\n",
       "<title>spend</title>\n",
       "<polygon fill=\"none\" stroke=\"black\" stroke-dasharray=\"5,2\" points=\"825.84,-396 718.84,-396 718.84,-360 825.84,-360 825.84,-396\"/>\n",
       "<text text-anchor=\"middle\" x=\"772.34\" y=\"-374.3\" font-family=\"Times,serif\" font-size=\"14.00\">Input: spend</text>\n",
       "</g>\n",
       "<!-- spend&#45;&gt;df_to_json_build_result -->\n",
       "<g id=\"edge1\" class=\"edge\">\n",
       "<title>spend&#45;&gt;df_to_json_build_result</title>\n",
       "<path fill=\"none\" stroke=\"black\" d=\"M718.5,-374.43C620.54,-369.06 417.48,-354.53 354.34,-324 252.93,-274.96 168.04,-165.64 133.25,-116.17\"/>\n",
       "<polygon fill=\"black\" stroke=\"black\" points=\"136.11,-114.15 127.54,-107.93 130.36,-118.14 136.11,-114.15\"/>\n",
       "</g>\n",
       "<!-- spend&#45;&gt;spend_per_signup -->\n",
       "<g id=\"edge6\" class=\"edge\">\n",
       "<title>spend&#45;&gt;spend_per_signup</title>\n",
       "<path fill=\"none\" stroke=\"black\" d=\"M718.81,-366.88C685.87,-358.91 643.89,-345.47 611.34,-324 556.07,-287.55 509.14,-224.17 485.58,-188.78\"/>\n",
       "<polygon fill=\"black\" stroke=\"black\" points=\"488.24,-186.45 479.83,-180 482.38,-190.29 488.24,-186.45\"/>\n",
       "</g>\n",
       "<!-- spend&#45;&gt;df_to_xml_build_result -->\n",
       "<g id=\"edge8\" class=\"edge\">\n",
       "<title>spend&#45;&gt;df_to_xml_build_result</title>\n",
       "<path fill=\"none\" stroke=\"black\" d=\"M826.01,-373.84C894.39,-368.56 1006.81,-355.26 1032.34,-324 1082.94,-262.04 1078.11,-209.61 1032.34,-144 1019.72,-125.91 1000.19,-113.97 979.55,-106.11\"/>\n",
       "<polygon fill=\"black\" stroke=\"black\" points=\"980.6,-102.77 970.01,-102.77 978.29,-109.37 980.6,-102.77\"/>\n",
       "</g>\n",
       "<!-- spend&#45;&gt;spend_mean -->\n",
       "<g id=\"edge14\" class=\"edge\">\n",
       "<title>spend&#45;&gt;spend_mean</title>\n",
       "<path fill=\"none\" stroke=\"black\" d=\"M809.03,-359.88C830.81,-349.71 858.49,-336.8 881.03,-326.28\"/>\n",
       "<polygon fill=\"black\" stroke=\"black\" points=\"882.77,-329.33 890.35,-321.93 879.81,-322.99 882.77,-329.33\"/>\n",
       "</g>\n",
       "<!-- spend&#45;&gt;df_to_pickle_build_result -->\n",
       "<g id=\"edge17\" class=\"edge\">\n",
       "<title>spend&#45;&gt;df_to_pickle_build_result</title>\n",
       "<path fill=\"none\" stroke=\"black\" d=\"M718.61,-370.79C606.85,-356.66 355.55,-318.07 305.34,-252 272.73,-209.09 318.57,-148.65 350.04,-115.36\"/>\n",
       "<polygon fill=\"black\" stroke=\"black\" points=\"352.82,-117.51 357.28,-107.9 347.8,-112.64 352.82,-117.51\"/>\n",
       "</g>\n",
       "<!-- spend&#45;&gt;spend_std_dev -->\n",
       "<g id=\"edge22\" class=\"edge\">\n",
       "<title>spend&#45;&gt;spend_std_dev</title>\n",
       "<path fill=\"none\" stroke=\"black\" d=\"M759.24,-359.7C752.95,-351.39 745.29,-341.28 738.37,-332.14\"/>\n",
       "<polygon fill=\"black\" stroke=\"black\" points=\"741.12,-329.96 732.29,-324.1 735.54,-334.19 741.12,-329.96\"/>\n",
       "</g>\n",
       "<!-- spend&#45;&gt;spend_zero_mean -->\n",
       "<g id=\"edge24\" class=\"edge\">\n",
       "<title>spend&#45;&gt;spend_zero_mean</title>\n",
       "<path fill=\"none\" stroke=\"black\" d=\"M785.05,-359.94C792.21,-349.84 800.96,-336.59 807.34,-324 817.54,-303.88 826.27,-279.83 832.18,-261.8\"/>\n",
       "<polygon fill=\"black\" stroke=\"black\" points=\"835.54,-262.81 835.25,-252.22 828.87,-260.68 835.54,-262.81\"/>\n",
       "</g>\n",
       "<!-- spend&#45;&gt;df_to_html_build_result -->\n",
       "<g id=\"edge26\" class=\"edge\">\n",
       "<title>spend&#45;&gt;df_to_html_build_result</title>\n",
       "<path fill=\"none\" stroke=\"black\" d=\"M826.07,-372.05C886.24,-365.26 978.12,-350.75 999.34,-324 1034.41,-279.8 1051.68,-226.07 961.34,-144 952.79,-136.23 825.17,-117.05 732.69,-104.03\"/>\n",
       "<polygon fill=\"black\" stroke=\"black\" points=\"733.12,-100.55 722.73,-102.63 732.15,-107.49 733.12,-100.55\"/>\n",
       "</g>\n",
       "<!-- spend&#45;&gt;df_to_sql_build_result -->\n",
       "<g id=\"edge31\" class=\"edge\">\n",
       "<title>spend&#45;&gt;df_to_sql_build_result</title>\n",
       "<path fill=\"none\" stroke=\"black\" d=\"M825.88,-373.45C898.62,-367.59 1023.51,-353.46 1057.34,-324 1118.42,-270.81 1130.12,-167.68 1132.12,-118.45\"/>\n",
       "<polygon fill=\"black\" stroke=\"black\" points=\"1135.62,-118.35 1132.42,-108.25 1128.62,-118.14 1135.62,-118.35\"/>\n",
       "</g>\n",
       "<!-- spend&#45;&gt;avg_3wk_spend -->\n",
       "<g id=\"edge36\" class=\"edge\">\n",
       "<title>spend&#45;&gt;avg_3wk_spend</title>\n",
       "<path fill=\"none\" stroke=\"black\" d=\"M718.7,-371.27C687.9,-364.96 651.45,-351.74 631.34,-324 602.76,-284.59 609.8,-224.37 617.24,-189.84\"/>\n",
       "<polygon fill=\"black\" stroke=\"black\" points=\"620.67,-190.53 619.52,-180 613.85,-188.95 620.67,-190.53\"/>\n",
       "</g>\n",
       "<!-- spend_zero_mean_unit_variance&#45;&gt;df_to_json_build_result -->\n",
       "<g id=\"edge5\" class=\"edge\">\n",
       "<title>spend_zero_mean_unit_variance&#45;&gt;df_to_json_build_result</title>\n",
       "<path fill=\"none\" stroke=\"black\" d=\"M706.75,-145C703.58,-144.66 700.44,-144.32 697.34,-144 495.13,-123.01 443.47,-129.71 241.34,-108 230.67,-106.85 219.5,-105.52 208.42,-104.12\"/>\n",
       "<polygon fill=\"black\" stroke=\"black\" points=\"208.66,-100.62 198.29,-102.82 207.76,-107.57 208.66,-100.62\"/>\n",
       "</g>\n",
       "<!-- spend_zero_mean_unit_variance&#45;&gt;df_to_xml_build_result -->\n",
       "<g id=\"edge12\" class=\"edge\">\n",
       "<title>spend_zero_mean_unit_variance&#45;&gt;df_to_xml_build_result</title>\n",
       "<path fill=\"none\" stroke=\"black\" d=\"M843.92,-143.7C851,-135.3 859.62,-125.07 867.39,-115.86\"/>\n",
       "<polygon fill=\"black\" stroke=\"black\" points=\"870.15,-118.01 873.92,-108.1 864.8,-113.49 870.15,-118.01\"/>\n",
       "</g>\n",
       "<!-- spend_zero_mean_unit_variance&#45;&gt;df_to_pickle_build_result -->\n",
       "<g id=\"edge21\" class=\"edge\">\n",
       "<title>spend_zero_mean_unit_variance&#45;&gt;df_to_pickle_build_result</title>\n",
       "<path fill=\"none\" stroke=\"black\" d=\"M718.86,-143.97C641.78,-132.08 540.1,-116.4 467.4,-105.19\"/>\n",
       "<polygon fill=\"black\" stroke=\"black\" points=\"467.76,-101.71 457.34,-103.64 466.69,-108.63 467.76,-101.71\"/>\n",
       "</g>\n",
       "<!-- spend_zero_mean_unit_variance&#45;&gt;df_to_html_build_result -->\n",
       "<g id=\"edge30\" class=\"edge\">\n",
       "<title>spend_zero_mean_unit_variance&#45;&gt;df_to_html_build_result</title>\n",
       "<path fill=\"none\" stroke=\"black\" d=\"M782.37,-143.88C754.54,-133.73 719.2,-120.85 690.37,-110.33\"/>\n",
       "<polygon fill=\"black\" stroke=\"black\" points=\"691.46,-107.01 680.87,-106.87 689.06,-113.58 691.46,-107.01\"/>\n",
       "</g>\n",
       "<!-- spend_zero_mean_unit_variance&#45;&gt;df_to_sql_build_result -->\n",
       "<g id=\"edge35\" class=\"edge\">\n",
       "<title>spend_zero_mean_unit_variance&#45;&gt;df_to_sql_build_result</title>\n",
       "<path fill=\"none\" stroke=\"black\" d=\"M903.07,-143.97C951.16,-132.86 1013.57,-118.44 1061.14,-107.45\"/>\n",
       "<polygon fill=\"black\" stroke=\"black\" points=\"1062.1,-110.82 1071.05,-105.16 1060.52,-104 1062.1,-110.82\"/>\n",
       "</g>\n",
       "</g>\n",
       "</svg>\n"
      ],
      "text/plain": [
       "<graphviz.graphs.Digraph at 0x7f099c7bf8b0>"
      ]
     },
     "execution_count": 25,
     "metadata": {},
     "output_type": "execute_result"
    }
   ],
   "source": [
    "materializers = [\n",
    "    # materialize the dataframe to a pickle file\n",
    "    to.pickle(\n",
    "        dependencies=output_columns,\n",
    "        id=\"df_to_pickle\",\n",
    "        path=\"./df.pkl\",\n",
    "        combine=df_builder,\n",
    "    ),\n",
    "    # materialize the dataframe to a JSON file\n",
    "    to.json(\n",
    "        dependencies=output_columns,\n",
    "        id=\"df_to_json\",\n",
    "        filepath_or_buffer=\"./df.json\",\n",
    "        combine=df_builder,\n",
    "    ),\n",
    "    to.sql(\n",
    "        dependencies=output_columns,\n",
    "        id=\"df_to_sql\",\n",
    "        table_name=\"test\",\n",
    "        db_connection=conn,\n",
    "        combine=df_builder,\n",
    "    ),\n",
    "    # materialize the dataframe to a XML file\n",
    "    to.xml(\n",
    "        dependencies=output_columns,\n",
    "        id=\"df_to_xml\",\n",
    "        path_or_buffer=\"./df.xml\",\n",
    "        combine=df_builder,\n",
    "    ),\n",
    "    to.html(\n",
    "        dependencies=output_columns,\n",
    "        id=\"df_to_html\",\n",
    "        buf=\"./df.html\",\n",
    "        combine=df_builder,\n",
    "    ),\n",
    "]\n",
    "# Visualize what is happening\n",
    "dr.visualize_materialization(\n",
    "    *materializers,\n",
    "    additional_vars=output_columns,\n",
    "    inputs=initial_columns,\n",
    ")"
   ]
  },
  {
   "cell_type": "code",
   "execution_count": 26,
   "metadata": {
    "ExecuteTime": {
     "end_time": "2023-09-17T05:43:34.026203Z",
     "start_time": "2023-09-17T05:43:34.016610Z"
    }
   },
   "outputs": [],
   "source": [
    "# Materialize a result, i.e. execute the DAG!\n",
    "materialization_results, additional_outputs = dr.materialize(\n",
    "    *materializers,\n",
    "    additional_vars=[\n",
    "        \"df_to_pickle_build_result\",\n",
    "        \"df_to_json_build_result\",\n",
    "        \"df_to_sql_build_result\",\n",
    "        \"df_to_xml_build_result\",\n",
    "        \"df_to_html_build_result\",\n",
    "    ],  # because combine is used, we can get that result here.\n",
    "    inputs=initial_columns,\n",
    ")"
   ]
  },
  {
   "cell_type": "code",
   "execution_count": 27,
   "metadata": {
    "ExecuteTime": {
     "end_time": "2023-09-17T05:43:34.041466Z",
     "start_time": "2023-09-17T05:43:34.028346Z"
    }
   },
   "outputs": [
    {
     "data": {
      "text/plain": [
       "{'df_to_pickle': {'size': 1088,\n",
       "  'path': './df.pkl',\n",
       "  'last_modified': 1695588236.2880533,\n",
       "  'timestamp': 1695613436.2945},\n",
       " 'df_to_json': {'size': 428,\n",
       "  'path': './df.json',\n",
       "  'last_modified': 1695588236.2920532,\n",
       "  'timestamp': 1695613436.296161},\n",
       " 'df_to_sql': {'rows': 6,\n",
       "  'query': None,\n",
       "  'table_name': 'test',\n",
       "  'timestamp': 1695613436.308873},\n",
       " 'df_to_xml': {'size': 1622,\n",
       "  'path': './df.xml',\n",
       "  'last_modified': 1695588236.308054,\n",
       "  'timestamp': 1695613436.312451},\n",
       " 'df_to_html': {'size': 1145,\n",
       "  'path': './df.html',\n",
       "  'last_modified': 1695588236.312054,\n",
       "  'timestamp': 1695613436.315836}}"
      ]
     },
     "execution_count": 27,
     "metadata": {},
     "output_type": "execute_result"
    }
   ],
   "source": [
    "materialization_results"
   ]
  },
  {
   "cell_type": "code",
   "execution_count": 28,
   "metadata": {
    "ExecuteTime": {
     "end_time": "2023-09-17T05:43:34.051151Z",
     "start_time": "2023-09-17T05:43:34.043320Z"
    }
   },
   "outputs": [
    {
     "data": {
      "text/html": [
       "<div>\n",
       "<style scoped>\n",
       "    .dataframe tbody tr th:only-of-type {\n",
       "        vertical-align: middle;\n",
       "    }\n",
       "\n",
       "    .dataframe tbody tr th {\n",
       "        vertical-align: top;\n",
       "    }\n",
       "\n",
       "    .dataframe thead th {\n",
       "        text-align: right;\n",
       "    }\n",
       "</style>\n",
       "<table border=\"1\" class=\"dataframe\">\n",
       "  <thead>\n",
       "    <tr style=\"text-align: right;\">\n",
       "      <th></th>\n",
       "      <th>spend</th>\n",
       "      <th>signups</th>\n",
       "      <th>avg_3wk_spend</th>\n",
       "      <th>spend_per_signup</th>\n",
       "      <th>spend_zero_mean_unit_variance</th>\n",
       "    </tr>\n",
       "  </thead>\n",
       "  <tbody>\n",
       "    <tr>\n",
       "      <th>0</th>\n",
       "      <td>10</td>\n",
       "      <td>1</td>\n",
       "      <td>NaN</td>\n",
       "      <td>10.000</td>\n",
       "      <td>-1.064405</td>\n",
       "    </tr>\n",
       "    <tr>\n",
       "      <th>1</th>\n",
       "      <td>10</td>\n",
       "      <td>10</td>\n",
       "      <td>NaN</td>\n",
       "      <td>1.000</td>\n",
       "      <td>-1.064405</td>\n",
       "    </tr>\n",
       "    <tr>\n",
       "      <th>2</th>\n",
       "      <td>20</td>\n",
       "      <td>50</td>\n",
       "      <td>13.333333</td>\n",
       "      <td>0.400</td>\n",
       "      <td>-0.483821</td>\n",
       "    </tr>\n",
       "    <tr>\n",
       "      <th>3</th>\n",
       "      <td>40</td>\n",
       "      <td>100</td>\n",
       "      <td>23.333333</td>\n",
       "      <td>0.400</td>\n",
       "      <td>0.677349</td>\n",
       "    </tr>\n",
       "    <tr>\n",
       "      <th>4</th>\n",
       "      <td>40</td>\n",
       "      <td>200</td>\n",
       "      <td>33.333333</td>\n",
       "      <td>0.200</td>\n",
       "      <td>0.677349</td>\n",
       "    </tr>\n",
       "    <tr>\n",
       "      <th>5</th>\n",
       "      <td>50</td>\n",
       "      <td>400</td>\n",
       "      <td>43.333333</td>\n",
       "      <td>0.125</td>\n",
       "      <td>1.257934</td>\n",
       "    </tr>\n",
       "  </tbody>\n",
       "</table>\n",
       "</div>"
      ],
      "text/plain": [
       "   spend  signups  avg_3wk_spend  spend_per_signup  \\\n",
       "0     10        1            NaN            10.000   \n",
       "1     10       10            NaN             1.000   \n",
       "2     20       50      13.333333             0.400   \n",
       "3     40      100      23.333333             0.400   \n",
       "4     40      200      33.333333             0.200   \n",
       "5     50      400      43.333333             0.125   \n",
       "\n",
       "   spend_zero_mean_unit_variance  \n",
       "0                      -1.064405  \n",
       "1                      -1.064405  \n",
       "2                      -0.483821  \n",
       "3                       0.677349  \n",
       "4                       0.677349  \n",
       "5                       1.257934  "
      ]
     },
     "execution_count": 28,
     "metadata": {},
     "output_type": "execute_result"
    }
   ],
   "source": [
    "additional_outputs[\"df_to_pickle_build_result\"]"
   ]
  },
  {
   "cell_type": "code",
   "execution_count": 29,
   "metadata": {
    "ExecuteTime": {
     "end_time": "2023-09-17T05:43:34.058608Z",
     "start_time": "2023-09-17T05:43:34.048662Z"
    },
    "pycharm": {
     "name": "#%%\n"
    }
   },
   "outputs": [
    {
     "data": {
      "text/html": [
       "<div>\n",
       "<style scoped>\n",
       "    .dataframe tbody tr th:only-of-type {\n",
       "        vertical-align: middle;\n",
       "    }\n",
       "\n",
       "    .dataframe tbody tr th {\n",
       "        vertical-align: top;\n",
       "    }\n",
       "\n",
       "    .dataframe thead th {\n",
       "        text-align: right;\n",
       "    }\n",
       "</style>\n",
       "<table border=\"1\" class=\"dataframe\">\n",
       "  <thead>\n",
       "    <tr style=\"text-align: right;\">\n",
       "      <th></th>\n",
       "      <th>spend</th>\n",
       "      <th>signups</th>\n",
       "      <th>avg_3wk_spend</th>\n",
       "      <th>spend_per_signup</th>\n",
       "      <th>spend_zero_mean_unit_variance</th>\n",
       "    </tr>\n",
       "  </thead>\n",
       "  <tbody>\n",
       "    <tr>\n",
       "      <th>0</th>\n",
       "      <td>10</td>\n",
       "      <td>1</td>\n",
       "      <td>NaN</td>\n",
       "      <td>10.000</td>\n",
       "      <td>-1.064405</td>\n",
       "    </tr>\n",
       "    <tr>\n",
       "      <th>1</th>\n",
       "      <td>10</td>\n",
       "      <td>10</td>\n",
       "      <td>NaN</td>\n",
       "      <td>1.000</td>\n",
       "      <td>-1.064405</td>\n",
       "    </tr>\n",
       "    <tr>\n",
       "      <th>2</th>\n",
       "      <td>20</td>\n",
       "      <td>50</td>\n",
       "      <td>13.333333</td>\n",
       "      <td>0.400</td>\n",
       "      <td>-0.483821</td>\n",
       "    </tr>\n",
       "    <tr>\n",
       "      <th>3</th>\n",
       "      <td>40</td>\n",
       "      <td>100</td>\n",
       "      <td>23.333333</td>\n",
       "      <td>0.400</td>\n",
       "      <td>0.677349</td>\n",
       "    </tr>\n",
       "    <tr>\n",
       "      <th>4</th>\n",
       "      <td>40</td>\n",
       "      <td>200</td>\n",
       "      <td>33.333333</td>\n",
       "      <td>0.200</td>\n",
       "      <td>0.677349</td>\n",
       "    </tr>\n",
       "    <tr>\n",
       "      <th>5</th>\n",
       "      <td>50</td>\n",
       "      <td>400</td>\n",
       "      <td>43.333333</td>\n",
       "      <td>0.125</td>\n",
       "      <td>1.257934</td>\n",
       "    </tr>\n",
       "  </tbody>\n",
       "</table>\n",
       "</div>"
      ],
      "text/plain": [
       "   spend  signups  avg_3wk_spend  spend_per_signup  \\\n",
       "0     10        1            NaN            10.000   \n",
       "1     10       10            NaN             1.000   \n",
       "2     20       50      13.333333             0.400   \n",
       "3     40      100      23.333333             0.400   \n",
       "4     40      200      33.333333             0.200   \n",
       "5     50      400      43.333333             0.125   \n",
       "\n",
       "   spend_zero_mean_unit_variance  \n",
       "0                      -1.064405  \n",
       "1                      -1.064405  \n",
       "2                      -0.483821  \n",
       "3                       0.677349  \n",
       "4                       0.677349  \n",
       "5                       1.257934  "
      ]
     },
     "execution_count": 29,
     "metadata": {},
     "output_type": "execute_result"
    }
   ],
   "source": [
    "additional_outputs[\"df_to_json_build_result\"]"
   ]
  },
  {
   "cell_type": "code",
   "execution_count": 30,
   "metadata": {
    "ExecuteTime": {
     "end_time": "2023-09-17T05:43:34.089706Z",
     "start_time": "2023-09-17T05:43:34.060251Z"
    },
    "collapsed": false
   },
   "outputs": [
    {
     "name": "stdout",
     "output_type": "stream",
     "text": [
      "   spend  signups  avg_3wk_spend  spend_per_signup  \\\n",
      "0     10        1            NaN            10.000   \n",
      "1     10       10            NaN             1.000   \n",
      "2     20       50      13.333333             0.400   \n",
      "3     40      100      23.333333             0.400   \n",
      "4     40      200      33.333333             0.200   \n",
      "5     50      400      43.333333             0.125   \n",
      "\n",
      "   spend_zero_mean_unit_variance  \n",
      "0                      -1.064405  \n",
      "1                      -1.064405  \n",
      "2                      -0.483821  \n",
      "3                       0.677349  \n",
      "4                       0.677349  \n",
      "5                       1.257934  \n"
     ]
    }
   ],
   "source": [
    "print(additional_outputs[\"df_to_sql_build_result\"])"
   ]
  },
  {
   "cell_type": "code",
   "execution_count": 31,
   "metadata": {},
   "outputs": [
    {
     "name": "stdout",
     "output_type": "stream",
     "text": [
      "   spend  signups  avg_3wk_spend  spend_per_signup  \\\n",
      "0     10        1            NaN            10.000   \n",
      "1     10       10            NaN             1.000   \n",
      "2     20       50      13.333333             0.400   \n",
      "3     40      100      23.333333             0.400   \n",
      "4     40      200      33.333333             0.200   \n",
      "5     50      400      43.333333             0.125   \n",
      "\n",
      "   spend_zero_mean_unit_variance  \n",
      "0                      -1.064405  \n",
      "1                      -1.064405  \n",
      "2                      -0.483821  \n",
      "3                       0.677349  \n",
      "4                       0.677349  \n",
      "5                       1.257934  \n"
     ]
    }
   ],
   "source": [
    "print(additional_outputs[\"df_to_xml_build_result\"])"
   ]
  },
  {
   "cell_type": "code",
   "execution_count": 32,
   "metadata": {},
   "outputs": [
    {
     "name": "stdout",
     "output_type": "stream",
     "text": [
      "   spend  signups  avg_3wk_spend  spend_per_signup  \\\n",
      "0     10        1            NaN            10.000   \n",
      "1     10       10            NaN             1.000   \n",
      "2     20       50      13.333333             0.400   \n",
      "3     40      100      23.333333             0.400   \n",
      "4     40      200      33.333333             0.200   \n",
      "5     50      400      43.333333             0.125   \n",
      "\n",
      "   spend_zero_mean_unit_variance  \n",
      "0                      -1.064405  \n",
      "1                      -1.064405  \n",
      "2                      -0.483821  \n",
      "3                       0.677349  \n",
      "4                       0.677349  \n",
      "5                       1.257934  \n"
     ]
    }
   ],
   "source": [
    "print(additional_outputs[\"df_to_html_build_result\"])"
   ]
  },
  {
   "cell_type": "code",
   "execution_count": 40,
   "metadata": {
    "ExecuteTime": {
     "end_time": "2023-09-17T05:43:34.090208Z",
     "start_time": "2023-09-17T05:43:34.066483Z"
    },
    "collapsed": false
   },
   "outputs": [],
   "source": [
    "# closing out db connection\n",
    "conn.close()"
   ]
  }
 ],
 "metadata": {
  "kernelspec": {
   "display_name": "Python 3 (ipykernel)",
   "language": "python",
   "name": "python3"
  },
  "language_info": {
   "codemirror_mode": {
    "name": "ipython",
    "version": 3
   },
   "file_extension": ".py",
   "mimetype": "text/x-python",
   "name": "python",
   "nbconvert_exporter": "python",
   "pygments_lexer": "ipython3",
   "version": "3.10.12"
  }
 },
 "nbformat": 4,
 "nbformat_minor": 4
}
