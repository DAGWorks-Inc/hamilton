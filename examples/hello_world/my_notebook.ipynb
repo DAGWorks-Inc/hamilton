{
 "cells": [
  {
   "cell_type": "markdown",
   "source": [
    "Uncomment and run the cell below if you are in a Google Colab environment. It will:\n",
    "1. Mount google drive. You will be asked to authenticate and give permissions.\n",
    "2. Change directory to google drive.\n",
    "3. Make a directory \"hamilton-tutorials\"\n",
    "4. Change directory to it.\n",
    "5. Clone this repository to your google drive\n",
    "6. Move your current directory to the hello_world example\n",
    "7. Install requirements.\n",
    "\n",
    "This means that any modifications will be saved, and you won't lose them if you close your browser."
   ],
   "metadata": {
    "collapsed": false
   }
  },
  {
   "cell_type": "code",
   "execution_count": null,
   "outputs": [],
   "source": [
    "## 1. Mount google drive\n",
    "# from google.colab import drive\n",
    "# drive.mount('/content/drive')\n",
    "## 2. Change directory to google drive.\n",
    "# %cd /content/drive/MyDrive\n",
    "## 3. Make a directory \"hamilton-tutorials\"\n",
    "# !mkdir hamilton-tutorials\n",
    "## 4. Change directory to it.\n",
    "# %cd hamilton-tutorials\n",
    "## 5. Clone this repository to your google drive\n",
    "# !git clone https://github.com/DAGWorks-Inc/hamilton/\n",
    "## 6. Move your current directory to the hello_world example\n",
    "# %cd hamilton/examples/hello_world\n",
    "## 7. Install requirements.\n",
    "# %pip install -r requirements.txt\n",
    "# clear_output()  # optionally clear outputs\n",
    "# To check your current working directory you can type `!pwd` in a cell and run it."
   ],
   "metadata": {
    "collapsed": false
   }
  },
  {
   "cell_type": "code",
   "execution_count": 1,
   "outputs": [],
   "source": [
    "# Cell 1 - import the things you need\n",
    "import logging\n",
    "import sys\n",
    "\n",
    "import numpy as np\n",
    "import pandas as pd\n",
    "\n",
    "from hamilton import ad_hoc_utils, driver\n",
    "\n",
    "logging.basicConfig(stream=sys.stdout)"
   ],
   "metadata": {
    "collapsed": false,
    "ExecuteTime": {
     "end_time": "2023-05-22T22:27:16.952106Z",
     "start_time": "2023-05-22T22:27:15.116241Z"
    }
   }
  },
  {
   "cell_type": "code",
   "execution_count": 2,
   "metadata": {
    "pycharm": {
     "name": "#%%\n"
    },
    "ExecuteTime": {
     "end_time": "2023-05-22T22:27:16.982107Z",
     "start_time": "2023-05-22T22:27:16.954791Z"
    }
   },
   "outputs": [],
   "source": [
    "# Cell 2 - import modules to create part of the DAG from\n",
    "# We use the autoreload extension that comes with ipython to automatically reload modules when\n",
    "# the code in them changes.\n",
    "\n",
    "# import the jupyter extension\n",
    "%load_ext autoreload\n",
    "# set it to only reload the modules imported\n",
    "%autoreload 1\n",
    "# import the function modules you want to reload when they change.\n",
    "# i.e. these should be your modules you write your functions in. As you change them,\n",
    "# they will be reimported without you having to do anything.\n",
    "%aimport my_functions"
   ]
  },
  {
   "cell_type": "code",
   "execution_count": 3,
   "metadata": {
    "pycharm": {
     "name": "#%%\n"
    },
    "ExecuteTime": {
     "end_time": "2023-05-22T22:27:16.994591Z",
     "start_time": "2023-05-22T22:27:16.987883Z"
    }
   },
   "outputs": [],
   "source": [
    "# Cell 3 - Define your new Hamilton functions & curate them into a TemporaryFunctionModule object.\n",
    "# This enables you to add functions to your DAG without creating a proper module.\n",
    "# This is ONLY INTENDED FOR QUICK DEVELOPMENT. For moving to production move these to an actual module.\n",
    "\n",
    "# Look at `my_functions` to see how these functions connect.\n",
    "def signups() -> pd.Series:\n",
    "    \"\"\"Returns sign up values\"\"\"\n",
    "    return pd.Series([1, 10, 50, 100, 200, 400])\n",
    "\n",
    "\n",
    "def spend() -> pd.Series:\n",
    "    \"\"\"Returns the spend values\"\"\"\n",
    "    return pd.Series([10, 10, 20, 40, 40, 50])\n",
    "\n",
    "\n",
    "def log_spend_per_signup(spend_per_signup: pd.Series) -> pd.Series:\n",
    "    \"\"\"Simple function taking the logarithm of spend over signups.\"\"\"\n",
    "    return np.log(spend_per_signup)\n",
    "\n",
    "\n",
    "# Place the functions into a temporary module -- the idea is that this should house a curated set of functions.\n",
    "# Don't be afraid to make multiple of them -- however we'd advise you to not use this method for production.\n",
    "# Also note, that using a temporary function module does not work for scaling onto Ray, Dask, or Pandas on Spark.\n",
    "temp_module = ad_hoc_utils.create_temporary_module(\n",
    "    spend, signups, log_spend_per_signup, module_name=\"function_example\"\n",
    ")"
   ]
  },
  {
   "cell_type": "code",
   "execution_count": 4,
   "metadata": {
    "pycharm": {
     "name": "#%%\n"
    },
    "ExecuteTime": {
     "end_time": "2023-05-22T22:27:17.000733Z",
     "start_time": "2023-05-22T22:27:16.996450Z"
    }
   },
   "outputs": [
    {
     "name": "stdout",
     "output_type": "stream",
     "text": [
      "WARNING:hamilton.telemetry:Note: Hamilton collects completely anonymous data about usage. This will help us improve Hamilton over time. See https://github.com/dagworks-inc/hamilton#usage-analytics--data-privacy for details.\n"
     ]
    }
   ],
   "source": [
    "# Cell 4 - Instantiate the Hamilton driver and pass it the right things in.\n",
    "\n",
    "initial_config = {}\n",
    "# we need to tell hamilton where to load function definitions from\n",
    "dr = driver.Driver(initial_config, my_functions, temp_module)  # can pass in multiple modules\n",
    "# we need to specify what we want in the final dataframe.\n",
    "output_columns = [\n",
    "    \"spend\",\n",
    "    \"signups\",\n",
    "    \"avg_3wk_spend\",\n",
    "    \"spend_per_signup\",\n",
    "    \"spend_zero_mean_unit_variance\",\n",
    "]"
   ]
  },
  {
   "cell_type": "code",
   "execution_count": 5,
   "metadata": {
    "ExecuteTime": {
     "end_time": "2023-05-22T22:27:17.374219Z",
     "start_time": "2023-05-22T22:27:17.011356Z"
    }
   },
   "outputs": [
    {
     "data": {
      "image/svg+xml": "<?xml version=\"1.0\" encoding=\"UTF-8\" standalone=\"no\"?>\n<!DOCTYPE svg PUBLIC \"-//W3C//DTD SVG 1.1//EN\"\n \"http://www.w3.org/Graphics/SVG/1.1/DTD/svg11.dtd\">\n<!-- Generated by graphviz version 7.0.4 (20221203.1631)\n -->\n<!-- Pages: 1 -->\n<svg width=\"584pt\" height=\"260pt\"\n viewBox=\"0.00 0.00 584.39 260.00\" xmlns=\"http://www.w3.org/2000/svg\" xmlns:xlink=\"http://www.w3.org/1999/xlink\">\n<g id=\"graph0\" class=\"graph\" transform=\"scale(1 1) rotate(0) translate(4 256)\">\n<polygon fill=\"white\" stroke=\"none\" points=\"-4,4 -4,-256 580.39,-256 580.39,4 -4,4\"/>\n<!-- spend_per_signup -->\n<g id=\"node1\" class=\"node\">\n<title>spend_per_signup</title>\n<ellipse fill=\"none\" stroke=\"black\" cx=\"90.34\" cy=\"-162\" rx=\"74.99\" ry=\"18\"/>\n<text text-anchor=\"middle\" x=\"90.34\" y=\"-158.3\" font-family=\"Times,serif\" font-size=\"14.00\">spend_per_signup</text>\n</g>\n<!-- log_spend_per_signup -->\n<g id=\"node3\" class=\"node\">\n<title>log_spend_per_signup</title>\n<ellipse fill=\"none\" stroke=\"black\" cx=\"90.34\" cy=\"-90\" rx=\"90.18\" ry=\"18\"/>\n<text text-anchor=\"middle\" x=\"90.34\" y=\"-86.3\" font-family=\"Times,serif\" font-size=\"14.00\">log_spend_per_signup</text>\n</g>\n<!-- spend_per_signup&#45;&gt;log_spend_per_signup -->\n<g id=\"edge5\" class=\"edge\">\n<title>spend_per_signup&#45;&gt;log_spend_per_signup</title>\n<path fill=\"none\" stroke=\"black\" d=\"M90.34,-143.7C90.34,-136.41 90.34,-127.73 90.34,-119.54\"/>\n<polygon fill=\"black\" stroke=\"black\" points=\"93.84,-119.62 90.34,-109.62 86.84,-119.62 93.84,-119.62\"/>\n</g>\n<!-- spend_zero_mean -->\n<g id=\"node2\" class=\"node\">\n<title>spend_zero_mean</title>\n<ellipse fill=\"none\" stroke=\"black\" cx=\"357.34\" cy=\"-90\" rx=\"74.99\" ry=\"18\"/>\n<text text-anchor=\"middle\" x=\"357.34\" y=\"-86.3\" font-family=\"Times,serif\" font-size=\"14.00\">spend_zero_mean</text>\n</g>\n<!-- spend_zero_mean_unit_variance -->\n<g id=\"node6\" class=\"node\">\n<title>spend_zero_mean_unit_variance</title>\n<ellipse fill=\"none\" stroke=\"black\" cx=\"435.34\" cy=\"-18\" rx=\"126.98\" ry=\"18\"/>\n<text text-anchor=\"middle\" x=\"435.34\" y=\"-14.3\" font-family=\"Times,serif\" font-size=\"14.00\">spend_zero_mean_unit_variance</text>\n</g>\n<!-- spend_zero_mean&#45;&gt;spend_zero_mean_unit_variance -->\n<g id=\"edge6\" class=\"edge\">\n<title>spend_zero_mean&#45;&gt;spend_zero_mean_unit_variance</title>\n<path fill=\"none\" stroke=\"black\" d=\"M375.83,-72.41C385.33,-63.88 397.1,-53.32 407.67,-43.84\"/>\n<polygon fill=\"black\" stroke=\"black\" points=\"409.94,-46.5 415.05,-37.21 405.27,-41.29 409.94,-46.5\"/>\n</g>\n<!-- spend -->\n<g id=\"node4\" class=\"node\">\n<title>spend</title>\n<ellipse fill=\"none\" stroke=\"black\" cx=\"289.34\" cy=\"-234\" rx=\"31.4\" ry=\"18\"/>\n<text text-anchor=\"middle\" x=\"289.34\" y=\"-230.3\" font-family=\"Times,serif\" font-size=\"14.00\">spend</text>\n</g>\n<!-- spend&#45;&gt;spend_per_signup -->\n<g id=\"edge1\" class=\"edge\">\n<title>spend&#45;&gt;spend_per_signup</title>\n<path fill=\"none\" stroke=\"black\" d=\"M262.92,-223.7C232.18,-212.89 180.73,-194.79 141.98,-181.16\"/>\n<polygon fill=\"black\" stroke=\"black\" points=\"143.44,-177.97 132.84,-177.95 141.11,-184.57 143.44,-177.97\"/>\n</g>\n<!-- spend&#45;&gt;spend_zero_mean -->\n<g id=\"edge3\" class=\"edge\">\n<title>spend&#45;&gt;spend_zero_mean</title>\n<path fill=\"none\" stroke=\"black\" d=\"M263.89,-223.14C245.9,-214.67 223.14,-200.54 212.34,-180 204.9,-165.84 203.17,-157.11 212.34,-144 227.86,-121.8 253.73,-108.87 279.35,-101.35\"/>\n<polygon fill=\"black\" stroke=\"black\" points=\"280.06,-104.78 288.82,-98.83 278.26,-98.02 280.06,-104.78\"/>\n</g>\n<!-- avg_3wk_spend -->\n<g id=\"node7\" class=\"node\">\n<title>avg_3wk_spend</title>\n<ellipse fill=\"none\" stroke=\"black\" cx=\"289.34\" cy=\"-162\" rx=\"67.69\" ry=\"18\"/>\n<text text-anchor=\"middle\" x=\"289.34\" y=\"-158.3\" font-family=\"Times,serif\" font-size=\"14.00\">avg_3wk_spend</text>\n</g>\n<!-- spend&#45;&gt;avg_3wk_spend -->\n<g id=\"edge8\" class=\"edge\">\n<title>spend&#45;&gt;avg_3wk_spend</title>\n<path fill=\"none\" stroke=\"black\" d=\"M289.34,-215.7C289.34,-208.41 289.34,-199.73 289.34,-191.54\"/>\n<polygon fill=\"black\" stroke=\"black\" points=\"292.84,-191.62 289.34,-181.62 285.84,-191.62 292.84,-191.62\"/>\n</g>\n<!-- spend_std_dev -->\n<g id=\"node8\" class=\"node\">\n<title>spend_std_dev</title>\n<ellipse fill=\"none\" stroke=\"black\" cx=\"513.34\" cy=\"-90\" rx=\"63.09\" ry=\"18\"/>\n<text text-anchor=\"middle\" x=\"513.34\" y=\"-86.3\" font-family=\"Times,serif\" font-size=\"14.00\">spend_std_dev</text>\n</g>\n<!-- spend&#45;&gt;spend_std_dev -->\n<g id=\"edge9\" class=\"edge\">\n<title>spend&#45;&gt;spend_std_dev</title>\n<path fill=\"none\" stroke=\"black\" d=\"M319.99,-229.05C371.08,-221.84 470.43,-204.95 494.34,-180 509.64,-164.03 513.89,-138.93 514.6,-119.44\"/>\n<polygon fill=\"black\" stroke=\"black\" points=\"518.1,-119.7 514.64,-109.68 511.1,-119.67 518.1,-119.7\"/>\n</g>\n<!-- spend_mean -->\n<g id=\"node9\" class=\"node\">\n<title>spend_mean</title>\n<ellipse fill=\"none\" stroke=\"black\" cx=\"430.34\" cy=\"-162\" rx=\"55.49\" ry=\"18\"/>\n<text text-anchor=\"middle\" x=\"430.34\" y=\"-158.3\" font-family=\"Times,serif\" font-size=\"14.00\">spend_mean</text>\n</g>\n<!-- spend&#45;&gt;spend_mean -->\n<g id=\"edge10\" class=\"edge\">\n<title>spend&#45;&gt;spend_mean</title>\n<path fill=\"none\" stroke=\"black\" d=\"M312.63,-221.44C333.87,-210.89 365.7,-195.09 390.9,-182.58\"/>\n<polygon fill=\"black\" stroke=\"black\" points=\"392.14,-185.87 399.54,-178.29 389.03,-179.6 392.14,-185.87\"/>\n</g>\n<!-- signups -->\n<g id=\"node5\" class=\"node\">\n<title>signups</title>\n<ellipse fill=\"none\" stroke=\"black\" cx=\"90.34\" cy=\"-234\" rx=\"37.89\" ry=\"18\"/>\n<text text-anchor=\"middle\" x=\"90.34\" y=\"-230.3\" font-family=\"Times,serif\" font-size=\"14.00\">signups</text>\n</g>\n<!-- signups&#45;&gt;spend_per_signup -->\n<g id=\"edge2\" class=\"edge\">\n<title>signups&#45;&gt;spend_per_signup</title>\n<path fill=\"none\" stroke=\"black\" d=\"M90.34,-215.7C90.34,-208.41 90.34,-199.73 90.34,-191.54\"/>\n<polygon fill=\"black\" stroke=\"black\" points=\"93.84,-191.62 90.34,-181.62 86.84,-191.62 93.84,-191.62\"/>\n</g>\n<!-- spend_std_dev&#45;&gt;spend_zero_mean_unit_variance -->\n<g id=\"edge7\" class=\"edge\">\n<title>spend_std_dev&#45;&gt;spend_zero_mean_unit_variance</title>\n<path fill=\"none\" stroke=\"black\" d=\"M494.86,-72.41C485.35,-63.88 473.58,-53.32 463.02,-43.84\"/>\n<polygon fill=\"black\" stroke=\"black\" points=\"465.42,-41.29 455.64,-37.21 460.74,-46.5 465.42,-41.29\"/>\n</g>\n<!-- spend_mean&#45;&gt;spend_zero_mean -->\n<g id=\"edge4\" class=\"edge\">\n<title>spend_mean&#45;&gt;spend_zero_mean</title>\n<path fill=\"none\" stroke=\"black\" d=\"M413.04,-144.41C404.17,-135.91 393.19,-125.37 383.32,-115.91\"/>\n<polygon fill=\"black\" stroke=\"black\" points=\"385.76,-113.4 376.12,-109 380.91,-118.45 385.76,-113.4\"/>\n</g>\n</g>\n</svg>\n",
      "text/plain": "<graphviz.graphs.Digraph at 0x13e8cd0a0>"
     },
     "execution_count": 5,
     "metadata": {},
     "output_type": "execute_result"
    }
   ],
   "source": [
    "# Cell 5 - visualize execution\n",
    "# To visualize do `pip install \"sf-hamilton[visualization]\"` if you want these to work\n",
    "\n",
    "# visualize all possible functions\n",
    "dr.display_all_functions(None)  # we pass None to not save the image to file."
   ]
  },
  {
   "cell_type": "code",
   "execution_count": 6,
   "metadata": {
    "pycharm": {
     "name": "#%%\n"
    },
    "ExecuteTime": {
     "end_time": "2023-05-22T22:27:17.700291Z",
     "start_time": "2023-05-22T22:27:17.379910Z"
    }
   },
   "outputs": [
    {
     "data": {
      "image/svg+xml": "<?xml version=\"1.0\" encoding=\"UTF-8\" standalone=\"no\"?>\n<!DOCTYPE svg PUBLIC \"-//W3C//DTD SVG 1.1//EN\"\n \"http://www.w3.org/Graphics/SVG/1.1/DTD/svg11.dtd\">\n<!-- Generated by graphviz version 7.0.4 (20221203.1631)\n -->\n<!-- Pages: 1 -->\n<svg width=\"503pt\" height=\"260pt\"\n viewBox=\"0.00 0.00 502.54 260.00\" xmlns=\"http://www.w3.org/2000/svg\" xmlns:xlink=\"http://www.w3.org/1999/xlink\">\n<g id=\"graph0\" class=\"graph\" transform=\"scale(1 1) rotate(0) translate(4 256)\">\n<polygon fill=\"white\" stroke=\"none\" points=\"-4,4 -4,-256 498.54,-256 498.54,4 -4,4\"/>\n<!-- spend_per_signup -->\n<g id=\"node1\" class=\"node\">\n<title>spend_per_signup</title>\n<polygon fill=\"none\" stroke=\"black\" points=\"115,-180 0,-180 0,-144 115,-144 115,-180\"/>\n<text text-anchor=\"middle\" x=\"57.5\" y=\"-158.3\" font-family=\"Times,serif\" font-size=\"14.00\">spend_per_signup</text>\n</g>\n<!-- spend -->\n<g id=\"node2\" class=\"node\">\n<title>spend</title>\n<polygon fill=\"none\" stroke=\"black\" points=\"250.5,-252 196.5,-252 196.5,-216 250.5,-216 250.5,-252\"/>\n<text text-anchor=\"middle\" x=\"223.5\" y=\"-230.3\" font-family=\"Times,serif\" font-size=\"14.00\">spend</text>\n</g>\n<!-- spend&#45;&gt;spend_per_signup -->\n<g id=\"edge1\" class=\"edge\">\n<title>spend&#45;&gt;spend_per_signup</title>\n<path fill=\"none\" stroke=\"black\" d=\"M196.09,-221.44C172.55,-211.52 137.97,-196.93 109.25,-184.82\"/>\n<polygon fill=\"black\" stroke=\"black\" points=\"110.93,-181.73 100.35,-181.07 108.21,-188.18 110.93,-181.73\"/>\n</g>\n<!-- spend_zero_mean -->\n<g id=\"node3\" class=\"node\">\n<title>spend_zero_mean</title>\n<ellipse fill=\"none\" stroke=\"black\" cx=\"275.5\" cy=\"-90\" rx=\"74.99\" ry=\"18\"/>\n<text text-anchor=\"middle\" x=\"275.5\" y=\"-86.3\" font-family=\"Times,serif\" font-size=\"14.00\">spend_zero_mean</text>\n</g>\n<!-- spend&#45;&gt;spend_zero_mean -->\n<g id=\"edge3\" class=\"edge\">\n<title>spend&#45;&gt;spend_zero_mean</title>\n<path fill=\"none\" stroke=\"black\" d=\"M196.06,-216.99C183.32,-207.92 169.48,-195.32 162.5,-180 155.86,-165.44 153.92,-157.5 162.5,-144 173.53,-126.64 191.91,-114.87 210.68,-106.93\"/>\n<polygon fill=\"black\" stroke=\"black\" points=\"211.92,-110.2 220,-103.34 209.41,-103.67 211.92,-110.2\"/>\n</g>\n<!-- avg_3wk_spend -->\n<g id=\"node6\" class=\"node\">\n<title>avg_3wk_spend</title>\n<polygon fill=\"none\" stroke=\"black\" points=\"275.5,-180 171.5,-180 171.5,-144 275.5,-144 275.5,-180\"/>\n<text text-anchor=\"middle\" x=\"223.5\" y=\"-158.3\" font-family=\"Times,serif\" font-size=\"14.00\">avg_3wk_spend</text>\n</g>\n<!-- spend&#45;&gt;avg_3wk_spend -->\n<g id=\"edge7\" class=\"edge\">\n<title>spend&#45;&gt;avg_3wk_spend</title>\n<path fill=\"none\" stroke=\"black\" d=\"M223.5,-215.7C223.5,-208.41 223.5,-199.73 223.5,-191.54\"/>\n<polygon fill=\"black\" stroke=\"black\" points=\"227,-191.62 223.5,-181.62 220,-191.62 227,-191.62\"/>\n</g>\n<!-- spend_std_dev -->\n<g id=\"node7\" class=\"node\">\n<title>spend_std_dev</title>\n<ellipse fill=\"none\" stroke=\"black\" cx=\"431.5\" cy=\"-90\" rx=\"63.09\" ry=\"18\"/>\n<text text-anchor=\"middle\" x=\"431.5\" y=\"-86.3\" font-family=\"Times,serif\" font-size=\"14.00\">spend_std_dev</text>\n</g>\n<!-- spend&#45;&gt;spend_std_dev -->\n<g id=\"edge8\" class=\"edge\">\n<title>spend&#45;&gt;spend_std_dev</title>\n<path fill=\"none\" stroke=\"black\" d=\"M250.77,-233.61C292,-232.97 369.93,-225.34 412.5,-180 427.47,-164.05 431.81,-139.32 432.63,-119.97\"/>\n<polygon fill=\"black\" stroke=\"black\" points=\"436.13,-120.01 432.73,-109.97 429.13,-119.94 436.13,-120.01\"/>\n</g>\n<!-- spend_mean -->\n<g id=\"node8\" class=\"node\">\n<title>spend_mean</title>\n<ellipse fill=\"none\" stroke=\"black\" cx=\"348.5\" cy=\"-162\" rx=\"55.49\" ry=\"18\"/>\n<text text-anchor=\"middle\" x=\"348.5\" y=\"-158.3\" font-family=\"Times,serif\" font-size=\"14.00\">spend_mean</text>\n</g>\n<!-- spend&#45;&gt;spend_mean -->\n<g id=\"edge9\" class=\"edge\">\n<title>spend&#45;&gt;spend_mean</title>\n<path fill=\"none\" stroke=\"black\" d=\"M250.93,-217.64C268.72,-207.68 292.11,-194.58 311.53,-183.7\"/>\n<polygon fill=\"black\" stroke=\"black\" points=\"313.23,-186.76 320.24,-178.82 309.81,-180.66 313.23,-186.76\"/>\n</g>\n<!-- spend_zero_mean_unit_variance -->\n<g id=\"node5\" class=\"node\">\n<title>spend_zero_mean_unit_variance</title>\n<polygon fill=\"none\" stroke=\"black\" points=\"451,-36 256,-36 256,0 451,0 451,-36\"/>\n<text text-anchor=\"middle\" x=\"353.5\" y=\"-14.3\" font-family=\"Times,serif\" font-size=\"14.00\">spend_zero_mean_unit_variance</text>\n</g>\n<!-- spend_zero_mean&#45;&gt;spend_zero_mean_unit_variance -->\n<g id=\"edge5\" class=\"edge\">\n<title>spend_zero_mean&#45;&gt;spend_zero_mean_unit_variance</title>\n<path fill=\"none\" stroke=\"black\" d=\"M293.98,-72.41C303.42,-63.95 315.09,-53.47 325.59,-44.05\"/>\n<polygon fill=\"black\" stroke=\"black\" points=\"327.83,-46.74 332.93,-37.46 323.15,-41.53 327.83,-46.74\"/>\n</g>\n<!-- signups -->\n<g id=\"node4\" class=\"node\">\n<title>signups</title>\n<polygon fill=\"none\" stroke=\"black\" points=\"86.5,-252 28.5,-252 28.5,-216 86.5,-216 86.5,-252\"/>\n<text text-anchor=\"middle\" x=\"57.5\" y=\"-230.3\" font-family=\"Times,serif\" font-size=\"14.00\">signups</text>\n</g>\n<!-- signups&#45;&gt;spend_per_signup -->\n<g id=\"edge2\" class=\"edge\">\n<title>signups&#45;&gt;spend_per_signup</title>\n<path fill=\"none\" stroke=\"black\" d=\"M57.5,-215.7C57.5,-208.41 57.5,-199.73 57.5,-191.54\"/>\n<polygon fill=\"black\" stroke=\"black\" points=\"61,-191.62 57.5,-181.62 54,-191.62 61,-191.62\"/>\n</g>\n<!-- spend_std_dev&#45;&gt;spend_zero_mean_unit_variance -->\n<g id=\"edge6\" class=\"edge\">\n<title>spend_std_dev&#45;&gt;spend_zero_mean_unit_variance</title>\n<path fill=\"none\" stroke=\"black\" d=\"M413.02,-72.41C403.58,-63.95 391.91,-53.47 381.41,-44.05\"/>\n<polygon fill=\"black\" stroke=\"black\" points=\"383.85,-41.53 374.07,-37.46 379.17,-46.74 383.85,-41.53\"/>\n</g>\n<!-- spend_mean&#45;&gt;spend_zero_mean -->\n<g id=\"edge4\" class=\"edge\">\n<title>spend_mean&#45;&gt;spend_zero_mean</title>\n<path fill=\"none\" stroke=\"black\" d=\"M331.2,-144.41C322.33,-135.91 311.35,-125.37 301.48,-115.91\"/>\n<polygon fill=\"black\" stroke=\"black\" points=\"303.92,-113.4 294.28,-109 299.07,-118.45 303.92,-113.4\"/>\n</g>\n</g>\n</svg>\n",
      "text/plain": "<graphviz.graphs.Digraph at 0x13e969160>"
     },
     "execution_count": 6,
     "metadata": {},
     "output_type": "execute_result"
    }
   ],
   "source": [
    "# visualize just the execution path\n",
    "dr.visualize_execution(output_columns, None, {})   # we pass None to not save the image to file."
   ]
  },
  {
   "cell_type": "code",
   "execution_count": 7,
   "outputs": [
    {
     "data": {
      "image/svg+xml": "<?xml version=\"1.0\" encoding=\"UTF-8\" standalone=\"no\"?>\n<!DOCTYPE svg PUBLIC \"-//W3C//DTD SVG 1.1//EN\"\n \"http://www.w3.org/Graphics/SVG/1.1/DTD/svg11.dtd\">\n<!-- Generated by graphviz version 7.0.4 (20221203.1631)\n -->\n<!-- Pages: 1 -->\n<svg width=\"323pt\" height=\"260pt\"\n viewBox=\"0.00 0.00 323.29 260.00\" xmlns=\"http://www.w3.org/2000/svg\" xmlns:xlink=\"http://www.w3.org/1999/xlink\">\n<g id=\"graph0\" class=\"graph\" transform=\"scale(1 1) rotate(0) translate(4 256)\">\n<polygon fill=\"white\" stroke=\"none\" points=\"-4,4 -4,-256 319.29,-256 319.29,4 -4,4\"/>\n<!-- spend_zero_mean -->\n<g id=\"node1\" class=\"node\">\n<title>spend_zero_mean</title>\n<ellipse fill=\"none\" stroke=\"red\" cx=\"219.04\" cy=\"-90\" rx=\"74.99\" ry=\"18\"/>\n<text text-anchor=\"middle\" x=\"219.04\" y=\"-86.3\" font-family=\"Times,serif\" font-size=\"14.00\">spend_zero_mean</text>\n</g>\n<!-- spend_zero_mean_unit_variance -->\n<g id=\"node3\" class=\"node\">\n<title>spend_zero_mean_unit_variance</title>\n<ellipse fill=\"none\" stroke=\"red\" cx=\"141.04\" cy=\"-18\" rx=\"126.98\" ry=\"18\"/>\n<text text-anchor=\"middle\" x=\"141.04\" y=\"-14.3\" font-family=\"Times,serif\" font-size=\"14.00\">spend_zero_mean_unit_variance</text>\n</g>\n<!-- spend_zero_mean&#45;&gt;spend_zero_mean_unit_variance -->\n<g id=\"edge4\" class=\"edge\">\n<title>spend_zero_mean&#45;&gt;spend_zero_mean_unit_variance</title>\n<path fill=\"none\" stroke=\"black\" d=\"M200.56,-72.41C191.06,-63.88 179.28,-53.32 168.72,-43.84\"/>\n<polygon fill=\"black\" stroke=\"black\" points=\"171.12,-41.29 161.34,-37.21 166.44,-46.5 171.12,-41.29\"/>\n</g>\n<!-- spend_mean -->\n<g id=\"node2\" class=\"node\">\n<title>spend_mean</title>\n<ellipse fill=\"none\" stroke=\"red\" cx=\"260.04\" cy=\"-162\" rx=\"55.49\" ry=\"18\"/>\n<text text-anchor=\"middle\" x=\"260.04\" y=\"-158.3\" font-family=\"Times,serif\" font-size=\"14.00\">spend_mean</text>\n</g>\n<!-- spend_mean&#45;&gt;spend_zero_mean -->\n<g id=\"edge2\" class=\"edge\">\n<title>spend_mean&#45;&gt;spend_zero_mean</title>\n<path fill=\"none\" stroke=\"black\" d=\"M250.12,-144.05C245.55,-136.26 240.03,-126.82 234.9,-118.08\"/>\n<polygon fill=\"black\" stroke=\"black\" points=\"238,-116.44 229.93,-109.58 231.96,-119.98 238,-116.44\"/>\n</g>\n<!-- spend -->\n<g id=\"node4\" class=\"node\">\n<title>spend</title>\n<ellipse fill=\"none\" stroke=\"black\" cx=\"218.04\" cy=\"-234\" rx=\"31.4\" ry=\"18\"/>\n<text text-anchor=\"middle\" x=\"218.04\" y=\"-230.3\" font-family=\"Times,serif\" font-size=\"14.00\">spend</text>\n</g>\n<!-- spend&#45;&gt;spend_zero_mean -->\n<g id=\"edge1\" class=\"edge\">\n<title>spend&#45;&gt;spend_zero_mean</title>\n<path fill=\"none\" stroke=\"black\" d=\"M209.14,-216.35C204.21,-206.17 198.58,-192.7 196.04,-180 192.92,-164.31 192.79,-159.67 196.04,-144 197.84,-135.36 201.12,-126.39 204.65,-118.35\"/>\n<polygon fill=\"black\" stroke=\"black\" points=\"207.75,-119.98 208.86,-109.44 201.42,-116.99 207.75,-119.98\"/>\n</g>\n<!-- spend&#45;&gt;spend_mean -->\n<g id=\"edge3\" class=\"edge\">\n<title>spend&#45;&gt;spend_mean</title>\n<path fill=\"none\" stroke=\"black\" d=\"M227.79,-216.76C232.57,-208.78 238.47,-198.95 243.91,-189.89\"/>\n<polygon fill=\"black\" stroke=\"black\" points=\"246.85,-191.8 248.99,-181.42 240.85,-188.2 246.85,-191.8\"/>\n</g>\n<!-- spend_std_dev -->\n<g id=\"node5\" class=\"node\">\n<title>spend_std_dev</title>\n<ellipse fill=\"none\" stroke=\"black\" cx=\"63.04\" cy=\"-90\" rx=\"63.09\" ry=\"18\"/>\n<text text-anchor=\"middle\" x=\"63.04\" y=\"-86.3\" font-family=\"Times,serif\" font-size=\"14.00\">spend_std_dev</text>\n</g>\n<!-- spend_std_dev&#45;&gt;spend_zero_mean_unit_variance -->\n<g id=\"edge5\" class=\"edge\">\n<title>spend_std_dev&#45;&gt;spend_zero_mean_unit_variance</title>\n<path fill=\"none\" stroke=\"black\" d=\"M81.53,-72.41C91.03,-63.88 102.81,-53.32 113.37,-43.84\"/>\n<polygon fill=\"black\" stroke=\"black\" points=\"115.65,-46.5 120.75,-37.21 110.97,-41.29 115.65,-46.5\"/>\n</g>\n</g>\n</svg>\n",
      "text/plain": "<graphviz.graphs.Digraph at 0x13e9697c0>"
     },
     "execution_count": 7,
     "metadata": {},
     "output_type": "execute_result"
    }
   ],
   "source": [
    "# visualize the path of execution between two functions\n",
    "dr.visualize_path_between(\"spend_mean\", \"spend_zero_mean_unit_variance\", None, # we pass None to not save the image to file.\n",
    "                          strict_path_visualization=False)"
   ],
   "metadata": {
    "collapsed": false,
    "ExecuteTime": {
     "end_time": "2023-05-22T22:27:17.997145Z",
     "start_time": "2023-05-22T22:27:17.702731Z"
    }
   }
  },
  {
   "cell_type": "code",
   "execution_count": 8,
   "metadata": {
    "ExecuteTime": {
     "end_time": "2023-05-22T22:27:18.053483Z",
     "start_time": "2023-05-22T22:27:18.032492Z"
    }
   },
   "outputs": [
    {
     "data": {
      "text/plain": "   spend  signups  avg_3wk_spend  spend_per_signup  \\\n0     10        1            NaN            10.000   \n1     10       10            NaN             1.000   \n2     20       50      13.333333             0.400   \n3     40      100      23.333333             0.400   \n4     40      200      33.333333             0.200   \n5     50      400      43.333333             0.125   \n\n   spend_zero_mean_unit_variance  \n0                      -1.064405  \n1                      -1.064405  \n2                      -0.483821  \n3                       0.677349  \n4                       0.677349  \n5                       1.257934  ",
      "text/html": "<div>\n<style scoped>\n    .dataframe tbody tr th:only-of-type {\n        vertical-align: middle;\n    }\n\n    .dataframe tbody tr th {\n        vertical-align: top;\n    }\n\n    .dataframe thead th {\n        text-align: right;\n    }\n</style>\n<table border=\"1\" class=\"dataframe\">\n  <thead>\n    <tr style=\"text-align: right;\">\n      <th></th>\n      <th>spend</th>\n      <th>signups</th>\n      <th>avg_3wk_spend</th>\n      <th>spend_per_signup</th>\n      <th>spend_zero_mean_unit_variance</th>\n    </tr>\n  </thead>\n  <tbody>\n    <tr>\n      <th>0</th>\n      <td>10</td>\n      <td>1</td>\n      <td>NaN</td>\n      <td>10.000</td>\n      <td>-1.064405</td>\n    </tr>\n    <tr>\n      <th>1</th>\n      <td>10</td>\n      <td>10</td>\n      <td>NaN</td>\n      <td>1.000</td>\n      <td>-1.064405</td>\n    </tr>\n    <tr>\n      <th>2</th>\n      <td>20</td>\n      <td>50</td>\n      <td>13.333333</td>\n      <td>0.400</td>\n      <td>-0.483821</td>\n    </tr>\n    <tr>\n      <th>3</th>\n      <td>40</td>\n      <td>100</td>\n      <td>23.333333</td>\n      <td>0.400</td>\n      <td>0.677349</td>\n    </tr>\n    <tr>\n      <th>4</th>\n      <td>40</td>\n      <td>200</td>\n      <td>33.333333</td>\n      <td>0.200</td>\n      <td>0.677349</td>\n    </tr>\n    <tr>\n      <th>5</th>\n      <td>50</td>\n      <td>400</td>\n      <td>43.333333</td>\n      <td>0.125</td>\n      <td>1.257934</td>\n    </tr>\n  </tbody>\n</table>\n</div>"
     },
     "execution_count": 8,
     "metadata": {},
     "output_type": "execute_result"
    }
   ],
   "source": [
    "# let's create the dataframe!\n",
    "dr.execute(output_columns)"
   ]
  },
  {
   "cell_type": "code",
   "execution_count": 8,
   "metadata": {
    "ExecuteTime": {
     "end_time": "2023-05-22T22:27:18.053784Z",
     "start_time": "2023-05-22T22:27:18.046215Z"
    }
   },
   "outputs": [],
   "source": []
  }
 ],
 "metadata": {
  "kernelspec": {
   "display_name": "Python 3 (ipykernel)",
   "language": "python",
   "name": "python3"
  },
  "language_info": {
   "codemirror_mode": {
    "name": "ipython",
    "version": 3
   },
   "file_extension": ".py",
   "mimetype": "text/x-python",
   "name": "python",
   "nbconvert_exporter": "python",
   "pygments_lexer": "ipython3",
   "version": "3.8.13"
  }
 },
 "nbformat": 4,
 "nbformat_minor": 1
}
