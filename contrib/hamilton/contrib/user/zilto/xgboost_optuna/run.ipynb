{
 "cells": [
  {
   "cell_type": "markdown",
   "metadata": {},
   "source": [
    "# Imports"
   ]
  },
  {
   "cell_type": "code",
   "execution_count": 1,
   "metadata": {},
   "outputs": [
    {
     "name": "stderr",
     "output_type": "stream",
     "text": [
      "Note: Hamilton collects completely anonymous data about usage. This will help us improve Hamilton over time. See https://github.com/dagworks-inc/hamilton#usage-analytics--data-privacy for details.\n"
     ]
    }
   ],
   "source": [
    "import os\n",
    "from pprint import pprint\n",
    "from getpass import getpass\n",
    "import json\n",
    "from IPython.display import display\n",
    "# from hamilton import driver\n",
    "from dagworks import driver\n",
    "\n",
    "import __init__ as xgboost_optuna"
   ]
  },
  {
   "cell_type": "code",
   "execution_count": 2,
   "metadata": {},
   "outputs": [],
   "source": [
    "dagworks_api_key = \"KT1u68iBGiZzUvXw_YT5TWnQ8_qb8pu06aWx0p3N0y91a49FiYkS1CZMpiJxmIqKWLpmOWqdavziqKIx0yzzMQ\""
   ]
  },
  {
   "cell_type": "code",
   "execution_count": 3,
   "metadata": {},
   "outputs": [],
   "source": [
    "dr = driver.Driver(\n",
    "   {\"task\": \"classification\"},\n",
    "   *[\n",
    "     xgboost_optuna\n",
    "   ],\n",
    "   project_id=19294,\n",
    "   api_key=dagworks_api_key,\n",
    "   username=\"thierry@dagworks.io\",\n",
    "   dag_name=\"my_version_of_the_dag\",\n",
    ")"
   ]
  },
  {
   "cell_type": "markdown",
   "metadata": {},
   "source": [
    "# Load config examples"
   ]
  },
  {
   "cell_type": "code",
   "execution_count": 4,
   "metadata": {},
   "outputs": [
    {
     "name": "stdout",
     "output_type": "stream",
     "text": [
      "[{'task': 'classification'},\n",
      " {'task': 'regression'}]\n"
     ]
    }
   ],
   "source": [
    "def read_jsonl(file_path: str) -> list:\n",
    "    data = []\n",
    "    with open(file_path, \"r\") as f:\n",
    "        for line in f.readlines():\n",
    "            data.append(json.loads(line))\n",
    "    return data\n",
    "\n",
    "valid_configs = read_jsonl(\"valid_configs.jsonl\")\n",
    "pprint(valid_configs, width=1)"
   ]
  },
  {
   "cell_type": "code",
   "execution_count": 5,
   "metadata": {},
   "outputs": [
    {
     "ename": "AttributeError",
     "evalue": "module 'dagworks.driver' has no attribute 'Builder'",
     "output_type": "error",
     "traceback": [
      "\u001b[0;31m---------------------------------------------------------------------------\u001b[0m",
      "\u001b[0;31mAttributeError\u001b[0m                            Traceback (most recent call last)",
      "\u001b[1;32m/home/tjean/projects/dagworks/hamilton/contrib/hamilton/contrib/user/zilto/xgboost_optuna/run.ipynb Cell 7\u001b[0m line \u001b[0;36m6\n\u001b[1;32m      <a href='vscode-notebook-cell://wsl%2Bubuntu-20.04/home/tjean/projects/dagworks/hamilton/contrib/hamilton/contrib/user/zilto/xgboost_optuna/run.ipynb#X20sdnNjb2RlLXJlbW90ZQ%3D%3D?line=0'>1</a>\u001b[0m config \u001b[39m=\u001b[39m \u001b[39mdict\u001b[39m(\n\u001b[1;32m      <a href='vscode-notebook-cell://wsl%2Bubuntu-20.04/home/tjean/projects/dagworks/hamilton/contrib/hamilton/contrib/user/zilto/xgboost_optuna/run.ipynb#X20sdnNjb2RlLXJlbW90ZQ%3D%3D?line=1'>2</a>\u001b[0m     task\u001b[39m=\u001b[39m\u001b[39m\"\u001b[39m\u001b[39mclassification\u001b[39m\u001b[39m\"\u001b[39m\n\u001b[1;32m      <a href='vscode-notebook-cell://wsl%2Bubuntu-20.04/home/tjean/projects/dagworks/hamilton/contrib/hamilton/contrib/user/zilto/xgboost_optuna/run.ipynb#X20sdnNjb2RlLXJlbW90ZQ%3D%3D?line=2'>3</a>\u001b[0m )\n\u001b[1;32m      <a href='vscode-notebook-cell://wsl%2Bubuntu-20.04/home/tjean/projects/dagworks/hamilton/contrib/hamilton/contrib/user/zilto/xgboost_optuna/run.ipynb#X20sdnNjb2RlLXJlbW90ZQ%3D%3D?line=4'>5</a>\u001b[0m dr \u001b[39m=\u001b[39m (\n\u001b[0;32m----> <a href='vscode-notebook-cell://wsl%2Bubuntu-20.04/home/tjean/projects/dagworks/hamilton/contrib/hamilton/contrib/user/zilto/xgboost_optuna/run.ipynb#X20sdnNjb2RlLXJlbW90ZQ%3D%3D?line=5'>6</a>\u001b[0m     driver\u001b[39m.\u001b[39;49mBuilder()\n\u001b[1;32m      <a href='vscode-notebook-cell://wsl%2Bubuntu-20.04/home/tjean/projects/dagworks/hamilton/contrib/hamilton/contrib/user/zilto/xgboost_optuna/run.ipynb#X20sdnNjb2RlLXJlbW90ZQ%3D%3D?line=6'>7</a>\u001b[0m     \u001b[39m.\u001b[39mwith_modules(xgboost_optuna)\n\u001b[1;32m      <a href='vscode-notebook-cell://wsl%2Bubuntu-20.04/home/tjean/projects/dagworks/hamilton/contrib/hamilton/contrib/user/zilto/xgboost_optuna/run.ipynb#X20sdnNjb2RlLXJlbW90ZQ%3D%3D?line=7'>8</a>\u001b[0m     \u001b[39m.\u001b[39mwith_config(config)\n\u001b[1;32m      <a href='vscode-notebook-cell://wsl%2Bubuntu-20.04/home/tjean/projects/dagworks/hamilton/contrib/hamilton/contrib/user/zilto/xgboost_optuna/run.ipynb#X20sdnNjb2RlLXJlbW90ZQ%3D%3D?line=8'>9</a>\u001b[0m     \u001b[39m.\u001b[39mbuild()\n\u001b[1;32m     <a href='vscode-notebook-cell://wsl%2Bubuntu-20.04/home/tjean/projects/dagworks/hamilton/contrib/hamilton/contrib/user/zilto/xgboost_optuna/run.ipynb#X20sdnNjb2RlLXJlbW90ZQ%3D%3D?line=9'>10</a>\u001b[0m )\n\u001b[1;32m     <a href='vscode-notebook-cell://wsl%2Bubuntu-20.04/home/tjean/projects/dagworks/hamilton/contrib/hamilton/contrib/user/zilto/xgboost_optuna/run.ipynb#X20sdnNjb2RlLXJlbW90ZQ%3D%3D?line=11'>12</a>\u001b[0m display(dr\u001b[39m.\u001b[39mdisplay_all_functions(\u001b[39mNone\u001b[39;00m))\n",
      "\u001b[0;31mAttributeError\u001b[0m: module 'dagworks.driver' has no attribute 'Builder'"
     ]
    }
   ],
   "source": [
    "config = dict(\n",
    "    task=\"classification\"\n",
    ")\n",
    "\n",
    "dr = (\n",
    "    driver.Builder()\n",
    "    .with_modules(xgboost_optuna)\n",
    "    .with_config(config)\n",
    "    .build()\n",
    ")\n",
    "\n",
    "display(dr.display_all_functions(None))"
   ]
  },
  {
   "cell_type": "code",
   "execution_count": 6,
   "metadata": {},
   "outputs": [],
   "source": [
    "from sklearn.datasets import load_breast_cancer\n",
    "from sklearn.model_selection import train_test_split\n",
    "from sklearn.metrics import accuracy_score\n",
    "\n",
    "# Load the Boston Housing dataset (regression example)\n",
    "data = load_breast_cancer()\n",
    "X_train, X_test, y_train, y_test = train_test_split(data.data, data.target, test_size=0.2, random_state=42)"
   ]
  },
  {
   "cell_type": "code",
   "execution_count": 7,
   "metadata": {},
   "outputs": [
    {
     "name": "stderr",
     "output_type": "stream",
     "text": [
      "\n",
      "Capturing execution run. All runs for project can be found at https://app.dagworks.io/dashboard/project/19294/runs\n",
      "-------------------------------------------------------------------\n",
      "Oh no an error! Need help with Hamilton?\n",
      "Join our slack and ask for help! https://join.slack.com/t/hamilton-opensource/shared_invite/zt-1bjs72asx-wcUTgH7q7QX1igiQ5bbdcg\n",
      "-------------------------------------------------------------------\n",
      "\n"
     ]
    },
    {
     "ename": "TypeError",
     "evalue": "Object of type ndarray is not JSON serializable",
     "output_type": "error",
     "traceback": [
      "\u001b[0;31m---------------------------------------------------------------------------\u001b[0m",
      "\u001b[0;31mTypeError\u001b[0m                                 Traceback (most recent call last)",
      "\u001b[1;32m/home/tjean/projects/dagworks/hamilton/contrib/hamilton/contrib/user/zilto/xgboost_optuna/run.ipynb Cell 9\u001b[0m line \u001b[0;36m1\n\u001b[1;32m      <a href='vscode-notebook-cell://wsl%2Bubuntu-20.04/home/tjean/projects/dagworks/hamilton/contrib/hamilton/contrib/user/zilto/xgboost_optuna/run.ipynb#X10sdnNjb2RlLXJlbW90ZQ%3D%3D?line=2'>3</a>\u001b[0m inputs \u001b[39m=\u001b[39m \u001b[39mdict\u001b[39m(\n\u001b[1;32m      <a href='vscode-notebook-cell://wsl%2Bubuntu-20.04/home/tjean/projects/dagworks/hamilton/contrib/hamilton/contrib/user/zilto/xgboost_optuna/run.ipynb#X10sdnNjb2RlLXJlbW90ZQ%3D%3D?line=3'>4</a>\u001b[0m     X_train\u001b[39m=\u001b[39mX_train,\n\u001b[1;32m      <a href='vscode-notebook-cell://wsl%2Bubuntu-20.04/home/tjean/projects/dagworks/hamilton/contrib/hamilton/contrib/user/zilto/xgboost_optuna/run.ipynb#X10sdnNjb2RlLXJlbW90ZQ%3D%3D?line=4'>5</a>\u001b[0m     y_train\u001b[39m=\u001b[39my_train,\n\u001b[1;32m      <a href='vscode-notebook-cell://wsl%2Bubuntu-20.04/home/tjean/projects/dagworks/hamilton/contrib/hamilton/contrib/user/zilto/xgboost_optuna/run.ipynb#X10sdnNjb2RlLXJlbW90ZQ%3D%3D?line=5'>6</a>\u001b[0m     X_test\u001b[39m=\u001b[39mX_test,\n\u001b[1;32m      <a href='vscode-notebook-cell://wsl%2Bubuntu-20.04/home/tjean/projects/dagworks/hamilton/contrib/hamilton/contrib/user/zilto/xgboost_optuna/run.ipynb#X10sdnNjb2RlLXJlbW90ZQ%3D%3D?line=6'>7</a>\u001b[0m     y_test\u001b[39m=\u001b[39my_test,\n\u001b[1;32m      <a href='vscode-notebook-cell://wsl%2Bubuntu-20.04/home/tjean/projects/dagworks/hamilton/contrib/hamilton/contrib/user/zilto/xgboost_optuna/run.ipynb#X10sdnNjb2RlLXJlbW90ZQ%3D%3D?line=7'>8</a>\u001b[0m )\n\u001b[1;32m     <a href='vscode-notebook-cell://wsl%2Bubuntu-20.04/home/tjean/projects/dagworks/hamilton/contrib/hamilton/contrib/user/zilto/xgboost_optuna/run.ipynb#X10sdnNjb2RlLXJlbW90ZQ%3D%3D?line=9'>10</a>\u001b[0m overrides \u001b[39m=\u001b[39m \u001b[39mdict\u001b[39m()\n\u001b[0;32m---> <a href='vscode-notebook-cell://wsl%2Bubuntu-20.04/home/tjean/projects/dagworks/hamilton/contrib/hamilton/contrib/user/zilto/xgboost_optuna/run.ipynb#X10sdnNjb2RlLXJlbW90ZQ%3D%3D?line=11'>12</a>\u001b[0m res \u001b[39m=\u001b[39m dr\u001b[39m.\u001b[39;49mexecute(\n\u001b[1;32m     <a href='vscode-notebook-cell://wsl%2Bubuntu-20.04/home/tjean/projects/dagworks/hamilton/contrib/hamilton/contrib/user/zilto/xgboost_optuna/run.ipynb#X10sdnNjb2RlLXJlbW90ZQ%3D%3D?line=12'>13</a>\u001b[0m     final_vars\u001b[39m=\u001b[39;49mfinal_vars,\n\u001b[1;32m     <a href='vscode-notebook-cell://wsl%2Bubuntu-20.04/home/tjean/projects/dagworks/hamilton/contrib/hamilton/contrib/user/zilto/xgboost_optuna/run.ipynb#X10sdnNjb2RlLXJlbW90ZQ%3D%3D?line=13'>14</a>\u001b[0m     inputs\u001b[39m=\u001b[39;49minputs,\n\u001b[1;32m     <a href='vscode-notebook-cell://wsl%2Bubuntu-20.04/home/tjean/projects/dagworks/hamilton/contrib/hamilton/contrib/user/zilto/xgboost_optuna/run.ipynb#X10sdnNjb2RlLXJlbW90ZQ%3D%3D?line=14'>15</a>\u001b[0m     overrides\u001b[39m=\u001b[39;49moverrides\n\u001b[1;32m     <a href='vscode-notebook-cell://wsl%2Bubuntu-20.04/home/tjean/projects/dagworks/hamilton/contrib/hamilton/contrib/user/zilto/xgboost_optuna/run.ipynb#X10sdnNjb2RlLXJlbW90ZQ%3D%3D?line=15'>16</a>\u001b[0m )\n\u001b[1;32m     <a href='vscode-notebook-cell://wsl%2Bubuntu-20.04/home/tjean/projects/dagworks/hamilton/contrib/hamilton/contrib/user/zilto/xgboost_optuna/run.ipynb#X10sdnNjb2RlLXJlbW90ZQ%3D%3D?line=17'>18</a>\u001b[0m pprint(\u001b[39mlist\u001b[39m(res\u001b[39m.\u001b[39mkeys()), width\u001b[39m=\u001b[39m\u001b[39m1\u001b[39m)\n",
      "File \u001b[0;32m~/projects/dagworks/hamilton/contrib/hamilton/contrib/user/zilto/xgboost_optuna/venv/lib/python3.10/site-packages/dagworks/telemetry/telemetry.py:177\u001b[0m, in \u001b[0;36mUsageTracker.track_calls.<locals>.decorator.<locals>.wrapper\u001b[0;34m(*args, **kwargs)\u001b[0m\n\u001b[1;32m    175\u001b[0m     success \u001b[39m=\u001b[39m \u001b[39mFalse\u001b[39;00m\n\u001b[1;32m    176\u001b[0m     error \u001b[39m=\u001b[39m serialize_error(e)\n\u001b[0;32m--> 177\u001b[0m     \u001b[39mraise\u001b[39;00m e\n\u001b[1;32m    178\u001b[0m \u001b[39mfinally\u001b[39;00m:\n\u001b[1;32m    179\u001b[0m     time_end \u001b[39m=\u001b[39m time\u001b[39m.\u001b[39mtime()\n",
      "File \u001b[0;32m~/projects/dagworks/hamilton/contrib/hamilton/contrib/user/zilto/xgboost_optuna/venv/lib/python3.10/site-packages/dagworks/telemetry/telemetry.py:172\u001b[0m, in \u001b[0;36mUsageTracker.track_calls.<locals>.decorator.<locals>.wrapper\u001b[0;34m(*args, **kwargs)\u001b[0m\n\u001b[1;32m    170\u001b[0m             params_to_log[to_write] \u001b[39m=\u001b[39m param_deriver(bound_arguments[key])\n\u001b[1;32m    171\u001b[0m \u001b[39mtry\u001b[39;00m:\n\u001b[0;32m--> 172\u001b[0m     out \u001b[39m=\u001b[39m fn(\u001b[39m*\u001b[39;49margs, \u001b[39m*\u001b[39;49m\u001b[39m*\u001b[39;49mkwargs)\n\u001b[1;32m    173\u001b[0m     \u001b[39mreturn\u001b[39;00m out\n\u001b[1;32m    174\u001b[0m \u001b[39mexcept\u001b[39;00m \u001b[39mException\u001b[39;00m \u001b[39mas\u001b[39;00m e:\n",
      "File \u001b[0;32m~/projects/dagworks/hamilton/contrib/hamilton/contrib/user/zilto/xgboost_optuna/venv/lib/python3.10/site-packages/dagworks/driver.py:356\u001b[0m, in \u001b[0;36mDriver.execute\u001b[0;34m(self, final_vars, overrides, display_graph, inputs)\u001b[0m\n\u001b[1;32m    338\u001b[0m \u001b[39m@global_tracker\u001b[39m\u001b[39m.\u001b[39mtrack_calls(\n\u001b[1;32m    339\u001b[0m     tracking_generators\u001b[39m=\u001b[39m{\n\u001b[1;32m    340\u001b[0m         \u001b[39m\"\u001b[39m\u001b[39mfinal_vars\u001b[39m\u001b[39m\"\u001b[39m: [(\u001b[39m\"\u001b[39m\u001b[39mnum_vars\u001b[39m\u001b[39m\"\u001b[39m, safe_len)],\n\u001b[0;32m   (...)\u001b[0m\n\u001b[1;32m    350\u001b[0m     inputs: Dict[\u001b[39mstr\u001b[39m, Any] \u001b[39m=\u001b[39m \u001b[39mNone\u001b[39;00m,\n\u001b[1;32m    351\u001b[0m ) \u001b[39m-\u001b[39m\u001b[39m>\u001b[39m Any:\n\u001b[1;32m    352\u001b[0m     logger\u001b[39m.\u001b[39mwarning(\n\u001b[1;32m    353\u001b[0m         \u001b[39mf\u001b[39m\u001b[39m\"\u001b[39m\u001b[39m\\n\u001b[39;00m\u001b[39mCapturing execution run. All runs for project can be found at \u001b[39m\u001b[39m\"\u001b[39m\n\u001b[1;32m    354\u001b[0m         \u001b[39mf\u001b[39m\u001b[39m\"\u001b[39m\u001b[39m{\u001b[39;00m\u001b[39mself\u001b[39m\u001b[39m.\u001b[39mdagworks_ui_url\u001b[39m}\u001b[39;00m\u001b[39m/dashboard/project/\u001b[39m\u001b[39m{\u001b[39;00m\u001b[39mself\u001b[39m\u001b[39m.\u001b[39mproject\u001b[39m}\u001b[39;00m\u001b[39m/runs\u001b[39m\u001b[39m\"\u001b[39m\n\u001b[1;32m    355\u001b[0m     )\n\u001b[0;32m--> 356\u001b[0m     \u001b[39mreturn\u001b[39;00m \u001b[39msuper\u001b[39;49m(Driver, \u001b[39mself\u001b[39;49m)\u001b[39m.\u001b[39;49mexecute(final_vars, overrides, display_graph, inputs)\n",
      "File \u001b[0;32m~/projects/dagworks/hamilton/hamilton/driver.py:410\u001b[0m, in \u001b[0;36mDriver.execute\u001b[0;34m(self, final_vars, overrides, display_graph, inputs)\u001b[0m\n\u001b[1;32m    408\u001b[0m     logger\u001b[39m.\u001b[39merror(SLACK_ERROR_MESSAGE)\n\u001b[1;32m    409\u001b[0m     error \u001b[39m=\u001b[39m telemetry\u001b[39m.\u001b[39msanitize_error(\u001b[39m*\u001b[39msys\u001b[39m.\u001b[39mexc_info())\n\u001b[0;32m--> 410\u001b[0m     \u001b[39mraise\u001b[39;00m e\n\u001b[1;32m    411\u001b[0m \u001b[39mfinally\u001b[39;00m:\n\u001b[1;32m    412\u001b[0m     duration \u001b[39m=\u001b[39m time\u001b[39m.\u001b[39mtime() \u001b[39m-\u001b[39m start_time\n",
      "File \u001b[0;32m~/projects/dagworks/hamilton/hamilton/driver.py:403\u001b[0m, in \u001b[0;36mDriver.execute\u001b[0;34m(self, final_vars, overrides, display_graph, inputs)\u001b[0m\n\u001b[1;32m    401\u001b[0m _final_vars \u001b[39m=\u001b[39m \u001b[39mself\u001b[39m\u001b[39m.\u001b[39m_create_final_vars(final_vars)\n\u001b[1;32m    402\u001b[0m \u001b[39mtry\u001b[39;00m:\n\u001b[0;32m--> 403\u001b[0m     outputs \u001b[39m=\u001b[39m \u001b[39mself\u001b[39;49m\u001b[39m.\u001b[39;49mraw_execute(_final_vars, overrides, display_graph, inputs\u001b[39m=\u001b[39;49minputs)\n\u001b[1;32m    404\u001b[0m     result \u001b[39m=\u001b[39m \u001b[39mself\u001b[39m\u001b[39m.\u001b[39madapter\u001b[39m.\u001b[39mbuild_result(\u001b[39m*\u001b[39m\u001b[39m*\u001b[39moutputs)\n\u001b[1;32m    405\u001b[0m     \u001b[39mreturn\u001b[39;00m result\n",
      "File \u001b[0;32m~/projects/dagworks/hamilton/contrib/hamilton/contrib/user/zilto/xgboost_optuna/venv/lib/python3.10/site-packages/dagworks/telemetry/telemetry.py:177\u001b[0m, in \u001b[0;36mUsageTracker.track_calls.<locals>.decorator.<locals>.wrapper\u001b[0;34m(*args, **kwargs)\u001b[0m\n\u001b[1;32m    175\u001b[0m     success \u001b[39m=\u001b[39m \u001b[39mFalse\u001b[39;00m\n\u001b[1;32m    176\u001b[0m     error \u001b[39m=\u001b[39m serialize_error(e)\n\u001b[0;32m--> 177\u001b[0m     \u001b[39mraise\u001b[39;00m e\n\u001b[1;32m    178\u001b[0m \u001b[39mfinally\u001b[39;00m:\n\u001b[1;32m    179\u001b[0m     time_end \u001b[39m=\u001b[39m time\u001b[39m.\u001b[39mtime()\n",
      "File \u001b[0;32m~/projects/dagworks/hamilton/contrib/hamilton/contrib/user/zilto/xgboost_optuna/venv/lib/python3.10/site-packages/dagworks/telemetry/telemetry.py:172\u001b[0m, in \u001b[0;36mUsageTracker.track_calls.<locals>.decorator.<locals>.wrapper\u001b[0;34m(*args, **kwargs)\u001b[0m\n\u001b[1;32m    170\u001b[0m             params_to_log[to_write] \u001b[39m=\u001b[39m param_deriver(bound_arguments[key])\n\u001b[1;32m    171\u001b[0m \u001b[39mtry\u001b[39;00m:\n\u001b[0;32m--> 172\u001b[0m     out \u001b[39m=\u001b[39m fn(\u001b[39m*\u001b[39;49margs, \u001b[39m*\u001b[39;49m\u001b[39m*\u001b[39;49mkwargs)\n\u001b[1;32m    173\u001b[0m     \u001b[39mreturn\u001b[39;00m out\n\u001b[1;32m    174\u001b[0m \u001b[39mexcept\u001b[39;00m \u001b[39mException\u001b[39;00m \u001b[39mas\u001b[39;00m e:\n",
      "File \u001b[0;32m~/projects/dagworks/hamilton/contrib/hamilton/contrib/user/zilto/xgboost_optuna/venv/lib/python3.10/site-packages/dagworks/driver.py:372\u001b[0m, in \u001b[0;36mDriver.raw_execute\u001b[0;34m(self, final_vars, overrides, display_graph, inputs)\u001b[0m\n\u001b[1;32m    358\u001b[0m \u001b[39m@global_tracker\u001b[39m\u001b[39m.\u001b[39mtrack_calls(\n\u001b[1;32m    359\u001b[0m     tracking_generators\u001b[39m=\u001b[39m{\n\u001b[1;32m    360\u001b[0m         \u001b[39m\"\u001b[39m\u001b[39mfinal_vars\u001b[39m\u001b[39m\"\u001b[39m: [(\u001b[39m\"\u001b[39m\u001b[39mnum_vars\u001b[39m\u001b[39m\"\u001b[39m, safe_len)],\n\u001b[0;32m   (...)\u001b[0m\n\u001b[1;32m    370\u001b[0m     inputs: Dict[\u001b[39mstr\u001b[39m, Any] \u001b[39m=\u001b[39m \u001b[39mNone\u001b[39;00m,\n\u001b[1;32m    371\u001b[0m ) \u001b[39m-\u001b[39m\u001b[39m>\u001b[39m Dict[\u001b[39mstr\u001b[39m, Any]:\n\u001b[0;32m--> 372\u001b[0m     \u001b[39mreturn\u001b[39;00m \u001b[39msuper\u001b[39;49m(Driver, \u001b[39mself\u001b[39;49m)\u001b[39m.\u001b[39;49mraw_execute(final_vars, overrides, display_graph, inputs)\n",
      "File \u001b[0;32m~/projects/dagworks/hamilton/hamilton/driver.py:498\u001b[0m, in \u001b[0;36mDriver.raw_execute\u001b[0;34m(self, final_vars, overrides, display_graph, inputs)\u001b[0m\n\u001b[1;32m    496\u001b[0m all_nodes \u001b[39m=\u001b[39m nodes \u001b[39m|\u001b[39m user_nodes\n\u001b[1;32m    497\u001b[0m \u001b[39mself\u001b[39m\u001b[39m.\u001b[39mgraph_executor\u001b[39m.\u001b[39mvalidate(\u001b[39mlist\u001b[39m(all_nodes))\n\u001b[0;32m--> 498\u001b[0m \u001b[39mreturn\u001b[39;00m \u001b[39mself\u001b[39;49m\u001b[39m.\u001b[39;49mgraph_executor\u001b[39m.\u001b[39;49mexecute(\n\u001b[1;32m    499\u001b[0m     \u001b[39mself\u001b[39;49m\u001b[39m.\u001b[39;49mgraph,\n\u001b[1;32m    500\u001b[0m     final_vars,\n\u001b[1;32m    501\u001b[0m     overrides \u001b[39mif\u001b[39;49;00m overrides \u001b[39mis\u001b[39;49;00m \u001b[39mnot\u001b[39;49;00m \u001b[39mNone\u001b[39;49;00m \u001b[39melse\u001b[39;49;00m {},\n\u001b[1;32m    502\u001b[0m     inputs \u001b[39mif\u001b[39;49;00m inputs \u001b[39mis\u001b[39;49;00m \u001b[39mnot\u001b[39;49;00m \u001b[39mNone\u001b[39;49;00m \u001b[39melse\u001b[39;49;00m {},\n\u001b[1;32m    503\u001b[0m )\n",
      "File \u001b[0;32m~/projects/dagworks/hamilton/contrib/hamilton/contrib/user/zilto/xgboost_optuna/venv/lib/python3.10/site-packages/dagworks/driver.py:738\u001b[0m, in \u001b[0;36mDAGWorksGraphExecutor.execute\u001b[0;34m(self, fg, final_vars, overrides, inputs)\u001b[0m\n\u001b[1;32m    736\u001b[0m \u001b[39mwith\u001b[39;00m monkey_patch_adapter(fg\u001b[39m.\u001b[39madapter, tracking_state):\n\u001b[1;32m    737\u001b[0m     tracking_state\u001b[39m.\u001b[39mclock_start()\n\u001b[0;32m--> 738\u001b[0m     run_id \u001b[39m=\u001b[39m \u001b[39mself\u001b[39;49m\u001b[39m.\u001b[39;49mclient\u001b[39m.\u001b[39;49mcreate_and_start_dag_run(\n\u001b[1;32m    739\u001b[0m         dag_template_id\u001b[39m=\u001b[39;49mdag_template_id,\n\u001b[1;32m    740\u001b[0m         tags\u001b[39m=\u001b[39;49m\u001b[39mself\u001b[39;49m\u001b[39m.\u001b[39;49mrun_tags,\n\u001b[1;32m    741\u001b[0m         inputs\u001b[39m=\u001b[39;49minputs \u001b[39mif\u001b[39;49;00m inputs \u001b[39mis\u001b[39;49;00m \u001b[39mnot\u001b[39;49;00m \u001b[39mNone\u001b[39;49;00m \u001b[39melse\u001b[39;49;00m {},\n\u001b[1;32m    742\u001b[0m         outputs\u001b[39m=\u001b[39;49mfinal_vars,\n\u001b[1;32m    743\u001b[0m     )\n\u001b[1;32m    744\u001b[0m     \u001b[39mtry\u001b[39;00m:\n\u001b[1;32m    745\u001b[0m         out \u001b[39m=\u001b[39m \u001b[39mself\u001b[39m\u001b[39m.\u001b[39mexecutor\u001b[39m.\u001b[39mexecute(fg, final_vars, overrides, inputs)\n",
      "File \u001b[0;32m~/projects/dagworks/hamilton/contrib/hamilton/contrib/user/zilto/xgboost_optuna/venv/lib/python3.10/site-packages/dagworks/api/clients.py:320\u001b[0m, in \u001b[0;36mBasicSynchronousDAGWorksClient.create_and_start_dag_run\u001b[0;34m(self, dag_template_id, tags, inputs, outputs)\u001b[0m\n\u001b[1;32m    316\u001b[0m \u001b[39mdef\u001b[39;00m \u001b[39mcreate_and_start_dag_run\u001b[39m(\n\u001b[1;32m    317\u001b[0m     \u001b[39mself\u001b[39m, dag_template_id: \u001b[39mint\u001b[39m, tags: Dict[\u001b[39mstr\u001b[39m, \u001b[39mstr\u001b[39m], inputs: Dict[\u001b[39mstr\u001b[39m, Any], outputs: List[\u001b[39mstr\u001b[39m]\n\u001b[1;32m    318\u001b[0m ) \u001b[39m-\u001b[39m\u001b[39m>\u001b[39m \u001b[39mint\u001b[39m:\n\u001b[1;32m    319\u001b[0m     logger\u001b[39m.\u001b[39mdebug(\u001b[39mf\u001b[39m\u001b[39m\"\u001b[39m\u001b[39mCreating DAG run for project version \u001b[39m\u001b[39m{\u001b[39;00mdag_template_id\u001b[39m}\u001b[39;00m\u001b[39m\"\u001b[39m)\n\u001b[0;32m--> 320\u001b[0m     response \u001b[39m=\u001b[39m requests\u001b[39m.\u001b[39;49mpost(\n\u001b[1;32m    321\u001b[0m         \u001b[39mf\u001b[39;49m\u001b[39m\"\u001b[39;49m\u001b[39m{\u001b[39;49;00m\u001b[39mself\u001b[39;49m\u001b[39m.\u001b[39;49mbase_url\u001b[39m}\u001b[39;49;00m\u001b[39m/dag_runs?dag_template_id=\u001b[39;49m\u001b[39m{\u001b[39;49;00mdag_template_id\u001b[39m}\u001b[39;49;00m\u001b[39m\"\u001b[39;49m,\n\u001b[1;32m    322\u001b[0m         headers\u001b[39m=\u001b[39;49m\u001b[39mself\u001b[39;49m\u001b[39m.\u001b[39;49m_common_headers(),\n\u001b[1;32m    323\u001b[0m         json\u001b[39m=\u001b[39;49mmake_json_safe(\n\u001b[1;32m    324\u001b[0m             {\n\u001b[1;32m    325\u001b[0m                 \u001b[39m\"\u001b[39;49m\u001b[39mrun_start_time\u001b[39;49m\u001b[39m\"\u001b[39;49m: datetime\u001b[39m.\u001b[39;49mdatetime\u001b[39m.\u001b[39;49mnow(),  \u001b[39m# TODO -- ensure serializable\u001b[39;49;00m\n\u001b[1;32m    326\u001b[0m                 \u001b[39m\"\u001b[39;49m\u001b[39mtags\u001b[39;49m\u001b[39m\"\u001b[39;49m: tags,\n\u001b[1;32m    327\u001b[0m                 \u001b[39m\"\u001b[39;49m\u001b[39minputs\u001b[39;49m\u001b[39m\"\u001b[39;49m: make_json_safe(inputs),  \u001b[39m# TODO -- ensure serializable\u001b[39;49;00m\n\u001b[1;32m    328\u001b[0m                 \u001b[39m\"\u001b[39;49m\u001b[39moutputs\u001b[39;49m\u001b[39m\"\u001b[39;49m: outputs,\n\u001b[1;32m    329\u001b[0m                 \u001b[39m\"\u001b[39;49m\u001b[39mrun_status\u001b[39;49m\u001b[39m\"\u001b[39;49m: \u001b[39m\"\u001b[39;49m\u001b[39mRUNNING\u001b[39;49m\u001b[39m\"\u001b[39;49m,\n\u001b[1;32m    330\u001b[0m             }\n\u001b[1;32m    331\u001b[0m         ),\n\u001b[1;32m    332\u001b[0m     )\n\u001b[1;32m    333\u001b[0m     \u001b[39mtry\u001b[39;00m:\n\u001b[1;32m    334\u001b[0m         response\u001b[39m.\u001b[39mraise_for_status()\n",
      "File \u001b[0;32m~/projects/dagworks/hamilton/contrib/hamilton/contrib/user/zilto/xgboost_optuna/venv/lib/python3.10/site-packages/requests/api.py:115\u001b[0m, in \u001b[0;36mpost\u001b[0;34m(url, data, json, **kwargs)\u001b[0m\n\u001b[1;32m    103\u001b[0m \u001b[39mdef\u001b[39;00m \u001b[39mpost\u001b[39m(url, data\u001b[39m=\u001b[39m\u001b[39mNone\u001b[39;00m, json\u001b[39m=\u001b[39m\u001b[39mNone\u001b[39;00m, \u001b[39m*\u001b[39m\u001b[39m*\u001b[39mkwargs):\n\u001b[1;32m    104\u001b[0m \u001b[39m    \u001b[39m\u001b[39mr\u001b[39m\u001b[39m\"\"\"Sends a POST request.\u001b[39;00m\n\u001b[1;32m    105\u001b[0m \n\u001b[1;32m    106\u001b[0m \u001b[39m    :param url: URL for the new :class:`Request` object.\u001b[39;00m\n\u001b[0;32m   (...)\u001b[0m\n\u001b[1;32m    112\u001b[0m \u001b[39m    :rtype: requests.Response\u001b[39;00m\n\u001b[1;32m    113\u001b[0m \u001b[39m    \"\"\"\u001b[39;00m\n\u001b[0;32m--> 115\u001b[0m     \u001b[39mreturn\u001b[39;00m request(\u001b[39m\"\u001b[39;49m\u001b[39mpost\u001b[39;49m\u001b[39m\"\u001b[39;49m, url, data\u001b[39m=\u001b[39;49mdata, json\u001b[39m=\u001b[39;49mjson, \u001b[39m*\u001b[39;49m\u001b[39m*\u001b[39;49mkwargs)\n",
      "File \u001b[0;32m~/projects/dagworks/hamilton/contrib/hamilton/contrib/user/zilto/xgboost_optuna/venv/lib/python3.10/site-packages/requests/api.py:59\u001b[0m, in \u001b[0;36mrequest\u001b[0;34m(method, url, **kwargs)\u001b[0m\n\u001b[1;32m     55\u001b[0m \u001b[39m# By using the 'with' statement we are sure the session is closed, thus we\u001b[39;00m\n\u001b[1;32m     56\u001b[0m \u001b[39m# avoid leaving sockets open which can trigger a ResourceWarning in some\u001b[39;00m\n\u001b[1;32m     57\u001b[0m \u001b[39m# cases, and look like a memory leak in others.\u001b[39;00m\n\u001b[1;32m     58\u001b[0m \u001b[39mwith\u001b[39;00m sessions\u001b[39m.\u001b[39mSession() \u001b[39mas\u001b[39;00m session:\n\u001b[0;32m---> 59\u001b[0m     \u001b[39mreturn\u001b[39;00m session\u001b[39m.\u001b[39;49mrequest(method\u001b[39m=\u001b[39;49mmethod, url\u001b[39m=\u001b[39;49murl, \u001b[39m*\u001b[39;49m\u001b[39m*\u001b[39;49mkwargs)\n",
      "File \u001b[0;32m~/projects/dagworks/hamilton/contrib/hamilton/contrib/user/zilto/xgboost_optuna/venv/lib/python3.10/site-packages/requests/sessions.py:575\u001b[0m, in \u001b[0;36mSession.request\u001b[0;34m(self, method, url, params, data, headers, cookies, files, auth, timeout, allow_redirects, proxies, hooks, stream, verify, cert, json)\u001b[0m\n\u001b[1;32m    562\u001b[0m \u001b[39m# Create the Request.\u001b[39;00m\n\u001b[1;32m    563\u001b[0m req \u001b[39m=\u001b[39m Request(\n\u001b[1;32m    564\u001b[0m     method\u001b[39m=\u001b[39mmethod\u001b[39m.\u001b[39mupper(),\n\u001b[1;32m    565\u001b[0m     url\u001b[39m=\u001b[39murl,\n\u001b[0;32m   (...)\u001b[0m\n\u001b[1;32m    573\u001b[0m     hooks\u001b[39m=\u001b[39mhooks,\n\u001b[1;32m    574\u001b[0m )\n\u001b[0;32m--> 575\u001b[0m prep \u001b[39m=\u001b[39m \u001b[39mself\u001b[39;49m\u001b[39m.\u001b[39;49mprepare_request(req)\n\u001b[1;32m    577\u001b[0m proxies \u001b[39m=\u001b[39m proxies \u001b[39mor\u001b[39;00m {}\n\u001b[1;32m    579\u001b[0m settings \u001b[39m=\u001b[39m \u001b[39mself\u001b[39m\u001b[39m.\u001b[39mmerge_environment_settings(\n\u001b[1;32m    580\u001b[0m     prep\u001b[39m.\u001b[39murl, proxies, stream, verify, cert\n\u001b[1;32m    581\u001b[0m )\n",
      "File \u001b[0;32m~/projects/dagworks/hamilton/contrib/hamilton/contrib/user/zilto/xgboost_optuna/venv/lib/python3.10/site-packages/requests/sessions.py:486\u001b[0m, in \u001b[0;36mSession.prepare_request\u001b[0;34m(self, request)\u001b[0m\n\u001b[1;32m    483\u001b[0m     auth \u001b[39m=\u001b[39m get_netrc_auth(request\u001b[39m.\u001b[39murl)\n\u001b[1;32m    485\u001b[0m p \u001b[39m=\u001b[39m PreparedRequest()\n\u001b[0;32m--> 486\u001b[0m p\u001b[39m.\u001b[39;49mprepare(\n\u001b[1;32m    487\u001b[0m     method\u001b[39m=\u001b[39;49mrequest\u001b[39m.\u001b[39;49mmethod\u001b[39m.\u001b[39;49mupper(),\n\u001b[1;32m    488\u001b[0m     url\u001b[39m=\u001b[39;49mrequest\u001b[39m.\u001b[39;49murl,\n\u001b[1;32m    489\u001b[0m     files\u001b[39m=\u001b[39;49mrequest\u001b[39m.\u001b[39;49mfiles,\n\u001b[1;32m    490\u001b[0m     data\u001b[39m=\u001b[39;49mrequest\u001b[39m.\u001b[39;49mdata,\n\u001b[1;32m    491\u001b[0m     json\u001b[39m=\u001b[39;49mrequest\u001b[39m.\u001b[39;49mjson,\n\u001b[1;32m    492\u001b[0m     headers\u001b[39m=\u001b[39;49mmerge_setting(\n\u001b[1;32m    493\u001b[0m         request\u001b[39m.\u001b[39;49mheaders, \u001b[39mself\u001b[39;49m\u001b[39m.\u001b[39;49mheaders, dict_class\u001b[39m=\u001b[39;49mCaseInsensitiveDict\n\u001b[1;32m    494\u001b[0m     ),\n\u001b[1;32m    495\u001b[0m     params\u001b[39m=\u001b[39;49mmerge_setting(request\u001b[39m.\u001b[39;49mparams, \u001b[39mself\u001b[39;49m\u001b[39m.\u001b[39;49mparams),\n\u001b[1;32m    496\u001b[0m     auth\u001b[39m=\u001b[39;49mmerge_setting(auth, \u001b[39mself\u001b[39;49m\u001b[39m.\u001b[39;49mauth),\n\u001b[1;32m    497\u001b[0m     cookies\u001b[39m=\u001b[39;49mmerged_cookies,\n\u001b[1;32m    498\u001b[0m     hooks\u001b[39m=\u001b[39;49mmerge_hooks(request\u001b[39m.\u001b[39;49mhooks, \u001b[39mself\u001b[39;49m\u001b[39m.\u001b[39;49mhooks),\n\u001b[1;32m    499\u001b[0m )\n\u001b[1;32m    500\u001b[0m \u001b[39mreturn\u001b[39;00m p\n",
      "File \u001b[0;32m~/projects/dagworks/hamilton/contrib/hamilton/contrib/user/zilto/xgboost_optuna/venv/lib/python3.10/site-packages/requests/models.py:371\u001b[0m, in \u001b[0;36mPreparedRequest.prepare\u001b[0;34m(self, method, url, headers, files, data, params, auth, cookies, hooks, json)\u001b[0m\n\u001b[1;32m    369\u001b[0m \u001b[39mself\u001b[39m\u001b[39m.\u001b[39mprepare_headers(headers)\n\u001b[1;32m    370\u001b[0m \u001b[39mself\u001b[39m\u001b[39m.\u001b[39mprepare_cookies(cookies)\n\u001b[0;32m--> 371\u001b[0m \u001b[39mself\u001b[39;49m\u001b[39m.\u001b[39;49mprepare_body(data, files, json)\n\u001b[1;32m    372\u001b[0m \u001b[39mself\u001b[39m\u001b[39m.\u001b[39mprepare_auth(auth, url)\n\u001b[1;32m    374\u001b[0m \u001b[39m# Note that prepare_auth must be last to enable authentication schemes\u001b[39;00m\n\u001b[1;32m    375\u001b[0m \u001b[39m# such as OAuth to work on a fully prepared request.\u001b[39;00m\n\u001b[1;32m    376\u001b[0m \n\u001b[1;32m    377\u001b[0m \u001b[39m# This MUST go after prepare_auth. Authenticators could add a hook\u001b[39;00m\n",
      "File \u001b[0;32m~/projects/dagworks/hamilton/contrib/hamilton/contrib/user/zilto/xgboost_optuna/venv/lib/python3.10/site-packages/requests/models.py:511\u001b[0m, in \u001b[0;36mPreparedRequest.prepare_body\u001b[0;34m(self, data, files, json)\u001b[0m\n\u001b[1;32m    508\u001b[0m content_type \u001b[39m=\u001b[39m \u001b[39m\"\u001b[39m\u001b[39mapplication/json\u001b[39m\u001b[39m\"\u001b[39m\n\u001b[1;32m    510\u001b[0m \u001b[39mtry\u001b[39;00m:\n\u001b[0;32m--> 511\u001b[0m     body \u001b[39m=\u001b[39m complexjson\u001b[39m.\u001b[39;49mdumps(json, allow_nan\u001b[39m=\u001b[39;49m\u001b[39mFalse\u001b[39;49;00m)\n\u001b[1;32m    512\u001b[0m \u001b[39mexcept\u001b[39;00m \u001b[39mValueError\u001b[39;00m \u001b[39mas\u001b[39;00m ve:\n\u001b[1;32m    513\u001b[0m     \u001b[39mraise\u001b[39;00m InvalidJSONError(ve, request\u001b[39m=\u001b[39m\u001b[39mself\u001b[39m)\n",
      "File \u001b[0;32m~/.pyenv/versions/3.10.9/lib/python3.10/json/__init__.py:238\u001b[0m, in \u001b[0;36mdumps\u001b[0;34m(obj, skipkeys, ensure_ascii, check_circular, allow_nan, cls, indent, separators, default, sort_keys, **kw)\u001b[0m\n\u001b[1;32m    232\u001b[0m \u001b[39mif\u001b[39;00m \u001b[39mcls\u001b[39m \u001b[39mis\u001b[39;00m \u001b[39mNone\u001b[39;00m:\n\u001b[1;32m    233\u001b[0m     \u001b[39mcls\u001b[39m \u001b[39m=\u001b[39m JSONEncoder\n\u001b[1;32m    234\u001b[0m \u001b[39mreturn\u001b[39;00m \u001b[39mcls\u001b[39;49m(\n\u001b[1;32m    235\u001b[0m     skipkeys\u001b[39m=\u001b[39;49mskipkeys, ensure_ascii\u001b[39m=\u001b[39;49mensure_ascii,\n\u001b[1;32m    236\u001b[0m     check_circular\u001b[39m=\u001b[39;49mcheck_circular, allow_nan\u001b[39m=\u001b[39;49mallow_nan, indent\u001b[39m=\u001b[39;49mindent,\n\u001b[1;32m    237\u001b[0m     separators\u001b[39m=\u001b[39;49mseparators, default\u001b[39m=\u001b[39;49mdefault, sort_keys\u001b[39m=\u001b[39;49msort_keys,\n\u001b[0;32m--> 238\u001b[0m     \u001b[39m*\u001b[39;49m\u001b[39m*\u001b[39;49mkw)\u001b[39m.\u001b[39;49mencode(obj)\n",
      "File \u001b[0;32m~/.pyenv/versions/3.10.9/lib/python3.10/json/encoder.py:199\u001b[0m, in \u001b[0;36mJSONEncoder.encode\u001b[0;34m(self, o)\u001b[0m\n\u001b[1;32m    195\u001b[0m         \u001b[39mreturn\u001b[39;00m encode_basestring(o)\n\u001b[1;32m    196\u001b[0m \u001b[39m# This doesn't pass the iterator directly to ''.join() because the\u001b[39;00m\n\u001b[1;32m    197\u001b[0m \u001b[39m# exceptions aren't as detailed.  The list call should be roughly\u001b[39;00m\n\u001b[1;32m    198\u001b[0m \u001b[39m# equivalent to the PySequence_Fast that ''.join() would do.\u001b[39;00m\n\u001b[0;32m--> 199\u001b[0m chunks \u001b[39m=\u001b[39m \u001b[39mself\u001b[39;49m\u001b[39m.\u001b[39;49miterencode(o, _one_shot\u001b[39m=\u001b[39;49m\u001b[39mTrue\u001b[39;49;00m)\n\u001b[1;32m    200\u001b[0m \u001b[39mif\u001b[39;00m \u001b[39mnot\u001b[39;00m \u001b[39misinstance\u001b[39m(chunks, (\u001b[39mlist\u001b[39m, \u001b[39mtuple\u001b[39m)):\n\u001b[1;32m    201\u001b[0m     chunks \u001b[39m=\u001b[39m \u001b[39mlist\u001b[39m(chunks)\n",
      "File \u001b[0;32m~/.pyenv/versions/3.10.9/lib/python3.10/json/encoder.py:257\u001b[0m, in \u001b[0;36mJSONEncoder.iterencode\u001b[0;34m(self, o, _one_shot)\u001b[0m\n\u001b[1;32m    252\u001b[0m \u001b[39melse\u001b[39;00m:\n\u001b[1;32m    253\u001b[0m     _iterencode \u001b[39m=\u001b[39m _make_iterencode(\n\u001b[1;32m    254\u001b[0m         markers, \u001b[39mself\u001b[39m\u001b[39m.\u001b[39mdefault, _encoder, \u001b[39mself\u001b[39m\u001b[39m.\u001b[39mindent, floatstr,\n\u001b[1;32m    255\u001b[0m         \u001b[39mself\u001b[39m\u001b[39m.\u001b[39mkey_separator, \u001b[39mself\u001b[39m\u001b[39m.\u001b[39mitem_separator, \u001b[39mself\u001b[39m\u001b[39m.\u001b[39msort_keys,\n\u001b[1;32m    256\u001b[0m         \u001b[39mself\u001b[39m\u001b[39m.\u001b[39mskipkeys, _one_shot)\n\u001b[0;32m--> 257\u001b[0m \u001b[39mreturn\u001b[39;00m _iterencode(o, \u001b[39m0\u001b[39;49m)\n",
      "File \u001b[0;32m~/.pyenv/versions/3.10.9/lib/python3.10/json/encoder.py:179\u001b[0m, in \u001b[0;36mJSONEncoder.default\u001b[0;34m(self, o)\u001b[0m\n\u001b[1;32m    160\u001b[0m \u001b[39mdef\u001b[39;00m \u001b[39mdefault\u001b[39m(\u001b[39mself\u001b[39m, o):\n\u001b[1;32m    161\u001b[0m \u001b[39m    \u001b[39m\u001b[39m\"\"\"Implement this method in a subclass such that it returns\u001b[39;00m\n\u001b[1;32m    162\u001b[0m \u001b[39m    a serializable object for ``o``, or calls the base implementation\u001b[39;00m\n\u001b[1;32m    163\u001b[0m \u001b[39m    (to raise a ``TypeError``).\u001b[39;00m\n\u001b[0;32m   (...)\u001b[0m\n\u001b[1;32m    177\u001b[0m \n\u001b[1;32m    178\u001b[0m \u001b[39m    \"\"\"\u001b[39;00m\n\u001b[0;32m--> 179\u001b[0m     \u001b[39mraise\u001b[39;00m \u001b[39mTypeError\u001b[39;00m(\u001b[39mf\u001b[39m\u001b[39m'\u001b[39m\u001b[39mObject of type \u001b[39m\u001b[39m{\u001b[39;00mo\u001b[39m.\u001b[39m\u001b[39m__class__\u001b[39m\u001b[39m.\u001b[39m\u001b[39m__name__\u001b[39m\u001b[39m}\u001b[39;00m\u001b[39m \u001b[39m\u001b[39m'\u001b[39m\n\u001b[1;32m    180\u001b[0m                     \u001b[39mf\u001b[39m\u001b[39m'\u001b[39m\u001b[39mis not JSON serializable\u001b[39m\u001b[39m'\u001b[39m)\n",
      "\u001b[0;31mTypeError\u001b[0m: Object of type ndarray is not JSON serializable"
     ]
    }
   ],
   "source": [
    "final_vars = [v for v in dr.graph.get_nodes() if v._tags.get(\"module\") == \"__init__\"]\n",
    "\n",
    "inputs = dict(\n",
    "    X_train=X_train,\n",
    "    y_train=y_train,\n",
    "    X_test=X_test,\n",
    "    y_test=y_test,\n",
    ")\n",
    "\n",
    "overrides = dict()\n",
    "\n",
    "res = dr.execute(\n",
    "    final_vars=final_vars,\n",
    "    inputs=inputs,\n",
    "    overrides=overrides\n",
    ")\n",
    "\n",
    "pprint(list(res.keys()), width=1)"
   ]
  }
 ],
 "metadata": {
  "kernelspec": {
   "display_name": "Python 3 (ipykernel)",
   "language": "python",
   "name": "python3"
  },
  "language_info": {
   "codemirror_mode": {
    "name": "ipython",
    "version": 3
   },
   "file_extension": ".py",
   "mimetype": "text/x-python",
   "name": "python",
   "nbconvert_exporter": "python",
   "pygments_lexer": "ipython3",
   "version": "3.10.9"
  }
 },
 "nbformat": 4,
 "nbformat_minor": 4
}
