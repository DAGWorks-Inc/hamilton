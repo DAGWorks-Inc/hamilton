{
 "cells": [
  {
   "cell_type": "code",
   "execution_count": 1,
   "metadata": {
    "ExecuteTime": {
     "end_time": "2023-12-09T19:44:01.197008Z",
     "start_time": "2023-12-09T19:44:01.176467Z"
    }
   },
   "outputs": [
    {
     "data": {
      "text/plain": [
       "'/Users/stefankrawczyk/dagworks/hamilton/contrib/hamilton/contrib/dagworks/translate_to_hamilton'"
      ]
     },
     "execution_count": 1,
     "metadata": {},
     "output_type": "execute_result"
    }
   ],
   "source": [
    "import os\n",
    "import hamilton\n",
    "\n",
    "os.getcwd()"
   ]
  },
  {
   "cell_type": "code",
   "execution_count": 2,
   "metadata": {
    "ExecuteTime": {
     "end_time": "2023-12-09T19:44:02.822326Z",
     "start_time": "2023-12-09T19:44:02.816179Z"
    }
   },
   "outputs": [],
   "source": [
    "import __init__ as translate_to_hamilton"
   ]
  },
  {
   "cell_type": "code",
   "execution_count": 6,
   "metadata": {
    "ExecuteTime": {
     "end_time": "2023-12-09T19:44:29.122297Z",
     "start_time": "2023-12-09T19:44:29.021758Z"
    }
   },
   "outputs": [
    {
     "name": "stdout",
     "output_type": "stream",
     "text": [
      "Translate the following procedural code into Hamilton:\n",
      "    \n",
      "    ```python\n",
      "    a = b + c\n",
      "    ```\n",
      "    \n"
     ]
    }
   ],
   "source": [
    "\n",
    "print(translate_to_hamilton.user_prompt(\"a = b + c\"))"
   ]
  },
  {
   "cell_type": "code",
   "execution_count": 4,
   "metadata": {
    "ExecuteTime": {
     "end_time": "2023-12-09T19:44:42.253623Z",
     "start_time": "2023-12-09T19:44:42.246751Z"
    }
   },
   "outputs": [
    {
     "data": {
      "text/plain": [
       "['__builtins__',\n",
       " '__cached__',\n",
       " '__doc__',\n",
       " '__file__',\n",
       " '__loader__',\n",
       " '__name__',\n",
       " '__package__',\n",
       " '__spec__',\n",
       " 'code_segments',\n",
       " 'contrib',\n",
       " 'litellm',\n",
       " 'logger',\n",
       " 'logging',\n",
       " 'system_prompt',\n",
       " 'translated_code_response',\n",
       " 'translated_response',\n",
       " 'user_prompt']"
      ]
     },
     "execution_count": 4,
     "metadata": {},
     "output_type": "execute_result"
    }
   ],
   "source": [
    "dir(translate_to_hamilton)"
   ]
  },
  {
   "cell_type": "code",
   "execution_count": 5,
   "metadata": {
    "ExecuteTime": {
     "end_time": "2023-12-09T19:44:48.518709Z",
     "start_time": "2023-12-09T19:44:48.506605Z"
    }
   },
   "outputs": [
    {
     "data": {
      "text/plain": [
       "'/Users/stefankrawczyk/dagworks/hamilton/contrib/hamilton/contrib/dagworks/translate_to_hamilton/__init__.py'"
      ]
     },
     "execution_count": 5,
     "metadata": {},
     "output_type": "execute_result"
    }
   ],
   "source": [
    "translate_to_hamilton.__file__"
   ]
  },
  {
   "cell_type": "code",
   "execution_count": null,
   "metadata": {},
   "outputs": [],
   "source": []
  }
 ],
 "metadata": {
  "kernelspec": {
   "display_name": "Python 3 (ipykernel)",
   "language": "python",
   "name": "python3"
  },
  "language_info": {
   "codemirror_mode": {
    "name": "ipython",
    "version": 3
   },
   "file_extension": ".py",
   "mimetype": "text/x-python",
   "name": "python",
   "nbconvert_exporter": "python",
   "pygments_lexer": "ipython3",
   "version": "3.9.13"
  }
 },
 "nbformat": 4,
 "nbformat_minor": 4
}
